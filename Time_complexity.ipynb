{
  "nbformat": 4,
  "nbformat_minor": 0,
  "metadata": {
    "colab": {
      "provenance": [],
      "authorship_tag": "ABX9TyPALX9Fi/gr5ppmEMfTgqXH",
      "include_colab_link": true
    },
    "kernelspec": {
      "name": "python3",
      "display_name": "Python 3"
    },
    "language_info": {
      "name": "python"
    }
  },
  "cells": [
    {
      "cell_type": "markdown",
      "metadata": {
        "id": "view-in-github",
        "colab_type": "text"
      },
      "source": [
        "<a href=\"https://colab.research.google.com/github/Swapn2/Data-Science-Learnings/blob/main/Time_complexity.ipynb\" target=\"_parent\"><img src=\"https://colab.research.google.com/assets/colab-badge.svg\" alt=\"Open In Colab\"/></a>"
      ]
    },
    {
      "cell_type": "markdown",
      "source": [],
      "metadata": {
        "id": "JsY3_FbM2u_d"
      }
    },
    {
      "cell_type": "code",
      "execution_count": null,
      "metadata": {
        "id": "3GMilLhU2n8B"
      },
      "outputs": [],
      "source": [
        "# Efficiency :\n",
        "# Google algorithm is Pagerank\n",
        "# Technique to measure time efficiency\n",
        "# 1. Measure time to execute\n",
        "# 2. Counting operation\n",
        "# 3. Abstract notion of order of growth"
      ]
    },
    {
      "cell_type": "code",
      "source": [
        "import time\n",
        "start = time.time()\n",
        "for i in range(1,10):\n",
        "  print(i)\n",
        "end = time.time()\n",
        "print(end-start)\n",
        "# problem with this approach\n",
        "# 1. time varies if implementation changes\n",
        "# 2. different time for different machine\n",
        "# 3. time varies for different inputs , but can't establish a relationship"
      ],
      "metadata": {
        "colab": {
          "base_uri": "https://localhost:8080/"
        },
        "id": "yvcYGkZQ6f_A",
        "outputId": "1b02d7a7-b145-4be0-9509-de8a86f21a45"
      },
      "execution_count": null,
      "outputs": [
        {
          "output_type": "stream",
          "name": "stdout",
          "text": [
            "1\n",
            "2\n",
            "3\n",
            "4\n",
            "5\n",
            "6\n",
            "7\n",
            "8\n",
            "9\n",
            "0.0002281665802001953\n"
          ]
        }
      ]
    },
    {
      "cell_type": "code",
      "source": [
        "# counting operation is machine independent\n",
        "# counting operation is establishing the relationship between input and taime taken\n",
        "# problem is time varies if implementation changes\n",
        "# problem is no clear definiion of which operation to count"
      ],
      "metadata": {
        "id": "rj2Etrx36rU6"
      },
      "execution_count": null,
      "outputs": []
    },
    {
      "cell_type": "code",
      "source": [
        "# scalibility : behaviour of the program for the large inputs\n",
        "\n",
        "# orders of growth\n",
        "# 1. growth of programs run time as input size grow\n",
        "# 2. wants to put an upper bound\n",
        "# O(n) : first remove additive constant then remove multiplicative constant"
      ],
      "metadata": {
        "id": "-LokvpYe-I_f"
      },
      "execution_count": null,
      "outputs": []
    },
    {
      "cell_type": "code",
      "source": [
        "# array indexing will always took constant time\n",
        "# nested loop give quadratic time complexity\n",
        "# binary search is for O(logn)\n",
        "# merge sort  will took n(logn)\n",
        "# fibonaci  exponential time complexity O(2^n)\n",
        "\n",
        "\n"
      ],
      "metadata": {
        "id": "vqJ54fuFBiyT"
      },
      "execution_count": null,
      "outputs": []
    }
  ]
}