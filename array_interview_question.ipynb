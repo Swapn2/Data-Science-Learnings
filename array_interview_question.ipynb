{
  "nbformat": 4,
  "nbformat_minor": 0,
  "metadata": {
    "colab": {
      "provenance": [],
      "authorship_tag": "ABX9TyOEW7uphT3rCPQMHGgQqD2+",
      "include_colab_link": true
    },
    "kernelspec": {
      "name": "python3",
      "display_name": "Python 3"
    },
    "language_info": {
      "name": "python"
    }
  },
  "cells": [
    {
      "cell_type": "markdown",
      "metadata": {
        "id": "view-in-github",
        "colab_type": "text"
      },
      "source": [
        "<a href=\"https://colab.research.google.com/github/Swapn2/Data-Science-Learnings/blob/main/array_interview_question.ipynb\" target=\"_parent\"><img src=\"https://colab.research.google.com/assets/colab-badge.svg\" alt=\"Open In Colab\"/></a>"
      ]
    },
    {
      "cell_type": "markdown",
      "source": [
        "## Points to remeber\n",
        "- codes asked are relatively easier in comparison to SDE roles\n",
        "- pythonic syntax is preferred in most companies\n",
        "- focus is on optimized code\n",
        "- start with the simplest solution and then improve\n",
        "- a lot of question are repeated so muggiing up the approaches help\n",
        "- build intution using python tutor\n"
      ],
      "metadata": {
        "id": "FbWLASMQJiZM"
      }
    },
    {
      "cell_type": "code",
      "execution_count": 4,
      "metadata": {
        "colab": {
          "base_uri": "https://localhost:8080/"
        },
        "id": "i3NPpJW8JGLR",
        "outputId": "a939612b-cce7-46f1-9867-a37076c0d2bb"
      },
      "outputs": [
        {
          "output_type": "stream",
          "name": "stdout",
          "text": [
            "[4, 7, -1, 6]\n",
            "[14, 3, -1]\n"
          ]
        }
      ],
      "source": [
        "# 10. maximum sum subarray\n",
        "L = [ -2,4,7,-1,6,-11,14,3,-1,-6]\n",
        "d = {}\n",
        "for i in range(len(L)):\n",
        "  subarray = []\n",
        "  for j in range(i,len(L)):\n",
        "    subarray.append(L[j])\n",
        "    print(subarray,sum(subarray))\n",
        "    d[sum(subarray)] = subarray.copy()\n",
        "print(d)\n",
        "max_val = max(d.keys())\n",
        "for i in d:\n",
        "  if i == max_val:\n",
        "    print(d[i])"
      ]
    },
    {
      "cell_type": "code",
      "source": [
        "# kadane's algoriuthm\n",
        "\n",
        "L = [ -2,4,7,-1,6,-11,14,3,-1,-6]\n",
        "curr_array = []\n",
        "best_array = []\n",
        "curr_sum = L[0]\n",
        "best_sum = L[0]\n",
        "curr_array.append(L[0])\n",
        "best_array.append(L[0])\n",
        "\n",
        "\n",
        "for i in range(1,len(L)):\n",
        "  if(curr_sum + L[i] < L[i]):\n",
        "    curr_array.clear()\n",
        "    curr_array.append(L[i])\n",
        "    curr_sum = L[i]\n",
        "  else:\n",
        "    curr_sum = curr_sum + L[i]\n",
        "    curr_array.append(L[i])\n",
        "  if(curr_sum > best_sum):\n",
        "    best_sum = curr_sum\n",
        "    best_array = curr_array.copy()\n",
        "\n",
        "\n",
        "\n",
        "print(best_sum)\n",
        "print(best_array)\n"
      ],
      "metadata": {
        "id": "FTOmsV7pMDqE",
        "colab": {
          "base_uri": "https://localhost:8080/"
        },
        "outputId": "6dcacecd-d858-46c8-f78a-a9d76e1eede5"
      },
      "execution_count": 1,
      "outputs": [
        {
          "output_type": "stream",
          "name": "stdout",
          "text": [
            "22\n",
            "[4, 7, -1, 6, -11, 14, 3]\n"
          ]
        }
      ]
    },
    {
      "cell_type": "code",
      "source": [
        "# 9. find the element with left side smalller / right side greater in ana array\n",
        "L = [3,1,2,5,8,7,9]\n",
        "\n",
        "for i in range(1,len(L)-1):\n",
        "  flag = True\n",
        "  for j in range(0,i):\n",
        "    if L[j]> L[i]:\n",
        "      flag = False\n",
        "  for k in range(i+1,len(L)):\n",
        "    if L[k] < L[i]:\n",
        "      flag = False\n",
        "  if flag:\n",
        "    print(L[i])"
      ],
      "metadata": {
        "id": "WYfPq0rpkrsF",
        "colab": {
          "base_uri": "https://localhost:8080/"
        },
        "outputId": "2ff2e0ca-3102-488c-e7b5-b67ca16dba03"
      },
      "execution_count": null,
      "outputs": [
        {
          "output_type": "stream",
          "name": "stdout",
          "text": [
            "5\n"
          ]
        }
      ]
    },
    {
      "cell_type": "code",
      "source": [
        "L = [3,1,2,5,8,7,9]\n",
        "\n",
        "for i in range(1,len(L)-1):\n",
        "  if max(L[:i]) < L[i] < min(L[i+1:]):\n",
        "    print(L[i])\n"
      ],
      "metadata": {
        "colab": {
          "base_uri": "https://localhost:8080/"
        },
        "id": "rRbH3WevwS_m",
        "outputId": "2f09e634-48a2-4122-a449-325384a1bd8f"
      },
      "execution_count": null,
      "outputs": [
        {
          "output_type": "stream",
          "name": "stdout",
          "text": [
            "5\n"
          ]
        }
      ]
    },
    {
      "cell_type": "code",
      "source": [
        "L = [3,1,2,5,8,7,9]\n",
        "\n",
        "max_arr  = []\n",
        "min_arr = []\n",
        "max_value = L[0]\n",
        "min_value = L[-1]\n",
        "\n",
        "for i in L:\n",
        "  if (i > max_value):\n",
        "    max_value = i\n",
        "  max_arr.append(max_value)\n",
        "print(max_arr)\n",
        "\n",
        "for i in range(len(L)-1,-1,-1):\n",
        "  if(min_value > L[i]):\n",
        "    min_value = L[i]\n",
        "  min_arr.insert(0,min_value)\n",
        "print(min_arr)\n",
        "\n",
        "for i in range(1,len(L)-1):\n",
        "  if max_arr[i-1] < L[i] < min_arr[i+1]:\n",
        "    print(L[i])\n"
      ],
      "metadata": {
        "id": "o_2oe_bTy7TK",
        "colab": {
          "base_uri": "https://localhost:8080/"
        },
        "outputId": "a2d3fe7a-8c64-41cb-8e16-f7566e22a127"
      },
      "execution_count": 7,
      "outputs": [
        {
          "output_type": "stream",
          "name": "stdout",
          "text": [
            "[3, 3, 3, 5, 8, 8, 9]\n",
            "[1, 1, 2, 5, 7, 7, 9]\n",
            "5\n"
          ]
        }
      ]
    },
    {
      "cell_type": "code",
      "source": [
        " # 8. find continous subarray with a given sum(given nonnegative numbers)\n",
        " # return the starting and ending index of the sub array\n",
        " # return 1st subarray in case of multiple\n",
        "\n",
        "L = [1,22,13,7,9,11,10]\n",
        "s = 16\n",
        "d = {}\n",
        "\n",
        "for i in range(0,len(L)):\n",
        "  subarray = []\n",
        "  for j in range(i,len(L)):\n",
        "    subarray.append(L[j])\n",
        "    if(sum(subarray) == s):\n",
        "      print(subarray)\n",
        ""
      ],
      "metadata": {
        "id": "Hofsn3KknGSd",
        "colab": {
          "base_uri": "https://localhost:8080/"
        },
        "outputId": "55eea29b-8b73-4a07-bd69-eb601cd26880"
      },
      "execution_count": 5,
      "outputs": [
        {
          "output_type": "stream",
          "name": "stdout",
          "text": [
            "[7, 9]\n"
          ]
        }
      ]
    },
    {
      "cell_type": "code",
      "source": [
        "L = [1,22,13,7,9,11,10]\n",
        "\n",
        "s = 21\n",
        "d = {}\n",
        "curr_sum = 0\n",
        "for i in range(len(L)):\n",
        "  curr_sum = curr_sum + L[i]\n",
        "\n",
        "  if (curr_sum - s) in d:\n",
        "    print(d[curr_sum-s]+1,i)\n",
        "    break\n",
        "\n",
        "  d[curr_sum] = i"
      ],
      "metadata": {
        "colab": {
          "base_uri": "https://localhost:8080/"
        },
        "id": "qFUuvtgBMzZt",
        "outputId": "26643060-e853-4eb5-c117-d1f03def3e99"
      },
      "execution_count": 7,
      "outputs": [
        {
          "output_type": "stream",
          "name": "stdout",
          "text": [
            "5 6\n"
          ]
        }
      ]
    },
    {
      "cell_type": "code",
      "source": [],
      "metadata": {
        "id": "1Xu20hEtKsOA"
      },
      "execution_count": null,
      "outputs": []
    }
  ]
}