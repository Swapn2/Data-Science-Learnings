{
  "nbformat": 4,
  "nbformat_minor": 0,
  "metadata": {
    "colab": {
      "provenance": [],
      "mount_file_id": "1hcy2dwicT9cH4VFW88VWa3xESMyVOepJ",
      "authorship_tag": "ABX9TyNymDDaukwj0vkxYXOqfIAN",
      "include_colab_link": true
    },
    "kernelspec": {
      "name": "python3",
      "display_name": "Python 3"
    },
    "language_info": {
      "name": "python"
    }
  },
  "cells": [
    {
      "cell_type": "markdown",
      "metadata": {
        "id": "view-in-github",
        "colab_type": "text"
      },
      "source": [
        "<a href=\"https://colab.research.google.com/github/Swapn2/Data-Science-Learnings/blob/main/File_Handling.ipynb\" target=\"_parent\"><img src=\"https://colab.research.google.com/assets/colab-badge.svg\" alt=\"Open In Colab\"/></a>"
      ]
    },
    {
      "cell_type": "markdown",
      "source": [
        "### Some Theory\n",
        "\n",
        "##### Types of data used for I/O:\n",
        "- Text - '12345' as a sequence of unicode chars\n",
        "- Binary - 12345 as a sequence of bytes of its binary equivalent\n",
        "\n",
        "##### Hence there are 2 file types to deal with\n",
        "- Text files - All program files are text files\n",
        "- Binary Files - Images,music,video,exe files"
      ],
      "metadata": {
        "id": "9ZvPca6xKKOe"
      }
    },
    {
      "cell_type": "markdown",
      "source": [
        "### How File I/O is done in most programming languages\n",
        "\n",
        "- Open a file\n",
        "- Read/Write data\n",
        "- Close the file"
      ],
      "metadata": {
        "id": "EjzC-_-ZKOhz"
      }
    },
    {
      "cell_type": "markdown",
      "source": [
        "### Writing to a file"
      ],
      "metadata": {
        "id": "PHtT1Sq8Knyp"
      }
    },
    {
      "cell_type": "code",
      "execution_count": null,
      "metadata": {
        "id": "MAFuSAq5EmSw"
      },
      "outputs": [],
      "source": [
        "# case 1 - if file is not prsent\n",
        "f = open('swapn.txt','w')\n",
        "f.write('Hello world')\n",
        "f.close()"
      ]
    },
    {
      "cell_type": "code",
      "source": [
        "f.write('hello') # this will not work bcoz file is closed earlier"
      ],
      "metadata": {
        "id": "EsaVuBHvMg79",
        "colab": {
          "base_uri": "https://localhost:8080/",
          "height": 141
        },
        "outputId": "d3ad0c64-79ee-45d0-f158-ca97b6109d9b"
      },
      "execution_count": null,
      "outputs": [
        {
          "output_type": "error",
          "ename": "ValueError",
          "evalue": "I/O operation on closed file.",
          "traceback": [
            "\u001b[0;31m---------------------------------------------------------------------------\u001b[0m",
            "\u001b[0;31mValueError\u001b[0m                                Traceback (most recent call last)",
            "\u001b[0;32m<ipython-input-18-4e027358bfe7>\u001b[0m in \u001b[0;36m<cell line: 0>\u001b[0;34m()\u001b[0m\n\u001b[0;32m----> 1\u001b[0;31m \u001b[0mf\u001b[0m\u001b[0;34m.\u001b[0m\u001b[0mwrite\u001b[0m\u001b[0;34m(\u001b[0m\u001b[0;34m'hello'\u001b[0m\u001b[0;34m)\u001b[0m \u001b[0;31m# this will not work bcoz file is closed earlier\u001b[0m\u001b[0;34m\u001b[0m\u001b[0;34m\u001b[0m\u001b[0m\n\u001b[0m",
            "\u001b[0;31mValueError\u001b[0m: I/O operation on closed file."
          ]
        }
      ]
    },
    {
      "cell_type": "code",
      "source": [
        "# write multiple strings\n",
        "f = open('sample1.txt','w')\n",
        "f.write('Hello world')\n",
        "f.write('\\nhow are you ?')\n",
        "f.close()"
      ],
      "metadata": {
        "id": "-lOHSf3VNhiQ"
      },
      "execution_count": null,
      "outputs": []
    },
    {
      "cell_type": "code",
      "source": [
        "# case 2 - if file is already present\n",
        "f = open('swapn.txt','w')\n",
        "f.write('salman khan')\n",
        "f.close()"
      ],
      "metadata": {
        "id": "emcrA_aaN4W8"
      },
      "execution_count": null,
      "outputs": []
    },
    {
      "cell_type": "code",
      "source": [
        "# how exactly open()"
      ],
      "metadata": {
        "id": "9vIOz9N0OW7c"
      },
      "execution_count": null,
      "outputs": []
    },
    {
      "cell_type": "code",
      "source": [
        "# Problem with w mode\n",
        "# introducing append mode\n",
        "f = open('sample1.txt','a')\n",
        "f.write('\\nI am fine')\n",
        "f.close()"
      ],
      "metadata": {
        "id": "zHelzUfVqkEK"
      },
      "execution_count": null,
      "outputs": []
    },
    {
      "cell_type": "code",
      "source": [
        "# write lines\n",
        "L  = ['hello\\n','hi\\n','How are you\\n','I am fine']\n",
        "f = open('swapn.txt','w')\n",
        "f.writelines(L)\n",
        "f.close()"
      ],
      "metadata": {
        "id": "Ou-1KwrQw18T"
      },
      "execution_count": null,
      "outputs": []
    },
    {
      "cell_type": "code",
      "source": [
        "# write lines\n",
        "L  = ('hello\\n','hi\\n','How are you\\n','I am fine')\n",
        "f = open('swapn.txt','w')\n",
        "f.writelines(L)\n",
        "f.close()"
      ],
      "metadata": {
        "id": "CFAFoxYh3tiO"
      },
      "execution_count": null,
      "outputs": []
    },
    {
      "cell_type": "code",
      "source": [
        "f = open('multiline.txt','w')\n",
        "f.write(\"\"\"hi\n",
        "swapn is here\n",
        "i am writting code for multiline\n",
        "\"\"\")\n",
        "f.close()"
      ],
      "metadata": {
        "id": "fKBVuyFsxpYa"
      },
      "execution_count": null,
      "outputs": []
    },
    {
      "cell_type": "code",
      "source": [
        "f = open('/content/temp/demo.txt','w')\n",
        "f.write('Hi , i am in diffrent folder')\n",
        "f.close()"
      ],
      "metadata": {
        "id": "PJ7RUUfH4axb"
      },
      "execution_count": 27,
      "outputs": []
    },
    {
      "cell_type": "code",
      "source": [
        "# -> using read ()\n",
        "f = open('/content/swapn.txt','r')\n",
        "s = f.read()\n",
        "print(s)\n",
        "f.close()"
      ],
      "metadata": {
        "id": "gdFCPxchxMRj",
        "colab": {
          "base_uri": "https://localhost:8080/"
        },
        "outputId": "ba699b96-5570-4f33-ff0b-df2133af2582"
      },
      "execution_count": 29,
      "outputs": [
        {
          "output_type": "stream",
          "name": "stdout",
          "text": [
            "hello\n",
            "hi\n",
            "How are you\n",
            "I am fine\n"
          ]
        }
      ]
    },
    {
      "cell_type": "code",
      "source": [
        "# reading upto n chars\n",
        "f = open('/content/swapn.txt','r')\n",
        "s = f.read(10)\n",
        "print(s)\n",
        "f.close()\n",
        "\n",
        "# in result \\n considered as a character"
      ],
      "metadata": {
        "id": "bbBjfZXC5I9e",
        "colab": {
          "base_uri": "https://localhost:8080/"
        },
        "outputId": "23811d14-529f-4038-fa9d-2499e339ab72"
      },
      "execution_count": 30,
      "outputs": [
        {
          "output_type": "stream",
          "name": "stdout",
          "text": [
            "hello\n",
            "hi\n",
            "H\n"
          ]
        }
      ]
    },
    {
      "cell_type": "code",
      "source": [
        "f = open('/content/swapn.txt','r')\n",
        "print(f.readline())\n",
        "print(f.readline())  # print will change line and read will change line also\n",
        "f.close()"
      ],
      "metadata": {
        "colab": {
          "base_uri": "https://localhost:8080/"
        },
        "id": "z1iA7yt662gX",
        "outputId": "c9ed4772-13bd-44f8-a4ee-050dbd8674b9"
      },
      "execution_count": 31,
      "outputs": [
        {
          "output_type": "stream",
          "name": "stdout",
          "text": [
            "hello\n",
            "\n",
            "hi\n",
            "\n"
          ]
        }
      ]
    },
    {
      "cell_type": "code",
      "source": [
        "f = open('/content/swapn.txt','r')\n",
        "print(f.readline(),end = '')\n",
        "print(f.readline(),end = '')\n",
        "f.close()"
      ],
      "metadata": {
        "colab": {
          "base_uri": "https://localhost:8080/"
        },
        "id": "vZ8PMCKv8WL4",
        "outputId": "ebced7d0-3429-49ad-97a7-82d712fe476e"
      },
      "execution_count": 32,
      "outputs": [
        {
          "output_type": "stream",
          "name": "stdout",
          "text": [
            "hello\n",
            "hi\n"
          ]
        }
      ]
    },
    {
      "cell_type": "code",
      "source": [],
      "metadata": {
        "id": "ZI2N-nZB8hIF"
      },
      "execution_count": null,
      "outputs": []
    }
  ]
}