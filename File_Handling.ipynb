{
  "nbformat": 4,
  "nbformat_minor": 0,
  "metadata": {
    "colab": {
      "provenance": [],
      "mount_file_id": "1hcy2dwicT9cH4VFW88VWa3xESMyVOepJ",
      "authorship_tag": "ABX9TyMtbovotmeUOrh7CwXfZKD8",
      "include_colab_link": true
    },
    "kernelspec": {
      "name": "python3",
      "display_name": "Python 3"
    },
    "language_info": {
      "name": "python"
    }
  },
  "cells": [
    {
      "cell_type": "markdown",
      "metadata": {
        "id": "view-in-github",
        "colab_type": "text"
      },
      "source": [
        "<a href=\"https://colab.research.google.com/github/Swapn2/Data-Science-Learnings/blob/main/File_Handling.ipynb\" target=\"_parent\"><img src=\"https://colab.research.google.com/assets/colab-badge.svg\" alt=\"Open In Colab\"/></a>"
      ]
    },
    {
      "cell_type": "markdown",
      "source": [
        "### Some Theory\n",
        "\n",
        "##### Types of data used for I/O:\n",
        "- Text - '12345' as a sequence of unicode chars\n",
        "- Binary - 12345 as a sequence of bytes of its binary equivalent\n",
        "\n",
        "##### Hence there are 2 file types to deal with\n",
        "- Text files - All program files are text files\n",
        "- Binary Files - Images,music,video,exe files"
      ],
      "metadata": {
        "id": "9ZvPca6xKKOe"
      }
    },
    {
      "cell_type": "markdown",
      "source": [
        "### How File I/O is done in most programming languages\n",
        "\n",
        "- Open a file\n",
        "- Read/Write data\n",
        "- Close the file"
      ],
      "metadata": {
        "id": "EjzC-_-ZKOhz"
      }
    },
    {
      "cell_type": "markdown",
      "source": [
        "### Writing to a file"
      ],
      "metadata": {
        "id": "PHtT1Sq8Knyp"
      }
    },
    {
      "cell_type": "code",
      "execution_count": null,
      "metadata": {
        "id": "MAFuSAq5EmSw"
      },
      "outputs": [],
      "source": [
        "# case 1 - if file is not prsent\n",
        "f = open('swapn.txt','w')\n",
        "f.write('Hello world')\n",
        "f.close()"
      ]
    },
    {
      "cell_type": "code",
      "source": [
        "f.write('hello') # this will not work bcoz file is closed earlier"
      ],
      "metadata": {
        "id": "EsaVuBHvMg79",
        "colab": {
          "base_uri": "https://localhost:8080/",
          "height": 141
        },
        "outputId": "d3ad0c64-79ee-45d0-f158-ca97b6109d9b"
      },
      "execution_count": null,
      "outputs": [
        {
          "output_type": "error",
          "ename": "ValueError",
          "evalue": "I/O operation on closed file.",
          "traceback": [
            "\u001b[0;31m---------------------------------------------------------------------------\u001b[0m",
            "\u001b[0;31mValueError\u001b[0m                                Traceback (most recent call last)",
            "\u001b[0;32m<ipython-input-18-4e027358bfe7>\u001b[0m in \u001b[0;36m<cell line: 0>\u001b[0;34m()\u001b[0m\n\u001b[0;32m----> 1\u001b[0;31m \u001b[0mf\u001b[0m\u001b[0;34m.\u001b[0m\u001b[0mwrite\u001b[0m\u001b[0;34m(\u001b[0m\u001b[0;34m'hello'\u001b[0m\u001b[0;34m)\u001b[0m \u001b[0;31m# this will not work bcoz file is closed earlier\u001b[0m\u001b[0;34m\u001b[0m\u001b[0;34m\u001b[0m\u001b[0m\n\u001b[0m",
            "\u001b[0;31mValueError\u001b[0m: I/O operation on closed file."
          ]
        }
      ]
    },
    {
      "cell_type": "code",
      "source": [
        "# write multiple strings\n",
        "f = open('sample1.txt','w')\n",
        "f.write('Hello world')\n",
        "f.write('\\nhow are you ?')\n",
        "f.close()"
      ],
      "metadata": {
        "id": "-lOHSf3VNhiQ"
      },
      "execution_count": null,
      "outputs": []
    },
    {
      "cell_type": "code",
      "source": [
        "# case 2 - if file is already present\n",
        "f = open('swapn.txt','w')\n",
        "f.write('salman khan')\n",
        "f.close()"
      ],
      "metadata": {
        "id": "emcrA_aaN4W8"
      },
      "execution_count": null,
      "outputs": []
    },
    {
      "cell_type": "code",
      "source": [
        "# how exactly open()"
      ],
      "metadata": {
        "id": "9vIOz9N0OW7c"
      },
      "execution_count": null,
      "outputs": []
    },
    {
      "cell_type": "code",
      "source": [
        "# Problem with w mode\n",
        "# introducing append mode\n",
        "f = open('sample1.txt','a')\n",
        "f.write('\\nI am fine')\n",
        "f.close()"
      ],
      "metadata": {
        "id": "zHelzUfVqkEK"
      },
      "execution_count": null,
      "outputs": []
    },
    {
      "cell_type": "code",
      "source": [
        "# write lines\n",
        "L  = ['hello\\n','hi\\n','How are you\\n','I am fine']\n",
        "f = open('swapn.txt','w')\n",
        "f.writelines(L)\n",
        "f.close()"
      ],
      "metadata": {
        "id": "Ou-1KwrQw18T"
      },
      "execution_count": null,
      "outputs": []
    },
    {
      "cell_type": "code",
      "source": [
        "# write lines\n",
        "L  = ('hello\\n','hi\\n','How are you\\n','I am fine')\n",
        "f = open('swapn.txt','w')\n",
        "f.writelines(L)\n",
        "f.close()"
      ],
      "metadata": {
        "id": "CFAFoxYh3tiO"
      },
      "execution_count": null,
      "outputs": []
    },
    {
      "cell_type": "code",
      "source": [
        "f = open('multiline.txt','w')\n",
        "f.write(\"\"\"hi\n",
        "swapn is here\n",
        "i am writting code for multiline\n",
        "\"\"\")\n",
        "f.close()"
      ],
      "metadata": {
        "id": "fKBVuyFsxpYa"
      },
      "execution_count": null,
      "outputs": []
    },
    {
      "cell_type": "code",
      "source": [
        "f = open('/content/temp/demo.txt','w')\n",
        "f.write('Hi , i am in diffrent folder')\n",
        "f.close()"
      ],
      "metadata": {
        "id": "PJ7RUUfH4axb"
      },
      "execution_count": 27,
      "outputs": []
    },
    {
      "cell_type": "code",
      "source": [
        "# -> using read ()\n",
        "f = open('/content/swapn.txt','r')\n",
        "s = f.read()\n",
        "print(s)\n",
        "f.close()"
      ],
      "metadata": {
        "id": "gdFCPxchxMRj",
        "colab": {
          "base_uri": "https://localhost:8080/"
        },
        "outputId": "ba699b96-5570-4f33-ff0b-df2133af2582"
      },
      "execution_count": 29,
      "outputs": [
        {
          "output_type": "stream",
          "name": "stdout",
          "text": [
            "hello\n",
            "hi\n",
            "How are you\n",
            "I am fine\n"
          ]
        }
      ]
    },
    {
      "cell_type": "markdown",
      "source": [
        "### for small files read will be good"
      ],
      "metadata": {
        "id": "fY9q0Sql84H9"
      }
    },
    {
      "cell_type": "code",
      "source": [
        "# reading upto n chars\n",
        "f = open('/content/swapn.txt','r')\n",
        "s = f.read(10)\n",
        "print(s)\n",
        "f.close()\n",
        "\n",
        "# in result \\n considered as a character"
      ],
      "metadata": {
        "id": "bbBjfZXC5I9e",
        "colab": {
          "base_uri": "https://localhost:8080/"
        },
        "outputId": "23811d14-529f-4038-fa9d-2499e339ab72"
      },
      "execution_count": 30,
      "outputs": [
        {
          "output_type": "stream",
          "name": "stdout",
          "text": [
            "hello\n",
            "hi\n",
            "H\n"
          ]
        }
      ]
    },
    {
      "cell_type": "markdown",
      "source": [
        "### readline wil be helpful in large file , it will not cause load on memory\n",
        "\n",
        "###"
      ],
      "metadata": {
        "id": "6jcY41Yz83Xr"
      }
    },
    {
      "cell_type": "code",
      "source": [
        "f = open('/content/swapn.txt','r')\n",
        "print(f.readline())\n",
        "print(f.readline())  # print will change line and read will change line also\n",
        "f.close()"
      ],
      "metadata": {
        "colab": {
          "base_uri": "https://localhost:8080/"
        },
        "id": "z1iA7yt662gX",
        "outputId": "c9ed4772-13bd-44f8-a4ee-050dbd8674b9"
      },
      "execution_count": 31,
      "outputs": [
        {
          "output_type": "stream",
          "name": "stdout",
          "text": [
            "hello\n",
            "\n",
            "hi\n",
            "\n"
          ]
        }
      ]
    },
    {
      "cell_type": "code",
      "source": [
        "f = open('/content/swapn.txt','r')\n",
        "print(f.readline(),end = '')\n",
        "print(f.readline(),end = '')\n",
        "f.close()"
      ],
      "metadata": {
        "colab": {
          "base_uri": "https://localhost:8080/"
        },
        "id": "vZ8PMCKv8WL4",
        "outputId": "ebced7d0-3429-49ad-97a7-82d712fe476e"
      },
      "execution_count": 32,
      "outputs": [
        {
          "output_type": "stream",
          "name": "stdout",
          "text": [
            "hello\n",
            "hi\n"
          ]
        }
      ]
    },
    {
      "cell_type": "code",
      "source": [
        "# reading entire using readline\n",
        "f = open('/content/swapn.txt','r')\n",
        "\n",
        "while True:\n",
        "\n",
        "  data = f.readline()\n",
        "  if data == '':\n",
        "    break\n",
        "  else:\n",
        "    print(data,end='')\n",
        "\n",
        "f.close()"
      ],
      "metadata": {
        "colab": {
          "base_uri": "https://localhost:8080/"
        },
        "id": "ZI2N-nZB8hIF",
        "outputId": "29723ebd-324a-4d44-d02d-10217dc4d4dc"
      },
      "execution_count": 37,
      "outputs": [
        {
          "output_type": "stream",
          "name": "stdout",
          "text": [
            "hello\n",
            "hi\n",
            "How are you\n",
            "I am fine"
          ]
        }
      ]
    },
    {
      "cell_type": "markdown",
      "source": [
        "### Using Context Manager (With)\n",
        "\n",
        "- It's a good idea to close a file after usage as it will free up the resources\n",
        "- If we dont close it, garbage collector would close it\n",
        "- with keyword closes the file as soon as the usage is over"
      ],
      "metadata": {
        "id": "WCUzP483CSI-"
      }
    },
    {
      "cell_type": "code",
      "source": [
        "# with\n",
        "with open('/content/sample1.txt','w') as f:\n",
        "  f.write('selmon bhai')"
      ],
      "metadata": {
        "id": "xzYlfEHyCR2-"
      },
      "execution_count": 39,
      "outputs": []
    },
    {
      "cell_type": "code",
      "source": [
        "f.write('hello') # this would not work because 'with' had already closedthe file"
      ],
      "metadata": {
        "colab": {
          "base_uri": "https://localhost:8080/",
          "height": 141
        },
        "id": "LC-LlmnMCV1g",
        "outputId": "b1506bc5-8e58-424b-b5d5-c1981fdf5aa6"
      },
      "execution_count": 40,
      "outputs": [
        {
          "output_type": "error",
          "ename": "ValueError",
          "evalue": "I/O operation on closed file.",
          "traceback": [
            "\u001b[0;31m---------------------------------------------------------------------------\u001b[0m",
            "\u001b[0;31mValueError\u001b[0m                                Traceback (most recent call last)",
            "\u001b[0;32m<ipython-input-40-80952b274426>\u001b[0m in \u001b[0;36m<cell line: 0>\u001b[0;34m()\u001b[0m\n\u001b[0;32m----> 1\u001b[0;31m \u001b[0mf\u001b[0m\u001b[0;34m.\u001b[0m\u001b[0mwrite\u001b[0m\u001b[0;34m(\u001b[0m\u001b[0;34m'hello'\u001b[0m\u001b[0;34m)\u001b[0m \u001b[0;31m# this would not work because 'with' had already closedthe file\u001b[0m\u001b[0;34m\u001b[0m\u001b[0;34m\u001b[0m\u001b[0m\n\u001b[0m",
            "\u001b[0;31mValueError\u001b[0m: I/O operation on closed file."
          ]
        }
      ]
    },
    {
      "cell_type": "code",
      "source": [
        "# try f.read() now\n",
        "with open('/content/swapn.txt','r') as f:\n",
        "  print(f.read())"
      ],
      "metadata": {
        "colab": {
          "base_uri": "https://localhost:8080/"
        },
        "id": "VEZuQrm-CWPq",
        "outputId": "7b01c7c4-bc7b-4644-f693-839afa6cb22f"
      },
      "execution_count": 44,
      "outputs": [
        {
          "output_type": "stream",
          "name": "stdout",
          "text": [
            "hello\n",
            "hi\n",
            "How are you\n",
            "I am fine\n"
          ]
        }
      ]
    },
    {
      "cell_type": "code",
      "source": [
        "# moving within a file -> 10 char then 10 char\n",
        "with open('/content/swapn.txt','r') as f:\n",
        "  print(f.read(10))\n",
        "  print(f.read(10))"
      ],
      "metadata": {
        "colab": {
          "base_uri": "https://localhost:8080/"
        },
        "id": "qplM3NAOCWoN",
        "outputId": "638e1d11-4f04-4785-c4c0-c68f3b7b9012"
      },
      "execution_count": 46,
      "outputs": [
        {
          "output_type": "stream",
          "name": "stdout",
          "text": [
            "hello\n",
            "hi\n",
            "H\n",
            "ow are you\n"
          ]
        }
      ]
    },
    {
      "cell_type": "code",
      "source": [
        "# benifit? -> to load a big file in memory\n",
        "big_L = ['hello world ' for i in range(1000)]\n",
        "with open('big.txt','w') as f:\n",
        "  f.writelines(big_L)"
      ],
      "metadata": {
        "id": "MLbIZx0EEGgK"
      },
      "execution_count": 49,
      "outputs": []
    },
    {
      "cell_type": "code",
      "source": [
        "with open('big.txt','r')as f:\n",
        "  chunk_size = 100\n",
        "  while len(f.read(chunk_size)) > 0:\n",
        "    print(f.read(chunk_size),end = '****\\n')\n",
        "    f.read(chunk_size)"
      ],
      "metadata": {
        "colab": {
          "base_uri": "https://localhost:8080/"
        },
        "id": "FuRj4moKFc1D",
        "outputId": "4413d8c1-8f90-43ad-80d5-686a5f16e291"
      },
      "execution_count": 53,
      "outputs": [
        {
          "output_type": "stream",
          "name": "stdout",
          "text": [
            "o world hello world hello world hello world hello world hello world hello world hello world hello wo****\n",
            "o world hello world hello world hello world hello world hello world hello world hello world hello wo****\n",
            "o world hello world hello world hello world hello world hello world hello world hello world hello wo****\n",
            "o world hello world hello world hello world hello world hello world hello world hello world hello wo****\n",
            "o world hello world hello world hello world hello world hello world hello world hello world hello wo****\n",
            "o world hello world hello world hello world hello world hello world hello world hello world hello wo****\n",
            "o world hello world hello world hello world hello world hello world hello world hello world hello wo****\n",
            "o world hello world hello world hello world hello world hello world hello world hello world hello wo****\n",
            "o world hello world hello world hello world hello world hello world hello world hello world hello wo****\n",
            "o world hello world hello world hello world hello world hello world hello world hello world hello wo****\n",
            "o world hello world hello world hello world hello world hello world hello world hello world hello wo****\n",
            "o world hello world hello world hello world hello world hello world hello world hello world hello wo****\n",
            "o world hello world hello world hello world hello world hello world hello world hello world hello wo****\n",
            "o world hello world hello world hello world hello world hello world hello world hello world hello wo****\n",
            "o world hello world hello world hello world hello world hello world hello world hello world hello wo****\n",
            "o world hello world hello world hello world hello world hello world hello world hello world hello wo****\n",
            "o world hello world hello world hello world hello world hello world hello world hello world hello wo****\n",
            "o world hello world hello world hello world hello world hello world hello world hello world hello wo****\n",
            "o world hello world hello world hello world hello world hello world hello world hello world hello wo****\n",
            "o world hello world hello world hello world hello world hello world hello world hello world hello wo****\n",
            "o world hello world hello world hello world hello world hello world hello world hello world hello wo****\n",
            "o world hello world hello world hello world hello world hello world hello world hello world hello wo****\n",
            "o world hello world hello world hello world hello world hello world hello world hello world hello wo****\n",
            "o world hello world hello world hello world hello world hello world hello world hello world hello wo****\n",
            "o world hello world hello world hello world hello world hello world hello world hello world hello wo****\n",
            "o world hello world hello world hello world hello world hello world hello world hello world hello wo****\n",
            "o world hello world hello world hello world hello world hello world hello world hello world hello wo****\n",
            "o world hello world hello world hello world hello world hello world hello world hello world hello wo****\n",
            "o world hello world hello world hello world hello world hello world hello world hello world hello wo****\n",
            "o world hello world hello world hello world hello world hello world hello world hello world hello wo****\n",
            "o world hello world hello world hello world hello world hello world hello world hello world hello wo****\n",
            "o world hello world hello world hello world hello world hello world hello world hello world hello wo****\n",
            "o world hello world hello world hello world hello world hello world hello world hello world hello wo****\n",
            "o world hello world hello world hello world hello world hello world hello world hello world hello wo****\n",
            "o world hello world hello world hello world hello world hello world hello world hello world hello wo****\n",
            "o world hello world hello world hello world hello world hello world hello world hello world hello wo****\n",
            "o world hello world hello world hello world hello world hello world hello world hello world hello wo****\n",
            "o world hello world hello world hello world hello world hello world hello world hello world hello wo****\n",
            "o world hello world hello world hello world hello world hello world hello world hello world hello wo****\n",
            "o world hello world hello world hello world hello world hello world hello world hello world hello wo****\n"
          ]
        }
      ]
    },
    {
      "cell_type": "code",
      "source": [
        "# seek and tell funtion\n",
        "with open('swapn.txt','r') as f:\n",
        "  print(f.read(10))\n",
        "  print(f.tell())\n",
        "  print(f.read(10))\n",
        "  print(f.tell())\n",
        "  f.seek(0)\n",
        "  print(f.read(10))\n",
        "  print(f.tell())\n",
        ""
      ],
      "metadata": {
        "colab": {
          "base_uri": "https://localhost:8080/"
        },
        "id": "5TjK0ff2GqCn",
        "outputId": "640bf8ad-f5e3-4c62-b0f1-df34af426339"
      },
      "execution_count": 56,
      "outputs": [
        {
          "output_type": "stream",
          "name": "stdout",
          "text": [
            "hello\n",
            "hi\n",
            "H\n",
            "10\n",
            "ow are you\n",
            "20\n",
            "hello\n",
            "hi\n",
            "H\n",
            "10\n"
          ]
        }
      ]
    },
    {
      "cell_type": "code",
      "source": [
        "# seek during write\n"
      ],
      "metadata": {
        "id": "B1r7ZhUCI-pm"
      },
      "execution_count": null,
      "outputs": []
    }
  ]
}