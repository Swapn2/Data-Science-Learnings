{
  "nbformat": 4,
  "nbformat_minor": 0,
  "metadata": {
    "colab": {
      "provenance": [],
      "authorship_tag": "ABX9TyM8dyjk3zkf0Jn9IDN6XEMe",
      "include_colab_link": true
    },
    "kernelspec": {
      "name": "python3",
      "display_name": "Python 3"
    },
    "language_info": {
      "name": "python"
    }
  },
  "cells": [
    {
      "cell_type": "markdown",
      "metadata": {
        "id": "view-in-github",
        "colab_type": "text"
      },
      "source": [
        "<a href=\"https://colab.research.google.com/github/Swapn2/Data-Science-Learnings/blob/main/File_Handling.ipynb\" target=\"_parent\"><img src=\"https://colab.research.google.com/assets/colab-badge.svg\" alt=\"Open In Colab\"/></a>"
      ]
    },
    {
      "cell_type": "markdown",
      "source": [
        "### Some Theory\n",
        "\n",
        "##### Types of data used for I/O:\n",
        "- Text - '12345' as a sequence of unicode chars\n",
        "- Binary - 12345 as a sequence of bytes of its binary equivalent\n",
        "\n",
        "##### Hence there are 2 file types to deal with\n",
        "- Text files - All program files are text files\n",
        "- Binary Files - Images,music,video,exe files"
      ],
      "metadata": {
        "id": "9ZvPca6xKKOe"
      }
    },
    {
      "cell_type": "markdown",
      "source": [
        "### How File I/O is done in most programming languages\n",
        "\n",
        "- Open a file\n",
        "- Read/Write data\n",
        "- Close the file"
      ],
      "metadata": {
        "id": "EjzC-_-ZKOhz"
      }
    },
    {
      "cell_type": "markdown",
      "source": [
        "### Writing to a file"
      ],
      "metadata": {
        "id": "PHtT1Sq8Knyp"
      }
    },
    {
      "cell_type": "code",
      "execution_count": 1,
      "metadata": {
        "id": "MAFuSAq5EmSw"
      },
      "outputs": [],
      "source": [
        "# case 1 - if file is not prsent\n",
        "f = open('swapn.txt','w')\n",
        "f.write('Hello world')\n",
        "f.close()"
      ]
    },
    {
      "cell_type": "code",
      "source": [
        "f.write('hello') # this will not work bcoz file is closed earlier"
      ],
      "metadata": {
        "id": "EsaVuBHvMg79",
        "colab": {
          "base_uri": "https://localhost:8080/",
          "height": 141
        },
        "outputId": "c59f0ffa-653c-4940-b366-e58b0248492b"
      },
      "execution_count": 2,
      "outputs": [
        {
          "output_type": "error",
          "ename": "ValueError",
          "evalue": "I/O operation on closed file.",
          "traceback": [
            "\u001b[0;31m---------------------------------------------------------------------------\u001b[0m",
            "\u001b[0;31mValueError\u001b[0m                                Traceback (most recent call last)",
            "\u001b[0;32m<ipython-input-2-4e027358bfe7>\u001b[0m in \u001b[0;36m<cell line: 0>\u001b[0;34m()\u001b[0m\n\u001b[0;32m----> 1\u001b[0;31m \u001b[0mf\u001b[0m\u001b[0;34m.\u001b[0m\u001b[0mwrite\u001b[0m\u001b[0;34m(\u001b[0m\u001b[0;34m'hello'\u001b[0m\u001b[0;34m)\u001b[0m \u001b[0;31m# this will not work bcoz file is closed earlier\u001b[0m\u001b[0;34m\u001b[0m\u001b[0;34m\u001b[0m\u001b[0m\n\u001b[0m",
            "\u001b[0;31mValueError\u001b[0m: I/O operation on closed file."
          ]
        }
      ]
    },
    {
      "cell_type": "code",
      "source": [
        "# write multiple strings\n",
        "f = open('sample1.txt','w')\n",
        "f.write('Hello world')\n",
        "f.write('\\nhow are you ?')\n",
        "f.close()"
      ],
      "metadata": {
        "id": "-lOHSf3VNhiQ"
      },
      "execution_count": 3,
      "outputs": []
    },
    {
      "cell_type": "code",
      "source": [
        "# case 2 - if file is already present\n",
        "f = open('swapn.txt','w')\n",
        "f.write('salman khan')\n",
        "f.close()"
      ],
      "metadata": {
        "id": "emcrA_aaN4W8"
      },
      "execution_count": 4,
      "outputs": []
    },
    {
      "cell_type": "code",
      "source": [
        "# how exactly open()"
      ],
      "metadata": {
        "id": "9vIOz9N0OW7c"
      },
      "execution_count": 5,
      "outputs": []
    },
    {
      "cell_type": "code",
      "source": [
        "# Problem with w mode\n",
        "# introducing append mode\n",
        "f = open('sample1.txt','a')\n",
        "f.write('\\nI am fine')\n",
        "f.close()"
      ],
      "metadata": {
        "id": "zHelzUfVqkEK"
      },
      "execution_count": 14,
      "outputs": []
    },
    {
      "cell_type": "code",
      "source": [
        "# write lines\n",
        "L  = ['hello\\n','hi\\n','How are you\\n','I am fine']\n",
        "\n",
        "f = open('swapn.txt','w')\n",
        "f.writelines(L)\n",
        "f.close()"
      ],
      "metadata": {
        "id": "Ou-1KwrQw18T"
      },
      "execution_count": 15,
      "outputs": []
    },
    {
      "cell_type": "code",
      "source": [
        "# write lines"
      ],
      "metadata": {
        "id": "19zcgMsIxEMC"
      },
      "execution_count": 8,
      "outputs": []
    },
    {
      "cell_type": "code",
      "source": [
        "# reading from files\n",
        "# -> using read ()"
      ],
      "metadata": {
        "id": "gdFCPxchxMRj"
      },
      "execution_count": 9,
      "outputs": []
    },
    {
      "cell_type": "code",
      "source": [],
      "metadata": {
        "id": "fKBVuyFsxpYa"
      },
      "execution_count": null,
      "outputs": []
    }
  ]
}