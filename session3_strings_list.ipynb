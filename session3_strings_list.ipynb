{
  "nbformat": 4,
  "nbformat_minor": 0,
  "metadata": {
    "colab": {
      "provenance": [],
      "authorship_tag": "ABX9TyO+byUAIlojhVWXFOBSjjU7",
      "include_colab_link": true
    },
    "kernelspec": {
      "name": "python3",
      "display_name": "Python 3"
    },
    "language_info": {
      "name": "python"
    }
  },
  "cells": [
    {
      "cell_type": "markdown",
      "metadata": {
        "id": "view-in-github",
        "colab_type": "text"
      },
      "source": [
        "<a href=\"https://colab.research.google.com/github/Swapn2/Data-Science-Learnings/blob/main/session3_strings_list.ipynb\" target=\"_parent\"><img src=\"https://colab.research.google.com/assets/colab-badge.svg\" alt=\"Open In Colab\"/></a>"
      ]
    },
    {
      "cell_type": "code",
      "execution_count": null,
      "metadata": {
        "id": "1U17-3K7gdh-"
      },
      "outputs": [],
      "source": []
    },
    {
      "cell_type": "markdown",
      "source": [
        "### Program - The current population of a town is 10000. The population of the town is increasing at the rate of 10% per year. You have to write a program to find out the population at the end of each of the last 10 years."
      ],
      "metadata": {
        "id": "CYeyvr8NhfPv"
      }
    },
    {
      "cell_type": "code",
      "source": [
        "curr_popu = 10000\n",
        "for i in range(10,1,-1):\n",
        "  print(i,curr_popu)\n",
        "  curr_popu = curr_popu/1.1 # this 1.1 is coming the maths expression"
      ],
      "metadata": {
        "colab": {
          "base_uri": "https://localhost:8080/"
        },
        "id": "MKskPYsdhfxS",
        "outputId": "0c5dc6dd-7e94-4805-a794-99cec975e8f3"
      },
      "execution_count": null,
      "outputs": [
        {
          "output_type": "stream",
          "name": "stdout",
          "text": [
            "10 10000\n",
            "9 9090.90909090909\n",
            "8 8264.462809917353\n",
            "7 7513.148009015775\n",
            "6 6830.134553650703\n",
            "5 6209.213230591548\n",
            "4 5644.739300537771\n",
            "3 5131.5811823070635\n",
            "2 4665.07380209733\n"
          ]
        }
      ]
    },
    {
      "cell_type": "markdown",
      "source": [
        "### Sequence sum\n",
        "\n",
        "1/1! + 2/2! + 3/3! + ..."
      ],
      "metadata": {
        "id": "CkjtF-08hf3m"
      }
    },
    {
      "cell_type": "code",
      "source": [
        "n  = int(input('enter the number '))\n",
        "result = 0\n",
        "fact = 1\n",
        "for i in range(1,n+1):\n",
        "  fact = fact * i\n",
        "  result = result + i/fact\n",
        "print(result)\n"
      ],
      "metadata": {
        "colab": {
          "base_uri": "https://localhost:8080/"
        },
        "id": "W9QnRc87jYfe",
        "outputId": "67d74bd0-6eda-4e76-b05e-2ea0d339e80e"
      },
      "execution_count": null,
      "outputs": [
        {
          "output_type": "stream",
          "name": "stdout",
          "text": [
            "enter the number 2\n",
            "2.0\n"
          ]
        }
      ]
    },
    {
      "cell_type": "markdown",
      "source": [
        "Nested loops :"
      ],
      "metadata": {
        "id": "LFVEAwtGl03v"
      }
    },
    {
      "cell_type": "code",
      "source": [
        "# pattern 1\n",
        "n = int(input('enter the number '))\n",
        "for i in range (1,n+1):\n",
        "  for j in range (1,i+1):\n",
        "    print('*',end = \" \")\n",
        "  print()"
      ],
      "metadata": {
        "colab": {
          "base_uri": "https://localhost:8080/"
        },
        "id": "wkJg_xDJkbnR",
        "outputId": "6687b38e-458d-4896-96e3-67c64525c2d8"
      },
      "execution_count": null,
      "outputs": [
        {
          "output_type": "stream",
          "name": "stdout",
          "text": [
            "enter the number 10\n",
            "* \n",
            "* * \n",
            "* * * \n",
            "* * * * \n",
            "* * * * * \n",
            "* * * * * * \n",
            "* * * * * * * \n",
            "* * * * * * * * \n",
            "* * * * * * * * * \n",
            "* * * * * * * * * * \n"
          ]
        }
      ]
    },
    {
      "cell_type": "markdown",
      "source": [
        "# Loop Control Statement\n",
        "\n",
        "- Break\n",
        "- Continue\n",
        "- Pass"
      ],
      "metadata": {
        "id": "ozO-2jXwr7pd"
      }
    },
    {
      "cell_type": "code",
      "source": [
        "# searching is real life example of break\n",
        "# skip product can be the real life example of continue\n",
        "for i in range (1,10):\n",
        "  if i == 5:\n",
        "    break\n",
        "  print(i)"
      ],
      "metadata": {
        "colab": {
          "base_uri": "https://localhost:8080/"
        },
        "id": "VNj2erUsngJK",
        "outputId": "5d6dc4de-92ae-44f6-b317-c17dfda6bfb9"
      },
      "execution_count": null,
      "outputs": [
        {
          "output_type": "stream",
          "name": "stdout",
          "text": [
            "1\n",
            "2\n",
            "3\n",
            "4\n"
          ]
        }
      ]
    },
    {
      "cell_type": "code",
      "source": [
        "# PASS\n",
        "for i in range(1,10):\n",
        "  pass"
      ],
      "metadata": {
        "id": "PgHz3u-LsLv2"
      },
      "execution_count": null,
      "outputs": []
    },
    {
      "cell_type": "markdown",
      "source": [
        "Strings are sequence of Characters\n",
        "\n",
        "In Python specifically, strings are a sequence of Unicode Characters\n",
        "\n",
        "- Creating Strings\n",
        "- Accessing Strings\n",
        "- Adding Chars to Strings\n",
        "- Editing Strings\n",
        "- Deleting Strings\n",
        "- Operations on Strings\n",
        "- String Functions"
      ],
      "metadata": {
        "id": "P5JvdW2Cv1Y-"
      }
    },
    {
      "cell_type": "code",
      "source": [
        "s = 'hello'\n",
        "s = \"hello\"\n",
        "# multi line string\n",
        "s = '''hello'''\n",
        "s = \"\"\"hello\"\"\"\n",
        "s = str('hello')\n",
        "print(s)"
      ],
      "metadata": {
        "colab": {
          "base_uri": "https://localhost:8080/"
        },
        "id": "bPqprbewvpyj",
        "outputId": "db672782-0c0c-4398-b3e9-7f2c9210dd27"
      },
      "execution_count": null,
      "outputs": [
        {
          "output_type": "stream",
          "name": "stdout",
          "text": [
            "hello\n"
          ]
        }
      ]
    },
    {
      "cell_type": "code",
      "source": [
        "# python got confused\n",
        "its's raining'"
      ],
      "metadata": {
        "id": "ulLKgYZpysxU"
      },
      "execution_count": null,
      "outputs": []
    },
    {
      "cell_type": "code",
      "source": [
        "\"its's raining outside \""
      ],
      "metadata": {
        "colab": {
          "base_uri": "https://localhost:8080/",
          "height": 35
        },
        "id": "fLe7Vjbky8Q1",
        "outputId": "a65d1359-a056-49b8-9db3-b3d4462a7cf2"
      },
      "execution_count": null,
      "outputs": [
        {
          "output_type": "execute_result",
          "data": {
            "text/plain": [
              "\"its's raining outside \""
            ],
            "application/vnd.google.colaboratory.intrinsic+json": {
              "type": "string"
            }
          },
          "metadata": {},
          "execution_count": 24
        }
      ]
    },
    {
      "cell_type": "markdown",
      "source": [
        "Accessing substrings from a string"
      ],
      "metadata": {
        "id": "LmpSWiQIzc8k"
      }
    },
    {
      "cell_type": "code",
      "source": [
        "# positive indexing\n",
        "s = 'Hello world'\n",
        "print(s[5])\n"
      ],
      "metadata": {
        "colab": {
          "base_uri": "https://localhost:8080/"
        },
        "id": "hSykmF6qzBvc",
        "outputId": "c317f88a-1595-428e-ce3a-0a9b700107c6"
      },
      "execution_count": null,
      "outputs": [
        {
          "output_type": "stream",
          "name": "stdout",
          "text": [
            " \n"
          ]
        }
      ]
    },
    {
      "cell_type": "code",
      "source": [
        "# negative indexing\n",
        "s = 'Hello world'\n",
        "print(s[-1])"
      ],
      "metadata": {
        "colab": {
          "base_uri": "https://localhost:8080/"
        },
        "id": "8XD5U8cVz08Z",
        "outputId": "b007cee7-e2f7-4c58-8965-9333131caf06"
      },
      "execution_count": null,
      "outputs": [
        {
          "output_type": "stream",
          "name": "stdout",
          "text": [
            "d\n"
          ]
        }
      ]
    },
    {
      "cell_type": "code",
      "source": [
        "# slicing\n",
        "s = 'hello world'\n",
        "print(s[0:5])\n",
        "print(s[:])\n",
        "print(s[0:6:2])\n",
        "print(s[6:0:-1])"
      ],
      "metadata": {
        "colab": {
          "base_uri": "https://localhost:8080/"
        },
        "id": "epqW7O1U0Put",
        "outputId": "d22b5799-430d-4959-b740-d0efc19bbe74"
      },
      "execution_count": null,
      "outputs": [
        {
          "output_type": "stream",
          "name": "stdout",
          "text": [
            "hello\n",
            "hello world\n",
            "hlo\n",
            "w olle\n"
          ]
        }
      ]
    },
    {
      "cell_type": "code",
      "source": [],
      "metadata": {
        "id": "6ntbQrCe0nQe"
      },
      "execution_count": null,
      "outputs": []
    }
  ]
}