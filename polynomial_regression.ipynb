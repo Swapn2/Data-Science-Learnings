{
  "nbformat": 4,
  "nbformat_minor": 0,
  "metadata": {
    "colab": {
      "provenance": [],
      "cell_execution_strategy": "setup",
      "authorship_tag": "ABX9TyMFJmrONBf3J8Q/LUe3F3HU",
      "include_colab_link": true
    },
    "kernelspec": {
      "name": "python3",
      "display_name": "Python 3"
    },
    "language_info": {
      "name": "python"
    }
  },
  "cells": [
    {
      "cell_type": "markdown",
      "metadata": {
        "id": "view-in-github",
        "colab_type": "text"
      },
      "source": [
        "<a href=\"https://colab.research.google.com/github/Swapn2/Data-Science-Learnings/blob/main/polynomial_regression.ipynb\" target=\"_parent\"><img src=\"https://colab.research.google.com/assets/colab-badge.svg\" alt=\"Open In Colab\"/></a>"
      ]
    },
    {
      "cell_type": "code",
      "execution_count": 85,
      "metadata": {
        "id": "cVycoa870g_6"
      },
      "outputs": [],
      "source": [
        "import numpy as np\n",
        "import matplotlib.pyplot as plt\n",
        "from sklearn.model_selection import train_test_split\n",
        "from sklearn.linear_model import LinearRegression\n",
        "from sklearn.preprocessing import PolynomialFeatures,StandardScaler\n",
        "\n",
        "from sklearn.metrics import r2_score\n",
        "from sklearn.pipeline import Pipeline"
      ]
    },
    {
      "cell_type": "code",
      "source": [
        "x = 6*np.random.rand(200,1) -3\n",
        "y = .8*x**2 + .9*x + 2 + np.random.randn(200,1)"
      ],
      "metadata": {
        "id": "6hil1PD21NcL"
      },
      "execution_count": 68,
      "outputs": []
    },
    {
      "cell_type": "code",
      "source": [
        "x"
      ],
      "metadata": {
        "colab": {
          "base_uri": "https://localhost:8080/"
        },
        "id": "4EKh5mhO1sXr",
        "outputId": "de5bd2e2-ea6a-4939-ce93-6fd472c470b1"
      },
      "execution_count": 69,
      "outputs": [
        {
          "output_type": "execute_result",
          "data": {
            "text/plain": [
              "array([[-9.82028279e-01],\n",
              "       [-2.89815272e+00],\n",
              "       [-1.55751889e+00],\n",
              "       [ 1.03921427e+00],\n",
              "       [ 2.05896875e+00],\n",
              "       [-2.94690235e+00],\n",
              "       [-9.62247742e-01],\n",
              "       [-1.17488608e+00],\n",
              "       [-3.71329755e-02],\n",
              "       [ 9.59172559e-01],\n",
              "       [ 3.58888067e-01],\n",
              "       [ 1.87190587e+00],\n",
              "       [ 1.33351959e+00],\n",
              "       [-2.50614535e+00],\n",
              "       [ 2.98901772e+00],\n",
              "       [-7.81708267e-01],\n",
              "       [-2.74199512e+00],\n",
              "       [ 2.73502413e+00],\n",
              "       [-6.93890102e-01],\n",
              "       [ 1.66996144e+00],\n",
              "       [-1.37672144e+00],\n",
              "       [-2.68231111e+00],\n",
              "       [ 2.55930909e+00],\n",
              "       [-1.15094401e+00],\n",
              "       [ 2.47522558e+00],\n",
              "       [-1.84970078e+00],\n",
              "       [ 6.00304729e-01],\n",
              "       [-8.40046453e-01],\n",
              "       [ 2.81139237e+00],\n",
              "       [ 1.43206780e+00],\n",
              "       [ 1.30012266e+00],\n",
              "       [ 2.29372117e+00],\n",
              "       [-2.54214653e+00],\n",
              "       [-1.36055376e+00],\n",
              "       [-1.33557822e+00],\n",
              "       [-7.01582395e-01],\n",
              "       [-7.95576817e-01],\n",
              "       [ 2.56491474e+00],\n",
              "       [ 1.20507176e+00],\n",
              "       [-1.55779298e+00],\n",
              "       [-1.17133558e+00],\n",
              "       [ 2.18403598e-01],\n",
              "       [ 2.94667773e+00],\n",
              "       [ 1.69141971e+00],\n",
              "       [ 1.90523635e+00],\n",
              "       [ 1.38890828e+00],\n",
              "       [-8.67971766e-01],\n",
              "       [ 1.83190736e-01],\n",
              "       [ 2.00714427e+00],\n",
              "       [-5.82430332e-01],\n",
              "       [ 2.03913970e+00],\n",
              "       [ 2.42399751e+00],\n",
              "       [ 1.46950500e+00],\n",
              "       [ 5.95389842e-01],\n",
              "       [-1.21661030e+00],\n",
              "       [-2.04627630e+00],\n",
              "       [-2.43044191e+00],\n",
              "       [-1.37338550e+00],\n",
              "       [ 2.52305802e+00],\n",
              "       [ 1.38247816e+00],\n",
              "       [-1.05820608e+00],\n",
              "       [ 2.03402206e+00],\n",
              "       [ 1.42565559e+00],\n",
              "       [-7.42863646e-01],\n",
              "       [ 2.98463132e+00],\n",
              "       [-5.25902247e-01],\n",
              "       [ 1.18387282e+00],\n",
              "       [ 2.88290209e+00],\n",
              "       [-7.36777977e-01],\n",
              "       [ 1.42196372e+00],\n",
              "       [-5.85401256e-01],\n",
              "       [ 1.33276553e+00],\n",
              "       [ 1.95092496e+00],\n",
              "       [-1.42706152e+00],\n",
              "       [-5.84752790e-02],\n",
              "       [ 1.04877878e-01],\n",
              "       [ 2.18192348e+00],\n",
              "       [ 1.61990577e+00],\n",
              "       [ 4.69401449e-02],\n",
              "       [ 2.31446436e+00],\n",
              "       [-2.10998845e+00],\n",
              "       [-2.31406426e+00],\n",
              "       [ 1.63523869e+00],\n",
              "       [ 1.97027710e+00],\n",
              "       [ 2.91385037e+00],\n",
              "       [ 3.41897455e-01],\n",
              "       [-1.22089059e+00],\n",
              "       [-2.89857148e+00],\n",
              "       [-7.28403295e-01],\n",
              "       [ 1.26799503e-02],\n",
              "       [ 2.71271448e+00],\n",
              "       [-1.08879112e+00],\n",
              "       [ 2.32928179e+00],\n",
              "       [-2.84788709e+00],\n",
              "       [-1.38040193e-01],\n",
              "       [-4.29639528e-01],\n",
              "       [ 5.17402626e-01],\n",
              "       [ 3.56891862e-01],\n",
              "       [ 8.54904330e-01],\n",
              "       [ 1.70507485e+00],\n",
              "       [ 2.20782839e+00],\n",
              "       [-2.53492632e+00],\n",
              "       [ 2.77649364e+00],\n",
              "       [-1.31507815e-01],\n",
              "       [ 6.08546271e-02],\n",
              "       [-3.24304344e-01],\n",
              "       [ 1.07933383e+00],\n",
              "       [-2.18773845e+00],\n",
              "       [ 2.05994175e+00],\n",
              "       [-2.98765758e+00],\n",
              "       [-1.95051299e+00],\n",
              "       [ 5.33664232e-01],\n",
              "       [-1.11195834e+00],\n",
              "       [ 1.04738117e-01],\n",
              "       [ 2.79326743e+00],\n",
              "       [-1.76179819e+00],\n",
              "       [ 1.87059062e+00],\n",
              "       [-9.56515693e-02],\n",
              "       [ 9.62462465e-01],\n",
              "       [-2.20693726e+00],\n",
              "       [ 2.03270919e+00],\n",
              "       [ 1.95391210e+00],\n",
              "       [-1.69868257e+00],\n",
              "       [-1.31276081e+00],\n",
              "       [ 1.53226432e+00],\n",
              "       [-2.49669564e+00],\n",
              "       [-2.12539885e+00],\n",
              "       [-1.32562861e+00],\n",
              "       [-1.90747717e+00],\n",
              "       [-2.46216650e+00],\n",
              "       [ 2.43233133e+00],\n",
              "       [ 9.82062468e-02],\n",
              "       [ 2.70184033e+00],\n",
              "       [ 8.34332811e-01],\n",
              "       [-6.65140850e-01],\n",
              "       [-1.46408409e+00],\n",
              "       [ 1.31510135e+00],\n",
              "       [-3.78681962e-01],\n",
              "       [-1.89527814e+00],\n",
              "       [ 2.49930224e+00],\n",
              "       [ 1.28552665e+00],\n",
              "       [ 1.35885066e+00],\n",
              "       [-8.43787713e-01],\n",
              "       [ 1.64231694e+00],\n",
              "       [-2.84693936e+00],\n",
              "       [ 2.47888291e+00],\n",
              "       [-4.98433484e-01],\n",
              "       [-1.12098242e+00],\n",
              "       [ 8.53735425e-01],\n",
              "       [ 1.65258854e+00],\n",
              "       [ 2.56591733e+00],\n",
              "       [ 2.43172563e+00],\n",
              "       [ 6.24690198e-02],\n",
              "       [-8.56315058e-01],\n",
              "       [-1.98370148e+00],\n",
              "       [ 4.81672881e-01],\n",
              "       [-1.66988473e+00],\n",
              "       [-6.72294862e-01],\n",
              "       [ 1.79272419e+00],\n",
              "       [-2.60233191e+00],\n",
              "       [ 8.70624551e-01],\n",
              "       [-6.19344280e-01],\n",
              "       [ 2.93683812e+00],\n",
              "       [-1.28528786e-01],\n",
              "       [-1.09002010e+00],\n",
              "       [-1.99349228e+00],\n",
              "       [-1.27778875e+00],\n",
              "       [ 9.14833777e-01],\n",
              "       [ 1.09493593e+00],\n",
              "       [ 1.31681198e-01],\n",
              "       [-4.23225091e-01],\n",
              "       [-2.02746579e+00],\n",
              "       [-1.64631504e+00],\n",
              "       [-5.35685568e-01],\n",
              "       [-6.58744412e-04],\n",
              "       [ 2.11588141e+00],\n",
              "       [-1.61860323e+00],\n",
              "       [-1.52512404e-01],\n",
              "       [-2.90020531e+00],\n",
              "       [-5.02167932e-01],\n",
              "       [ 2.82313579e+00],\n",
              "       [ 2.01326078e+00],\n",
              "       [-1.48546203e+00],\n",
              "       [ 1.40974410e+00],\n",
              "       [ 1.32694409e+00],\n",
              "       [ 2.06192696e+00],\n",
              "       [ 7.88304781e-01],\n",
              "       [ 2.93614843e-02],\n",
              "       [ 2.32231315e+00],\n",
              "       [ 1.09851208e+00],\n",
              "       [ 2.00602738e+00],\n",
              "       [-1.82831063e+00],\n",
              "       [ 2.67801113e-01],\n",
              "       [ 1.47323110e+00],\n",
              "       [-4.84116457e-01],\n",
              "       [ 2.10581473e+00],\n",
              "       [ 1.10440133e+00],\n",
              "       [-1.49058237e+00],\n",
              "       [ 1.01144203e+00],\n",
              "       [-2.03259543e+00]])"
            ]
          },
          "metadata": {},
          "execution_count": 69
        }
      ]
    },
    {
      "cell_type": "code",
      "source": [
        "y"
      ],
      "metadata": {
        "colab": {
          "base_uri": "https://localhost:8080/"
        },
        "id": "tNEsrl8F2NZn",
        "outputId": "33b53a6a-cb03-4336-a9e7-1944f845ed51"
      },
      "execution_count": 70,
      "outputs": [
        {
          "output_type": "execute_result",
          "data": {
            "text/plain": [
              "array([[ 1.54180144],\n",
              "       [ 7.02093492],\n",
              "       [ 0.88039432],\n",
              "       [ 3.46354039],\n",
              "       [ 8.10552258],\n",
              "       [ 4.42199491],\n",
              "       [ 2.50703032],\n",
              "       [ 0.93292576],\n",
              "       [ 2.03313019],\n",
              "       [ 3.79805789],\n",
              "       [ 3.7489106 ],\n",
              "       [ 6.17412918],\n",
              "       [ 4.71725511],\n",
              "       [ 4.23866585],\n",
              "       [10.7418196 ],\n",
              "       [ 3.63379899],\n",
              "       [ 6.32781352],\n",
              "       [12.33078078],\n",
              "       [ 2.91991282],\n",
              "       [ 6.64170355],\n",
              "       [ 2.51043088],\n",
              "       [ 4.44146925],\n",
              "       [ 9.97591369],\n",
              "       [ 2.07948836],\n",
              "       [ 8.48153795],\n",
              "       [ 2.63854102],\n",
              "       [ 5.2197391 ],\n",
              "       [ 0.93019223],\n",
              "       [11.78296446],\n",
              "       [ 6.49871051],\n",
              "       [ 3.48316875],\n",
              "       [ 9.217719  ],\n",
              "       [ 4.29184808],\n",
              "       [ 3.2990579 ],\n",
              "       [ 1.61840042],\n",
              "       [ 1.68434944],\n",
              "       [ 1.9289796 ],\n",
              "       [10.12034437],\n",
              "       [ 3.92570174],\n",
              "       [ 2.32339409],\n",
              "       [ 2.06092331],\n",
              "       [ 2.58576961],\n",
              "       [12.3625643 ],\n",
              "       [ 7.20037586],\n",
              "       [ 6.26277819],\n",
              "       [ 4.57183355],\n",
              "       [ 1.6735991 ],\n",
              "       [ 1.92758446],\n",
              "       [ 7.40787987],\n",
              "       [ 1.90199396],\n",
              "       [ 7.99480126],\n",
              "       [ 9.44775162],\n",
              "       [ 5.14056631],\n",
              "       [ 1.15404813],\n",
              "       [ 1.68796953],\n",
              "       [ 3.13775041],\n",
              "       [ 4.2570741 ],\n",
              "       [ 2.97682371],\n",
              "       [ 8.8983568 ],\n",
              "       [ 7.1002169 ],\n",
              "       [ 1.00263028],\n",
              "       [ 6.06564409],\n",
              "       [ 5.22918083],\n",
              "       [ 1.73618344],\n",
              "       [12.73116652],\n",
              "       [ 2.47397299],\n",
              "       [ 4.62687538],\n",
              "       [11.7220807 ],\n",
              "       [ 0.94500025],\n",
              "       [ 4.35181089],\n",
              "       [ 1.6103861 ],\n",
              "       [ 4.36466274],\n",
              "       [ 6.2194414 ],\n",
              "       [ 2.24958644],\n",
              "       [ 0.64088739],\n",
              "       [ 1.54844603],\n",
              "       [ 8.19829546],\n",
              "       [ 5.62355584],\n",
              "       [ 3.08707717],\n",
              "       [ 9.67008157],\n",
              "       [ 4.35540607],\n",
              "       [ 4.1214701 ],\n",
              "       [ 7.07411847],\n",
              "       [ 7.72082582],\n",
              "       [12.05274748],\n",
              "       [ 2.86405101],\n",
              "       [ 1.67199281],\n",
              "       [ 5.65082194],\n",
              "       [ 0.77113613],\n",
              "       [ 1.6580124 ],\n",
              "       [11.56296476],\n",
              "       [ 2.90925102],\n",
              "       [ 9.06827672],\n",
              "       [ 6.36013363],\n",
              "       [ 1.79571019],\n",
              "       [ 1.97637369],\n",
              "       [ 3.4638057 ],\n",
              "       [ 1.35271026],\n",
              "       [ 3.93061843],\n",
              "       [ 5.75710666],\n",
              "       [ 8.20487411],\n",
              "       [ 5.29959447],\n",
              "       [10.65955134],\n",
              "       [ 0.8944317 ],\n",
              "       [ 2.06367263],\n",
              "       [ 3.53424175],\n",
              "       [ 4.65140634],\n",
              "       [ 3.00980449],\n",
              "       [ 6.48913512],\n",
              "       [ 6.43654202],\n",
              "       [ 2.9419004 ],\n",
              "       [ 2.37277166],\n",
              "       [ 1.50681838],\n",
              "       [ 3.19267784],\n",
              "       [10.77496972],\n",
              "       [ 0.15312331],\n",
              "       [ 5.37103992],\n",
              "       [ 2.62731921],\n",
              "       [ 5.17432868],\n",
              "       [ 5.77330733],\n",
              "       [ 9.02533922],\n",
              "       [ 7.64849303],\n",
              "       [ 1.81861807],\n",
              "       [ 1.72244661],\n",
              "       [ 5.28783385],\n",
              "       [ 5.03222404],\n",
              "       [ 3.82655471],\n",
              "       [ 0.4705325 ],\n",
              "       [ 3.55009989],\n",
              "       [ 2.58030864],\n",
              "       [ 8.72447068],\n",
              "       [ 2.60501758],\n",
              "       [11.58202493],\n",
              "       [ 3.636794  ],\n",
              "       [ 1.60376414],\n",
              "       [ 1.53496807],\n",
              "       [ 4.5128748 ],\n",
              "       [ 1.17076078],\n",
              "       [ 3.28991291],\n",
              "       [ 7.70925113],\n",
              "       [ 4.8801816 ],\n",
              "       [ 4.8065953 ],\n",
              "       [ 1.13362523],\n",
              "       [ 6.24434937],\n",
              "       [ 5.18109345],\n",
              "       [ 7.81704837],\n",
              "       [ 1.39483222],\n",
              "       [ 0.82009691],\n",
              "       [ 2.65542767],\n",
              "       [ 6.87772611],\n",
              "       [ 9.83265655],\n",
              "       [ 7.26864125],\n",
              "       [ 3.25526012],\n",
              "       [ 2.76233869],\n",
              "       [ 4.15303826],\n",
              "       [ 1.33641577],\n",
              "       [ 3.04865061],\n",
              "       [ 1.19902281],\n",
              "       [ 4.47955005],\n",
              "       [ 4.21963985],\n",
              "       [ 3.8233118 ],\n",
              "       [ 1.53981873],\n",
              "       [12.45192698],\n",
              "       [ 2.04619299],\n",
              "       [ 1.81155246],\n",
              "       [ 2.93717434],\n",
              "       [ 0.58196679],\n",
              "       [ 3.91903895],\n",
              "       [ 3.39818007],\n",
              "       [ 2.84224355],\n",
              "       [ 0.66349148],\n",
              "       [ 3.4988624 ],\n",
              "       [ 4.3622596 ],\n",
              "       [ 1.2637729 ],\n",
              "       [ 2.41111983],\n",
              "       [ 6.94847199],\n",
              "       [ 1.89667923],\n",
              "       [ 1.98098079],\n",
              "       [ 6.68572678],\n",
              "       [ 3.41341292],\n",
              "       [10.78584014],\n",
              "       [ 8.42611204],\n",
              "       [ 2.59251141],\n",
              "       [ 3.22293789],\n",
              "       [ 3.48985538],\n",
              "       [ 7.56121079],\n",
              "       [ 2.0739647 ],\n",
              "       [ 2.04819538],\n",
              "       [ 8.13416414],\n",
              "       [ 3.08405128],\n",
              "       [ 6.79169905],\n",
              "       [ 1.04749467],\n",
              "       [ 3.15206064],\n",
              "       [ 4.34529559],\n",
              "       [ 1.29505949],\n",
              "       [ 6.57240349],\n",
              "       [ 5.00832549],\n",
              "       [ 1.67502808],\n",
              "       [ 5.2396833 ],\n",
              "       [ 2.89909443]])"
            ]
          },
          "metadata": {},
          "execution_count": 70
        }
      ]
    },
    {
      "cell_type": "code",
      "source": [
        "print(x.shape)\n",
        "print(y.shape)"
      ],
      "metadata": {
        "colab": {
          "base_uri": "https://localhost:8080/"
        },
        "id": "klYI1J6X2fOm",
        "outputId": "97cef47b-f4f7-4028-b292-760a8549b117"
      },
      "execution_count": 71,
      "outputs": [
        {
          "output_type": "stream",
          "name": "stdout",
          "text": [
            "(200, 1)\n",
            "(200, 1)\n"
          ]
        }
      ]
    },
    {
      "cell_type": "code",
      "source": [
        "# plt.scatter(x,y)\n",
        "plt.plot(x,y,'b.')\n",
        "plt.xlabel(\"X\")\n",
        "plt.ylabel(\"Y\")"
      ],
      "metadata": {
        "colab": {
          "base_uri": "https://localhost:8080/",
          "height": 466
        },
        "id": "3sOu23jP2iU_",
        "outputId": "1b694e40-d6f1-4aaf-bc23-3febd71c2e29"
      },
      "execution_count": 72,
      "outputs": [
        {
          "output_type": "execute_result",
          "data": {
            "text/plain": [
              "Text(0, 0.5, 'Y')"
            ]
          },
          "metadata": {},
          "execution_count": 72
        },
        {
          "output_type": "display_data",
          "data": {
            "text/plain": [
              "<Figure size 640x480 with 1 Axes>"
            ],
            "image/png": "[encoded data removed]"
          },
          "metadata": {}
        }
      ]
    },
    {
      "cell_type": "code",
      "source": [
        "x_train,x_test,y_train,y_test = train_test_split(x,y,test_size = .2,random_state = 42)"
      ],
      "metadata": {
        "id": "ddG75iqq2wrz"
      },
      "execution_count": 73,
      "outputs": []
    },
    {
      "cell_type": "code",
      "source": [
        "x_train.shape"
      ],
      "metadata": {
        "colab": {
          "base_uri": "https://localhost:8080/"
        },
        "id": "_6ZcbTJg3I7H",
        "outputId": "b460d9ed-06db-45b4-eb01-5a213dacb542"
      },
      "execution_count": 74,
      "outputs": [
        {
          "output_type": "execute_result",
          "data": {
            "text/plain": [
              "(160, 1)"
            ]
          },
          "metadata": {},
          "execution_count": 74
        }
      ]
    },
    {
      "cell_type": "code",
      "source": [
        "y_train.shape"
      ],
      "metadata": {
        "colab": {
          "base_uri": "https://localhost:8080/"
        },
        "id": "YD9znrLR4C94",
        "outputId": "6127a938-44de-45c4-c90c-4ce99c517bd8"
      },
      "execution_count": 75,
      "outputs": [
        {
          "output_type": "execute_result",
          "data": {
            "text/plain": [
              "(160, 1)"
            ]
          },
          "metadata": {},
          "execution_count": 75
        }
      ]
    },
    {
      "cell_type": "code",
      "source": [
        "lr = LinearRegression()"
      ],
      "metadata": {
        "id": "evCF_nlD4IWn"
      },
      "execution_count": 76,
      "outputs": []
    },
    {
      "cell_type": "code",
      "source": [
        "lr.fit(x_train,y_train)"
      ],
      "metadata": {
        "colab": {
          "base_uri": "https://localhost:8080/",
          "height": 80
        },
        "id": "utMJ-2rp4Tw8",
        "outputId": "49b4b89f-20fb-43f8-db3a-323b7cfcbdaf"
      },
      "execution_count": 77,
      "outputs": [
        {
          "output_type": "execute_result",
          "data": {
            "text/plain": [
              "LinearRegression()"
            ],
            "text/html": [
              "<style>#sk-container-id-4 {\n",
              "  /* Definition of color scheme common for light and dark mode */\n",
              "  --sklearn-color-text: #000;\n",
              "  --sklearn-color-text-muted: #666;\n",
              "  --sklearn-color-line: gray;\n",
              "  /* Definition of color scheme for unfitted estimators */\n",
              "  --sklearn-color-unfitted-level-0: #fff5e6;\n",
              "  --sklearn-color-unfitted-level-1: #f6e4d2;\n",
              "  --sklearn-color-unfitted-level-2: #ffe0b3;\n",
              "  --sklearn-color-unfitted-level-3: chocolate;\n",
              "  /* Definition of color scheme for fitted estimators */\n",
              "  --sklearn-color-fitted-level-0: #f0f8ff;\n",
              "  --sklearn-color-fitted-level-1: #d4ebff;\n",
              "  --sklearn-color-fitted-level-2: #b3dbfd;\n",
              "  --sklearn-color-fitted-level-3: cornflowerblue;\n",
              "\n",
              "  /* Specific color for light theme */\n",
              "  --sklearn-color-text-on-default-background: var(--sg-text-color, var(--theme-code-foreground, var(--jp-content-font-color1, black)));\n",
              "  --sklearn-color-background: var(--sg-background-color, var(--theme-background, var(--jp-layout-color0, white)));\n",
              "  --sklearn-color-border-box: var(--sg-text-color, var(--theme-code-foreground, var(--jp-content-font-color1, black)));\n",
              "  --sklearn-color-icon: #696969;\n",
              "\n",
              "  @media (prefers-color-scheme: dark) {\n",
              "    /* Redefinition of color scheme for dark theme */\n",
              "    --sklearn-color-text-on-default-background: var(--sg-text-color, var(--theme-code-foreground, var(--jp-content-font-color1, white)));\n",
              "    --sklearn-color-background: var(--sg-background-color, var(--theme-background, var(--jp-layout-color0, #111)));\n",
              "    --sklearn-color-border-box: var(--sg-text-color, var(--theme-code-foreground, var(--jp-content-font-color1, white)));\n",
              "    --sklearn-color-icon: #878787;\n",
              "  }\n",
              "}\n",
              "\n",
              "#sk-container-id-4 {\n",
              "  color: var(--sklearn-color-text);\n",
              "}\n",
              "\n",
              "#sk-container-id-4 pre {\n",
              "  padding: 0;\n",
              "}\n",
              "\n",
              "#sk-container-id-4 input.sk-hidden--visually {\n",
              "  border: 0;\n",
              "  clip: rect(1px 1px 1px 1px);\n",
              "  clip: rect(1px, 1px, 1px, 1px);\n",
              "  height: 1px;\n",
              "  margin: -1px;\n",
              "  overflow: hidden;\n",
              "  padding: 0;\n",
              "  position: absolute;\n",
              "  width: 1px;\n",
              "}\n",
              "\n",
              "#sk-container-id-4 div.sk-dashed-wrapped {\n",
              "  border: 1px dashed var(--sklearn-color-line);\n",
              "  margin: 0 0.4em 0.5em 0.4em;\n",
              "  box-sizing: border-box;\n",
              "  padding-bottom: 0.4em;\n",
              "  background-color: var(--sklearn-color-background);\n",
              "}\n",
              "\n",
              "#sk-container-id-4 div.sk-container {\n",
              "  /* jupyter's `normalize.less` sets `[hidden] { display: none; }`\n",
              "     but bootstrap.min.css set `[hidden] { display: none !important; }`\n",
              "     so we also need the `!important` here to be able to override the\n",
              "     default hidden behavior on the sphinx rendered scikit-learn.org.\n",
              "     See: https://github.com/scikit-learn/scikit-learn/issues/21755 */\n",
              "  display: inline-block !important;\n",
              "  position: relative;\n",
              "}\n",
              "\n",
              "#sk-container-id-4 div.sk-text-repr-fallback {\n",
              "  display: none;\n",
              "}\n",
              "\n",
              "div.sk-parallel-item,\n",
              "div.sk-serial,\n",
              "div.sk-item {\n",
              "  /* draw centered vertical line to link estimators */\n",
              "  background-image: linear-gradient(var(--sklearn-color-text-on-default-background), var(--sklearn-color-text-on-default-background));\n",
              "  background-size: 2px 100%;\n",
              "  background-repeat: no-repeat;\n",
              "  background-position: center center;\n",
              "}\n",
              "\n",
              "/* Parallel-specific style estimator block */\n",
              "\n",
              "#sk-container-id-4 div.sk-parallel-item::after {\n",
              "  content: \"\";\n",
              "  width: 100%;\n",
              "  border-bottom: 2px solid var(--sklearn-color-text-on-default-background);\n",
              "  flex-grow: 1;\n",
              "}\n",
              "\n",
              "#sk-container-id-4 div.sk-parallel {\n",
              "  display: flex;\n",
              "  align-items: stretch;\n",
              "  justify-content: center;\n",
              "  background-color: var(--sklearn-color-background);\n",
              "  position: relative;\n",
              "}\n",
              "\n",
              "#sk-container-id-4 div.sk-parallel-item {\n",
              "  display: flex;\n",
              "  flex-direction: column;\n",
              "}\n",
              "\n",
              "#sk-container-id-4 div.sk-parallel-item:first-child::after {\n",
              "  align-self: flex-end;\n",
              "  width: 50%;\n",
              "}\n",
              "\n",
              "#sk-container-id-4 div.sk-parallel-item:last-child::after {\n",
              "  align-self: flex-start;\n",
              "  width: 50%;\n",
              "}\n",
              "\n",
              "#sk-container-id-4 div.sk-parallel-item:only-child::after {\n",
              "  width: 0;\n",
              "}\n",
              "\n",
              "/* Serial-specific style estimator block */\n",
              "\n",
              "#sk-container-id-4 div.sk-serial {\n",
              "  display: flex;\n",
              "  flex-direction: column;\n",
              "  align-items: center;\n",
              "  background-color: var(--sklearn-color-background);\n",
              "  padding-right: 1em;\n",
              "  padding-left: 1em;\n",
              "}\n",
              "\n",
              "\n",
              "/* Toggleable style: style used for estimator/Pipeline/ColumnTransformer box that is\n",
              "clickable and can be expanded/collapsed.\n",
              "- Pipeline and ColumnTransformer use this feature and define the default style\n",
              "- Estimators will overwrite some part of the style using the `sk-estimator` class\n",
              "*/\n",
              "\n",
              "/* Pipeline and ColumnTransformer style (default) */\n",
              "\n",
              "#sk-container-id-4 div.sk-toggleable {\n",
              "  /* Default theme specific background. It is overwritten whether we have a\n",
              "  specific estimator or a Pipeline/ColumnTransformer */\n",
              "  background-color: var(--sklearn-color-background);\n",
              "}\n",
              "\n",
              "/* Toggleable label */\n",
              "#sk-container-id-4 label.sk-toggleable__label {\n",
              "  cursor: pointer;\n",
              "  display: flex;\n",
              "  width: 100%;\n",
              "  margin-bottom: 0;\n",
              "  padding: 0.5em;\n",
              "  box-sizing: border-box;\n",
              "  text-align: center;\n",
              "  align-items: start;\n",
              "  justify-content: space-between;\n",
              "  gap: 0.5em;\n",
              "}\n",
              "\n",
              "#sk-container-id-4 label.sk-toggleable__label .caption {\n",
              "  font-size: 0.6rem;\n",
              "  font-weight: lighter;\n",
              "  color: var(--sklearn-color-text-muted);\n",
              "}\n",
              "\n",
              "#sk-container-id-4 label.sk-toggleable__label-arrow:before {\n",
              "  /* Arrow on the left of the label */\n",
              "  content: \"▸\";\n",
              "  float: left;\n",
              "  margin-right: 0.25em;\n",
              "  color: var(--sklearn-color-icon);\n",
              "}\n",
              "\n",
              "#sk-container-id-4 label.sk-toggleable__label-arrow:hover:before {\n",
              "  color: var(--sklearn-color-text);\n",
              "}\n",
              "\n",
              "/* Toggleable content - dropdown */\n",
              "\n",
              "#sk-container-id-4 div.sk-toggleable__content {\n",
              "  max-height: 0;\n",
              "  max-width: 0;\n",
              "  overflow: hidden;\n",
              "  text-align: left;\n",
              "  /* unfitted */\n",
              "  background-color: var(--sklearn-color-unfitted-level-0);\n",
              "}\n",
              "\n",
              "#sk-container-id-4 div.sk-toggleable__content.fitted {\n",
              "  /* fitted */\n",
              "  background-color: var(--sklearn-color-fitted-level-0);\n",
              "}\n",
              "\n",
              "#sk-container-id-4 div.sk-toggleable__content pre {\n",
              "  margin: 0.2em;\n",
              "  border-radius: 0.25em;\n",
              "  color: var(--sklearn-color-text);\n",
              "  /* unfitted */\n",
              "  background-color: var(--sklearn-color-unfitted-level-0);\n",
              "}\n",
              "\n",
              "#sk-container-id-4 div.sk-toggleable__content.fitted pre {\n",
              "  /* unfitted */\n",
              "  background-color: var(--sklearn-color-fitted-level-0);\n",
              "}\n",
              "\n",
              "#sk-container-id-4 input.sk-toggleable__control:checked~div.sk-toggleable__content {\n",
              "  /* Expand drop-down */\n",
              "  max-height: 200px;\n",
              "  max-width: 100%;\n",
              "  overflow: auto;\n",
              "}\n",
              "\n",
              "#sk-container-id-4 input.sk-toggleable__control:checked~label.sk-toggleable__label-arrow:before {\n",
              "  content: \"▾\";\n",
              "}\n",
              "\n",
              "/* Pipeline/ColumnTransformer-specific style */\n",
              "\n",
              "#sk-container-id-4 div.sk-label input.sk-toggleable__control:checked~label.sk-toggleable__label {\n",
              "  color: var(--sklearn-color-text);\n",
              "  background-color: var(--sklearn-color-unfitted-level-2);\n",
              "}\n",
              "\n",
              "#sk-container-id-4 div.sk-label.fitted input.sk-toggleable__control:checked~label.sk-toggleable__label {\n",
              "  background-color: var(--sklearn-color-fitted-level-2);\n",
              "}\n",
              "\n",
              "/* Estimator-specific style */\n",
              "\n",
              "/* Colorize estimator box */\n",
              "#sk-container-id-4 div.sk-estimator input.sk-toggleable__control:checked~label.sk-toggleable__label {\n",
              "  /* unfitted */\n",
              "  background-color: var(--sklearn-color-unfitted-level-2);\n",
              "}\n",
              "\n",
              "#sk-container-id-4 div.sk-estimator.fitted input.sk-toggleable__control:checked~label.sk-toggleable__label {\n",
              "  /* fitted */\n",
              "  background-color: var(--sklearn-color-fitted-level-2);\n",
              "}\n",
              "\n",
              "#sk-container-id-4 div.sk-label label.sk-toggleable__label,\n",
              "#sk-container-id-4 div.sk-label label {\n",
              "  /* The background is the default theme color */\n",
              "  color: var(--sklearn-color-text-on-default-background);\n",
              "}\n",
              "\n",
              "/* On hover, darken the color of the background */\n",
              "#sk-container-id-4 div.sk-label:hover label.sk-toggleable__label {\n",
              "  color: var(--sklearn-color-text);\n",
              "  background-color: var(--sklearn-color-unfitted-level-2);\n",
              "}\n",
              "\n",
              "/* Label box, darken color on hover, fitted */\n",
              "#sk-container-id-4 div.sk-label.fitted:hover label.sk-toggleable__label.fitted {\n",
              "  color: var(--sklearn-color-text);\n",
              "  background-color: var(--sklearn-color-fitted-level-2);\n",
              "}\n",
              "\n",
              "/* Estimator label */\n",
              "\n",
              "#sk-container-id-4 div.sk-label label {\n",
              "  font-family: monospace;\n",
              "  font-weight: bold;\n",
              "  display: inline-block;\n",
              "  line-height: 1.2em;\n",
              "}\n",
              "\n",
              "#sk-container-id-4 div.sk-label-container {\n",
              "  text-align: center;\n",
              "}\n",
              "\n",
              "/* Estimator-specific */\n",
              "#sk-container-id-4 div.sk-estimator {\n",
              "  font-family: monospace;\n",
              "  border: 1px dotted var(--sklearn-color-border-box);\n",
              "  border-radius: 0.25em;\n",
              "  box-sizing: border-box;\n",
              "  margin-bottom: 0.5em;\n",
              "  /* unfitted */\n",
              "  background-color: var(--sklearn-color-unfitted-level-0);\n",
              "}\n",
              "\n",
              "#sk-container-id-4 div.sk-estimator.fitted {\n",
              "  /* fitted */\n",
              "  background-color: var(--sklearn-color-fitted-level-0);\n",
              "}\n",
              "\n",
              "/* on hover */\n",
              "#sk-container-id-4 div.sk-estimator:hover {\n",
              "  /* unfitted */\n",
              "  background-color: var(--sklearn-color-unfitted-level-2);\n",
              "}\n",
              "\n",
              "#sk-container-id-4 div.sk-estimator.fitted:hover {\n",
              "  /* fitted */\n",
              "  background-color: var(--sklearn-color-fitted-level-2);\n",
              "}\n",
              "\n",
              "/* Specification for estimator info (e.g. \"i\" and \"?\") */\n",
              "\n",
              "/* Common style for \"i\" and \"?\" */\n",
              "\n",
              ".sk-estimator-doc-link,\n",
              "a:link.sk-estimator-doc-link,\n",
              "a:visited.sk-estimator-doc-link {\n",
              "  float: right;\n",
              "  font-size: smaller;\n",
              "  line-height: 1em;\n",
              "  font-family: monospace;\n",
              "  background-color: var(--sklearn-color-background);\n",
              "  border-radius: 1em;\n",
              "  height: 1em;\n",
              "  width: 1em;\n",
              "  text-decoration: none !important;\n",
              "  margin-left: 0.5em;\n",
              "  text-align: center;\n",
              "  /* unfitted */\n",
              "  border: var(--sklearn-color-unfitted-level-1) 1pt solid;\n",
              "  color: var(--sklearn-color-unfitted-level-1);\n",
              "}\n",
              "\n",
              ".sk-estimator-doc-link.fitted,\n",
              "a:link.sk-estimator-doc-link.fitted,\n",
              "a:visited.sk-estimator-doc-link.fitted {\n",
              "  /* fitted */\n",
              "  border: var(--sklearn-color-fitted-level-1) 1pt solid;\n",
              "  color: var(--sklearn-color-fitted-level-1);\n",
              "}\n",
              "\n",
              "/* On hover */\n",
              "div.sk-estimator:hover .sk-estimator-doc-link:hover,\n",
              ".sk-estimator-doc-link:hover,\n",
              "div.sk-label-container:hover .sk-estimator-doc-link:hover,\n",
              ".sk-estimator-doc-link:hover {\n",
              "  /* unfitted */\n",
              "  background-color: var(--sklearn-color-unfitted-level-3);\n",
              "  color: var(--sklearn-color-background);\n",
              "  text-decoration: none;\n",
              "}\n",
              "\n",
              "div.sk-estimator.fitted:hover .sk-estimator-doc-link.fitted:hover,\n",
              ".sk-estimator-doc-link.fitted:hover,\n",
              "div.sk-label-container:hover .sk-estimator-doc-link.fitted:hover,\n",
              ".sk-estimator-doc-link.fitted:hover {\n",
              "  /* fitted */\n",
              "  background-color: var(--sklearn-color-fitted-level-3);\n",
              "  color: var(--sklearn-color-background);\n",
              "  text-decoration: none;\n",
              "}\n",
              "\n",
              "/* Span, style for the box shown on hovering the info icon */\n",
              ".sk-estimator-doc-link span {\n",
              "  display: none;\n",
              "  z-index: 9999;\n",
              "  position: relative;\n",
              "  font-weight: normal;\n",
              "  right: .2ex;\n",
              "  padding: .5ex;\n",
              "  margin: .5ex;\n",
              "  width: min-content;\n",
              "  min-width: 20ex;\n",
              "  max-width: 50ex;\n",
              "  color: var(--sklearn-color-text);\n",
              "  box-shadow: 2pt 2pt 4pt #999;\n",
              "  /* unfitted */\n",
              "  background: var(--sklearn-color-unfitted-level-0);\n",
              "  border: .5pt solid var(--sklearn-color-unfitted-level-3);\n",
              "}\n",
              "\n",
              ".sk-estimator-doc-link.fitted span {\n",
              "  /* fitted */\n",
              "  background: var(--sklearn-color-fitted-level-0);\n",
              "  border: var(--sklearn-color-fitted-level-3);\n",
              "}\n",
              "\n",
              ".sk-estimator-doc-link:hover span {\n",
              "  display: block;\n",
              "}\n",
              "\n",
              "/* \"?\"-specific style due to the `<a>` HTML tag */\n",
              "\n",
              "#sk-container-id-4 a.estimator_doc_link {\n",
              "  float: right;\n",
              "  font-size: 1rem;\n",
              "  line-height: 1em;\n",
              "  font-family: monospace;\n",
              "  background-color: var(--sklearn-color-background);\n",
              "  border-radius: 1rem;\n",
              "  height: 1rem;\n",
              "  width: 1rem;\n",
              "  text-decoration: none;\n",
              "  /* unfitted */\n",
              "  color: var(--sklearn-color-unfitted-level-1);\n",
              "  border: var(--sklearn-color-unfitted-level-1) 1pt solid;\n",
              "}\n",
              "\n",
              "#sk-container-id-4 a.estimator_doc_link.fitted {\n",
              "  /* fitted */\n",
              "  border: var(--sklearn-color-fitted-level-1) 1pt solid;\n",
              "  color: var(--sklearn-color-fitted-level-1);\n",
              "}\n",
              "\n",
              "/* On hover */\n",
              "#sk-container-id-4 a.estimator_doc_link:hover {\n",
              "  /* unfitted */\n",
              "  background-color: var(--sklearn-color-unfitted-level-3);\n",
              "  color: var(--sklearn-color-background);\n",
              "  text-decoration: none;\n",
              "}\n",
              "\n",
              "#sk-container-id-4 a.estimator_doc_link.fitted:hover {\n",
              "  /* fitted */\n",
              "  background-color: var(--sklearn-color-fitted-level-3);\n",
              "}\n",
              "</style><div id=\"sk-container-id-4\" class=\"sk-top-container\"><div class=\"sk-text-repr-fallback\"><pre>LinearRegression()</pre><b>In a Jupyter environment, please rerun this cell to show the HTML representation or trust the notebook. <br />On GitHub, the HTML representation is unable to render, please try loading this page with nbviewer.org.</b></div><div class=\"sk-container\" hidden><div class=\"sk-item\"><div class=\"sk-estimator fitted sk-toggleable\"><input class=\"sk-toggleable__control sk-hidden--visually\" id=\"sk-estimator-id-4\" type=\"checkbox\" checked><label for=\"sk-estimator-id-4\" class=\"sk-toggleable__label fitted sk-toggleable__label-arrow\"><div><div>LinearRegression</div></div><div><a class=\"sk-estimator-doc-link fitted\" rel=\"noreferrer\" target=\"_blank\" href=\"https://scikit-learn.org/1.6/modules/generated/sklearn.linear_model.LinearRegression.html\">?<span>Documentation for LinearRegression</span></a><span class=\"sk-estimator-doc-link fitted\">i<span>Fitted</span></span></div></label><div class=\"sk-toggleable__content fitted\"><pre>LinearRegression()</pre></div> </div></div></div></div>"
            ]
          },
          "metadata": {},
          "execution_count": 77
        }
      ]
    },
    {
      "cell_type": "code",
      "source": [
        "y_pred = lr.predict(x_test)\n",
        "r2_score(y_test,y_pred)"
      ],
      "metadata": {
        "colab": {
          "base_uri": "https://localhost:8080/"
        },
        "id": "qZKT62fE4YGY",
        "outputId": "3ef3e8d4-96c8-42c9-cc27-00c316a3b0eb"
      },
      "execution_count": 78,
      "outputs": [
        {
          "output_type": "execute_result",
          "data": {
            "text/plain": [
              "0.3140097139269218"
            ]
          },
          "metadata": {},
          "execution_count": 78
        }
      ]
    },
    {
      "cell_type": "code",
      "source": [
        "plt.plot(x_train,lr.predict(x_train),color = 'red')\n",
        "plt.plot(x,y,'b.')\n",
        "plt.xlabel(\"X\")\n",
        "plt.ylabel(\"y\")"
      ],
      "metadata": {
        "colab": {
          "base_uri": "https://localhost:8080/",
          "height": 466
        },
        "id": "kuhAW-L04hjQ",
        "outputId": "acd254dc-8ee0-45bc-dc20-0ebe7d0d7c2f"
      },
      "execution_count": 79,
      "outputs": [
        {
          "output_type": "execute_result",
          "data": {
            "text/plain": [
              "Text(0, 0.5, 'y')"
            ]
          },
          "metadata": {},
          "execution_count": 79
        },
        {
          "output_type": "display_data",
          "data": {
            "text/plain": [
              "<Figure size 640x480 with 1 Axes>"
            ],
            "image/png": "[encoded data removed]"
          },
          "metadata": {}
        }
      ]
    },
    {
      "cell_type": "code",
      "source": [
        "poly = PolynomialFeatures(degree = 2, include_bias= True)\n",
        "\n",
        "x_train_feature = poly.fit_transform(x_train)\n",
        "x_test_feature = poly.transform(x_test)"
      ],
      "metadata": {
        "id": "e_CrCqXB5RyK"
      },
      "execution_count": 80,
      "outputs": []
    },
    {
      "cell_type": "code",
      "source": [
        "x_train[0]"
      ],
      "metadata": {
        "colab": {
          "base_uri": "https://localhost:8080/"
        },
        "id": "loArPk1Y6EC7",
        "outputId": "f1395185-a5ee-4909-f630-69ac5917902d"
      },
      "execution_count": 81,
      "outputs": [
        {
          "output_type": "execute_result",
          "data": {
            "text/plain": [
              "array([2.31446436])"
            ]
          },
          "metadata": {},
          "execution_count": 81
        }
      ]
    },
    {
      "cell_type": "code",
      "source": [
        "x_train_feature[0]"
      ],
      "metadata": {
        "colab": {
          "base_uri": "https://localhost:8080/"
        },
        "id": "AcWZWkuY6H5m",
        "outputId": "667487a6-ca85-4d79-a93c-3d49c53c6a2e"
      },
      "execution_count": 82,
      "outputs": [
        {
          "output_type": "execute_result",
          "data": {
            "text/plain": [
              "array([1.        , 2.31446436, 5.35674527])"
            ]
          },
          "metadata": {},
          "execution_count": 82
        }
      ]
    },
    {
      "cell_type": "code",
      "source": [
        "x_test[0]"
      ],
      "metadata": {
        "colab": {
          "base_uri": "https://localhost:8080/"
        },
        "id": "zQVSQISk6LVV",
        "outputId": "e13bd020-8dfd-4fc2-a0c5-8cbb1c1a4665"
      },
      "execution_count": 83,
      "outputs": [
        {
          "output_type": "execute_result",
          "data": {
            "text/plain": [
              "array([-0.42963953])"
            ]
          },
          "metadata": {},
          "execution_count": 83
        }
      ]
    },
    {
      "cell_type": "code",
      "source": [
        "x_test_feature[0]"
      ],
      "metadata": {
        "colab": {
          "base_uri": "https://localhost:8080/"
        },
        "id": "45Ca4npE7YhZ",
        "outputId": "40598cc8-766c-45b1-bde1-9b3a115699d6"
      },
      "execution_count": 84,
      "outputs": [
        {
          "output_type": "execute_result",
          "data": {
            "text/plain": [
              "array([ 1.        , -0.42963953,  0.18459012])"
            ]
          },
          "metadata": {},
          "execution_count": 84
        }
      ]
    },
    {
      "cell_type": "code",
      "source": [
        "lr.fit(x_train_feature,y_train)\n",
        "y_pred = lr.predict(x_test_feature)"
      ],
      "metadata": {
        "id": "oqCWEURS7bju"
      },
      "execution_count": 86,
      "outputs": []
    },
    {
      "cell_type": "code",
      "source": [
        "print(lr.coef_)"
      ],
      "metadata": {
        "colab": {
          "base_uri": "https://localhost:8080/"
        },
        "id": "5vHNjDjU9fkL",
        "outputId": "f83241cd-9784-4ebc-cd19-72e85ba2da66"
      },
      "execution_count": 87,
      "outputs": [
        {
          "output_type": "stream",
          "name": "stdout",
          "text": [
            "[[0.         1.02129008 0.77910471]]\n"
          ]
        }
      ]
    },
    {
      "cell_type": "code",
      "source": [
        "print(lr.intercept_)"
      ],
      "metadata": {
        "colab": {
          "base_uri": "https://localhost:8080/"
        },
        "id": "9-_YsCO19o--",
        "outputId": "16a9d558-a9d6-4c1c-8d08-a55e8c1ee2b1"
      },
      "execution_count": 88,
      "outputs": [
        {
          "output_type": "stream",
          "name": "stdout",
          "text": [
            "[2.05303205]\n"
          ]
        }
      ]
    },
    {
      "cell_type": "code",
      "source": [
        "r2_score(y_test,y_pred)"
      ],
      "metadata": {
        "colab": {
          "base_uri": "https://localhost:8080/"
        },
        "id": "xk1RDsBf_EKs",
        "outputId": "5390eaf9-b161-4ad3-d61e-e57fb380c77e"
      },
      "execution_count": 89,
      "outputs": [
        {
          "output_type": "execute_result",
          "data": {
            "text/plain": [
              "0.9082022366517337"
            ]
          },
          "metadata": {},
          "execution_count": 89
        }
      ]
    },
    {
      "cell_type": "code",
      "source": [
        "x_new = np.linspace(-3,3,200).reshape(200,1)\n",
        "x_new_poly = poly.transform(x_new)\n",
        "y_new = lr.predict(x_new_poly)"
      ],
      "metadata": {
        "id": "qFfpg2GQDDFi"
      },
      "execution_count": 93,
      "outputs": []
    },
    {
      "cell_type": "code",
      "source": [
        "plt.plot(x_new,y_new,\"r-\",linewidth = 2, label = \"prediction\")\n",
        "plt.plot(x_train,y_train,\"b.\",label = \"training points\")\n",
        "plt.plot(x_test, y_test, \"g.\",label = \"Testing points\")\n",
        "plt.xlabel(\"x\")\n",
        "plt.ylabel(\"y\")\n",
        "plt.legend()\n",
        "plt.show()"
      ],
      "metadata": {
        "colab": {
          "base_uri": "https://localhost:8080/",
          "height": 449
        },
        "id": "XTLpGptA9sz8",
        "outputId": "30724dcf-65c7-4873-b224-409ea2107c43"
      },
      "execution_count": 94,
      "outputs": [
        {
          "output_type": "display_data",
          "data": {
            "text/plain": [
              "<Figure size 640x480 with 1 Axes>"
            ],
            "image/png": "[encoded data removed]"
          },
          "metadata": {}
        }
      ]
    },
    {
      "cell_type": "code",
      "source": [],
      "metadata": {
        "id": "vZlMiJmd_qUv"
      },
      "execution_count": null,
      "outputs": []
    }
  ]
}