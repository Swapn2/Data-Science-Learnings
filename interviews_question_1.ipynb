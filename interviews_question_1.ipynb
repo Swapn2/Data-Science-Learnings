{
  "nbformat": 4,
  "nbformat_minor": 0,
  "metadata": {
    "colab": {
      "provenance": [],
      "authorship_tag": "ABX9TyNFaBqurgrGCDROXdZUYiW/",
      "include_colab_link": true
    },
    "kernelspec": {
      "name": "python3",
      "display_name": "Python 3"
    },
    "language_info": {
      "name": "python"
    }
  },
  "cells": [
    {
      "cell_type": "markdown",
      "metadata": {
        "id": "view-in-github",
        "colab_type": "text"
      },
      "source": [
        "<a href=\"https://colab.research.google.com/github/Swapn2/Data-Science-Learnings/blob/main/interviews_question_1.ipynb\" target=\"_parent\"><img src=\"https://colab.research.google.com/assets/colab-badge.svg\" alt=\"Open In Colab\"/></a>"
      ]
    },
    {
      "cell_type": "markdown",
      "source": [
        "1. what is python ?\n",
        "\n",
        "pyhton is high-level,interpreted, genrel-purpose programming lang. being a genral-purpose lang , it can be used to build almost any type of application wuth the right tool/libraries, additionally, python support ojbect , threads modules , exception-handling and autmomatic memory management which help in modelling real world problem and building application to solve these problems.\n",
        "\n",
        "Benefits of python :\n",
        "\n",
        "- easy to learn syntax support third party packages encouraging modularity and code reuse.\n",
        "- rapid application developement and deployment.\n",
        "- having the high level data structures. (eg. in , not in )\n"
      ],
      "metadata": {
        "id": "_dAM-pVAYf78"
      }
    },
    {
      "cell_type": "markdown",
      "source": [
        "2. what is object, threads, and how does the python is doing the automatic memory management , explain\n",
        "\n",
        "-----------------------------------------------------------------------\n",
        "\n"
      ],
      "metadata": {
        "id": "Z_iNUVGaZbh2"
      }
    },
    {
      "cell_type": "markdown",
      "source": [
        "3. what is dynamically types language?\n",
        "\n",
        "firstly we shouuld know about typing , typing refers to the type checking in programing lang , in a strongly typed language such as python , \"1\" + 2 willl give the error since these lang dont allow for ( implicit conversion of data type ) on the other hand a weakly typed lang such as java will simply out \"12\" as result\n",
        "\n",
        "type-checking can be done at two stage:\n",
        "- static : data typechecked before the execution\n",
        "- dynamic : data type are checked during the execution . python is an interpreted language , executes the code line by line and thus type-checking is done on the fly, during execution , hence python is dynamically type lang\n",
        "\n"
      ],
      "metadata": {
        "id": "J6pGoFbGZu74"
      }
    },
    {
      "cell_type": "markdown",
      "source": [
        "4. what is interpreted language ?\n",
        "\n",
        "it executes the code line by line , python , javascript  R , PHP are prime examples of the interpreted lang programs written in an lang runs directly from the source code with no intermediary compilation step"
      ],
      "metadata": {
        "id": "hiKeL04VdYQ2"
      }
    },
    {
      "cell_type": "markdown",
      "source": [
        "5. what is PEP 8 and why is it important ?\n",
        "\n",
        "PEP stands for python enhancement proposal , A PEP is an official design documnet , which they describ that what is the actual way to write the code ( cleanness).\n"
      ],
      "metadata": {
        "id": "I1p-5tQoeEh4"
      }
    },
    {
      "cell_type": "markdown",
      "source": [
        "6. what are the common built-in data types in python?\n",
        "\n",
        "- None Type\n",
        "- Numeric ( integer , floating , complex , boolean )\n",
        "- sequence type (list tuple , range )\n",
        "- mapping type ( dictioanry)\n",
        "- set Type ( set , frozen set (immutable ) )\n",
        "- callable type (built in function , methods , classes )\n"
      ],
      "metadata": {
        "id": "sxhu-JIphdcm"
      }
    },
    {
      "cell_type": "markdown",
      "source": [
        "7. operator presedence ?\n",
        "\n",
        "--------------------------------------------------------"
      ],
      "metadata": {
        "id": "JBFoxJimjRY5"
      }
    },
    {
      "cell_type": "markdown",
      "source": [
        "7. explain ternary operator in python?\n",
        "\n",
        "in python we dont have ternary operator , instead of this we have:\n",
        "- [on true] if [expresion] esle [on false]\n"
      ],
      "metadata": {
        "id": "L0dJq7M7jYfm"
      }
    },
    {
      "cell_type": "code",
      "source": [
        "a , b = 10,12\n",
        "print('hi') if a<b else print('bye')"
      ],
      "metadata": {
        "colab": {
          "base_uri": "https://localhost:8080/"
        },
        "id": "Lo8B6U3Ik493",
        "outputId": "d055b2a0-4bc6-4b9c-fc92-b3258dd77371"
      },
      "execution_count": null,
      "outputs": [
        {
          "output_type": "stream",
          "name": "stdout",
          "text": [
            "hi\n"
          ]
        }
      ]
    },
    {
      "cell_type": "markdown",
      "source": [
        "8. what does the 'is'  operator do ?\n",
        "\n",
        "- identity oerator\n",
        "- in python is operator is and is not opertor is used to check that if two varible are located in same part of memory or not ,\n",
        "- two variable are equal does not imply that they are identical"
      ],
      "metadata": {
        "id": "fq5hVV-YlJq7"
      }
    },
    {
      "cell_type": "code",
      "source": [
        "a = 1\n",
        "id(a)"
      ],
      "metadata": {
        "colab": {
          "base_uri": "https://localhost:8080/"
        },
        "id": "VljZ8cnAlHI4",
        "outputId": "bba09801-0481-4767-e467-bf12b696f300"
      },
      "execution_count": null,
      "outputs": [
        {
          "output_type": "execute_result",
          "data": {
            "text/plain": [
              "10750856"
            ]
          },
          "metadata": {},
          "execution_count": 3
        }
      ]
    },
    {
      "cell_type": "code",
      "source": [
        "a = 2\n",
        "id(a)"
      ],
      "metadata": {
        "colab": {
          "base_uri": "https://localhost:8080/"
        },
        "id": "4xMJNuHcmrpX",
        "outputId": "ce1166a9-6a7e-4376-fa7a-4b25fd4723d1"
      },
      "execution_count": null,
      "outputs": [
        {
          "output_type": "execute_result",
          "data": {
            "text/plain": [
              "10750888"
            ]
          },
          "metadata": {},
          "execution_count": 4
        }
      ]
    },
    {
      "cell_type": "code",
      "source": [
        "a = 1\n",
        "b = 1\n",
        "a is b"
      ],
      "metadata": {
        "colab": {
          "base_uri": "https://localhost:8080/"
        },
        "id": "LwAx1ysnmt11",
        "outputId": "37f68117-5151-4808-a780-18deb470e8c8"
      },
      "execution_count": null,
      "outputs": [
        {
          "output_type": "execute_result",
          "data": {
            "text/plain": [
              "True"
            ]
          },
          "metadata": {},
          "execution_count": 7
        }
      ]
    },
    {
      "cell_type": "code",
      "source": [
        "id(a)\n"
      ],
      "metadata": {
        "colab": {
          "base_uri": "https://localhost:8080/"
        },
        "id": "-AouN0Vxmyf8",
        "outputId": "60d65a50-8562-4a6e-8050-8cd785932234"
      },
      "execution_count": null,
      "outputs": [
        {
          "output_type": "execute_result",
          "data": {
            "text/plain": [
              "10750856"
            ]
          },
          "metadata": {},
          "execution_count": 8
        }
      ]
    },
    {
      "cell_type": "code",
      "source": [
        "id(b)"
      ],
      "metadata": {
        "id": "UB23CR4lm8w8",
        "colab": {
          "base_uri": "https://localhost:8080/"
        },
        "outputId": "d9b027ec-3523-4efa-8997-e5707b2f1ad5"
      },
      "execution_count": 9,
      "outputs": [
        {
          "output_type": "execute_result",
          "data": {
            "text/plain": [
              "10750856"
            ]
          },
          "metadata": {},
          "execution_count": 9
        }
      ]
    },
    {
      "cell_type": "code",
      "source": [
        "a = 257\n",
        "b = 257\n",
        "a is b"
      ],
      "metadata": {
        "id": "UxkIaFgWm_Vh",
        "colab": {
          "base_uri": "https://localhost:8080/"
        },
        "outputId": "13b61c5b-daf2-48f8-acab-8422e6ba351f"
      },
      "execution_count": 10,
      "outputs": [
        {
          "output_type": "execute_result",
          "data": {
            "text/plain": [
              "False"
            ]
          },
          "metadata": {},
          "execution_count": 10
        }
      ]
    },
    {
      "cell_type": "code",
      "source": [
        "id(a)"
      ],
      "metadata": {
        "colab": {
          "base_uri": "https://localhost:8080/"
        },
        "id": "DmLKrBfQnUpe",
        "outputId": "9e977d7d-ef69-460f-dbfa-59505b676e59"
      },
      "execution_count": 11,
      "outputs": [
        {
          "output_type": "execute_result",
          "data": {
            "text/plain": [
              "136717705235408"
            ]
          },
          "metadata": {},
          "execution_count": 11
        }
      ]
    },
    {
      "cell_type": "code",
      "source": [
        "id(b)"
      ],
      "metadata": {
        "colab": {
          "base_uri": "https://localhost:8080/"
        },
        "id": "fmL5quVanVpN",
        "outputId": "9f35b0c4-229a-45e1-a2f2-dd59c896e550"
      },
      "execution_count": 12,
      "outputs": [
        {
          "output_type": "execute_result",
          "data": {
            "text/plain": [
              "136717705236848"
            ]
          },
          "metadata": {},
          "execution_count": 12
        }
      ]
    },
    {
      "cell_type": "code",
      "source": [
        "# -5 to 256 they will be stored in same location\n"
      ],
      "metadata": {
        "id": "vuzkikpgnWUo"
      },
      "execution_count": 13,
      "outputs": []
    },
    {
      "cell_type": "markdown",
      "source": [
        "9. Disadvantage of python ?\n",
        "- speed\n",
        "- not close to hardware\n",
        "- mobile devlopment\n",
        "- memory comsumption\n",
        "- Database Access\n",
        "- runtime errors\n",
        "- difficulty in using others lang\n"
      ],
      "metadata": {
        "id": "V2vDU4Cho3cY"
      }
    },
    {
      "cell_type": "markdown",
      "source": [
        "10. how string are stored in python ?\n",
        "----------------------------------------------------------------------"
      ],
      "metadata": {
        "id": "VkYYkq5GswFd"
      }
    },
    {
      "cell_type": "markdown",
      "source": [],
      "metadata": {
        "id": "OB4dq8s8sv2c"
      }
    },
    {
      "cell_type": "code",
      "source": [
        "a = [1,2,3]\n",
        "b = a\n",
        "# in the above there will be a single where this list will be stored but a and b will point to that memoryloaction\n",
        "a = a.append(4)\n",
        "print(b)\n",
        "# so when i will append in a b will automatically change\n",
        ""
      ],
      "metadata": {
        "colab": {
          "base_uri": "https://localhost:8080/"
        },
        "id": "P9tGFXBrnroX",
        "outputId": "f4602c5b-9d89-421f-e0db-2f6be637513e"
      },
      "execution_count": 16,
      "outputs": [
        {
          "output_type": "stream",
          "name": "stdout",
          "text": [
            "[1, 2, 3, 4]\n"
          ]
        }
      ]
    },
    {
      "cell_type": "markdown",
      "source": [],
      "metadata": {
        "id": "t1dMBLPvv0_P"
      }
    },
    {
      "cell_type": "code",
      "source": [
        "a = [1,2,3]\n",
        "b = a[:]\n",
        "a =  a.append(4)\n",
        "print(b)\n",
        "# but in this way new memory space will be created with same value and b will point there , so if i will change in a b will not"
      ],
      "metadata": {
        "colab": {
          "base_uri": "https://localhost:8080/"
        },
        "id": "86FLG8jRvcm3",
        "outputId": "b608841d-eefc-4a55-a0ea-4cff6ad856cc"
      },
      "execution_count": 17,
      "outputs": [
        {
          "output_type": "stream",
          "name": "stdout",
          "text": [
            "[1, 2, 3]\n"
          ]
        }
      ]
    },
    {
      "cell_type": "markdown",
      "source": [
        "12. what does underscore _ variable represent in python ?\n",
        "\n",
        "- underscore is consider as i dont care  in python\n",
        "- it is used to ignoring the specific value so we assing the these values to the underscore"
      ],
      "metadata": {
        "id": "SG5T5WoGw-SH"
      }
    },
    {
      "cell_type": "code",
      "source": [
        "x,_,y = (1,2,3)\n",
        "print(\"x-\",x)\n",
        "print(\"y-\",y)"
      ],
      "metadata": {
        "colab": {
          "base_uri": "https://localhost:8080/"
        },
        "id": "ucHGD-UOwOU2",
        "outputId": "f8abf630-9364-418d-986c-5640168049c6"
      },
      "execution_count": 18,
      "outputs": [
        {
          "output_type": "stream",
          "name": "stdout",
          "text": [
            "x- 1\n",
            "y- 3\n"
          ]
        }
      ]
    },
    {
      "cell_type": "code",
      "source": [
        "for _ in range(5):\n",
        "  print('hello')"
      ],
      "metadata": {
        "colab": {
          "base_uri": "https://localhost:8080/"
        },
        "id": "67x0pGDzyDok",
        "outputId": "579155d4-bdbf-4357-c883-5829aca43430"
      },
      "execution_count": 19,
      "outputs": [
        {
          "output_type": "stream",
          "name": "stdout",
          "text": [
            "hello\n",
            "hello\n",
            "hello\n",
            "hello\n",
            "hello\n"
          ]
        }
      ]
    },
    {
      "cell_type": "markdown",
      "source": [
        "13. module v/s package  v/s library\n",
        "- module : python file contain , function classes , variables\n",
        "- package : collection of similar type of module\n",
        "- library :  bundle of codes , can have tens or even hundreds of module that can provide wide rabge functionality\n",
        "\n"
      ],
      "metadata": {
        "id": "ofyfQHgaycgM"
      }
    },
    {
      "cell_type": "markdown",
      "source": [
        "14. why .3 - .2 is not equal to .1 in python ?\n",
        "\n",
        "- resaon is precision , computer does not use decimal system it use binary system"
      ],
      "metadata": {
        "id": "Oo4mqjMbzxgd"
      }
    },
    {
      "cell_type": "code",
      "source": [
        "print(.3-.2)\n",
        "print(.3-.2 == .1)"
      ],
      "metadata": {
        "colab": {
          "base_uri": "https://localhost:8080/"
        },
        "id": "rpQC8uDKySm4",
        "outputId": "da188f06-7f88-498c-ac20-bfed879bc524"
      },
      "execution_count": 21,
      "outputs": [
        {
          "output_type": "stream",
          "name": "stdout",
          "text": [
            "0.09999999999999998\n",
            "False\n"
          ]
        }
      ]
    },
    {
      "cell_type": "markdown",
      "source": [
        "15. Python Docstring  "
      ],
      "metadata": {
        "id": "q85LwIGm0w4o"
      }
    },
    {
      "cell_type": "code",
      "source": [
        "print(print.__doc__)"
      ],
      "metadata": {
        "colab": {
          "base_uri": "https://localhost:8080/"
        },
        "id": "K1sg8-F-0J2y",
        "outputId": "dee353bd-b84c-4c4f-b928-ece1e568af95"
      },
      "execution_count": 23,
      "outputs": [
        {
          "output_type": "stream",
          "name": "stdout",
          "text": [
            "Prints the values to a stream, or to sys.stdout by default.\n",
            "\n",
            "  sep\n",
            "    string inserted between values, default a space.\n",
            "  end\n",
            "    string appended after the last value, default a newline.\n",
            "  file\n",
            "    a file-like object (stream); defaults to the current sys.stdout.\n",
            "  flush\n",
            "    whether to forcibly flush the stream.\n"
          ]
        }
      ]
    },
    {
      "cell_type": "code",
      "source": [],
      "metadata": {
        "id": "DzJwQF4s1Kda"
      },
      "execution_count": null,
      "outputs": []
    }
  ]
}