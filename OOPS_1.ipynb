{
  "nbformat": 4,
  "nbformat_minor": 0,
  "metadata": {
    "colab": {
      "provenance": [],
      "authorship_tag": "ABX9TyMhQt46qCg0S7aFZjdCSNwG",
      "include_colab_link": true
    },
    "kernelspec": {
      "name": "python3",
      "display_name": "Python 3"
    },
    "language_info": {
      "name": "python"
    }
  },
  "cells": [
    {
      "cell_type": "markdown",
      "metadata": {
        "id": "view-in-github",
        "colab_type": "text"
      },
      "source": [
        "<a href=\"https://colab.research.google.com/github/Swapn2/Data-Science-Learnings/blob/main/OOPS_1.ipynb\" target=\"_parent\"><img src=\"https://colab.research.google.com/assets/colab-badge.svg\" alt=\"Open In Colab\"/></a>"
      ]
    },
    {
      "cell_type": "code",
      "execution_count": 1,
      "metadata": {
        "id": "CfSzhML4UFiy"
      },
      "outputs": [],
      "source": [
        "s ='hello'\n"
      ]
    },
    {
      "cell_type": "code",
      "source": [
        "# syntax to create an object :\n",
        "\n",
        "# objectname = classname()"
      ],
      "metadata": {
        "id": "mNkjDozsiMMp"
      },
      "execution_count": 2,
      "outputs": []
    },
    {
      "cell_type": "code",
      "source": [
        "# object literal\n",
        "L = [1,2,3]"
      ],
      "metadata": {
        "id": "iN2b9pzZolwo"
      },
      "execution_count": 3,
      "outputs": []
    },
    {
      "cell_type": "code",
      "source": [
        "L = list()\n",
        "L"
      ],
      "metadata": {
        "colab": {
          "base_uri": "https://localhost:8080/"
        },
        "id": "_JU7pTNyoypB",
        "outputId": "394393a5-e8a3-4000-9519-4958bf3f2fe8"
      },
      "execution_count": 4,
      "outputs": [
        {
          "output_type": "execute_result",
          "data": {
            "text/plain": [
              "[]"
            ]
          },
          "metadata": {},
          "execution_count": 4
        }
      ]
    },
    {
      "cell_type": "code",
      "source": [
        "s = str()\n",
        "s"
      ],
      "metadata": {
        "colab": {
          "base_uri": "https://localhost:8080/",
          "height": 35
        },
        "id": "IGe-yWQ0o1XI",
        "outputId": "7ff195ff-234d-478a-a523-0be816e9ecca"
      },
      "execution_count": 6,
      "outputs": [
        {
          "output_type": "execute_result",
          "data": {
            "text/plain": [
              "''"
            ],
            "application/vnd.google.colaboratory.intrinsic+json": {
              "type": "string"
            }
          },
          "metadata": {},
          "execution_count": 6
        }
      ]
    },
    {
      "cell_type": "code",
      "source": [
        "# MyAtm , HelloWorld\n",
        "\n",
        "class Atm:\n",
        "\n",
        "  # constructor -> a special function inside the class , we dont need to call this function to excecute the code inside it if ypu have object\n",
        "  def __init__(self):\n",
        "    self.pin = ''\n",
        "    self.balance = 0\n",
        "    self.menu()\n",
        "\n",
        "  def menu(self):\n",
        "    user_input = input(\"\"\"\n",
        "    Hi, how can i help you ?\n",
        "    1. press 1 to create pin\n",
        "    2. press 2 to change pin\n",
        "    3. press 3 to check balance\n",
        "    4. press 4 to withdrawl\n",
        "    5. anything else to exit\n",
        "    \"\"\")\n",
        "    if user_input == '1':\n",
        "      self.create_pin()\n",
        "    elif(user_input == '2'):\n",
        "      self.change_pin()\n",
        "    elif(user_input == '3'):\n",
        "      self.check_balance()\n",
        "    elif(user_input == '4'):\n",
        "      self.withdrawl()\n",
        "      pass\n",
        "    else:\n",
        "      exit()\n",
        "  def create_pin(self):\n",
        "    user_pin = input('enter the new pin ')\n",
        "    self.pin = user_pin\n",
        "\n",
        "    user_balance = int(input('enter the current balance '))\n",
        "    self.balance = user_balance\n",
        "\n",
        "    print('thankyou! pin created successfully ')\n",
        "    self.menu()\n",
        "\n",
        "  def change_pin(self):\n",
        "    old_pin = input('enter the old pin ')\n",
        "    if(old_pin == self.pin):\n",
        "      new_pin = input('enter the new pin')\n",
        "      self.pin = new_pin\n",
        "      print(' your pin changed successfully')\n",
        "      self.menu()\n",
        "    else:\n",
        "      print('old pin is incorrect')\n",
        "      self.menu()\n",
        "  def check_balance(self):\n",
        "    user_pin = input('enter your pin')\n",
        "    if(user_pin == self.pin):\n",
        "      print('your balance is  : ',self.balance)\n",
        "    else:\n",
        "      print('we cant show it to u')\n",
        "    self.menu()\n",
        "  def withdrawl(self):\n",
        "    user_pin = input('enter your pin')\n",
        "    if(user_pin == self.pin):\n",
        "      amount = int(input('enter the amount'))\n",
        "      if(amount < self.balance):\n",
        "        self.balance = self.balance - amount\n",
        "        print('withdrawl successfully')\n",
        "        print('avialable balance : ',self.balance)\n",
        "      else:\n",
        "        print('amount is high')\n",
        "    else:\n",
        "      print('pin is incorrect')\n",
        "    self.menu()\n",
        "\n"
      ],
      "metadata": {
        "id": "htAF64j7pO-V"
      },
      "execution_count": 7,
      "outputs": []
    },
    {
      "cell_type": "code",
      "source": [
        "obj = Atm()\n",
        "\n",
        ""
      ],
      "metadata": {
        "colab": {
          "base_uri": "https://localhost:8080/"
        },
        "id": "zjQgBYe8teQA",
        "outputId": "5b00bd27-137e-4d5e-d68d-0a6fb9446e69"
      },
      "execution_count": null,
      "outputs": [
        {
          "output_type": "stream",
          "name": "stdout",
          "text": [
            "\n",
            "    Hi, how can i help you ?\n",
            "    1. press 1 to create pin\n",
            "    2. press 2 to change pin\n",
            "    3. press 3 to check balance\n",
            "    4. press 4 to withdrawl\n",
            "    5. anything else to exit\n",
            "    1\n",
            "enter the new pin 1234\n",
            "enter the current balance 10000\n",
            "thankyou! pin created successfully \n",
            "\n",
            "    Hi, how can i help you ?\n",
            "    1. press 1 to create pin\n",
            "    2. press 2 to change pin\n",
            "    3. press 3 to check balance\n",
            "    4. press 4 to withdrawl\n",
            "    5. anything else to exit\n",
            "    4\n",
            "enter your pin1234\n",
            "enter the amount5000\n",
            "withdrawl successfully\n",
            "avialable balance :  5000\n",
            "\n",
            "    Hi, how can i help you ?\n",
            "    1. press 1 to create pin\n",
            "    2. press 2 to change pin\n",
            "    3. press 3 to check balance\n",
            "    4. press 4 to withdrawl\n",
            "    5. anything else to exit\n",
            "    4\n",
            "enter your pin1234\n",
            "enter the amount1000\n",
            "withdrawl successfully\n",
            "avialable balance :  4000\n"
          ]
        }
      ]
    },
    {
      "cell_type": "code",
      "source": [
        "obj2 = Atm()"
      ],
      "metadata": {
        "colab": {
          "base_uri": "https://localhost:8080/"
        },
        "id": "NSZTszMhtkcx",
        "outputId": "93d739fd-a133-405d-d820-8ee8cefbaae2"
      },
      "execution_count": 14,
      "outputs": [
        {
          "output_type": "stream",
          "name": "stdout",
          "text": [
            "excuted\n"
          ]
        }
      ]
    },
    {
      "cell_type": "code",
      "source": [],
      "metadata": {
        "id": "xxnGMaslvc3O"
      },
      "execution_count": null,
      "outputs": []
    }
  ]
}