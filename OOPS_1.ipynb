{
  "nbformat": 4,
  "nbformat_minor": 0,
  "metadata": {
    "colab": {
      "provenance": [],
      "authorship_tag": "ABX9TyM3gj2ybngd85jH4TG4jQVT",
      "include_colab_link": true
    },
    "kernelspec": {
      "name": "python3",
      "display_name": "Python 3"
    },
    "language_info": {
      "name": "python"
    }
  },
  "cells": [
    {
      "cell_type": "markdown",
      "metadata": {
        "id": "view-in-github",
        "colab_type": "text"
      },
      "source": [
        "<a href=\"https://colab.research.google.com/github/Swapn2/Data-Science-Learnings/blob/main/OOPS_1.ipynb\" target=\"_parent\"><img src=\"https://colab.research.google.com/assets/colab-badge.svg\" alt=\"Open In Colab\"/></a>"
      ]
    },
    {
      "cell_type": "code",
      "execution_count": null,
      "metadata": {
        "id": "CfSzhML4UFiy"
      },
      "outputs": [],
      "source": [
        "s ='hello'\n"
      ]
    },
    {
      "cell_type": "code",
      "source": [
        "# syntax to create an object :\n",
        "\n",
        "# objectname = classname()"
      ],
      "metadata": {
        "id": "mNkjDozsiMMp"
      },
      "execution_count": null,
      "outputs": []
    },
    {
      "cell_type": "code",
      "source": [
        "# object literal\n",
        "L = [1,2,3]"
      ],
      "metadata": {
        "id": "iN2b9pzZolwo"
      },
      "execution_count": null,
      "outputs": []
    },
    {
      "cell_type": "code",
      "source": [
        "L = list()\n",
        "L"
      ],
      "metadata": {
        "colab": {
          "base_uri": "https://localhost:8080/"
        },
        "id": "_JU7pTNyoypB",
        "outputId": "394393a5-e8a3-4000-9519-4958bf3f2fe8"
      },
      "execution_count": null,
      "outputs": [
        {
          "output_type": "execute_result",
          "data": {
            "text/plain": [
              "[]"
            ]
          },
          "metadata": {},
          "execution_count": 4
        }
      ]
    },
    {
      "cell_type": "code",
      "source": [
        "s = str()\n",
        "s"
      ],
      "metadata": {
        "colab": {
          "base_uri": "https://localhost:8080/",
          "height": 35
        },
        "id": "IGe-yWQ0o1XI",
        "outputId": "7ff195ff-234d-478a-a523-0be816e9ecca"
      },
      "execution_count": null,
      "outputs": [
        {
          "output_type": "execute_result",
          "data": {
            "text/plain": [
              "''"
            ],
            "application/vnd.google.colaboratory.intrinsic+json": {
              "type": "string"
            }
          },
          "metadata": {},
          "execution_count": 6
        }
      ]
    },
    {
      "cell_type": "code",
      "source": [
        "# MyAtm , HelloWorld\n",
        "\n",
        "class Atm:\n",
        "\n",
        "  # constructor -> a special function inside the class , we dont need to call this function to excecute the code inside it if ypu have object\n",
        "  def __init__(self):\n",
        "    self.pin = ''\n",
        "    self.balance = 0\n",
        "    self.menu()\n",
        "\n",
        "  def menu(self):\n",
        "    user_input = input(\"\"\"\n",
        "    Hi, how can i help you ?\n",
        "    1. press 1 to create pin\n",
        "    2. press 2 to change pin\n",
        "    3. press 3 to check balance\n",
        "    4. press 4 to withdrawl\n",
        "    5. anything else to exit\n",
        "    \"\"\")\n",
        "    if user_input == '1':\n",
        "      self.create_pin()\n",
        "    elif(user_input == '2'):\n",
        "      self.change_pin()\n",
        "    elif(user_input == '3'):\n",
        "      self.check_balance()\n",
        "    elif(user_input == '4'):\n",
        "      self.withdrawl()\n",
        "      pass\n",
        "    else:\n",
        "      exit()\n",
        "  def create_pin(self):\n",
        "    user_pin = input('enter the new pin ')\n",
        "    self.pin = user_pin\n",
        "\n",
        "    user_balance = int(input('enter the current balance '))\n",
        "    self.balance = user_balance\n",
        "\n",
        "    print('thankyou! pin created successfully ')\n",
        "    self.menu()\n",
        "\n",
        "  def change_pin(self):\n",
        "    old_pin = input('enter the old pin ')\n",
        "    if(old_pin == self.pin):\n",
        "      new_pin = input('enter the new pin')\n",
        "      self.pin = new_pin\n",
        "      print(' your pin changed successfully')\n",
        "      self.menu()\n",
        "    else:\n",
        "      print('old pin is incorrect')\n",
        "      self.menu()\n",
        "  def check_balance(self):\n",
        "    user_pin = input('enter your pin')\n",
        "    if(user_pin == self.pin):\n",
        "      print('your balance is  : ',self.balance)\n",
        "    else:\n",
        "      print('we cant show it to u')\n",
        "    self.menu()\n",
        "  def withdrawl(self):\n",
        "    user_pin = input('enter your pin')\n",
        "    if(user_pin == self.pin):\n",
        "      amount = int(input('enter the amount'))\n",
        "      if(amount < self.balance):\n",
        "        self.balance = self.balance - amount\n",
        "        print('withdrawl successfully')\n",
        "        print('avialable balance : ',self.balance)\n",
        "      else:\n",
        "        print('amount is high')\n",
        "    else:\n",
        "      print('pin is incorrect')\n",
        "    self.menu()\n",
        "\n"
      ],
      "metadata": {
        "id": "htAF64j7pO-V"
      },
      "execution_count": null,
      "outputs": []
    },
    {
      "cell_type": "code",
      "source": [
        "obj = Atm()\n",
        "\n"
      ],
      "metadata": {
        "colab": {
          "base_uri": "https://localhost:8080/"
        },
        "id": "zjQgBYe8teQA",
        "outputId": "5b00bd27-137e-4d5e-d68d-0a6fb9446e69"
      },
      "execution_count": null,
      "outputs": [
        {
          "name": "stdout",
          "output_type": "stream",
          "text": [
            "\n",
            "    Hi, how can i help you ?\n",
            "    1. press 1 to create pin\n",
            "    2. press 2 to change pin\n",
            "    3. press 3 to check balance\n",
            "    4. press 4 to withdrawl\n",
            "    5. anything else to exit\n",
            "    1\n",
            "enter the new pin 1234\n",
            "enter the current balance 10000\n",
            "thankyou! pin created successfully \n",
            "\n",
            "    Hi, how can i help you ?\n",
            "    1. press 1 to create pin\n",
            "    2. press 2 to change pin\n",
            "    3. press 3 to check balance\n",
            "    4. press 4 to withdrawl\n",
            "    5. anything else to exit\n",
            "    4\n",
            "enter your pin1234\n",
            "enter the amount5000\n",
            "withdrawl successfully\n",
            "avialable balance :  5000\n",
            "\n",
            "    Hi, how can i help you ?\n",
            "    1. press 1 to create pin\n",
            "    2. press 2 to change pin\n",
            "    3. press 3 to check balance\n",
            "    4. press 4 to withdrawl\n",
            "    5. anything else to exit\n",
            "    4\n",
            "enter your pin1234\n",
            "enter the amount1000\n",
            "withdrawl successfully\n",
            "avialable balance :  4000\n",
            "\n",
            "    Hi, how can i help you ?\n",
            "    1. press 1 to create pin\n",
            "    2. press 2 to change pin\n",
            "    3. press 3 to check balance\n",
            "    4. press 4 to withdrawl\n",
            "    5. anything else to exit\n",
            "    7\n"
          ]
        }
      ]
    },
    {
      "cell_type": "code",
      "source": [
        "obj2 = Atm()"
      ],
      "metadata": {
        "colab": {
          "base_uri": "https://localhost:8080/"
        },
        "id": "NSZTszMhtkcx",
        "outputId": "93d739fd-a133-405d-d820-8ee8cefbaae2"
      },
      "execution_count": null,
      "outputs": [
        {
          "output_type": "stream",
          "name": "stdout",
          "text": [
            "excuted\n"
          ]
        }
      ]
    },
    {
      "cell_type": "code",
      "source": [
        "L = [1,2,3,4]\n",
        "len(L)   # len is a function because it is outside the class\n",
        "L.append(4) # append is methos bcoz it is inside the class"
      ],
      "metadata": {
        "id": "xxnGMaslvc3O"
      },
      "execution_count": null,
      "outputs": []
    },
    {
      "cell_type": "code",
      "source": [
        " # MyAtm , HelloWorld\n",
        "\n",
        "class Atm:\n",
        "\n",
        "  # constructor -> a special function inside the class , we dont need to call this function to excecute the code inside it if ypu have object\n",
        "  def __init__(self):\n",
        "    print(id(self))\n",
        "    self.pin = ''\n",
        "    self.balance = 0\n",
        "    #self.menu()\n",
        "\n",
        "  def menu(self):\n",
        "    user_input = input(\"\"\"\n",
        "    Hi, how can i help you ?\n",
        "    1. press 1 to create pin\n",
        "    2. press 2 to change pin\n",
        "    3. press 3 to check balance\n",
        "    4. press 4 to withdrawl\n",
        "    5. anything else to exit\n",
        "    \"\"\")\n",
        "    if user_input == '1':\n",
        "      self.create_pin()\n",
        "    elif(user_input == '2'):\n",
        "      self.change_pin()\n",
        "    elif(user_input == '3'):\n",
        "      self.check_balance()\n",
        "    elif(user_input == '4'):\n",
        "      self.withdrawl()\n",
        "      pass\n",
        "    else:\n",
        "      exit()\n",
        "  def create_pin(self):\n",
        "    user_pin = input('enter the new pin ')\n",
        "    self.pin = user_pin\n",
        "\n",
        "    user_balance = int(input('enter the current balance '))\n",
        "    self.balance = user_balance\n",
        "\n",
        "    print('thankyou! pin created successfully ')\n",
        "    self.menu()\n",
        "\n",
        "  def change_pin(self):\n",
        "    old_pin = input('enter the old pin ')\n",
        "    if(old_pin == self.pin):\n",
        "      new_pin = input('enter the new pin')\n",
        "      self.pin = new_pin\n",
        "      print(' your pin changed successfully')\n",
        "      self.menu()\n",
        "    else:\n",
        "      print('old pin is incorrect')\n",
        "      self.menu()\n",
        "  def check_balance(self):\n",
        "    user_pin = input('enter your pin')\n",
        "    if(user_pin == self.pin):\n",
        "      print('your balance is  : ',self.balance)\n",
        "    else:\n",
        "      print('we cant show it to u')\n",
        "    self.menu()\n",
        "  def withdrawl(self):\n",
        "    user_pin = input('enter your pin')\n",
        "    if(user_pin == self.pin):\n",
        "      amount = int(input('enter the amount'))\n",
        "      if(amount < self.balance):\n",
        "        self.balance = self.balance - amount\n",
        "        print('withdrawl successfully')\n",
        "        print('avialable balance : ',self.balance)\n",
        "      else:\n",
        "        print('amount is high')\n",
        "    else:\n",
        "      print('pin is incorrect')\n",
        "    self.menu()\n",
        "\n"
      ],
      "metadata": {
        "id": "0YcUWE339UpL"
      },
      "execution_count": 15,
      "outputs": []
    },
    {
      "cell_type": "code",
      "source": [
        "obj = Atm()"
      ],
      "metadata": {
        "colab": {
          "base_uri": "https://localhost:8080/"
        },
        "id": "WhjfAJEvWStb",
        "outputId": "bfd5bba0-2d59-4d05-b012-202e51e01f66"
      },
      "execution_count": 16,
      "outputs": [
        {
          "output_type": "stream",
          "name": "stdout",
          "text": [
            "136566020100240\n"
          ]
        }
      ]
    },
    {
      "cell_type": "code",
      "source": [
        "print(id(obj))"
      ],
      "metadata": {
        "colab": {
          "base_uri": "https://localhost:8080/"
        },
        "id": "-SThT6QNWUes",
        "outputId": "18713fdc-3a86-45c3-f880-7b2bbaafce8b"
      },
      "execution_count": 17,
      "outputs": [
        {
          "output_type": "stream",
          "name": "stdout",
          "text": [
            "136566020100240\n"
          ]
        }
      ]
    },
    {
      "cell_type": "code",
      "source": [
        "class Fraction:\n",
        "\n",
        "  def __init__(self,x,y): # parameterized constructor\n",
        "    self.num = x\n",
        "    self.den = y\n",
        "\n",
        "  def __str__(self):\n",
        "    return '{}/{}'.format(self.num,self.den)\n",
        "  def __add__(obj1,obj2):\n",
        "    new_num = (obj1.num*obj2.den) + (obj2.num*obj1.den)\n",
        "    new_den = obj1.den*obj2.den\n",
        "    return '{}/{}'.format(new_num,new_den)\n",
        "  def __sub__(obj1,obj2):\n",
        "    new_num = (obj1.num*obj2.den) - (obj2.num*obj1.den)\n",
        "    new_den = obj1.den*obj2.den\n",
        "    return '{}/{}'.format(new_num,new_den)\n",
        "  def __mul__(obj1,obj2):\n",
        "    new_num = obj1.num*obj2.num\n",
        "    new_den = obj1.den*obj2.den\n",
        "    return '{}/{}'.format(new_num,new_den)\n",
        "  def __truediv__(obj1,obj2):\n",
        "    new_num = obj1.num*obj2.den\n",
        "    new_den = obj1.den*obj2.num\n",
        "    return '{}/{}'.format(new_num,new_den)\n",
        "  def convert_to_decimal(self):\n",
        "    return self.num/self.den"
      ],
      "metadata": {
        "id": "rbawnPagWWH9"
      },
      "execution_count": 30,
      "outputs": []
    },
    {
      "cell_type": "code",
      "source": [
        "fr1 = Fraction(3,4)\n",
        "fr2 = Fraction(4,5)"
      ],
      "metadata": {
        "id": "KPgKPZSaZWYV"
      },
      "execution_count": 31,
      "outputs": []
    },
    {
      "cell_type": "code",
      "source": [
        "fr1.convert_to_decimal()"
      ],
      "metadata": {
        "colab": {
          "base_uri": "https://localhost:8080/"
        },
        "id": "inaMpuD4ZajW",
        "outputId": "61b9e8c6-5db2-4c4a-8179-b58ab03fb8ca"
      },
      "execution_count": 32,
      "outputs": [
        {
          "output_type": "execute_result",
          "data": {
            "text/plain": [
              "0.75"
            ]
          },
          "metadata": {},
          "execution_count": 32
        }
      ]
    },
    {
      "cell_type": "code",
      "source": [
        "print(fr1 + fr2)"
      ],
      "metadata": {
        "colab": {
          "base_uri": "https://localhost:8080/"
        },
        "id": "5Cnzk4sIZmK_",
        "outputId": "fcb34408-14b7-4dde-ee52-a4367d02fc3e"
      },
      "execution_count": 26,
      "outputs": [
        {
          "output_type": "stream",
          "name": "stdout",
          "text": [
            "31/20\n"
          ]
        }
      ]
    },
    {
      "cell_type": "code",
      "source": [
        "print(fr1 - fr2)"
      ],
      "metadata": {
        "colab": {
          "base_uri": "https://localhost:8080/"
        },
        "id": "ppAE_2d7ZqZa",
        "outputId": "dc281038-f8e1-46af-c73b-6df2a384857f"
      },
      "execution_count": 27,
      "outputs": [
        {
          "output_type": "stream",
          "name": "stdout",
          "text": [
            "-1/20\n"
          ]
        }
      ]
    },
    {
      "cell_type": "code",
      "source": [
        "print(fr1 * fr2)"
      ],
      "metadata": {
        "colab": {
          "base_uri": "https://localhost:8080/"
        },
        "id": "hR_MyGugeKZb",
        "outputId": "145b900d-3da5-4fb9-809e-cabfee23bd15"
      },
      "execution_count": 28,
      "outputs": [
        {
          "output_type": "stream",
          "name": "stdout",
          "text": [
            "12/20\n"
          ]
        }
      ]
    },
    {
      "cell_type": "code",
      "source": [
        "print(fr1 / fr2)"
      ],
      "metadata": {
        "colab": {
          "base_uri": "https://localhost:8080/"
        },
        "id": "INM3KsyXebg3",
        "outputId": "352ebdda-c1f3-4fe5-93c7-f6a7887e4f97"
      },
      "execution_count": 29,
      "outputs": [
        {
          "output_type": "stream",
          "name": "stdout",
          "text": [
            "15/16\n"
          ]
        }
      ]
    },
    {
      "cell_type": "code",
      "source": [],
      "metadata": {
        "id": "gT5C0sW5erw5"
      },
      "execution_count": null,
      "outputs": []
    }
  ]
}