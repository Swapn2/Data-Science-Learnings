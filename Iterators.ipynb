{
  "nbformat": 4,
  "nbformat_minor": 0,
  "metadata": {
    "colab": {
      "provenance": [],
      "authorship_tag": "ABX9TyNcANcTB1VOKkjfm/X7POCh",
      "include_colab_link": true
    },
    "kernelspec": {
      "name": "python3",
      "display_name": "Python 3"
    },
    "language_info": {
      "name": "python"
    }
  },
  "cells": [
    {
      "cell_type": "markdown",
      "metadata": {
        "id": "view-in-github",
        "colab_type": "text"
      },
      "source": [
        "<a href=\"https://colab.research.google.com/github/Swapn2/Data-Science-Learnings/blob/main/Iterators.ipynb\" target=\"_parent\"><img src=\"https://colab.research.google.com/assets/colab-badge.svg\" alt=\"Open In Colab\"/></a>"
      ]
    },
    {
      "cell_type": "markdown",
      "source": [
        "## What is an Iteration\n",
        "Iteration is a general term for taking each item of something, one after another. Any time you use a loop, explicit or implicit, to go over a group of items, that is iteration."
      ],
      "metadata": {
        "id": "3wT0ITe46V2l"
      }
    },
    {
      "cell_type": "code",
      "source": [
        "# Example\n",
        "num = [1,2,3]\n",
        "\n",
        "for i in num:\n",
        "    print(i)"
      ],
      "metadata": {
        "colab": {
          "base_uri": "https://localhost:8080/"
        },
        "id": "GXKlvesx6VfD",
        "outputId": "cee64c28-ee0e-40d4-bce7-190919726dbc"
      },
      "execution_count": 1,
      "outputs": [
        {
          "output_type": "stream",
          "name": "stdout",
          "text": [
            "1\n",
            "2\n",
            "3\n"
          ]
        }
      ]
    },
    {
      "cell_type": "markdown",
      "source": [
        "## What is Iterator\n",
        "An Iterator is an object that allows the programmer to traverse through a sequence of data without having to store the entire data in the memory"
      ],
      "metadata": {
        "id": "bgchjI_h66W6"
      }
    },
    {
      "cell_type": "code",
      "execution_count": 2,
      "metadata": {
        "colab": {
          "base_uri": "https://localhost:8080/"
        },
        "id": "jTvFJphS3XkG",
        "outputId": "0abd7458-9f7e-4487-aebc-679869e92776"
      },
      "outputs": [
        {
          "output_type": "stream",
          "name": "stdout",
          "text": [
            "1330.875\n",
            "0.75\n"
          ]
        }
      ],
      "source": [
        "# Example\n",
        "L = [x for x in range(1,10000)]\n",
        "\n",
        "#for i in L:\n",
        "    #print(i*2)\n",
        "\n",
        "import sys\n",
        "\n",
        "print(sys.getsizeof(L)/64)\n",
        "\n",
        "x = range(1,10000000000)\n",
        "\n",
        "#for i in x:\n",
        "    #print(i*2)\n",
        "\n",
        "print(sys.getsizeof(x)/64)"
      ]
    },
    {
      "cell_type": "code",
      "source": [],
      "metadata": {
        "id": "JJKGR87C78k0"
      },
      "execution_count": null,
      "outputs": []
    }
  ]
}