{
  "nbformat": 4,
  "nbformat_minor": 0,
  "metadata": {
    "colab": {
      "provenance": [],
      "include_colab_link": true
    },
    "kernelspec": {
      "name": "python3",
      "display_name": "Python 3"
    },
    "language_info": {
      "name": "python"
    }
  },
  "cells": [
    {
      "cell_type": "markdown",
      "metadata": {
        "id": "view-in-github",
        "colab_type": "text"
      },
      "source": [
        "<a href=\"https://colab.research.google.com/github/Swapn2/Data-Science-Learnings/blob/main/Task_6.ipynb\" target=\"_parent\"><img src=\"https://colab.research.google.com/assets/colab-badge.svg\" alt=\"Open In Colab\"/></a>"
      ]
    },
    {
      "cell_type": "markdown",
      "source": [
        "### **`Problem-1:`** Write a Python function that takes a list and returns a new list with unique elements of the first list.\n",
        "\n",
        "**Exercise 1:**\n",
        "\n",
        "Input:\n",
        "\n",
        "```bash\n",
        "[1,2,3,3,3,3,4,5]\n",
        "```\n",
        "\n",
        "Output:\n",
        "\n",
        "```bash\n",
        "[1, 2, 3, 4, 5]\n",
        "```"
      ],
      "metadata": {
        "id": "h6dDSW5XGZFi"
      }
    },
    {
      "cell_type": "code",
      "source": [
        "def unique(L):\n",
        "  unique = list(set(L))\n",
        "  return unique\n",
        "\n",
        "L = list(map(int,input('enter the input :').split()))\n",
        "print(L)\n",
        "print(unique(L))"
      ],
      "metadata": {
        "id": "R5pq1C9LGe1y",
        "colab": {
          "base_uri": "https://localhost:8080/"
        },
        "outputId": "600330ab-ace6-4ee0-be47-a01d9b787e28"
      },
      "execution_count": null,
      "outputs": [
        {
          "output_type": "stream",
          "name": "stdout",
          "text": [
            "enter the input :1 2 3 3 3 4 5 5 6 4 0\n",
            "[1, 2, 3, 3, 3, 4, 5, 5, 6, 4, 0]\n",
            "[0, 1, 2, 3, 4, 5, 6]\n"
          ]
        }
      ]
    },
    {
      "cell_type": "markdown",
      "source": [
        "### **`Problem-2:`** Write a Python function that accepts a hyphen-separated sequence of words as parameter and returns the words in a hyphen-separated sequence after sorting them alphabetically.\n",
        "\n",
        "**Example 1:**\n",
        "\n",
        "Input:\n",
        "```bash\n",
        "green-red-yellow-black-white\n",
        "```\n",
        "\n",
        "Output:\n",
        "```bash\n",
        "black-green-red-white-yellow\n",
        "```"
      ],
      "metadata": {
        "id": "UxQ_VoyJGwHj"
      }
    },
    {
      "cell_type": "code",
      "source": [
        "# Write code here\n",
        "def revert(s):\n",
        "  L = sorted(s.split(\"-\"))\n",
        "  s1 = \"-\".join(L)\n",
        "  return s1\n",
        "s = input('enter the string with hypen: ')\n",
        "print(revert(s))"
      ],
      "metadata": {
        "id": "AAts2m5zGwiQ",
        "colab": {
          "base_uri": "https://localhost:8080/"
        },
        "outputId": "eca54504-19fb-4cda-d5fe-a10f84c7a371"
      },
      "execution_count": null,
      "outputs": [
        {
          "output_type": "stream",
          "name": "stdout",
          "text": [
            "enter the string with hypen: green-red-yellow-black-white\n",
            "black-green-red-white-yellow\n"
          ]
        }
      ]
    },
    {
      "cell_type": "markdown",
      "source": [
        "### **`Problem 3:`** Write a Python function that accepts a string and calculate the number of upper case letters and lower case letters.\n",
        "\n",
        "```\n",
        "Sample String : 'CampusX is an Online Mentorship Program fOr EnginEering studentS.'\n",
        "Expected Output :\n",
        "No. of Upper case characters :  9\n",
        "No. of Lower case Characters :  47\n",
        "```"
      ],
      "metadata": {
        "id": "IRGH62S7Gx_n"
      }
    },
    {
      "cell_type": "code",
      "source": [
        "# Write code here\n",
        "def case_count(s):\n",
        "  l_count= 0\n",
        "  u_count= 0\n",
        "  for char in s:\n",
        "    if char.isupper():\n",
        "      u_count +=1\n",
        "    if char.islower():\n",
        "      l_count += 1\n",
        "  print('No. of upper case characters : ',u_count)\n",
        "  print('No. of lower case characters : ',l_count)\n",
        "\n",
        "s = input('enter the sting : ')\n",
        "case_count(s)\n"
      ],
      "metadata": {
        "id": "OaUrD8vVG5o8",
        "colab": {
          "base_uri": "https://localhost:8080/"
        },
        "outputId": "729ed896-2153-43d7-90c5-382e18a4e40c"
      },
      "execution_count": null,
      "outputs": [
        {
          "output_type": "stream",
          "name": "stdout",
          "text": [
            "enter the sting : Swapn Gupta Placed At TwentyFive Lakh Rupees Yearly\n",
            "No. of upper case characters :  9\n",
            "No. of lower case characters :  35\n"
          ]
        }
      ]
    },
    {
      "cell_type": "markdown",
      "source": [
        "### **`Problem 4:`** Write a Python program to print the even numbers from a given list.\n",
        "```\n",
        "Sample List : [1, 2, 3, 4, 5, 6, 7, 8, 9]\n",
        "Expected Result : [2, 4, 6, 8]\n",
        "```"
      ],
      "metadata": {
        "id": "V1BFFdYQG7Sn"
      }
    },
    {
      "cell_type": "code",
      "source": [
        "# Write code here\n",
        "def even_num(L):\n",
        "   l = [i for i in L if i%2 == 0]\n",
        "   return l\n",
        "\n",
        "s = list(map(int,input('enter the list : ').split()))\n",
        "print(even_num(s))\n"
      ],
      "metadata": {
        "id": "VvAReLoDG_Z3",
        "colab": {
          "base_uri": "https://localhost:8080/"
        },
        "outputId": "a6467295-04d7-4a51-fc16-60e231f85699"
      },
      "execution_count": null,
      "outputs": [
        {
          "output_type": "stream",
          "name": "stdout",
          "text": [
            "enter the list : 1 2 3 4 5 6 7 8 9\n",
            "[2, 4, 6, 8]\n"
          ]
        }
      ]
    },
    {
      "cell_type": "markdown",
      "source": [
        "### **`Problem 5:`** Write a Python function to check whether a number is perfect or not.\n",
        "\n",
        "A Perfect number is a number that is half the sum of all of its positive divisors (including itself).\n",
        "\n",
        "Example :\n",
        "\n",
        "```\n",
        "The first perfect number is 6, because 1, 2, and 3 are its proper positive divisors, and 1 + 2 + 3 = 6.\n",
        "Equivalently, the number 6 is equal to half the sum of all its positive divisors: ( 1 + 2 + 3 + 6 ) / 2 = 6.\n",
        "\n",
        "The next perfect number is 28 = 1 + 2 + 4 + 7 + 14. This is followed by the perfect numbers 496 and 8128.\n",
        "```\n"
      ],
      "metadata": {
        "id": "qrK39Gn-HHb4"
      }
    },
    {
      "cell_type": "code",
      "source": [
        "# Write code here\n",
        "def perfect(n):\n",
        "  i = 1\n",
        "  L = []\n",
        "  sum = 0\n",
        "  while i!= n+1:\n",
        "    if(n%i == 0 ):\n",
        "      L.append(i)\n",
        "    i +=1\n",
        "  for i in L:\n",
        "    sum = sum + i\n",
        "  if(sum == 2*n):\n",
        "    print('this is a perfect nummber')\n",
        "\n",
        "n = int(input('enter the number : '))\n",
        "perfect(n)"
      ],
      "metadata": {
        "id": "P-OI7H78HICs",
        "colab": {
          "base_uri": "https://localhost:8080/"
        },
        "outputId": "51d463ab-c25c-40c8-a6c2-a412323922db"
      },
      "execution_count": null,
      "outputs": [
        {
          "name": "stdout",
          "output_type": "stream",
          "text": [
            "enter the number : 14\n"
          ]
        }
      ]
    },
    {
      "cell_type": "markdown",
      "source": [
        "### **`Problem-6:`** Write a Python function to concatenate any no of dictionaries to create a new one.\n",
        "\n",
        "```\n",
        "Sample Dictionary :\n",
        "dic1={1:10, 2:20}\n",
        "dic2={3:30, 4:40}\n",
        "dic3={5:50,6:60}\n",
        "Expected Result : {1: 10, 2: 20, 3: 30, 4: 40, 5: 50, 6: 60}\n",
        "```"
      ],
      "metadata": {
        "id": "oZdpcG77HO-6"
      }
    },
    {
      "cell_type": "code",
      "source": [
        "# Write code here\n"
      ],
      "metadata": {
        "id": "LQgfAY4ZHPhj"
      },
      "execution_count": null,
      "outputs": []
    },
    {
      "cell_type": "markdown",
      "source": [
        "`Problem-7` Write a python function that accepts a string as input and returns the word with most occurence.\n",
        "\n",
        "```\n",
        "Input:\n",
        "hello how are you i am fine thank you\n",
        "```\n",
        "\n",
        "```\n",
        "Output\n",
        "you -> 2\n",
        "```"
      ],
      "metadata": {
        "id": "jQ6SzbCkHRd0"
      }
    },
    {
      "cell_type": "code",
      "source": [
        "# Write code here\n",
        "def occurence(s):\n",
        "  l = s.split()\n",
        "  visited = []\n",
        "  d = {}\n",
        "  for i in range(0,len(l)):\n",
        "    count = 1\n",
        "    if(l[i] in visited):\n",
        "      continue\n",
        "    else:\n",
        "      for j in range(i+1,len(l)):\n",
        "        if (l[i] == l[j] and l[j] in visited):\n",
        "          count += 1\n",
        "        elif( l[i] == l[j] and l[j] not in visited):\n",
        "          visited.append(l[i])\n",
        "          count += 1\n",
        "      d[l[i]] = count\n",
        "  print(d)\n",
        "  max_count = max(d.values())\n",
        "  words = [(key,value) for key,value in d.items() if value == max_count]\n",
        "  return words\n",
        "\n",
        "\n",
        "\n",
        "s = input('enter the string')\n",
        "print(occurence(s))\n"
      ],
      "metadata": {
        "id": "Lh04JHLzIW7Z",
        "colab": {
          "base_uri": "https://localhost:8080/"
        },
        "outputId": "af60e745-404a-4566-a69c-d715fba597e3"
      },
      "execution_count": null,
      "outputs": [
        {
          "output_type": "stream",
          "name": "stdout",
          "text": [
            "enter the stringapple banana apple orange banana orange\n",
            "{'apple': 2, 'banana': 2, 'orange': 2}\n",
            "[('apple', 2), ('banana', 2), ('orange', 2)]\n"
          ]
        }
      ]
    },
    {
      "cell_type": "markdown",
      "source": [
        "`Problem-8` Write a python function that receives a list of integers and prints out a histogram of bin size 10\n",
        "\n",
        "```\n",
        "Input:\n",
        "[13,42,15,37,22,39,41,50]\n",
        "```\n",
        "\n",
        "```\n",
        "Output:\n",
        "{11-20:2,21-30:1,31-40:2,41-50:3}\n",
        "```"
      ],
      "metadata": {
        "id": "1r8SpVntI-IW"
      }
    },
    {
      "cell_type": "code",
      "source": [
        "def histogram(l):\n",
        "  max_val = max(l)\n",
        "  min_val = min(l)\n",
        "  d = {}\n",
        "  lower_bin = min_val\n",
        "  upper_bin = lower_bin +9\n",
        "  while upper_bin <= max_val+10:\n",
        "    count = 0\n",
        "    for i in l:\n",
        "      if(lower_bin <= i <= upper_bin):\n",
        "        count += 1\n",
        "      interval = '{}-{}'.format(lower_bin,upper_bin)\n",
        "      d[interval] = count\n",
        "    lower_bin = lower_bin+10\n",
        "    upper_bin = lower_bin +9\n",
        "  print(d)\n",
        "\n",
        "s = list(map(int,input('enter the list : ').split()))\n",
        "print(s)\n",
        "histogram(s)"
      ],
      "metadata": {
        "id": "7W0J8rUjJovg",
        "colab": {
          "base_uri": "https://localhost:8080/"
        },
        "outputId": "2cc64795-1c6b-4a26-bce8-d2f896a6533b"
      },
      "execution_count": null,
      "outputs": [
        {
          "output_type": "stream",
          "name": "stdout",
          "text": [
            "enter the list : 10 12 15 22 25 27 30 31 32 33 34 35 37 38 39 40 42 45 50 55 60 61 65\n",
            "[10, 12, 15, 22, 25, 27, 30, 31, 32, 33, 34, 35, 37, 38, 39, 40, 42, 45, 50, 55, 60, 61, 65]\n",
            "{'10-19': 3, '20-29': 3, '30-39': 9, '40-49': 3, '50-59': 2, '60-69': 3}\n"
          ]
        }
      ]
    },
    {
      "cell_type": "code",
      "source": [],
      "metadata": {
        "id": "3aaoIDIUJa4O"
      },
      "execution_count": null,
      "outputs": []
    },
    {
      "cell_type": "markdown",
      "source": [
        "`Problem-9` Write a python function that accepts a list of 2D co-ordinates and a query point, and then finds the the co-ordinate which is closest in terms of distance from the query point.\n",
        "\n",
        "```\n",
        "List of Coordinates\n",
        "[(1,1),(2,2),(3,3),(4,4)]\n",
        "Query Point\n",
        "(0,0)\n",
        "```\n",
        "\n",
        "```\n",
        "Output\n",
        "Nearest to (0,0) is (1,1)\n",
        "```"
      ],
      "metadata": {
        "id": "1P2-rbgXKE53"
      }
    },
    {
      "cell_type": "code",
      "source": [
        "# Write code here\n",
        "def shortest_distance(l):\n",
        "  origin = (0,0)\n",
        "  d = {}\n",
        "  for i in range(len(l)):\n",
        "    dist = ((l[i][0]*l[i][0]) + (l[i][1]*l[i][1]))**.5\n",
        "    d[l[i]] = dist\n",
        "  print(d)\n",
        "  min_val = min(d.values())\n",
        "  for key, value in d.items():\n",
        "     if value == min_val:\n",
        "      return key\n",
        "\n",
        "\n",
        "l = list(map(int,input('enter the list : ').split()))\n",
        "tuple_list = [(l[i],l[i+1]) for i in range(0,len(l),2)]\n",
        "print(tuple_list)\n",
        "print(shortest_distance(tuple_list))"
      ],
      "metadata": {
        "id": "zjn7vSTIJ81G",
        "colab": {
          "base_uri": "https://localhost:8080/"
        },
        "outputId": "33038e6c-469c-4d57-94d5-ac50cadf35d1"
      },
      "execution_count": null,
      "outputs": [
        {
          "output_type": "stream",
          "name": "stdout",
          "text": [
            "enter the list :  1 1 2 2 3 3 4 4 5 5\n",
            "[(1, 1), (2, 2), (3, 3), (4, 4), (5, 5)]\n",
            "{(1, 1): 1.4142135623730951, (2, 2): 2.8284271247461903, (3, 3): 4.242640687119285, (4, 4): 5.656854249492381, (5, 5): 7.0710678118654755}\n",
            "(1, 1)\n"
          ]
        }
      ]
    },
    {
      "cell_type": "markdown",
      "source": [
        "`Problem-10`:Write a python program that receives a list of strings and performs bag of word operation on those strings\n",
        "\n",
        "https://en.wikipedia.org/wiki/Bag-of-words_model"
      ],
      "metadata": {
        "id": "i-B6igmyK9hB"
      }
    },
    {
      "cell_type": "code",
      "source": [
        "# Write code here\n",
        "def bags_of_words(s):\n",
        "  q = s.split()\n",
        "  l = [word.lower() for word in q]\n",
        "  visited = []\n",
        "  d = {}\n",
        "  for i in range(0,len(l)):\n",
        "    count = 1\n",
        "    if(l[i] in visited):\n",
        "      continue\n",
        "    else:\n",
        "      for j in range(i+1,len(l)):\n",
        "        if (l[i] == l[j] and l[j] in visited):\n",
        "          count += 1\n",
        "        elif( l[i] == l[j] and l[j] not in visited):\n",
        "          visited.append(l[i])\n",
        "          count += 1\n",
        "      d[l[i]] = count\n",
        "  print(d)\n",
        "\n",
        "s = input('enter the string : ')\n",
        "bags_of_words(s)"
      ],
      "metadata": {
        "id": "N2l1_AWULT-z",
        "colab": {
          "base_uri": "https://localhost:8080/"
        },
        "outputId": "2113e4a7-8c93-49a9-bcf7-1b96ea2a8146"
      },
      "execution_count": null,
      "outputs": [
        {
          "output_type": "stream",
          "name": "stdout",
          "text": [
            "enter the string : Natural Language Processing (NLP) is a subfield of artificial intelligence. NLP helps machines understand human language. Many applications use NLP, such as chatbots, translation, and sentiment analysis. The field of NLP is growing rapidly\n",
            "{'natural': 1, 'language': 1, 'processing': 1, '(nlp)': 1, 'is': 2, 'a': 1, 'subfield': 1, 'of': 2, 'artificial': 1, 'intelligence.': 1, 'nlp': 2, 'helps': 1, 'machines': 1, 'understand': 1, 'human': 1, 'language.': 1, 'many': 1, 'applications': 1, 'use': 1, 'nlp,': 1, 'such': 1, 'as': 1, 'chatbots,': 1, 'translation,': 1, 'and': 1, 'sentiment': 1, 'analysis.': 1, 'the': 1, 'field': 1, 'growing': 1, 'rapidly': 1}\n"
          ]
        }
      ]
    },
    {
      "cell_type": "markdown",
      "source": [
        "###`Problem 11:` Write a Python program to add three given lists using Python map and lambda."
      ],
      "metadata": {
        "id": "dHTRKb-DqMLw"
      }
    },
    {
      "cell_type": "code",
      "source": [
        "# Write code here\n",
        "l1 = [1,2,3]\n",
        "l2 = [4,5,3]\n",
        "l3 = [7,6,5]\n",
        "\n",
        "print(list(map(lambda x:x , l1+l2+l3)))\n",
        "print(list(set(map(lambda x:x , l1+l2+l3))))\n",
        "print(list(map(lambda x,y,z : x+y+z , l1,l2,l3)))"
      ],
      "metadata": {
        "id": "NfJdzyNZqNW-",
        "colab": {
          "base_uri": "https://localhost:8080/"
        },
        "outputId": "ab330c60-720b-495e-e186-1243a893e081"
      },
      "execution_count": null,
      "outputs": [
        {
          "output_type": "stream",
          "name": "stdout",
          "text": [
            "[1, 2, 3, 4, 5, 3, 7, 6, 5]\n",
            "[1, 2, 3, 4, 5, 6, 7]\n",
            "[12, 13, 11]\n"
          ]
        }
      ]
    },
    {
      "cell_type": "markdown",
      "source": [
        "###`Problem-12:`Write a Python program to create a list containing the power of said number in bases raised to the corresponding number in the index using Python map.\n",
        "`Input:`\n",
        "```\n",
        "list1 = [1,2,3,4,5,6]\n",
        "```\n",
        "`Output:`\n",
        "```\n",
        "[1,2,9,64,625,-]\n",
        "```\n"
      ],
      "metadata": {
        "id": "MgHP7mbUqO8l"
      }
    },
    {
      "cell_type": "code",
      "source": [
        "# Write code here\n",
        "l = [1,2,3,4,5,6]\n",
        "list(map(lambda x,i : (l[i]**l[i-1]) , l,range(len(l))))"
      ],
      "metadata": {
        "id": "gG3Dc6N3qbvN",
        "colab": {
          "base_uri": "https://localhost:8080/"
        },
        "outputId": "1ab2fe0a-e169-4673-eca7-091ab3a6bb7a"
      },
      "execution_count": null,
      "outputs": [
        {
          "output_type": "execute_result",
          "data": {
            "text/plain": [
              "[1, 2, 9, 64, 625, 7776]"
            ]
          },
          "metadata": {},
          "execution_count": 13
        }
      ]
    },
    {
      "cell_type": "markdown",
      "source": [
        "###`Problem-13` Using filter() and list() functions and .lower() method filter all the vowels in a given string.\n",
        "\n"
      ],
      "metadata": {
        "id": "G26SYq6vqdLN"
      }
    },
    {
      "cell_type": "code",
      "source": [
        "# Given string\n",
        "text = \"Hello World! This is a Python Program.\"\n",
        "\n",
        "# Using filter to extract vowels\n",
        "vowels = list(filter(lambda ch: ch.lower() in 'aeiou', text))\n",
        "\n",
        "# Print the result\n",
        "print(vowels)\n"
      ],
      "metadata": {
        "id": "zurga3DIqmEx",
        "colab": {
          "base_uri": "https://localhost:8080/"
        },
        "outputId": "849ceefa-fd94-4474-83d5-1282964ed54c"
      },
      "execution_count": 6,
      "outputs": [
        {
          "output_type": "stream",
          "name": "stdout",
          "text": [
            "['e', 'o', 'o', 'i', 'i', 'a', 'o', 'o', 'a']\n"
          ]
        }
      ]
    },
    {
      "cell_type": "markdown",
      "source": [
        "`Problem-14`: Use reduce to convert a 2D list to 1D"
      ],
      "metadata": {
        "id": "uQrsunZSqoYu"
      }
    },
    {
      "cell_type": "code",
      "source": [
        "from functools import reduce\n",
        "\n",
        "# Given 2D list\n",
        "list2D = [[1, 2, 3], [4, 5], [6, 7, 8, 9]]\n",
        "\n",
        "# Using reduce, map, and lambda to flatten the list\n",
        "flattened_list = reduce(lambda x, y: x + y, map(lambda x: x, list2D))\n",
        "\n",
        "# Print the result\n",
        "print(flattened_list)\n"
      ],
      "metadata": {
        "id": "E1YUwnfgqnka",
        "colab": {
          "base_uri": "https://localhost:8080/"
        },
        "outputId": "639b3f45-3150-4b3c-e5e2-ab0ea021f4c9"
      },
      "execution_count": 5,
      "outputs": [
        {
          "output_type": "stream",
          "name": "stdout",
          "text": [
            "[1, 2, 3, 4, 5, 6, 7, 8, 9]\n"
          ]
        }
      ]
    },
    {
      "cell_type": "markdown",
      "source": [
        "`Problem 15`- A dictionary contains following information about 5 employees:\n",
        "- First name\n",
        "- Last name\n",
        "- Age\n",
        "- Grade(Skilled,Semi-skilled,Highly skilled)<br>\n",
        "Write a program using map/filter/reduce to a list of employees(first name + last name) who are highly skilled"
      ],
      "metadata": {
        "id": "8-DLQEawt-_t"
      }
    },
    {
      "cell_type": "code",
      "source": [
        "# Write code here\n",
        "employees = [\n",
        "    {\n",
        "        'fname':'Nitish',\n",
        "        'lname':'Singh',\n",
        "        'age' : 33,\n",
        "        'grade':'skilled'\n",
        "    },\n",
        "    {\n",
        "        'fname':'Ankit',\n",
        "        'lname':'Verma',\n",
        "        'age' : 34,\n",
        "        'grade':'semi-skilled'\n",
        "    },\n",
        "    {\n",
        "        'fname':'Neha',\n",
        "        'lname':'Singh',\n",
        "        'age' : 35,\n",
        "        'grade':'highly-skilled'\n",
        "    },\n",
        "    {\n",
        "        'fname':'Anurag',\n",
        "        'lname':'Kumar',\n",
        "        'age' : 30,\n",
        "        'grade':'skilled'\n",
        "    },\n",
        "    {\n",
        "        'fname':'Abhinav',\n",
        "        'lname':'Sharma',\n",
        "        'age' : 37,\n",
        "        'grade':'highly-skilled'\n",
        "    }\n",
        "\n",
        "]"
      ],
      "metadata": {
        "id": "OLvptttLs6OU"
      },
      "execution_count": null,
      "outputs": []
    },
    {
      "cell_type": "code",
      "source": [
        "list(map(lambda x:x['fname'] + ' ' + x['lname'],list(filter(lambda x:True if x['grade'] == 'highly-skilled' else False,employees))))"
      ],
      "metadata": {
        "id": "vLX0FAQkui3y",
        "colab": {
          "base_uri": "https://localhost:8080/"
        },
        "outputId": "e7d50543-c30e-4a20-c793-756f5a435df7"
      },
      "execution_count": null,
      "outputs": [
        {
          "output_type": "execute_result",
          "data": {
            "text/plain": [
              "['Neha Singh', 'Abhinav Sharma']"
            ]
          },
          "metadata": {},
          "execution_count": 17
        }
      ]
    },
    {
      "cell_type": "code",
      "source": [],
      "metadata": {
        "id": "ldMjGfkgAMr9"
      },
      "execution_count": null,
      "outputs": []
    }
  ]
}