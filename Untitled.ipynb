{
  "cells": [
    {
      "cell_type": "markdown",
      "metadata": {
        "id": "view-in-github",
        "colab_type": "text"
      },
      "source": [
        "<a href=\"https://colab.research.google.com/github/Swapn2/Data-Science-Learnings/blob/main/Untitled.ipynb\" target=\"_parent\"><img src=\"https://colab.research.google.com/assets/colab-badge.svg\" alt=\"Open In Colab\"/></a>"
      ]
    },
    {
      "cell_type": "code",
      "execution_count": 1,
      "id": "86830310-604a-4a3d-b119-1e1d94cfa14c",
      "metadata": {
        "id": "86830310-604a-4a3d-b119-1e1d94cfa14c"
      },
      "outputs": [],
      "source": [
        "from sklearn.datasets import make_classification\n",
        "from sklearn.model_selection import train_test_split\n",
        "from sklearn.metrics import accuracy_score\n",
        "from sklearn.ensemble import GradientBoostingClassifier\n",
        "import xgboost as xgb\n",
        "import time"
      ]
    },
    {
      "cell_type": "code",
      "execution_count": 2,
      "id": "643923a7-b42a-4c93-9332-db833afdc150",
      "metadata": {
        "colab": {
          "base_uri": "https://localhost:8080/"
        },
        "id": "643923a7-b42a-4c93-9332-db833afdc150",
        "outputId": "f9a9044c-50fa-4725-e9f6-75aa2fb9c5ab"
      },
      "outputs": [
        {
          "output_type": "stream",
          "name": "stderr",
          "text": [
            "/usr/local/lib/python3.11/dist-packages/xgboost/core.py:158: UserWarning: [05:41:21] WARNING: /workspace/src/learner.cc:740: \n",
            "Parameters: { \"use_label_encoder\" } are not used.\n",
            "\n",
            "  warnings.warn(smsg, UserWarning)\n"
          ]
        },
        {
          "output_type": "execute_result",
          "data": {
            "text/plain": [
              "(90.00012445449829, 0.9325, 13.92359447479248, 0.935)"
            ]
          },
          "metadata": {},
          "execution_count": 2
        }
      ],
      "source": [
        "x,y = make_classification(n_samples = 10000,n_features=200,random_state = 42)\n",
        "x_train,x_test,y_train,y_test = train_test_split(x,y,test_size = .2 , random_state = 42)\n",
        "gb_model = GradientBoostingClassifier(random_state =42)\n",
        "xgb_model = xgb.XGBClassifier(random_state=42,use_label_encoder=False,eval_metric = 'logloss')\n",
        "start_xgb = time.time()\n",
        "xgb_model.fit(x_train,y_train)\n",
        "end_xgb = time.time()\n",
        "xgb_time = end_xgb - start_xgb\n",
        "\n",
        "start_gb = time.time()\n",
        "gb_model.fit(x_train, y_train)\n",
        "end_gb = time.time()\n",
        "gb_time = end_gb - start_gb\n",
        "\n",
        "gb_predictions = gb_model.predict(x_test)\n",
        "gb_accuracy = accuracy_score(y_test, gb_predictions)\n",
        "\n",
        "\n",
        "xgb_predictions = xgb_model.predict(x_test)\n",
        "xgb_accuracy = accuracy_score(y_test,xgb_predictions)\n",
        "gb_time,gb_accuracy,xgb_time , xgb_accuracy"
      ]
    },
    {
      "cell_type": "code",
      "execution_count": 3,
      "id": "5ecccc67-1c36-44d6-b007-703d38b28a08",
      "metadata": {
        "colab": {
          "base_uri": "https://localhost:8080/"
        },
        "id": "5ecccc67-1c36-44d6-b007-703d38b28a08",
        "outputId": "ae2f277a-1323-423f-a341-bf1eeee5d104"
      },
      "outputs": [
        {
          "output_type": "stream",
          "name": "stderr",
          "text": [
            "/usr/local/lib/python3.11/dist-packages/xgboost/core.py:158: UserWarning: [05:44:01] WARNING: /workspace/src/learner.cc:740: \n",
            "Parameters: { \"use_label_encoder\" } are not used.\n",
            "\n",
            "  warnings.warn(smsg, UserWarning)\n"
          ]
        },
        {
          "output_type": "execute_result",
          "data": {
            "text/plain": [
              "0.5"
            ]
          },
          "metadata": {},
          "execution_count": 3
        }
      ],
      "source": [
        "import numpy as np\n",
        "import xgboost as xgb\n",
        "from sklearn.model_selection import train_test_split\n",
        "from sklearn.metrics import accuracy_score\n",
        "\n",
        "x = np.array([[1,2],\n",
        "              [3,np.nan],\n",
        "              [7,8],\n",
        "              [5,6],\n",
        "              [3,4],\n",
        "              [8,9]])\n",
        "\n",
        "y = np.array([0,1,0,1,0,1])\n",
        "\n",
        "x_train,x_test,y_train,y_test = train_test_split(x,y,test_size = .2 , random_state =42)\n",
        "\n",
        "model = xgb.XGBClassifier(use_label_encoder = False , eval_metric = 'logloss')\n",
        "\n",
        "model.fit(x_train,y_train)\n",
        "y_pred = model.predict(x_test)\n",
        "accuracy = accuracy_score(y_test,y_pred)\n",
        "\n",
        "accuracy\n"
      ]
    },
    {
      "cell_type": "code",
      "execution_count": 3,
      "id": "08a68a6d-df51-40b9-b82a-e896967d7ccf",
      "metadata": {
        "id": "08a68a6d-df51-40b9-b82a-e896967d7ccf"
      },
      "outputs": [],
      "source": []
    }
  ],
  "metadata": {
    "kernelspec": {
      "display_name": "Python 3 (ipykernel)",
      "language": "python",
      "name": "python3"
    },
    "language_info": {
      "codemirror_mode": {
        "name": "ipython",
        "version": 3
      },
      "file_extension": ".py",
      "mimetype": "text/x-python",
      "name": "python",
      "nbconvert_exporter": "python",
      "pygments_lexer": "ipython3",
      "version": "3.9.19"
    },
    "colab": {
      "provenance": [],
      "include_colab_link": true
    }
  },
  "nbformat": 4,
  "nbformat_minor": 5
}