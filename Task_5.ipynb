{
  "nbformat": 4,
  "nbformat_minor": 0,
  "metadata": {
    "colab": {
      "provenance": [],
      "include_colab_link": true
    },
    "kernelspec": {
      "name": "python3",
      "display_name": "Python 3"
    },
    "language_info": {
      "name": "python"
    }
  },
  "cells": [
    {
      "cell_type": "markdown",
      "metadata": {
        "id": "view-in-github",
        "colab_type": "text"
      },
      "source": [
        "<a href=\"https://colab.research.google.com/github/Swapn2/Data-Science-Learnings/blob/main/Task_5.ipynb\" target=\"_parent\"><img src=\"https://colab.research.google.com/assets/colab-badge.svg\" alt=\"Open In Colab\"/></a>"
      ]
    },
    {
      "cell_type": "markdown",
      "source": [
        "# Tuple\n"
      ],
      "metadata": {
        "id": "limD5IAfl-tz"
      }
    },
    {
      "cell_type": "markdown",
      "source": [
        "###`Q1:` Join Tuples if similar initial element\n",
        "While working with Python tuples, we can have a problem in which we need to perform concatenation of records from the similarity of initial element. This problem can have applications in data domains such as Data Science.\n",
        "\n",
        "For eg.\n",
        "```\n",
        "Input  : test_list = [(5, 6), (5, 7), (5, 8), (6, 10), (7, 13)]\n",
        "Output : [(5, 6, 7, 8), (6, 10), (7, 13)]\n",
        "```"
      ],
      "metadata": {
        "id": "nSTn3CjbmB7q"
      }
    },
    {
      "cell_type": "code",
      "source": [
        "# write your code here\n",
        "L = [(5, 6), (5, 7), (5, 8), (6, 10), (7, 13)]\n",
        "d = []\n",
        "visited = set()\n",
        "for i in range(len(L)):\n",
        "  if L[i][0] in visited:\n",
        "    continue\n",
        "  new_tuple = L[i]\n",
        "  for j in range(i+1,len(L)):\n",
        "    if(L[i][0] == L[j][0]):\n",
        "      new_tuple = new_tuple + L[j][1:]\n",
        "  d.append(new_tuple)\n",
        "  visited.add(L[i][0])\n",
        "\n",
        "print(d)"
      ],
      "metadata": {
        "id": "hwVeEvH9rJzU",
        "colab": {
          "base_uri": "https://localhost:8080/"
        },
        "outputId": "f569e320-0cc8-4d1a-8a75-386e56c9afd0"
      },
      "execution_count": null,
      "outputs": [
        {
          "output_type": "stream",
          "name": "stdout",
          "text": [
            "[(5, 6, 7, 8), (6, 10), (7, 13)]\n"
          ]
        }
      ]
    },
    {
      "cell_type": "code",
      "source": [
        " # write your code here\n",
        "L = [(5, 6), (5, 7), (5, 8), (6, 10), (7, 13)]\n",
        "#L = L = [(5, 6, 9), (5, 7, 11), (5, 8, 12), (6, 10, 15), (7, 13, 20)]\n",
        "d = {}\n",
        "\n",
        "for i in L:\n",
        "  key = i[0]\n",
        "  value = i[1:]\n",
        "  if key in d:\n",
        "    d[key] = d[key] + value\n",
        "    #print(d[key],'8')\n",
        "  else:\n",
        "    d[key] = i\n",
        "\n",
        "print(list(d.values()))\n",
        "\n"
      ],
      "metadata": {
        "colab": {
          "base_uri": "https://localhost:8080/"
        },
        "id": "BTC5qnMQ4x8x",
        "outputId": "71e6a11b-5195-4cac-d96e-e81c5bfc4ca5"
      },
      "execution_count": null,
      "outputs": [
        {
          "output_type": "stream",
          "name": "stdout",
          "text": [
            "[(5, 6, 7, 8), (6, 10), (7, 13)]\n"
          ]
        }
      ]
    },
    {
      "cell_type": "markdown",
      "source": [
        "###`Q2:` Multiply Adjacent elements (both side) and take sum of right and lest side multiplication result.\n",
        "\n",
        "\n",
        "For eg.\n",
        "```\n",
        "The original tuple : (1, 5, 7, 8, 10)\n",
        "Resultant tuple after multiplication :\n",
        "\n",
        "(1*5, 1*5+5*7, 7*5 + 7*8, 8*7 + 8*10, 10*8) -> (5, 40, 91, 136, 80)\n",
        "\n",
        "output-(5, 40, 91, 136, 80)\n",
        "```"
      ],
      "metadata": {
        "id": "ujQpZOFFmeha"
      }
    },
    {
      "cell_type": "code",
      "source": [
        "# write your code here\n",
        "L = (1, 5, 7, 8, 10)\n",
        "tup = ()\n",
        "for i in range(len(L)):\n",
        "  if i == 0:\n",
        "    sum = (L[i]*L[i+1])\n",
        "    tup = tup + (sum,)\n",
        "  elif(i == len(L)-1):\n",
        "    sum = (L[i]*L[i-1])\n",
        "    tup = tup + (sum,)\n",
        "  else:\n",
        "    sum = (L[i]*L[i+1]) + (L[i]*L[i-1])\n",
        "    tup = tup + (sum,)\n",
        "\n",
        "\n",
        "print(tup)\n",
        "\n",
        "\n"
      ],
      "metadata": {
        "id": "N9lveEsArNVc",
        "colab": {
          "base_uri": "https://localhost:8080/"
        },
        "outputId": "cbccecfc-8f84-4b99-b4e8-5acfc06b0503"
      },
      "execution_count": null,
      "outputs": [
        {
          "output_type": "stream",
          "name": "stdout",
          "text": [
            "(5, 40, 91, 136, 80)\n"
          ]
        }
      ]
    },
    {
      "cell_type": "markdown",
      "source": [
        "###`Q3`: Check is tuples are same or not?\n",
        "Two tuples would be same if both tuples have same element at same index\n",
        "```\n",
        "t1 = (1,2,3,0)\n",
        "t2 = (0,1,2,3)\n",
        "\n",
        "t1 and t2 are not same\n",
        "```"
      ],
      "metadata": {
        "id": "x0psnUiu2ZVp"
      }
    },
    {
      "cell_type": "code",
      "source": [
        "# write your code here\n",
        "t1 = (1,2,3,0)\n",
        "t2 = (0,1,2,3)\n",
        "\n",
        "for i in t1:\n",
        "  if  i in t2:\n",
        "    flag = True\n",
        "  else:\n",
        "    flag = False\n",
        "\n",
        "if flag == True:\n",
        "  print('same')"
      ],
      "metadata": {
        "id": "JMVw9EhSrPEc",
        "colab": {
          "base_uri": "https://localhost:8080/"
        },
        "outputId": "98f7a3da-d952-492f-d498-1168f849e32e"
      },
      "execution_count": null,
      "outputs": [
        {
          "output_type": "stream",
          "name": "stdout",
          "text": [
            "same\n"
          ]
        }
      ]
    },
    {
      "cell_type": "markdown",
      "source": [
        "###`Q4`: Count no of tuples, list and set from a list\n",
        "```\n",
        "list1 = [{'hi', 'bye'},{'Geeks', 'forGeeks'},('a', 'b'),['hi', 'bye'],['a', 'b']]\n",
        "\n",
        "```\n",
        "`Output:`\n",
        "\n",
        "```\n",
        "List-2\n",
        "Set-2\n",
        "Tuples-1\n",
        "```"
      ],
      "metadata": {
        "id": "aZ4rObHK4fCN"
      }
    },
    {
      "cell_type": "code",
      "source": [
        "# write your code here\n",
        "list1 = [{'hi', 'bye'},{'Geeks', 'forGeeks'},('a', 'b'),['hi', 'bye'],['a', 'b']]\n",
        "list_count = 0\n",
        "set_count = 0\n",
        "tuple_count = 0\n",
        "for i in list1:\n",
        "  if(type(i) == list):\n",
        "    list_count = list_count + 1\n",
        "  elif(type(i) == set):\n",
        "    set_count = set_count + 1\n",
        "  else:\n",
        "    tuple_count = tuple_count + 1\n",
        "\n",
        "print('list-',list_count)\n",
        "print('tuple - ',tuple_count)\n",
        "print('set-',set_count)\n",
        "\n"
      ],
      "metadata": {
        "id": "g_Bnuczk69tG",
        "colab": {
          "base_uri": "https://localhost:8080/"
        },
        "outputId": "a7d68f7d-5409-4aae-ea7e-1e7d1fb58fd5"
      },
      "execution_count": null,
      "outputs": [
        {
          "output_type": "stream",
          "name": "stdout",
          "text": [
            "list- 2\n",
            "tuple -  1\n",
            "set- 2\n"
          ]
        }
      ]
    },
    {
      "cell_type": "markdown",
      "source": [
        "###`Q5`: Shortlist Students for a Job role\n",
        "Ask user to input students record and store in tuples for each record. Then Ask user to input three things he wants in the candidate- Primary Skill, Higher Education, Year of Graduation.\n",
        "\n",
        "Show every students record in form of tuples if matches all required criteria.\n",
        "\n",
        "It is assumed that there will be only one primry skill.\n",
        "\n",
        "If no such candidate found, print `No such candidate`\n",
        "\n",
        "`Input:`\n",
        "```\n",
        "Enter No of records- 2\n",
        "Enter Details of student-1\n",
        "Enter Student name- Manohar\n",
        "Enter Higher Education- B.Tech\n",
        "Enter Primary Skill- Python\n",
        "Enter Year of Graduation- 2022\n",
        "Enter Details of student-2\n",
        "Enter Student name- Ponian\n",
        "Enter Higher Education- B.Sc.\n",
        "Enter Primary Skill- C++\n",
        "Enter Year of Graduation- 2020\n",
        "\n",
        "Enter Job Role Requirement\n",
        "Enter Skill- Python\n",
        "Enter Higher Education- B.Tech\n",
        "Enter Year of Graduation- 2022\n",
        "```\n",
        "\n",
        "`Output`\n",
        "```\n",
        "('Manohar', 'B.tech', 'Python', '2022')\n",
        "```\n"
      ],
      "metadata": {
        "id": "jInFNuit8hf1"
      }
    },
    {
      "cell_type": "code",
      "source": [
        "# write your code here\n",
        "students = []\n",
        "# enter the job requiement\n",
        "print(\"enter job role requirement \")\n",
        "primary_skill = input(\"enter the skill \")\n",
        "education = input(\"enter the higher education \")\n",
        "graduation_year = input(\"enter the year of graduation \")\n",
        "\n",
        "n = int(input('enter the number of records'))\n",
        "\n",
        "for i in range(n):\n",
        "  print(\"enter the details of student : \",i+1)\n",
        "  name = input(\"enter the name of student \")\n",
        "  education = input(\"enter the higher education \")\n",
        "  primary_skill = input(\"enter the skill \")\n",
        "  graduation_year = input(\"enter the year of graduation \")\n",
        "\n",
        "  student_tuple = (name,primary_skill,education,graduation_year)\n",
        "  students.append(student_tuple)\n",
        "\n",
        "print(students)\n",
        "flag = False\n",
        "\n",
        "for i in range(len(students)):\n",
        "  if(students[i][1] == primary_skill and students[i][2] == education and students[i][3] == graduation_year):\n",
        "    print('selected candidate',students[i])\n",
        "    flag = True\n",
        "\n",
        "if flag == False:\n",
        "  print('no candidate ')"
      ],
      "metadata": {
        "id": "erh9QZaerSHk",
        "colab": {
          "base_uri": "https://localhost:8080/"
        },
        "outputId": "c534259d-4fd5-4b81-bc52-8f0adeb6407f"
      },
      "execution_count": null,
      "outputs": [
        {
          "output_type": "stream",
          "name": "stdout",
          "text": [
            "enter job role requirement \n",
            "enter the skill python\n",
            "enter the higher education 23026\n",
            "enter the year of graduation 2026\n",
            "enter the number of records1\n",
            "enter the details of student :  1\n",
            "enter the name of student swapn\n",
            "enter the higher education 23026\n",
            "enter the skill python\n",
            "enter the year of graduation 2026\n",
            "[('swapn', 'python', '23026', '2026')]\n",
            "('swapn', 'python', '23026', '2026')\n"
          ]
        }
      ]
    },
    {
      "cell_type": "markdown",
      "source": [
        "# Set"
      ],
      "metadata": {
        "id": "l4hLvwD2BeIN"
      }
    },
    {
      "cell_type": "markdown",
      "source": [
        "###`Q1:` Write a program to find set of common elements in three lists using sets.\n",
        "```\n",
        "Input : ar1 = [1, 5, 10, 20, 40, 80]\n",
        "        ar2 = [6, 7, 20, 80, 100]\n",
        "        ar3 = [3, 4, 15, 20, 30, 70, 80, 120]\n",
        "\n",
        "Output : [80, 20]\n",
        "```"
      ],
      "metadata": {
        "id": "zCX0Sk2IBfu8"
      }
    },
    {
      "cell_type": "code",
      "source": [
        "# write your code here\n",
        "ar1 = [1, 5, 10, 20, 40, 80]\n",
        "ar2 = [6, 7, 20, 80, 100]\n",
        "ar3 = [3, 4, 15, 20, 30, 70, 80, 120]\n",
        "\n",
        "ar1 = set(ar1)\n",
        "ar2 = set(ar2)\n",
        "ar3 = set(ar3)\n",
        "\n",
        "new_set = ar1.intersection(ar2,ar3)\n",
        "\n",
        "print(list(new_set))"
      ],
      "metadata": {
        "id": "rqATYpBUrUQU",
        "colab": {
          "base_uri": "https://localhost:8080/"
        },
        "outputId": "2bce55a1-355d-47bd-b1fb-dddfe983679c"
      },
      "execution_count": null,
      "outputs": [
        {
          "output_type": "stream",
          "name": "stdout",
          "text": [
            "[80, 20]\n"
          ]
        }
      ]
    },
    {
      "cell_type": "markdown",
      "source": [
        "###`Q2:` Write a program to count unique number of vowels using sets in a given string. Lowercase and upercase vowels will be taken as different.\n",
        "\n",
        "`Input:`\n",
        "```\n",
        "Str1 = \"hands-on data science mentorship progrAm with live classes at affordable fee only on CampusX\"\n",
        "```\n",
        "`Output:`\n",
        "```\n",
        "No of unique vowels-6\n",
        "```"
      ],
      "metadata": {
        "id": "0gOVS-0yCYrK"
      }
    },
    {
      "cell_type": "code",
      "source": [
        "# write your code here\n",
        "str1 = \"hands-on data science mentorship progrAm with live classes at affordable fee only on CampusX\"\n",
        "str1 = set(str1)\n",
        "print(str1)\n",
        "vowels = 0\n",
        "for i in str1:\n",
        "  if (i == 'a' or i == 'e' or i == 'i' or i == 'o' or i == 'u' or i == 'A' or i == 'E' or i == 'I' or i == 'O' or i == 'U'):\n",
        "    vowels = vowels +1\n",
        "print('No of unique vowels-',vowels)\n"
      ],
      "metadata": {
        "id": "0vAlEAOzDihm",
        "colab": {
          "base_uri": "https://localhost:8080/"
        },
        "outputId": "3f9b5d26-1b34-47e2-d28a-beb3dbcc03ae"
      },
      "execution_count": null,
      "outputs": [
        {
          "output_type": "stream",
          "name": "stdout",
          "text": [
            "{'t', 'g', 'i', 'd', 'm', 'r', 'v', 'a', 'A', 'e', 'o', 'n', 'h', 'l', ' ', 'c', 'X', 'w', 's', 'f', 'b', '-', 'C', 'p', 'y', 'u'}\n",
            "No of unique vowels- 6\n"
          ]
        }
      ]
    },
    {
      "cell_type": "markdown",
      "source": [
        "### `Q3:` Write a program to Check if a given string is binary string of or not.\n",
        "\n",
        "A string is said to be binary if it's consists of only two unique characters.\n",
        "\n",
        "Take string input from user.\n",
        "\n",
        "```\n",
        "Input: str = \"01010101010\"\n",
        "Output: Yes\n",
        "\n",
        "Input: str = \"1222211\"\n",
        "Output: Yes\n",
        "\n",
        "Input: str = \"Campusx\"\n",
        "Output: No\n",
        "```"
      ],
      "metadata": {
        "id": "fqLZxiarEne5"
      }
    },
    {
      "cell_type": "code",
      "source": [
        "# write your code here\n",
        "\n",
        "str1 = input('enter the string ')\n",
        "\n",
        "if str1.isnumeric():\n",
        "  print('Yes')\n",
        "else:\n",
        "\n",
        "  print('no')"
      ],
      "metadata": {
        "id": "5M5v8LoYrXkE",
        "colab": {
          "base_uri": "https://localhost:8080/"
        },
        "outputId": "c28cd52e-c5e6-49e5-8bae-8aeebea2ec17"
      },
      "execution_count": null,
      "outputs": [
        {
          "output_type": "stream",
          "name": "stdout",
          "text": [
            "enter the string 465\n",
            "Yes\n"
          ]
        }
      ]
    },
    {
      "cell_type": "markdown",
      "source": [
        "### `Q4`: find union of n arrays.\n",
        "\n",
        "**Example 1:**\n",
        "\n",
        "Input:\n",
        "```bash\n",
        "[[1, 2, 2, 4, 3, 6],\n",
        " [5, 1, 3, 4],\n",
        " [9, 5, 7, 1],\n",
        " [2, 4, 1, 3]]\n",
        "```\n",
        "\n",
        "Output:\n",
        "\n",
        "```bash\n",
        "[1, 2, 3, 4, 5, 6, 7, 9]\n",
        "```"
      ],
      "metadata": {
        "id": "xXS8wYH1mDqx"
      }
    },
    {
      "cell_type": "code",
      "source": [
        "row = int(input('enter the number of rows '))\n",
        "\n",
        "matrix = []\n",
        "union = set()\n",
        "for _ in range(row):\n",
        "  row = list(map(int ,input('enter the list : ').split()))\n",
        "  matrix.append(row)\n",
        "\n",
        "# print(matrix)\n",
        "\n",
        "for i in matrix:\n",
        "  union = union.union(i)\n",
        "\n",
        "print(list(union))"
      ],
      "metadata": {
        "id": "FVNyK6MbncU8",
        "colab": {
          "base_uri": "https://localhost:8080/"
        },
        "outputId": "8530d8a0-4938-425f-fe2a-f1d6040c8790"
      },
      "execution_count": null,
      "outputs": [
        {
          "output_type": "stream",
          "name": "stdout",
          "text": [
            "enter the number of rows 4\n",
            "enter the list : 1 2 2 4 3 6 \n",
            "enter the list : 5 1 3 4\n",
            "enter the list : 9 5 7 1 \n",
            "enter the list : 7 4 1 3 \n",
            "[[1, 2, 2, 4, 3, 6], [5, 1, 3, 4], [9, 5, 7, 1], [7, 4, 1, 3]]\n",
            "{1, 2, 3, 4, 5, 6, 7, 9}\n"
          ]
        }
      ]
    },
    {
      "cell_type": "markdown",
      "source": [
        "### `Q5`: Intersection of two lists. Intersection of two list means we need to take all those elements which are common to both of the initial lists and store them into another list. Only use using **list-comprehension**.\n",
        "\n",
        "**Example 1:**\n",
        "\n",
        "Input:\n",
        "```bash\n",
        "lst1 = {15, 9, 10, 56, 23, 78, 5, 4, 9}\n",
        "lst2 = {9, 4, 5, 36, 47, 26, 10, 45, 87}\n",
        "```\n",
        "\n",
        "Output:\n",
        "```bash\n",
        "[9, 10, 4, 5]\n",
        "```\n",
        "\n",
        "**Example 2:**\n",
        "\n",
        "Input:\n",
        "```bash\n",
        "lst1 = {4, 9, 1, 17, 11, 26, 28, 54, 69}\n",
        "lst2 = {9, 9, 74, 21, 45, 11, 63, 28, 26}\n",
        "```\n",
        "\n",
        "Output:\n",
        "```bash\n",
        "[9, 11, 26, 28]\n",
        "```"
      ],
      "metadata": {
        "id": "T_Re21BdndOz"
      }
    },
    {
      "cell_type": "code",
      "source": [
        "a = set(map(int , input(\"Enter the set: \").split()))\n",
        "b = set(map(int , input(\"Enter the set: \").split()))\n",
        "\n",
        "\n",
        "# print(a)\n",
        "# print(b)\n",
        "\n",
        "new_set = a.intersection(b)\n",
        "print(new_set)"
      ],
      "metadata": {
        "id": "nWnL25ftoLVT",
        "colab": {
          "base_uri": "https://localhost:8080/"
        },
        "outputId": "e5922fd7-36a5-400e-991e-fc19a2611ae0"
      },
      "execution_count": null,
      "outputs": [
        {
          "output_type": "stream",
          "name": "stdout",
          "text": [
            "Enter the set: 1 2 3 4 \n",
            "Enter the set: 5 4 1 2 \n",
            "{1, 2, 4}\n"
          ]
        }
      ]
    },
    {
      "cell_type": "markdown",
      "source": [
        "# Dictionary"
      ],
      "metadata": {
        "id": "tD2RSYn1a8oA"
      }
    },
    {
      "cell_type": "markdown",
      "source": [
        "### `Q1`: Key with maximum unique values\n",
        "\n",
        "Given a dictionary with values list, extract key whose value has most unique values.\n",
        "\n",
        "**Example 1:**\n",
        "\n",
        "Input:\n",
        "\n",
        "```bash\n",
        "test_dict = {\"CampusX\" : [5, 7, 9, 4, 0], \"is\" : [6, 7, 4, 3, 3], \"Best\" : [9, 9, 6, 5, 5]}\n",
        "```\n",
        "\n",
        "Output:\n",
        "```bash\n",
        "CampusX\n",
        "```\n",
        "\n",
        "**Example 2:**\n",
        "\n",
        "Input:\n",
        "```bash\n",
        "test_dict = {\"CampusX\" : [5, 7, 7, 7, 7], \"is\" : [6, 7, 7, 7], \"Best\" : [9, 9, 6, 5, 5]}\n",
        "```\n",
        "\n",
        "Output:\n",
        "```bash\n",
        "Best\n",
        "```"
      ],
      "metadata": {
        "id": "7tUjHhcPbQzQ"
      }
    },
    {
      "cell_type": "code",
      "source": [
        "from urllib.parse import uses_query\n",
        "n = int(input('enter the no. of key-value pairs'))\n",
        "d = {}\n",
        "\n",
        "for _ in range(n):\n",
        "  key = input('enter the key ')\n",
        "  value = list(map(int,input('enter the list').split()))\n",
        "  d[key] = value\n",
        "print(d)\n",
        "max_value = 0\n",
        "max_key = None\n",
        "for key,value in d.items():  # to convert into set\n",
        "  set_values = set(value)\n",
        "  set_len = len(set_values)\n",
        "\n",
        "  if(set_len > max_value):\n",
        "    max_value = set_len\n",
        "    max_key  = key\n",
        "print(key)\n"
      ],
      "metadata": {
        "id": "N8KHX863lNxL",
        "colab": {
          "base_uri": "https://localhost:8080/"
        },
        "outputId": "2dd710ac-7558-47aa-be34-05400f7e2e1e"
      },
      "execution_count": null,
      "outputs": [
        {
          "output_type": "stream",
          "name": "stdout",
          "text": [
            "enter the no. of key-value pairs3\n",
            "enter the key swapn\n",
            "enter the list5 7 7 7 7\n",
            "enter the key is \n",
            "enter the list6 7 7 7 \n",
            "enter the key best \n",
            "enter the list 9 9 5 6 6 \n",
            "{'swapn': [5, 7, 7, 7, 7], 'is ': [6, 7, 7, 7], 'best ': [9, 9, 5, 6, 6]}\n",
            "best \n"
          ]
        }
      ]
    },
    {
      "cell_type": "markdown",
      "source": [
        "### `Q2`: Replace words from Dictionary. Given String, replace it’s words from lookup dictionary.\n",
        "\n",
        "**Example 1:**\n",
        "\n",
        "Input:\n",
        "\n",
        "```bash\n",
        "test_str = 'CampusX best for DS students.'\n",
        "repl_dict = {\"best\" : \"is the best channel\", \"DS\" : \"Data-Science\"}\n",
        "```\n",
        "\n",
        "Output:\n",
        "\n",
        "```bash\n",
        "CampusX is the best channel for Data-Science students.\n",
        "```\n",
        "\n",
        "**Example 2:**\n",
        "\n",
        "Input:\n",
        "```bash\n",
        "test_str = 'CampusX best for DS students.'\n",
        "repl_dict = {\"good\" : \"is the best channel\", \"ds\" : \"Data-Science\"}\n",
        "```\n",
        "\n",
        "Output:\n",
        "```bash\n",
        "CampusX best for DS students.\n",
        "```"
      ],
      "metadata": {
        "id": "_S5X6C84dWdJ"
      }
    },
    {
      "cell_type": "code",
      "source": [
        "# write your code here"
      ],
      "metadata": {
        "id": "BTAQ8qnrlOxr"
      },
      "execution_count": null,
      "outputs": []
    },
    {
      "cell_type": "markdown",
      "source": [
        "### `Q3`: Convert List to List of dictionaries. Given list values and keys list, convert these values to key value pairs in form of list of dictionaries.\n",
        "\n",
        "**Example 1:**\n",
        "\n",
        "Input:\n",
        "```bash\n",
        "test_list = [\"DataScience\", 3, \"is\", 8]\n",
        "key_list = [\"name\", \"id\"]\n",
        "```\n",
        "\n",
        "Output:\n",
        "\n",
        "```bash\n",
        "[{'name': 'DataScience', 'id': 3}, {'name': 'is', 'id': 8}]\n",
        "```\n",
        "\n",
        "**Example 2:**\n",
        "\n",
        "Input:\n",
        "```bash\n",
        "test_list = [\"CampusX\", 10]\n",
        "key_list = [\"name\", \"id\"]\n",
        "```\n",
        "\n",
        "Output:\n",
        "\n",
        "```bash\n",
        "[{'name': 'CampusX', 'id': 10}]\n",
        "```"
      ],
      "metadata": {
        "id": "55xgap3zfbcR"
      }
    },
    {
      "cell_type": "code",
      "source": [
        "# write your code here\n",
        "test_list = [\"DataScience\", 3, \"is\", 8]\n",
        "key_list = [\"name\", \"id\"]\n",
        "d = {}\n",
        "L = []\n",
        "for i in range(0,len(test_list),2):\n",
        "  key1 = key_list[0]\n",
        "  key2 = key_list[1]\n",
        "  d[key1] = test_list[i]\n",
        "  d[key2] = test_list[i+1]\n",
        "  L.append(d)\n",
        "print(L)\n",
        "\n",
        "\n"
      ],
      "metadata": {
        "id": "jbCajI87lQFr",
        "colab": {
          "base_uri": "https://localhost:8080/"
        },
        "outputId": "fdeb371d-e12d-4222-9513-1c452dc17e1f"
      },
      "execution_count": 8,
      "outputs": [
        {
          "output_type": "stream",
          "name": "stdout",
          "text": [
            "[{'name': 'is', 'id': 8}, {'name': 'is', 'id': 8}]\n"
          ]
        }
      ]
    },
    {
      "cell_type": "markdown",
      "source": [
        "### `Q4`: Convert a list of Tuples into Dictionary.\n",
        "\n",
        "**Example 1:**\n",
        "\n",
        "Input:\n",
        "```bash\n",
        "[(\"akash\", 10), (\"gaurav\", 12), (\"anand\", 14), (\"suraj\", 20), (\"akhil\", 25), (\"ashish\", 30)]\n",
        "```\n",
        "\n",
        "Output:\n",
        "```bash\n",
        "{'akash': [10], 'gaurav': [12], 'anand': [14], 'suraj': [20], 'akhil': [25], 'ashish': [30]}\n",
        "```\n",
        "\n",
        "**Example 2:**\n",
        "\n",
        "Input:\n",
        "```bash\n",
        "[('A', 1), ('B', 2), ('C', 3)]\n",
        "```\n",
        "\n",
        "Output:\n",
        "```bash\n",
        "{'A': [1], 'B': [2], 'C': [3]}\n",
        "```"
      ],
      "metadata": {
        "id": "5RxBlLQahLkB"
      }
    },
    {
      "cell_type": "code",
      "source": [
        "# write your code here\n",
        "n = int(input('enter the number of tuple pairs : '))\n",
        "tup_list = []\n",
        "for i in range(n):\n",
        "  name,num = input('enter the name and number').split()\n",
        "  tup_list.append((name,int(num)))\n",
        "d = {}\n",
        "\n",
        "for i in range(len(tup_list)):\n",
        "  key = tup_list[i][0]\n",
        "  value = [tup_list[i][1]]\n",
        "  d[key] = value\n",
        "\n",
        "print(d)"
      ],
      "metadata": {
        "id": "f1yz7inMlQ5N",
        "colab": {
          "base_uri": "https://localhost:8080/"
        },
        "outputId": "7a24344c-bff6-4c6d-d45a-dfe7a751337e"
      },
      "execution_count": null,
      "outputs": [
        {
          "output_type": "stream",
          "name": "stdout",
          "text": [
            "enter the number of tuple pairs : 1\n",
            "enter the name and numbers 10\n",
            "{'s': [10]}\n"
          ]
        }
      ]
    },
    {
      "cell_type": "markdown",
      "source": [
        "### `Q5`: Sort Dictionary key and values List.\n",
        "\n",
        "**Example 1:**\n",
        "\n",
        "Input:\n",
        "\n",
        "```bash\n",
        "{'c': [3], 'b': [12, 10], 'a': [19, 4]}\n",
        "```\n",
        "\n",
        "Output:\n",
        "\n",
        "```bash\n",
        "{'a': [4, 19], 'b': [10, 12], 'c': [3]}\n",
        "```\n",
        "\n",
        "**Example 2:**\n",
        "\n",
        "Input:\n",
        "\n",
        "```bash\n",
        "{'c': [10, 34, 3]}\n",
        "```\n",
        "\n",
        "Output:\n",
        "\n",
        "```bash\n",
        "{'c': [3, 10, 34]}\n",
        "```"
      ],
      "metadata": {
        "id": "Fz8EzJD-kBkS"
      }
    },
    {
      "cell_type": "code",
      "source": [
        "# write your code here\n",
        "\n",
        "n = int(input('enter the number of key-value pair : '))\n",
        "d = {}\n",
        "\n",
        "for i in range(n):\n",
        "  key = input('enter the key')\n",
        "  value = list(map(int, input('enter the list : ').split()))\n",
        "  d[key] = value\n",
        "\n",
        "print(d)\n",
        "d_sorted = {}\n",
        "for key,value in d.items():\n",
        "  sort_value = sorted(value)\n",
        "  d_sorted[key] = sort_value\n",
        "\n",
        "print(d_sorted)\n"
      ],
      "metadata": {
        "id": "x9UmJ4EQk7Pp",
        "colab": {
          "base_uri": "https://localhost:8080/"
        },
        "outputId": "7343e93c-3d79-4900-97c9-ed93873779aa"
      },
      "execution_count": null,
      "outputs": [
        {
          "output_type": "stream",
          "name": "stdout",
          "text": [
            "enter the number of key-value pair : 3\n",
            "enter the keyc\n",
            "enter the list : 3\n",
            "enter the keyb \n",
            "enter the list : 12 10\n",
            "enter the keya \n",
            "enter the list : 19 4\n",
            "{'c': [3], 'b ': [12, 10], 'a ': [19, 4]}\n",
            "{'c': [3], 'b ': [10, 12], 'a ': [4, 19]}\n"
          ]
        }
      ]
    },
    {
      "cell_type": "code",
      "source": [],
      "metadata": {
        "id": "KbCwBXYuEe_u"
      },
      "execution_count": null,
      "outputs": []
    }
  ]
}