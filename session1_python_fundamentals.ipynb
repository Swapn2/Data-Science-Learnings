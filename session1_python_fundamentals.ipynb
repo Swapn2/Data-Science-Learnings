{
  "cells": [
    {
      "cell_type": "markdown",
      "metadata": {
        "id": "view-in-github",
        "colab_type": "text"
      },
      "source": [
        "<a href=\"https://colab.research.google.com/github/Swapn2/Data-Science-Learnings/blob/main/session1_python_fundamentals.ipynb\" target=\"_parent\"><img src=\"https://colab.research.google.com/assets/colab-badge.svg\" alt=\"Open In Colab\"/></a>"
      ]
    },
    {
      "cell_type": "markdown",
      "source": [
        "pyhton output\n"
      ],
      "metadata": {
        "id": "f3IJcIplJDhe"
      }
    },
    {
      "cell_type": "code",
      "source": [
        "# python is the case senstive language\n",
        "print('Hello World')\n",
        "print(7)\n",
        "print(7.7)\n",
        "print(True)"
      ],
      "metadata": {
        "colab": {
          "base_uri": "https://localhost:8080/"
        },
        "id": "53MxOT1MJF7T",
        "outputId": "ef46a53f-2b1a-4875-9ef5-0d4f29eca0b9"
      },
      "execution_count": null,
      "outputs": [
        {
          "output_type": "stream",
          "name": "stdout",
          "text": [
            "Hello World\n",
            "7\n",
            "7.7\n",
            "True\n"
          ]
        }
      ]
    },
    {
      "cell_type": "code",
      "source": [
        "print('Hello',1,4.5,True)"
      ],
      "metadata": {
        "colab": {
          "base_uri": "https://localhost:8080/"
        },
        "id": "Do_R7_NjJ-Kr",
        "outputId": "e89a3820-23e1-4568-94ca-1f365aff79a2"
      },
      "execution_count": null,
      "outputs": [
        {
          "output_type": "stream",
          "name": "stdout",
          "text": [
            "Hello 1 4.5 True\n"
          ]
        }
      ]
    },
    {
      "cell_type": "code",
      "source": [
        "print ('Hello',1,3.4,True,sep='/')"
      ],
      "metadata": {
        "colab": {
          "base_uri": "https://localhost:8080/"
        },
        "id": "ym0XBCRqKTyM",
        "outputId": "17d99b91-e8fb-4e39-c81a-20996fc0d1ee"
      },
      "execution_count": null,
      "outputs": [
        {
          "output_type": "stream",
          "name": "stdout",
          "text": [
            "Hello/1/3.4/True\n"
          ]
        }
      ]
    },
    {
      "cell_type": "code",
      "source": [
        "print('Hello')\n",
        "print('Hello')"
      ],
      "metadata": {
        "colab": {
          "base_uri": "https://localhost:8080/"
        },
        "id": "z0CaE9pXK4WG",
        "outputId": "400a66b2-c508-44ab-b4b1-b2e516674445"
      },
      "execution_count": null,
      "outputs": [
        {
          "output_type": "stream",
          "name": "stdout",
          "text": [
            "Hello\n",
            "Hello\n"
          ]
        }
      ]
    },
    {
      "cell_type": "code",
      "source": [
        "print('hello',end='\\n''swapn') # rev"
      ],
      "metadata": {
        "colab": {
          "base_uri": "https://localhost:8080/"
        },
        "id": "2lWWg9N6LG-V",
        "outputId": "b7ff3378-abe3-43fc-e109-0f0d706fa55a"
      },
      "execution_count": null,
      "outputs": [
        {
          "output_type": "stream",
          "name": "stdout",
          "text": [
            "hello\n",
            "swapn"
          ]
        }
      ]
    },
    {
      "cell_type": "code",
      "source": [
        "print('hello',end='-')\n",
        "print('world')"
      ],
      "metadata": {
        "colab": {
          "base_uri": "https://localhost:8080/"
        },
        "id": "8CF8NhMLLfHn",
        "outputId": "17bdd824-551b-4913-8774-193e5a913178"
      },
      "execution_count": null,
      "outputs": [
        {
          "output_type": "stream",
          "name": "stdout",
          "text": [
            "hello-world\n"
          ]
        }
      ]
    },
    {
      "cell_type": "markdown",
      "source": [
        "Data Types :"
      ],
      "metadata": {
        "id": "YwnRDtQ1JYUQ"
      }
    },
    {
      "cell_type": "code",
      "source": [
        "#integer\n",
        "print(8)"
      ],
      "metadata": {
        "colab": {
          "base_uri": "https://localhost:8080/"
        },
        "id": "1gu6vBChLYb_",
        "outputId": "c9ca8f23-f52d-488e-9669-23ba5e536b47"
      },
      "execution_count": null,
      "outputs": [
        {
          "output_type": "stream",
          "name": "stdout",
          "text": [
            "8\n"
          ]
        }
      ]
    },
    {
      "cell_type": "code",
      "source": [
        "print(1e308) # it can only handle upto 308\n"
      ],
      "metadata": {
        "colab": {
          "base_uri": "https://localhost:8080/"
        },
        "id": "G5OMLfp8L1m-",
        "outputId": "9f23a68e-8616-4563-9beb-60ce70512065"
      },
      "execution_count": null,
      "outputs": [
        {
          "output_type": "stream",
          "name": "stdout",
          "text": [
            "1e+308\n"
          ]
        }
      ]
    },
    {
      "cell_type": "code",
      "source": [
        "#decimal float\n",
        "print(1.7e308) # it can handle upto only 308\n"
      ],
      "metadata": {
        "colab": {
          "base_uri": "https://localhost:8080/"
        },
        "id": "tooAuwVSL1tX",
        "outputId": "b572dc97-0681-4f8f-8eca-2d04a615d413"
      },
      "execution_count": null,
      "outputs": [
        {
          "output_type": "stream",
          "name": "stdout",
          "text": [
            "1.7e+308\n"
          ]
        }
      ]
    },
    {
      "cell_type": "code",
      "source": [
        "# Boolean\n",
        "print(True)\n",
        "print(False)"
      ],
      "metadata": {
        "colab": {
          "base_uri": "https://localhost:8080/"
        },
        "id": "DRVsjaqwJR8W",
        "outputId": "6545c8d7-a2fc-48a7-d8fd-eaa39587861d"
      },
      "execution_count": null,
      "outputs": [
        {
          "output_type": "stream",
          "name": "stdout",
          "text": [
            "True\n",
            "False\n"
          ]
        }
      ]
    },
    {
      "cell_type": "code",
      "source": [
        "# text / string\n",
        "print('Hello world')"
      ],
      "metadata": {
        "colab": {
          "base_uri": "https://localhost:8080/"
        },
        "id": "X25RP8kdMoqh",
        "outputId": "83a907d6-bb31-4f7f-9803-1693584452df"
      },
      "execution_count": null,
      "outputs": [
        {
          "output_type": "stream",
          "name": "stdout",
          "text": [
            "Hello world\n"
          ]
        }
      ]
    },
    {
      "cell_type": "code",
      "source": [
        "# complex\n",
        "print(5+7j)"
      ],
      "metadata": {
        "colab": {
          "base_uri": "https://localhost:8080/"
        },
        "id": "6d9i1WonMukT",
        "outputId": "2500fe05-704c-4bf9-c6be-317eddd2e2c4"
      },
      "execution_count": null,
      "outputs": [
        {
          "output_type": "stream",
          "name": "stdout",
          "text": [
            "(5+7j)\n"
          ]
        }
      ]
    },
    {
      "cell_type": "code",
      "source": [
        "# List -> C -> Array\n",
        "print([1,2,3,4,5])"
      ],
      "metadata": {
        "colab": {
          "base_uri": "https://localhost:8080/"
        },
        "id": "txbW_0SkM1oN",
        "outputId": "faed1ae7-e539-4c06-b43e-fe4a40d0de00"
      },
      "execution_count": null,
      "outputs": [
        {
          "output_type": "stream",
          "name": "stdout",
          "text": [
            "[1, 2, 3, 4, 5]\n"
          ]
        }
      ]
    },
    {
      "cell_type": "code",
      "source": [
        "# tuple\n",
        "print((1,2,3,4,5))"
      ],
      "metadata": {
        "colab": {
          "base_uri": "https://localhost:8080/"
        },
        "id": "dPHbTu-ZNAN1",
        "outputId": "57211653-8464-4625-a1e2-9ab955a262d8"
      },
      "execution_count": null,
      "outputs": [
        {
          "output_type": "stream",
          "name": "stdout",
          "text": [
            "(1, 2, 3, 4, 5)\n"
          ]
        }
      ]
    },
    {
      "cell_type": "code",
      "source": [
        "#sets\n",
        "print({1,2,3,4})"
      ],
      "metadata": {
        "colab": {
          "base_uri": "https://localhost:8080/"
        },
        "id": "PNnsWQpXNCer",
        "outputId": "ce532c95-e784-4feb-c934-0d8734668eeb"
      },
      "execution_count": null,
      "outputs": [
        {
          "output_type": "stream",
          "name": "stdout",
          "text": [
            "{1, 2, 3, 4}\n"
          ]
        }
      ]
    },
    {
      "cell_type": "code",
      "source": [
        "# Disctionary\n",
        "print({'name':'swapn','gender':'male'})"
      ],
      "metadata": {
        "colab": {
          "base_uri": "https://localhost:8080/"
        },
        "id": "YNUKmRIpNL2e",
        "outputId": "ba49ac82-46fd-4b83-960e-a03146a27286"
      },
      "execution_count": null,
      "outputs": [
        {
          "output_type": "stream",
          "name": "stdout",
          "text": [
            "{'name': 'swapn', 'gender': 'male'}\n"
          ]
        }
      ]
    },
    {
      "cell_type": "markdown",
      "source": [
        "Variables :"
      ],
      "metadata": {
        "id": "PEKoTqUqOt5T"
      }
    },
    {
      "cell_type": "code",
      "source": [
        "# static v/s Dynamic typing\n",
        "# static V/s dyanmic Binding\n",
        "# Stylish Decleration techniques"
      ],
      "metadata": {
        "id": "lvSVVTXLNc6v"
      },
      "execution_count": null,
      "outputs": []
    },
    {
      "cell_type": "code",
      "source": [
        "name = \"hello\"\n",
        "print(name)\n",
        "a = 5\n",
        "b = 5\n",
        "print(a+b)"
      ],
      "metadata": {
        "colab": {
          "base_uri": "https://localhost:8080/"
        },
        "id": "giHEMXVPPAjK",
        "outputId": "59853687-f9b1-431f-e08c-3892567f01a4"
      },
      "execution_count": null,
      "outputs": [
        {
          "output_type": "stream",
          "name": "stdout",
          "text": [
            "hello\n",
            "10\n"
          ]
        }
      ]
    },
    {
      "cell_type": "code",
      "source": [
        "# dynamic Typing\n",
        "a = 5\n",
        "# static Typing\n",
        "# int a = 5\n",
        "a = 'swapn'\n",
        "b = 'gupta'\n",
        "print(a+b)"
      ],
      "metadata": {
        "colab": {
          "base_uri": "https://localhost:8080/"
        },
        "id": "FZNNZtTyPW0B",
        "outputId": "1413d697-39bc-4726-c0fe-054526d0a1a3"
      },
      "execution_count": null,
      "outputs": [
        {
          "output_type": "stream",
          "name": "stdout",
          "text": [
            "swapngupta\n"
          ]
        }
      ]
    },
    {
      "cell_type": "code",
      "source": [
        "# dynamic  Binding\n",
        "a = 5\n",
        "print(a)\n",
        "a = 'nitish'\n",
        "print(a)  # single var is able to change the datatype whenever it want\n"
      ],
      "metadata": {
        "colab": {
          "base_uri": "https://localhost:8080/"
        },
        "id": "Q3ZU7vKEQA_4",
        "outputId": "1dccfad1-ca05-4275-dd17-5a117f2b009a"
      },
      "execution_count": null,
      "outputs": [
        {
          "output_type": "stream",
          "name": "stdout",
          "text": [
            "5\n",
            "nitish\n"
          ]
        }
      ]
    },
    {
      "cell_type": "code",
      "source": [
        "a,b,c = 1,2,3\n",
        "print(a,b,c)"
      ],
      "metadata": {
        "colab": {
          "base_uri": "https://localhost:8080/"
        },
        "id": "41dBk6hfQVrK",
        "outputId": "0cd5da2e-9036-46ce-afe2-b22851614571"
      },
      "execution_count": null,
      "outputs": [
        {
          "output_type": "stream",
          "name": "stdout",
          "text": [
            "1 2 3\n"
          ]
        }
      ]
    },
    {
      "cell_type": "markdown",
      "source": [
        "User input :"
      ],
      "metadata": {
        "id": "5DQK1fI-7Dg2"
      }
    },
    {
      "cell_type": "code",
      "source": [
        "# static vs dynamic\n",
        "input('enter your email')"
      ],
      "metadata": {
        "id": "Mlwx7D_7Q32l",
        "colab": {
          "base_uri": "https://localhost:8080/",
          "height": 52
        },
        "outputId": "27230cad-beba-4c7d-b0d1-ca884adde9a7"
      },
      "execution_count": null,
      "outputs": [
        {
          "name": "stdout",
          "output_type": "stream",
          "text": [
            "enter your email\n"
          ]
        },
        {
          "output_type": "execute_result",
          "data": {
            "text/plain": [
              "''"
            ],
            "application/vnd.google.colaboratory.intrinsic+json": {
              "type": "string"
            }
          },
          "metadata": {},
          "execution_count": 30
        }
      ]
    },
    {
      "cell_type": "code",
      "source": [
        "# take input from the user and store them in a variable\n",
        "fnum = int(input('enter the first number'))\n",
        "snum = int(input('enter the second number'))\n",
        "# add the 2 variable\n",
        "result = fnum + snum\n",
        "# print the result\n",
        "print(result)\n",
        "print(type(fnum))"
      ],
      "metadata": {
        "id": "ThGK9wP7vcGG",
        "colab": {
          "base_uri": "https://localhost:8080/"
        },
        "outputId": "3db8691f-3b4b-4204-8198-201a3588b55e"
      },
      "execution_count": null,
      "outputs": [
        {
          "output_type": "stream",
          "name": "stdout",
          "text": [
            "enter the first number21\n",
            "enter the second number21\n",
            "42\n",
            "<class 'int'>\n"
          ]
        }
      ]
    },
    {
      "cell_type": "markdown",
      "source": [
        "Literals :"
      ],
      "metadata": {
        "id": "sies_LVjbTOz"
      }
    },
    {
      "cell_type": "code",
      "source": [
        "a = 0b1010 # binary literals\n",
        "b = 100 # decimal Literals\n",
        "c = 0o310 #octal literals\n",
        "d = 0x12c # hexadecimal"
      ],
      "metadata": {
        "id": "fXhUKV0h8neM"
      },
      "execution_count": null,
      "outputs": []
    },
    {
      "cell_type": "code",
      "source": [
        "print(a)"
      ],
      "metadata": {
        "colab": {
          "base_uri": "https://localhost:8080/"
        },
        "id": "vnJZAMWRdVx1",
        "outputId": "b49aa7e4-0ce4-4928-b45f-c532cadf9276"
      },
      "execution_count": null,
      "outputs": [
        {
          "output_type": "stream",
          "name": "stdout",
          "text": [
            "10\n"
          ]
        }
      ]
    },
    {
      "cell_type": "code",
      "source": [
        "# float Literals\n",
        "float_1 = 10.5\n",
        "float_2 = 1.5e2\n",
        "float_3 = 1.5e-3"
      ],
      "metadata": {
        "id": "YeQPBj8ddYSc"
      },
      "execution_count": null,
      "outputs": []
    },
    {
      "cell_type": "code",
      "source": [
        "# complex Literals\n",
        "x = 3.6J\n",
        "print(a,b,c,d)\n",
        "print(float_1,float_2,float_3)\n",
        "print(x,x.real,x.imag)\n"
      ],
      "metadata": {
        "colab": {
          "base_uri": "https://localhost:8080/"
        },
        "id": "gbVCuuQzeEq1",
        "outputId": "594fcee2-cb69-47fd-9783-ac4d512372a7"
      },
      "execution_count": null,
      "outputs": [
        {
          "output_type": "stream",
          "name": "stdout",
          "text": [
            "10 100 200 300\n",
            "10.5 150.0 0.0015\n",
            "3.6j 0.0 3.6\n"
          ]
        }
      ]
    },
    {
      "cell_type": "code",
      "source": [
        "string = 'This is pyhton'\n",
        "strings = 'this is python'\n",
        "multiline_str = \"\"\"This is multiline string with more than one line code \"\"\"\n",
        "unicode = u\"\\U0001f600\\U0001F606\\U0001F923\"\n",
        "raw_str = r\"raw \\n string\"\n",
        "print(string)\n",
        "\n",
        "print(string)\n",
        "print(strings)\n",
        "print(multiline_str)\n",
        "print(unicode)\n",
        "print(raw_str)"
      ],
      "metadata": {
        "id": "ceA3KJ9XedhO",
        "colab": {
          "base_uri": "https://localhost:8080/"
        },
        "outputId": "76d9d687-77fb-4723-ad35-4bbe23c11c07"
      },
      "execution_count": null,
      "outputs": [
        {
          "output_type": "stream",
          "name": "stdout",
          "text": [
            "This is pyhton\n",
            "This is pyhton\n",
            "this is python\n",
            "This is multiline string with more than one line code \n",
            "😀😆🤣\n",
            "raw \\n string\n"
          ]
        }
      ]
    },
    {
      "cell_type": "code",
      "source": [
        "a = True + 4\n",
        "b = False + 5\n",
        "print(\"a : \",a)\n",
        "print(\"b : \",b)"
      ],
      "metadata": {
        "colab": {
          "base_uri": "https://localhost:8080/"
        },
        "id": "n0RomSBUgLmX",
        "outputId": "3c6a456d-11f0-4b33-8eaa-3d98de623a83"
      },
      "execution_count": null,
      "outputs": [
        {
          "output_type": "stream",
          "name": "stdout",
          "text": [
            "a :  5\n",
            "b :  5\n"
          ]
        }
      ]
    },
    {
      "cell_type": "code",
      "source": [
        "a = None # None can be used for the variable and decleration\n",
        "print(None)"
      ],
      "metadata": {
        "id": "BnWYCT0ygjCH",
        "outputId": "f6153399-8b9b-4cd3-d3e8-85e3249b6f2d",
        "colab": {
          "base_uri": "https://localhost:8080/"
        }
      },
      "execution_count": null,
      "outputs": [
        {
          "output_type": "stream",
          "name": "stdout",
          "text": [
            "None\n"
          ]
        }
      ]
    },
    {
      "cell_type": "code",
      "source": [],
      "metadata": {
        "id": "i0yhnbB5gn6V"
      },
      "execution_count": null,
      "outputs": []
    }
  ],
  "metadata": {
    "colab": {
      "provenance": [],
      "include_colab_link": true
    },
    "kernelspec": {
      "display_name": "Python 3",
      "name": "python3"
    }
  },
  "nbformat": 4,
  "nbformat_minor": 0
}