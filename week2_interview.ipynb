{
  "nbformat": 4,
  "nbformat_minor": 0,
  "metadata": {
    "colab": {
      "provenance": [],
      "authorship_tag": "ABX9TyOoRRAz3DxAwISQFoc8MjTQ",
      "include_colab_link": true
    },
    "kernelspec": {
      "name": "python3",
      "display_name": "Python 3"
    },
    "language_info": {
      "name": "python"
    }
  },
  "cells": [
    {
      "cell_type": "markdown",
      "metadata": {
        "id": "view-in-github",
        "colab_type": "text"
      },
      "source": [
        "<a href=\"https://colab.research.google.com/github/Swapn2/Data-Science-Learnings/blob/main/week2_interview.ipynb\" target=\"_parent\"><img src=\"https://colab.research.google.com/assets/colab-badge.svg\" alt=\"Open In Colab\"/></a>"
      ]
    },
    {
      "cell_type": "markdown",
      "source": [
        "## Question\n",
        "\n",
        "- what is aliasing?\n",
        "- what is garbage collection?\n",
        "- what is muyability and why is it dangerous in certain scenarios?\n",
        "- what is cloning ?\n",
        "- differentiate between deeo and shallow copies?\n",
        "- how nested lists are stored in memory ?\n",
        "- how strings are stored in memory ?\n",
        "- why tupple take less memory that list ?\n",
        "- how set index position is decided ?\n",
        "- why mutable type are not allowed in sets/dict?\n"
      ],
      "metadata": {
        "id": "37UZyGSq-ibD"
      }
    },
    {
      "cell_type": "code",
      "execution_count": 1,
      "metadata": {
        "id": "fkzQnJea9k9M"
      },
      "outputs": [],
      "source": [
        "a = 4"
      ]
    },
    {
      "cell_type": "code",
      "source": [
        "id(a)"
      ],
      "metadata": {
        "colab": {
          "base_uri": "https://localhost:8080/"
        },
        "id": "9-If1pqeQg9G",
        "outputId": "bf040aa7-0a56-4f1f-c623-fac3c969b7f2"
      },
      "execution_count": 2,
      "outputs": [
        {
          "output_type": "execute_result",
          "data": {
            "text/plain": [
              "10750952"
            ]
          },
          "metadata": {},
          "execution_count": 2
        }
      ]
    },
    {
      "cell_type": "code",
      "source": [
        "hex(10750952)"
      ],
      "metadata": {
        "colab": {
          "base_uri": "https://localhost:8080/",
          "height": 35
        },
        "id": "Fg1lgOf3QktW",
        "outputId": "b888b187-dbd0-45f2-a7e0-7b296bddab4e"
      },
      "execution_count": 3,
      "outputs": [
        {
          "output_type": "execute_result",
          "data": {
            "text/plain": [
              "'0xa40be8'"
            ],
            "application/vnd.google.colaboratory.intrinsic+json": {
              "type": "string"
            }
          },
          "metadata": {},
          "execution_count": 3
        }
      ]
    },
    {
      "cell_type": "code",
      "source": [
        "a = 4\n",
        "b = a"
      ],
      "metadata": {
        "id": "H1-4ibgpQymQ"
      },
      "execution_count": 4,
      "outputs": []
    },
    {
      "cell_type": "code",
      "source": [
        "print(id(a))\n",
        "print(id(b))"
      ],
      "metadata": {
        "colab": {
          "base_uri": "https://localhost:8080/"
        },
        "id": "amk8Vc8pQ621",
        "outputId": "757244c6-75a7-4600-b4b9-adccb11b5b13"
      },
      "execution_count": 5,
      "outputs": [
        {
          "output_type": "stream",
          "name": "stdout",
          "text": [
            "10750952\n",
            "10750952\n"
          ]
        }
      ]
    },
    {
      "cell_type": "code",
      "source": [
        "# aliasing optimize the memory\n",
        "\n",
        "del a"
      ],
      "metadata": {
        "id": "L_zHGCuxQ_op"
      },
      "execution_count": 6,
      "outputs": []
    },
    {
      "cell_type": "code",
      "source": [
        "a"
      ],
      "metadata": {
        "colab": {
          "base_uri": "https://localhost:8080/",
          "height": 141
        },
        "id": "Ych17IzXRTyL",
        "outputId": "9a43038a-981f-4a96-a3d1-705f4784c175"
      },
      "execution_count": 7,
      "outputs": [
        {
          "output_type": "error",
          "ename": "NameError",
          "evalue": "name 'a' is not defined",
          "traceback": [
            "\u001b[0;31m---------------------------------------------------------------------------\u001b[0m",
            "\u001b[0;31mNameError\u001b[0m                                 Traceback (most recent call last)",
            "\u001b[0;32m<ipython-input-7-3f786850e387>\u001b[0m in \u001b[0;36m<cell line: 0>\u001b[0;34m()\u001b[0m\n\u001b[0;32m----> 1\u001b[0;31m \u001b[0ma\u001b[0m\u001b[0;34m\u001b[0m\u001b[0;34m\u001b[0m\u001b[0m\n\u001b[0m",
            "\u001b[0;31mNameError\u001b[0m: name 'a' is not defined"
          ]
        }
      ]
    },
    {
      "cell_type": "code",
      "source": [
        "print(b)"
      ],
      "metadata": {
        "colab": {
          "base_uri": "https://localhost:8080/"
        },
        "id": "vPWWmeBWRUhg",
        "outputId": "58bb261c-dd52-4d83-cb80-059aeb218dc8"
      },
      "execution_count": 8,
      "outputs": [
        {
          "output_type": "stream",
          "name": "stdout",
          "text": [
            "4\n"
          ]
        }
      ]
    },
    {
      "cell_type": "code",
      "source": [
        "a = 'DSMP 2022-23'\n",
        "b = a\n",
        "c = b\n"
      ],
      "metadata": {
        "id": "GQWD3x4yRXzx"
      },
      "execution_count": 9,
      "outputs": []
    },
    {
      "cell_type": "code",
      "source": [
        "import sys\n",
        "sys.getrefcount('DSMP 2022-23')"
      ],
      "metadata": {
        "colab": {
          "base_uri": "https://localhost:8080/"
        },
        "id": "zquob-TgThLO",
        "outputId": "997c0cdd-f2ef-457a-ebea-02d6461f71da"
      },
      "execution_count": 10,
      "outputs": [
        {
          "output_type": "execute_result",
          "data": {
            "text/plain": [
              "3"
            ]
          },
          "metadata": {},
          "execution_count": 10
        }
      ]
    },
    {
      "cell_type": "code",
      "source": [
        "# garbage collector is the program which clear the memory which is not in use\n"
      ],
      "metadata": {
        "id": "zxGHT5BVTpUt"
      },
      "execution_count": 11,
      "outputs": []
    },
    {
      "cell_type": "code",
      "source": [
        "L = [1,2,3,4]\n",
        "print(id(L))\n",
        "\n",
        "L.append(5)\n",
        "print(L)\n",
        "print(id(L))"
      ],
      "metadata": {
        "colab": {
          "base_uri": "https://localhost:8080/"
        },
        "id": "GQJ5dRF9U_-F",
        "outputId": "597dcf15-a434-4be5-eebb-9a1a4fbc9777"
      },
      "execution_count": 14,
      "outputs": [
        {
          "output_type": "stream",
          "name": "stdout",
          "text": [
            "138255957078720\n",
            "[1, 2, 3, 4, 5]\n",
            "138255957078720\n"
          ]
        }
      ]
    },
    {
      "cell_type": "code",
      "source": [
        "tup = (1,2,3)\n",
        "print(id(tup))\n",
        "tup = tup +(4,)\n",
        "print(id(tup))\n",
        "\n"
      ],
      "metadata": {
        "colab": {
          "base_uri": "https://localhost:8080/"
        },
        "id": "z65A-ibgWaeL",
        "outputId": "92f50c48-f247-4963-b83f-3ef0b09df1e0"
      },
      "execution_count": 17,
      "outputs": [
        {
          "output_type": "stream",
          "name": "stdout",
          "text": [
            "138256810980800\n",
            "138255956964464\n"
          ]
        }
      ]
    },
    {
      "cell_type": "code",
      "source": [
        "a = [1,2,3]\n",
        "b = a\n",
        "\n",
        "b.append(4)\n",
        "print(b)"
      ],
      "metadata": {
        "colab": {
          "base_uri": "https://localhost:8080/"
        },
        "id": "y72viCjmXPsT",
        "outputId": "8e670118-7d7a-421e-f1ae-e92c7fc44511"
      },
      "execution_count": 19,
      "outputs": [
        {
          "output_type": "stream",
          "name": "stdout",
          "text": [
            "[1, 2, 3, 4]\n"
          ]
        }
      ]
    },
    {
      "cell_type": "code",
      "source": [
        "print(a)"
      ],
      "metadata": {
        "colab": {
          "base_uri": "https://localhost:8080/"
        },
        "id": "MX7dZsaZX1xE",
        "outputId": "9a85e65a-79e4-4fce-e6a8-13f47d7c4a67"
      },
      "execution_count": 20,
      "outputs": [
        {
          "output_type": "stream",
          "name": "stdout",
          "text": [
            "[1, 2, 3, 4]\n"
          ]
        }
      ]
    },
    {
      "cell_type": "code",
      "source": [
        "def func(data):\n",
        "  data.append(4)\n",
        "\n",
        "a = [1,2,3]\n",
        "func(a)\n",
        "print(a)\n",
        "\n",
        "# that is risky"
      ],
      "metadata": {
        "colab": {
          "base_uri": "https://localhost:8080/"
        },
        "id": "xtnAJ8EaYD-s",
        "outputId": "f8087ef6-fcd3-421d-883a-24580bbe8717"
      },
      "execution_count": 22,
      "outputs": [
        {
          "output_type": "stream",
          "name": "stdout",
          "text": [
            "[1, 2, 3, 4]\n"
          ]
        }
      ]
    },
    {
      "cell_type": "code",
      "source": [
        "def func(data):\n",
        "  data = data + (4,)\n",
        "\n",
        "a = (1,2,3)\n",
        "func(a)\n",
        "print(a)"
      ],
      "metadata": {
        "colab": {
          "base_uri": "https://localhost:8080/"
        },
        "id": "n3K4wvaGZEZ2",
        "outputId": "31bc97a3-4f62-4889-9e7d-4644e2c3ec32"
      },
      "execution_count": 23,
      "outputs": [
        {
          "output_type": "stream",
          "name": "stdout",
          "text": [
            "(1, 2, 3)\n"
          ]
        }
      ]
    },
    {
      "cell_type": "code",
      "source": [
        "# while working with mutable data type use the cloning\n",
        "\n",
        "a = [1,2,3]\n",
        "b = a[:] # it cloning way\n",
        "\n",
        "\n",
        "print(id(a))\n",
        "print(id(b))"
      ],
      "metadata": {
        "colab": {
          "base_uri": "https://localhost:8080/"
        },
        "id": "4PbtmA9zh3nf",
        "outputId": "e31098bb-41e8-406f-9778-131623044f72"
      },
      "execution_count": 24,
      "outputs": [
        {
          "output_type": "stream",
          "name": "stdout",
          "text": [
            "138255957067584\n",
            "138255955322560\n"
          ]
        }
      ]
    },
    {
      "cell_type": "code",
      "source": [
        "b.append(4)\n",
        "print(b)\n",
        "print(a)"
      ],
      "metadata": {
        "colab": {
          "base_uri": "https://localhost:8080/"
        },
        "id": "5mO6ybw8jUO6",
        "outputId": "9b0c998b-a06d-4c0d-fd07-c6c28b732d0a"
      },
      "execution_count": 25,
      "outputs": [
        {
          "output_type": "stream",
          "name": "stdout",
          "text": [
            "[1, 2, 3, 4]\n",
            "[1, 2, 3]\n"
          ]
        }
      ]
    },
    {
      "cell_type": "code",
      "source": [
        "def func(data):\n",
        "  data.append(4)\n",
        "\n",
        "a = [1,2,3]\n",
        "func(a[:])\n",
        "print(a)\n",
        "\n",
        "# by cloning concept a[:] see it become safe"
      ],
      "metadata": {
        "colab": {
          "base_uri": "https://localhost:8080/"
        },
        "id": "3HCNMfuvjYdo",
        "outputId": "7e12de6b-23e4-426a-f2ca-eb4a1199bb3f"
      },
      "execution_count": 26,
      "outputs": [
        {
          "output_type": "stream",
          "name": "stdout",
          "text": [
            "[1, 2, 3]\n"
          ]
        }
      ]
    },
    {
      "cell_type": "code",
      "source": [],
      "metadata": {
        "id": "aDAiSf6ajoLG"
      },
      "execution_count": null,
      "outputs": []
    }
  ]
}