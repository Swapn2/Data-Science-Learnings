{
  "nbformat": 4,
  "nbformat_minor": 0,
  "metadata": {
    "colab": {
      "provenance": [],
      "authorship_tag": "ABX9TyO9Gdvc4/TbhGZgfzERk8Xd",
      "include_colab_link": true
    },
    "kernelspec": {
      "name": "python3",
      "display_name": "Python 3"
    },
    "language_info": {
      "name": "python"
    }
  },
  "cells": [
    {
      "cell_type": "markdown",
      "metadata": {
        "id": "view-in-github",
        "colab_type": "text"
      },
      "source": [
        "<a href=\"https://colab.research.google.com/github/Swapn2/Data-Science-Learnings/blob/main/OOP_project.ipynb\" target=\"_parent\"><img src=\"https://colab.research.google.com/assets/colab-badge.svg\" alt=\"Open In Colab\"/></a>"
      ]
    },
    {
      "cell_type": "code",
      "execution_count": 6,
      "metadata": {
        "colab": {
          "base_uri": "https://localhost:8080/"
        },
        "id": "XAuVupZUYCey",
        "outputId": "fa1be838-a3c4-4f78-cb82-f2276422d3c1"
      },
      "outputs": [
        {
          "output_type": "execute_result",
          "data": {
            "text/plain": [
              "{'entities': [{'start': 26,\n",
              "   'end': 36,\n",
              "   'type': 'programming languages',\n",
              "   'text': 'Javascript'},\n",
              "  {'start': 102,\n",
              "   'end': 108,\n",
              "   'type': 'programming languages',\n",
              "   'text': 'Python'},\n",
              "  {'start': 165, 'end': 167, 'type': 'programming languages', 'text': 'Go'}]}"
            ]
          },
          "metadata": {},
          "execution_count": 6
        }
      ],
      "source": [
        "import nlpcloud\n",
        "\n",
        "client = nlpcloud.Client(\"finetuned-llama-3-70b\", \"4c2f5509e274949f7fff888b19ba0b61ca6e12b8\", gpu=True)\n",
        "client.entities(\n",
        "    \"\"\"John Doe started learning Javascript when he was 15 years old. After a couple of years he switched to Python and starter learning low level programming. He is now a Go expert at Google.\"\"\",\n",
        "    searched_entity=\"programming languages\"\n",
        ")"
      ]
    },
    {
      "cell_type": "code",
      "source": [
        "!pip install nlpcloud"
      ],
      "metadata": {
        "colab": {
          "base_uri": "https://localhost:8080/"
        },
        "id": "2rcUKfhGdq3y",
        "outputId": "cf324c56-67c3-4bad-f095-65f85bf891ab"
      },
      "execution_count": 1,
      "outputs": [
        {
          "output_type": "stream",
          "name": "stdout",
          "text": [
            "Requirement already satisfied: nlpcloud in /usr/local/lib/python3.11/dist-packages (1.1.47)\n",
            "Requirement already satisfied: requests in /usr/local/lib/python3.11/dist-packages (from nlpcloud) (2.32.3)\n",
            "Requirement already satisfied: charset-normalizer<4,>=2 in /usr/local/lib/python3.11/dist-packages (from requests->nlpcloud) (3.4.1)\n",
            "Requirement already satisfied: idna<4,>=2.5 in /usr/local/lib/python3.11/dist-packages (from requests->nlpcloud) (3.10)\n",
            "Requirement already satisfied: urllib3<3,>=1.21.1 in /usr/local/lib/python3.11/dist-packages (from requests->nlpcloud) (2.3.0)\n",
            "Requirement already satisfied: certifi>=2017.4.17 in /usr/local/lib/python3.11/dist-packages (from requests->nlpcloud) (2025.1.31)\n"
          ]
        }
      ]
    },
    {
      "cell_type": "code",
      "source": [
        "import nlpcloud\n",
        "class NLPApp:\n",
        "  def __init__(self):\n",
        "\n",
        "    self.__database = {}\n",
        "    self.__first_menu()\n",
        "\n",
        "  def __first_menu(self):\n",
        "    first_input = input(\"\"\"\n",
        "    Hi!\n",
        "    How would you like to proceed\n",
        "    1. Not a meber ? Register\n",
        "    2. Already a member? Login\n",
        "    3. Exit : \"\"\")\n",
        "\n",
        "    if(first_input == '1'):\n",
        "      self.__register()\n",
        "    elif (first_input == '2'):\n",
        "      self.__login()\n",
        "    else:\n",
        "      exit()\n",
        "\n",
        "  def __second_menu(self):\n",
        "    second_input = input(\"\"\"\n",
        "    Hi!\n",
        "    How would you like to proceed\n",
        "    1. NER\n",
        "    2. Language Detection\n",
        "    3. Sentiment Analysis\n",
        "    4. logout \"\"\")\n",
        "\n",
        "    if second_input == '1':\n",
        "      self.__ner()\n",
        "    elif second_input == '2':\n",
        "      self.__language_detection()\n",
        "    elif second_input == '3':\n",
        "      self.__sentiment_analysis()\n",
        "    else:\n",
        "      exit()\n",
        "\n",
        "  def __register(self):\n",
        "    name = input('enter name : ')\n",
        "    email = input('enter email : ')   # we didint use self before var bcoz we are not going to use these var in somewhere else\n",
        "    password = input('enter password : ')\n",
        "    if email in self.__database:\n",
        "      print('email already exist :(')\n",
        "    else:\n",
        "      self.__database[email] = [name,password]\n",
        "      print('Register succesfully :), Now login')\n",
        "    print(self.__database)\n",
        "    self.__first_menu()  # so that we can took the data of multiple users as registered\n",
        "\n",
        "  def __login(self):\n",
        "   email = input('enter eamil : ')\n",
        "   password = input('entr the password : ')\n",
        "\n",
        "   if email in self.__database:\n",
        "    if self.__database[email][1] == password:\n",
        "      print('logged in successfully :)')\n",
        "      self.__second_menu()\n",
        "    else:\n",
        "      print('password is incorrect :(')\n",
        "      self.__login()\n",
        "   else:\n",
        "    print('email is not registered ')\n",
        "    self.__first_menu()\n",
        "\n",
        "  def __ner(self):\n",
        "    para = input(' enter the paragraph : ')\n",
        "    search_term = input(' enter the tittle : ')\n",
        "\n",
        "    client = nlpcloud.Client(\"finetuned-llama-3-70b\", \"4c2f5509e274949f7fff888b19ba0b61ca6e12b8\", gpu=True)\n",
        "    response = client.entities(para,searched_entity=search_term)\n",
        "\n",
        "    print(response)\n",
        "    self.__second_menu()\n",
        "\n",
        "  def __language_detection(self):\n",
        "    para = input('enter the paragraph : ')\n",
        "\n",
        "    client = nlpcloud.Client(\"python-langdetect\", \"4c2f5509e274949f7fff888b19ba0b61ca6e12b8\", gpu=False)\n",
        "    response = client.lang_detection(para)\n",
        "    print(response)\n",
        "    self.__second_menu()\n",
        "\n",
        "  def __sentiment_analysis(self):\n",
        "    para = input('enter the paragraph : ')\n",
        "\n",
        "    client = nlpcloud.Client(\"finetuned-llama-3-70b\", \"4c2f5509e274949f7fff888b19ba0b61ca6e12b8\", gpu=True)\n",
        "    response = client.sentiment(para)\n",
        "\n",
        "    L = []\n",
        "    for i in response['scored_labels']:\n",
        "      L.append(i['score'])\n",
        "\n",
        "    index = sorted(list(enumerate(L)),key = lambda x : x[1],reverse = True)[0][0]\n",
        "    print(response['scored_labels'][index]['label'])\n",
        "\n",
        "    print(response)\n",
        "    self.__second_menu()\n",
        "\n",
        "\n",
        "\n",
        "obj = NLPApp()"
      ],
      "metadata": {
        "id": "wkXr5AHmd4f_",
        "colab": {
          "base_uri": "https://localhost:8080/",
          "height": 845
        },
        "outputId": "e1886de6-fe3f-4c4b-fae1-d4bba6845032"
      },
      "execution_count": 4,
      "outputs": [
        {
          "name": "stdout",
          "output_type": "stream",
          "text": [
            "\n",
            "    Hi!\n",
            "    How would you like to proceed\n",
            "    1. Not a meber ? Register\n",
            "    2. Already a member? Login\n",
            "    3. Exit : 1\n",
            "enter name : swapn\n",
            "enter email : swapn@gmail.com\n",
            "enter password : 1233\n",
            "Register succesfully :), Now login\n",
            "{'swapn@gmail.com': ['swapn', '1233']}\n",
            "\n",
            "    Hi!\n",
            "    How would you like to proceed\n",
            "    1. Not a meber ? Register\n",
            "    2. Already a member? Login\n",
            "    3. Exit : 2\n",
            "enter eamil : swapn@gmail.com\n",
            "entr the password : 1233\n",
            "logged in successfully :)\n",
            "\n",
            "    Hi!\n",
            "    How would you like to proceed\n",
            "    1. NER\n",
            "    2. Language Detection\n",
            "    3. Sentiment Analysis\n",
            "    4. logout 2\n",
            "enter the paragraph : John Doe has been working for Microsoft in Seattle since 1999. Et il parle aussi un peu français.\n"
          ]
        },
        {
          "output_type": "error",
          "ename": "AttributeError",
          "evalue": "'Client' object has no attribute '_NLPApp__lang_detection'",
          "traceback": [
            "\u001b[0;31m---------------------------------------------------------------------------\u001b[0m",
            "\u001b[0;31mAttributeError\u001b[0m                            Traceback (most recent call last)",
            "\u001b[0;32m<ipython-input-4-0bebe7252733>\u001b[0m in \u001b[0;36m<cell line: 0>\u001b[0;34m()\u001b[0m\n\u001b[1;32m    102\u001b[0m \u001b[0;34m\u001b[0m\u001b[0m\n\u001b[1;32m    103\u001b[0m \u001b[0;34m\u001b[0m\u001b[0m\n\u001b[0;32m--> 104\u001b[0;31m \u001b[0mobj\u001b[0m \u001b[0;34m=\u001b[0m \u001b[0mNLPApp\u001b[0m\u001b[0;34m(\u001b[0m\u001b[0;34m)\u001b[0m\u001b[0;34m\u001b[0m\u001b[0;34m\u001b[0m\u001b[0m\n\u001b[0m",
            "\u001b[0;32m<ipython-input-4-0bebe7252733>\u001b[0m in \u001b[0;36m__init__\u001b[0;34m(self)\u001b[0m\n\u001b[1;32m      4\u001b[0m \u001b[0;34m\u001b[0m\u001b[0m\n\u001b[1;32m      5\u001b[0m     \u001b[0mself\u001b[0m\u001b[0;34m.\u001b[0m\u001b[0m__database\u001b[0m \u001b[0;34m=\u001b[0m \u001b[0;34m{\u001b[0m\u001b[0;34m}\u001b[0m\u001b[0;34m\u001b[0m\u001b[0;34m\u001b[0m\u001b[0m\n\u001b[0;32m----> 6\u001b[0;31m     \u001b[0mself\u001b[0m\u001b[0;34m.\u001b[0m\u001b[0m__first_menu\u001b[0m\u001b[0;34m(\u001b[0m\u001b[0;34m)\u001b[0m\u001b[0;34m\u001b[0m\u001b[0;34m\u001b[0m\u001b[0m\n\u001b[0m\u001b[1;32m      7\u001b[0m \u001b[0;34m\u001b[0m\u001b[0m\n\u001b[1;32m      8\u001b[0m   \u001b[0;32mdef\u001b[0m \u001b[0m__first_menu\u001b[0m\u001b[0;34m(\u001b[0m\u001b[0mself\u001b[0m\u001b[0;34m)\u001b[0m\u001b[0;34m:\u001b[0m\u001b[0;34m\u001b[0m\u001b[0;34m\u001b[0m\u001b[0m\n",
            "\u001b[0;32m<ipython-input-4-0bebe7252733>\u001b[0m in \u001b[0;36m__first_menu\u001b[0;34m(self)\u001b[0m\n\u001b[1;32m     15\u001b[0m \u001b[0;34m\u001b[0m\u001b[0m\n\u001b[1;32m     16\u001b[0m     \u001b[0;32mif\u001b[0m\u001b[0;34m(\u001b[0m\u001b[0mfirst_input\u001b[0m \u001b[0;34m==\u001b[0m \u001b[0;34m'1'\u001b[0m\u001b[0;34m)\u001b[0m\u001b[0;34m:\u001b[0m\u001b[0;34m\u001b[0m\u001b[0;34m\u001b[0m\u001b[0m\n\u001b[0;32m---> 17\u001b[0;31m       \u001b[0mself\u001b[0m\u001b[0;34m.\u001b[0m\u001b[0m__register\u001b[0m\u001b[0;34m(\u001b[0m\u001b[0;34m)\u001b[0m\u001b[0;34m\u001b[0m\u001b[0;34m\u001b[0m\u001b[0m\n\u001b[0m\u001b[1;32m     18\u001b[0m     \u001b[0;32melif\u001b[0m \u001b[0;34m(\u001b[0m\u001b[0mfirst_input\u001b[0m \u001b[0;34m==\u001b[0m \u001b[0;34m'2'\u001b[0m\u001b[0;34m)\u001b[0m\u001b[0;34m:\u001b[0m\u001b[0;34m\u001b[0m\u001b[0;34m\u001b[0m\u001b[0m\n\u001b[1;32m     19\u001b[0m       \u001b[0mself\u001b[0m\u001b[0;34m.\u001b[0m\u001b[0m__login\u001b[0m\u001b[0;34m(\u001b[0m\u001b[0;34m)\u001b[0m\u001b[0;34m\u001b[0m\u001b[0;34m\u001b[0m\u001b[0m\n",
            "\u001b[0;32m<ipython-input-4-0bebe7252733>\u001b[0m in \u001b[0;36m__register\u001b[0;34m(self)\u001b[0m\n\u001b[1;32m     49\u001b[0m       \u001b[0mprint\u001b[0m\u001b[0;34m(\u001b[0m\u001b[0;34m'Register succesfully :), Now login'\u001b[0m\u001b[0;34m)\u001b[0m\u001b[0;34m\u001b[0m\u001b[0;34m\u001b[0m\u001b[0m\n\u001b[1;32m     50\u001b[0m     \u001b[0mprint\u001b[0m\u001b[0;34m(\u001b[0m\u001b[0mself\u001b[0m\u001b[0;34m.\u001b[0m\u001b[0m__database\u001b[0m\u001b[0;34m)\u001b[0m\u001b[0;34m\u001b[0m\u001b[0;34m\u001b[0m\u001b[0m\n\u001b[0;32m---> 51\u001b[0;31m     \u001b[0mself\u001b[0m\u001b[0;34m.\u001b[0m\u001b[0m__first_menu\u001b[0m\u001b[0;34m(\u001b[0m\u001b[0;34m)\u001b[0m  \u001b[0;31m# so that we can took the data of multiple users as registered\u001b[0m\u001b[0;34m\u001b[0m\u001b[0;34m\u001b[0m\u001b[0m\n\u001b[0m\u001b[1;32m     52\u001b[0m \u001b[0;34m\u001b[0m\u001b[0m\n\u001b[1;32m     53\u001b[0m   \u001b[0;32mdef\u001b[0m \u001b[0m__login\u001b[0m\u001b[0;34m(\u001b[0m\u001b[0mself\u001b[0m\u001b[0;34m)\u001b[0m\u001b[0;34m:\u001b[0m\u001b[0;34m\u001b[0m\u001b[0;34m\u001b[0m\u001b[0m\n",
            "\u001b[0;32m<ipython-input-4-0bebe7252733>\u001b[0m in \u001b[0;36m__first_menu\u001b[0;34m(self)\u001b[0m\n\u001b[1;32m     17\u001b[0m       \u001b[0mself\u001b[0m\u001b[0;34m.\u001b[0m\u001b[0m__register\u001b[0m\u001b[0;34m(\u001b[0m\u001b[0;34m)\u001b[0m\u001b[0;34m\u001b[0m\u001b[0;34m\u001b[0m\u001b[0m\n\u001b[1;32m     18\u001b[0m     \u001b[0;32melif\u001b[0m \u001b[0;34m(\u001b[0m\u001b[0mfirst_input\u001b[0m \u001b[0;34m==\u001b[0m \u001b[0;34m'2'\u001b[0m\u001b[0;34m)\u001b[0m\u001b[0;34m:\u001b[0m\u001b[0;34m\u001b[0m\u001b[0;34m\u001b[0m\u001b[0m\n\u001b[0;32m---> 19\u001b[0;31m       \u001b[0mself\u001b[0m\u001b[0;34m.\u001b[0m\u001b[0m__login\u001b[0m\u001b[0;34m(\u001b[0m\u001b[0;34m)\u001b[0m\u001b[0;34m\u001b[0m\u001b[0;34m\u001b[0m\u001b[0m\n\u001b[0m\u001b[1;32m     20\u001b[0m     \u001b[0;32melse\u001b[0m\u001b[0;34m:\u001b[0m\u001b[0;34m\u001b[0m\u001b[0;34m\u001b[0m\u001b[0m\n\u001b[1;32m     21\u001b[0m       \u001b[0mexit\u001b[0m\u001b[0;34m(\u001b[0m\u001b[0;34m)\u001b[0m\u001b[0;34m\u001b[0m\u001b[0;34m\u001b[0m\u001b[0m\n",
            "\u001b[0;32m<ipython-input-4-0bebe7252733>\u001b[0m in \u001b[0;36m__login\u001b[0;34m(self)\u001b[0m\n\u001b[1;32m     58\u001b[0m     \u001b[0;32mif\u001b[0m \u001b[0mself\u001b[0m\u001b[0;34m.\u001b[0m\u001b[0m__database\u001b[0m\u001b[0;34m[\u001b[0m\u001b[0memail\u001b[0m\u001b[0;34m]\u001b[0m\u001b[0;34m[\u001b[0m\u001b[0;36m1\u001b[0m\u001b[0;34m]\u001b[0m \u001b[0;34m==\u001b[0m \u001b[0mpassword\u001b[0m\u001b[0;34m:\u001b[0m\u001b[0;34m\u001b[0m\u001b[0;34m\u001b[0m\u001b[0m\n\u001b[1;32m     59\u001b[0m       \u001b[0mprint\u001b[0m\u001b[0;34m(\u001b[0m\u001b[0;34m'logged in successfully :)'\u001b[0m\u001b[0;34m)\u001b[0m\u001b[0;34m\u001b[0m\u001b[0;34m\u001b[0m\u001b[0m\n\u001b[0;32m---> 60\u001b[0;31m       \u001b[0mself\u001b[0m\u001b[0;34m.\u001b[0m\u001b[0m__second_menu\u001b[0m\u001b[0;34m(\u001b[0m\u001b[0;34m)\u001b[0m\u001b[0;34m\u001b[0m\u001b[0;34m\u001b[0m\u001b[0m\n\u001b[0m\u001b[1;32m     61\u001b[0m     \u001b[0;32melse\u001b[0m\u001b[0;34m:\u001b[0m\u001b[0;34m\u001b[0m\u001b[0;34m\u001b[0m\u001b[0m\n\u001b[1;32m     62\u001b[0m       \u001b[0mprint\u001b[0m\u001b[0;34m(\u001b[0m\u001b[0;34m'password is incorrect :('\u001b[0m\u001b[0;34m)\u001b[0m\u001b[0;34m\u001b[0m\u001b[0;34m\u001b[0m\u001b[0m\n",
            "\u001b[0;32m<ipython-input-4-0bebe7252733>\u001b[0m in \u001b[0;36m__second_menu\u001b[0;34m(self)\u001b[0m\n\u001b[1;32m     33\u001b[0m       \u001b[0mself\u001b[0m\u001b[0;34m.\u001b[0m\u001b[0m__ner\u001b[0m\u001b[0;34m(\u001b[0m\u001b[0;34m)\u001b[0m\u001b[0;34m\u001b[0m\u001b[0;34m\u001b[0m\u001b[0m\n\u001b[1;32m     34\u001b[0m     \u001b[0;32melif\u001b[0m \u001b[0msecond_input\u001b[0m \u001b[0;34m==\u001b[0m \u001b[0;34m'2'\u001b[0m\u001b[0;34m:\u001b[0m\u001b[0;34m\u001b[0m\u001b[0;34m\u001b[0m\u001b[0m\n\u001b[0;32m---> 35\u001b[0;31m       \u001b[0mself\u001b[0m\u001b[0;34m.\u001b[0m\u001b[0m__language_detection\u001b[0m\u001b[0;34m(\u001b[0m\u001b[0;34m)\u001b[0m\u001b[0;34m\u001b[0m\u001b[0;34m\u001b[0m\u001b[0m\n\u001b[0m\u001b[1;32m     36\u001b[0m     \u001b[0;32melif\u001b[0m \u001b[0msecond_input\u001b[0m \u001b[0;34m==\u001b[0m \u001b[0;34m'3'\u001b[0m\u001b[0;34m:\u001b[0m\u001b[0;34m\u001b[0m\u001b[0;34m\u001b[0m\u001b[0m\n\u001b[1;32m     37\u001b[0m       \u001b[0mself\u001b[0m\u001b[0;34m.\u001b[0m\u001b[0m__sentiment_analysis\u001b[0m\u001b[0;34m(\u001b[0m\u001b[0;34m)\u001b[0m\u001b[0;34m\u001b[0m\u001b[0;34m\u001b[0m\u001b[0m\n",
            "\u001b[0;32m<ipython-input-4-0bebe7252733>\u001b[0m in \u001b[0;36m__language_detection\u001b[0;34m(self)\u001b[0m\n\u001b[1;32m     80\u001b[0m \u001b[0;34m\u001b[0m\u001b[0m\n\u001b[1;32m     81\u001b[0m     \u001b[0mclient\u001b[0m \u001b[0;34m=\u001b[0m \u001b[0mnlpcloud\u001b[0m\u001b[0;34m.\u001b[0m\u001b[0mClient\u001b[0m\u001b[0;34m(\u001b[0m\u001b[0;34m\"python-langdetect\"\u001b[0m\u001b[0;34m,\u001b[0m \u001b[0;34m\"4c2f5509e274949f7fff888b19ba0b61ca6e12b8\"\u001b[0m\u001b[0;34m,\u001b[0m \u001b[0mgpu\u001b[0m\u001b[0;34m=\u001b[0m\u001b[0;32mFalse\u001b[0m\u001b[0;34m)\u001b[0m\u001b[0;34m\u001b[0m\u001b[0;34m\u001b[0m\u001b[0m\n\u001b[0;32m---> 82\u001b[0;31m     \u001b[0mresponse\u001b[0m \u001b[0;34m=\u001b[0m \u001b[0mclient\u001b[0m\u001b[0;34m.\u001b[0m\u001b[0m__lang_detection\u001b[0m\u001b[0;34m(\u001b[0m\u001b[0mpara\u001b[0m\u001b[0;34m)\u001b[0m\u001b[0;34m\u001b[0m\u001b[0;34m\u001b[0m\u001b[0m\n\u001b[0m\u001b[1;32m     83\u001b[0m     \u001b[0mprint\u001b[0m\u001b[0;34m(\u001b[0m\u001b[0mresponse\u001b[0m\u001b[0;34m)\u001b[0m\u001b[0;34m\u001b[0m\u001b[0;34m\u001b[0m\u001b[0m\n\u001b[1;32m     84\u001b[0m     \u001b[0mself\u001b[0m\u001b[0;34m.\u001b[0m\u001b[0m__second_menu\u001b[0m\u001b[0;34m(\u001b[0m\u001b[0;34m)\u001b[0m\u001b[0;34m\u001b[0m\u001b[0;34m\u001b[0m\u001b[0m\n",
            "\u001b[0;31mAttributeError\u001b[0m: 'Client' object has no attribute '_NLPApp__lang_detection'"
          ]
        }
      ]
    },
    {
      "cell_type": "code",
      "source": [
        "ssssss1"
      ],
      "metadata": {
        "id": "yufW1NpLhx70"
      },
      "execution_count": null,
      "outputs": []
    }
  ]
}