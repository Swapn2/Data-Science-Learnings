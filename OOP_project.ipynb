{
  "nbformat": 4,
  "nbformat_minor": 0,
  "metadata": {
    "colab": {
      "provenance": [],
      "authorship_tag": "ABX9TyMZ7b3kRV9Ppqa/+MXLr89H",
      "include_colab_link": true
    },
    "kernelspec": {
      "name": "python3",
      "display_name": "Python 3"
    },
    "language_info": {
      "name": "python"
    }
  },
  "cells": [
    {
      "cell_type": "markdown",
      "metadata": {
        "id": "view-in-github",
        "colab_type": "text"
      },
      "source": [
        "<a href=\"https://colab.research.google.com/github/Swapn2/Data-Science-Learnings/blob/main/OOP_project.ipynb\" target=\"_parent\"><img src=\"https://colab.research.google.com/assets/colab-badge.svg\" alt=\"Open In Colab\"/></a>"
      ]
    },
    {
      "cell_type": "code",
      "execution_count": 6,
      "metadata": {
        "colab": {
          "base_uri": "https://localhost:8080/"
        },
        "id": "XAuVupZUYCey",
        "outputId": "fa1be838-a3c4-4f78-cb82-f2276422d3c1"
      },
      "outputs": [
        {
          "output_type": "execute_result",
          "data": {
            "text/plain": [
              "{'entities': [{'start': 26,\n",
              "   'end': 36,\n",
              "   'type': 'programming languages',\n",
              "   'text': 'Javascript'},\n",
              "  {'start': 102,\n",
              "   'end': 108,\n",
              "   'type': 'programming languages',\n",
              "   'text': 'Python'},\n",
              "  {'start': 165, 'end': 167, 'type': 'programming languages', 'text': 'Go'}]}"
            ]
          },
          "metadata": {},
          "execution_count": 6
        }
      ],
      "source": [
        "import nlpcloud\n",
        "\n",
        "client = nlpcloud.Client(\"finetuned-llama-3-70b\", \"4c2f5509e274949f7fff888b19ba0b61ca6e12b8\", gpu=True)\n",
        "client.entities(\n",
        "    \"\"\"John Doe started learning Javascript when he was 15 years old. After a couple of years he switched to Python and starter learning low level programming. He is now a Go expert at Google.\"\"\",\n",
        "    searched_entity=\"programming languages\"\n",
        ")"
      ]
    },
    {
      "cell_type": "code",
      "source": [
        "!pip install nlpcloud"
      ],
      "metadata": {
        "colab": {
          "base_uri": "https://localhost:8080/"
        },
        "id": "2rcUKfhGdq3y",
        "outputId": "18e85428-7c8e-4e0a-da9a-40bb54232db9"
      },
      "execution_count": 7,
      "outputs": [
        {
          "output_type": "stream",
          "name": "stdout",
          "text": [
            "Requirement already satisfied: nlpcloud in /usr/local/lib/python3.11/dist-packages (1.1.47)\n",
            "Requirement already satisfied: requests in /usr/local/lib/python3.11/dist-packages (from nlpcloud) (2.32.3)\n",
            "Requirement already satisfied: charset-normalizer<4,>=2 in /usr/local/lib/python3.11/dist-packages (from requests->nlpcloud) (3.4.1)\n",
            "Requirement already satisfied: idna<4,>=2.5 in /usr/local/lib/python3.11/dist-packages (from requests->nlpcloud) (3.10)\n",
            "Requirement already satisfied: urllib3<3,>=1.21.1 in /usr/local/lib/python3.11/dist-packages (from requests->nlpcloud) (2.3.0)\n",
            "Requirement already satisfied: certifi>=2017.4.17 in /usr/local/lib/python3.11/dist-packages (from requests->nlpcloud) (2025.1.31)\n"
          ]
        }
      ]
    },
    {
      "cell_type": "code",
      "source": [
        "import nlpcloud\n",
        "class NLPApp:\n",
        "  def __init__(self):\n",
        "\n",
        "    self.__database = {}\n",
        "    self.__first_menu()\n",
        "\n",
        "  def __first_menu(self):\n",
        "    first_input = input(\"\"\"\n",
        "    Hi!\n",
        "    How would you like to proceed\n",
        "    1. Not a meber ? Register\n",
        "    2. Already a member? Login\n",
        "    3. Exit : \"\"\")\n",
        "\n",
        "    if(first_input == '1'):\n",
        "      self.__register()\n",
        "    elif (first_input == '2'):\n",
        "      self.__login()\n",
        "    else:\n",
        "      exit()\n",
        "\n",
        "  def __second_menu(self):\n",
        "    second_input = input(\"\"\"\n",
        "    Hi!\n",
        "    How would you like to proceed\n",
        "    1. NER\n",
        "    2. Language Detection\n",
        "    3. Sentiment Analysis\n",
        "    4. logout \"\"\")\n",
        "\n",
        "    if second_input == '1':\n",
        "      self.__ner()\n",
        "    elif second_input == '2':\n",
        "      self.__language_detecion()\n",
        "    elif second_input == '3':\n",
        "      self.__sentiment_analysis()\n",
        "    else:\n",
        "      exit()\n",
        "\n",
        "  def __register(self):\n",
        "    name = input('enter name : ')\n",
        "    email = input('enter email : ')   # we didint use self before var bcoz we are not going to use these var in somewhere else\n",
        "    password = input('enter password : ')\n",
        "    if email in self.__database:\n",
        "      print('email already exist :(')\n",
        "    else:\n",
        "      self.__database[email] = [name,password]\n",
        "      print('Register succesfully :), Now login')\n",
        "    print(self.__database)\n",
        "    self.__first_menu()  # so that we can took the data of multiple users as registered\n",
        "\n",
        "  def __login(self):\n",
        "   email = input('enter eamil : ')\n",
        "   password = input('entr the password : ')\n",
        "\n",
        "   if email in self.__database:\n",
        "    if self.__database[email][1] == password:\n",
        "      print('logged in successfully :)')\n",
        "      self.__second_menu()\n",
        "    else:\n",
        "      print('password is incorrect :(')\n",
        "      self.__login()\n",
        "   else:\n",
        "    print('email is not registered ')\n",
        "    self.__first_menu()\n",
        "\n",
        "  def __ner(self):\n",
        "    para = input(' enter the paragraph : ')\n",
        "    search_term = input(' enter the tittle : ')\n",
        "\n",
        "    client = nlpcloud.Client(\"finetuned-llama-3-70b\", \"4c2f5509e274949f7fff888b19ba0b61ca6e12b8\", gpu=True)\n",
        "    response = client.entities(para,searched_entity=search_term)\n",
        "\n",
        "    print(response)\n",
        "    self.__second_menu()\n",
        "\n",
        "  def __language_detection(self):\n",
        "    pass\n",
        "  def __sentiment_analysis(self):\n",
        "    para = input('enter the paragraph : ')\n",
        "\n",
        "    client = nlpcloud.Client(\"finetuned-llama-3-70b\", \"4c2f5509e274949f7fff888b19ba0b61ca6e12b8\", gpu=True)\n",
        "    response = client.sentiment(para)\n",
        "\n",
        "    print(response)\n",
        "    self.__second_menu()\n",
        "\n",
        "\n",
        "\n",
        "obj = NLPApp()"
      ],
      "metadata": {
        "id": "wkXr5AHmd4f_",
        "colab": {
          "base_uri": "https://localhost:8080/"
        },
        "outputId": "f522c104-7809-4c47-debb-38a6f78a2b95"
      },
      "execution_count": 8,
      "outputs": [
        {
          "output_type": "stream",
          "name": "stdout",
          "text": [
            "\n",
            "    Hi!\n",
            "    How would you like to proceed\n",
            "    1. Not a meber ? Register\n",
            "    2. Already a member? Login\n",
            "    3. Exit : 1\n",
            "enter name : wapn\n",
            "enter email : wapn@gmail.com\n",
            "enter password : 1234\n",
            "Register succesfully :), Now login\n",
            "{'wapn@gmail.com': ['wapn', '1234']}\n",
            "\n",
            "    Hi!\n",
            "    How would you like to proceed\n",
            "    1. Not a meber ? Register\n",
            "    2. Already a member? Login\n",
            "    3. Exit : 2\n",
            "enter eamil : wapn@gmail.com\n",
            "entr the password : 234\n",
            "password is incorrect :(\n",
            "enter eamil : wapn@gmail.com\n",
            "entr the password : 1234\n",
            "logged in successfully :)\n",
            "\n",
            "    Hi!\n",
            "    How would you like to proceed\n",
            "    1. NER\n",
            "    2. Language Detection\n",
            "    3. Sentiment Analysis\n",
            "    4. logout 3\n",
            "enter the paragraph : Rebels/ outlaws made for some classic films in the 70s - Deewaar, Sholay, Kaala Patthar, Laawaris to name a few. These movies worked primarily due to the brooding intensity and swag of Mr. Amitabh Bachchan plus his cracking on-screen camaraderie with co-stars like Dharmendra, Vinod Khanna etc.\n",
            "{'scored_labels': [{'label': 'POSITIVE', 'score': 1}, {'label': 'joy', 'score': 1}]}\n"
          ]
        }
      ]
    },
    {
      "cell_type": "code",
      "source": [
        "ss1"
      ],
      "metadata": {
        "id": "yufW1NpLhx70"
      },
      "execution_count": null,
      "outputs": []
    }
  ]
}