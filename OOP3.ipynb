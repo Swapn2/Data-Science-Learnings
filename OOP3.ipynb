{
  "nbformat": 4,
  "nbformat_minor": 0,
  "metadata": {
    "colab": {
      "provenance": [],
      "authorship_tag": "ABX9TyOn29c33udzSOQWqR3GsuyD",
      "include_colab_link": true
    },
    "kernelspec": {
      "name": "python3",
      "display_name": "Python 3"
    },
    "language_info": {
      "name": "python"
    }
  },
  "cells": [
    {
      "cell_type": "markdown",
      "metadata": {
        "id": "view-in-github",
        "colab_type": "text"
      },
      "source": [
        "<a href=\"https://colab.research.google.com/github/Swapn2/Data-Science-Learnings/blob/main/OOP3.ipynb\" target=\"_parent\"><img src=\"https://colab.research.google.com/assets/colab-badge.svg\" alt=\"Open In Colab\"/></a>"
      ]
    },
    {
      "cell_type": "markdown",
      "source": [
        "### Class Relationships\n",
        "\n",
        "- Aggregation\n",
        "- Inheritance"
      ],
      "metadata": {
        "id": "1ruFKKMI8zDm"
      }
    },
    {
      "cell_type": "markdown",
      "source": [
        "### Aggregation(Has-A relationship)"
      ],
      "metadata": {
        "id": "We8jlC3i82-g"
      }
    },
    {
      "cell_type": "code",
      "source": [
        "class Customer:\n",
        "  def __init__(self,name,gender,address):\n",
        "    self.name = name\n",
        "    self.gender = gender\n",
        "    self.address = address\n",
        "\n",
        "  def print_address(self):\n",
        "    print(self.address.city,self.address.pin,self.address.state)\n",
        "\n",
        "\n",
        "class Address:\n",
        "  def __init__(self,city,pin,state):\n",
        "    self.city = city\n",
        "    self.pin = pin\n",
        "    self.state = state\n",
        "adr = Address('jodhpur','342037','rajasthan')\n",
        "cust = Customer('swapn','Male',adr)  # main class object banate time doosri class ka object as attribute de diya\n",
        "cust.print_address()"
      ],
      "metadata": {
        "colab": {
          "base_uri": "https://localhost:8080/"
        },
        "id": "u01qgYDk8zu9",
        "outputId": "c31e0313-fbe8-4b97-ccb7-0a9460f2742a"
      },
      "execution_count": null,
      "outputs": [
        {
          "output_type": "stream",
          "name": "stdout",
          "text": [
            "jodhpur 342037 rajasthan\n"
          ]
        }
      ]
    },
    {
      "cell_type": "code",
      "source": [
        "class Customer:\n",
        "  def __init__(self,name,gender,address):\n",
        "    self.name = name\n",
        "    self.gender = gender\n",
        "    self.address = address\n",
        "\n",
        "  def print_address(self):\n",
        "    print(self.address.__city,self.address.pin,self.address.state)\n",
        "\n",
        "\n",
        "class Address:\n",
        "  def __init__(self,city,pin,state):\n",
        "    self.__city = city\n",
        "    self.pin = pin\n",
        "    self.state = state\n",
        "adr = Address('jodhpur','342037','rajasthan')\n",
        "cust = Customer('swapn','Male',adr)\n",
        "cust.print_address()\n",
        "\n",
        "\n",
        "# we cant acess the private variable"
      ],
      "metadata": {
        "colab": {
          "base_uri": "https://localhost:8080/",
          "height": 297
        },
        "id": "KMyNc7Te_iR0",
        "outputId": "6b965e2d-c126-4a07-b2c8-3b39542d7045"
      },
      "execution_count": null,
      "outputs": [
        {
          "output_type": "error",
          "ename": "AttributeError",
          "evalue": "'Address' object has no attribute '_Customer__city'",
          "traceback": [
            "\u001b[0;31m---------------------------------------------------------------------------\u001b[0m",
            "\u001b[0;31mAttributeError\u001b[0m                            Traceback (most recent call last)",
            "\u001b[0;32m<ipython-input-6-682c632460fc>\u001b[0m in \u001b[0;36m<cell line: 0>\u001b[0;34m()\u001b[0m\n\u001b[1;32m     16\u001b[0m \u001b[0madr\u001b[0m \u001b[0;34m=\u001b[0m \u001b[0mAddress\u001b[0m\u001b[0;34m(\u001b[0m\u001b[0;34m'jodhpur'\u001b[0m\u001b[0;34m,\u001b[0m\u001b[0;34m'342037'\u001b[0m\u001b[0;34m,\u001b[0m\u001b[0;34m'rajasthan'\u001b[0m\u001b[0;34m)\u001b[0m\u001b[0;34m\u001b[0m\u001b[0;34m\u001b[0m\u001b[0m\n\u001b[1;32m     17\u001b[0m \u001b[0mcust\u001b[0m \u001b[0;34m=\u001b[0m \u001b[0mCustomer\u001b[0m\u001b[0;34m(\u001b[0m\u001b[0;34m'swapn'\u001b[0m\u001b[0;34m,\u001b[0m\u001b[0;34m'Male'\u001b[0m\u001b[0;34m,\u001b[0m\u001b[0madr\u001b[0m\u001b[0;34m)\u001b[0m\u001b[0;34m\u001b[0m\u001b[0;34m\u001b[0m\u001b[0m\n\u001b[0;32m---> 18\u001b[0;31m \u001b[0mcust\u001b[0m\u001b[0;34m.\u001b[0m\u001b[0mprint_address\u001b[0m\u001b[0;34m(\u001b[0m\u001b[0;34m)\u001b[0m\u001b[0;34m\u001b[0m\u001b[0;34m\u001b[0m\u001b[0m\n\u001b[0m",
            "\u001b[0;32m<ipython-input-6-682c632460fc>\u001b[0m in \u001b[0;36mprint_address\u001b[0;34m(self)\u001b[0m\n\u001b[1;32m      6\u001b[0m \u001b[0;34m\u001b[0m\u001b[0m\n\u001b[1;32m      7\u001b[0m   \u001b[0;32mdef\u001b[0m \u001b[0mprint_address\u001b[0m\u001b[0;34m(\u001b[0m\u001b[0mself\u001b[0m\u001b[0;34m)\u001b[0m\u001b[0;34m:\u001b[0m\u001b[0;34m\u001b[0m\u001b[0;34m\u001b[0m\u001b[0m\n\u001b[0;32m----> 8\u001b[0;31m     \u001b[0mprint\u001b[0m\u001b[0;34m(\u001b[0m\u001b[0mself\u001b[0m\u001b[0;34m.\u001b[0m\u001b[0maddress\u001b[0m\u001b[0;34m.\u001b[0m\u001b[0m__city\u001b[0m\u001b[0;34m,\u001b[0m\u001b[0mself\u001b[0m\u001b[0;34m.\u001b[0m\u001b[0maddress\u001b[0m\u001b[0;34m.\u001b[0m\u001b[0mpin\u001b[0m\u001b[0;34m,\u001b[0m\u001b[0mself\u001b[0m\u001b[0;34m.\u001b[0m\u001b[0maddress\u001b[0m\u001b[0;34m.\u001b[0m\u001b[0mstate\u001b[0m\u001b[0;34m)\u001b[0m\u001b[0;34m\u001b[0m\u001b[0;34m\u001b[0m\u001b[0m\n\u001b[0m\u001b[1;32m      9\u001b[0m \u001b[0;34m\u001b[0m\u001b[0m\n\u001b[1;32m     10\u001b[0m \u001b[0;34m\u001b[0m\u001b[0m\n",
            "\u001b[0;31mAttributeError\u001b[0m: 'Address' object has no attribute '_Customer__city'"
          ]
        }
      ]
    },
    {
      "cell_type": "code",
      "source": [
        "class Customer:\n",
        "  def __init__(self,name,gender,address):\n",
        "    self.name = name\n",
        "    self.gender = gender\n",
        "    self.address = address\n",
        "\n",
        "  def print_address(self):\n",
        "    print(self.address.get_city(),self.address.pin,self.address.state)\n",
        "\n",
        "\n",
        "class Address:\n",
        "  def __init__(self,city,pin,state):\n",
        "    self.__city = city\n",
        "    self.pin = pin\n",
        "    self.state = state\n",
        "\n",
        "  def get_city(self):\n",
        "    return self.__city\n",
        "adr = Address('jodhpur','342037','rajasthan')\n",
        "cust = Customer('swapn','Male',adr)\n",
        "cust.print_address()\n",
        "\n",
        "\n",
        "# we cant acess the private variable\n",
        "# so we used the get setter"
      ],
      "metadata": {
        "colab": {
          "base_uri": "https://localhost:8080/"
        },
        "id": "MipWa9y4ACsH",
        "outputId": "691dcfd9-92d5-4ec6-d94a-dc00f4e6c9b5"
      },
      "execution_count": null,
      "outputs": [
        {
          "output_type": "stream",
          "name": "stdout",
          "text": [
            "jodhpur 342037 rajasthan\n"
          ]
        }
      ]
    },
    {
      "cell_type": "code",
      "source": [
        "class Customer:\n",
        "  def __init__(self,name,gender,address):\n",
        "    self.name = name\n",
        "    self.gender = gender\n",
        "    self.address = address\n",
        "\n",
        "  def print_address(self):\n",
        "    print(self.address.get_city(),self.address.pin,self.address.state)\n",
        "\n",
        "  def edit_profile(self,new_name,new_city,new_pin,new_state):\n",
        "    self.name = new_name\n",
        "    self.address.edit_address(new_city,new_pin,new_state)\n",
        "\n",
        "\n",
        "\n",
        "\n",
        "class Address:\n",
        "  def __init__(self,city,pin,state):\n",
        "    self.__city = city\n",
        "    self.pin = pin\n",
        "    self.state = state\n",
        "\n",
        "  def get_city(self):\n",
        "    return self.__city\n",
        "\n",
        "  def edit_address(self,new_city,new_pin,new_state):\n",
        "    self.__city = new_city\n",
        "    self.pin = new_pin\n",
        "    self.state = new_state\n",
        "\n",
        "\n",
        "adr = Address('jodhpur','342037','rajasthan')\n",
        "cust = Customer('swapn','Male',adr)\n",
        "cust.print_address()\n",
        "\n",
        "cust.edit_profile('ankit','kanpur','210121','UP')\n",
        "cust.print_address()\n"
      ],
      "metadata": {
        "colab": {
          "base_uri": "https://localhost:8080/"
        },
        "id": "MqSch226AiWG",
        "outputId": "23b8a043-b6d2-4757-d4c9-6cbc2cb94126"
      },
      "execution_count": null,
      "outputs": [
        {
          "output_type": "stream",
          "name": "stdout",
          "text": [
            "jodhpur 342037 rajasthan\n",
            "kanpur 210121 UP\n"
          ]
        }
      ]
    },
    {
      "cell_type": "markdown",
      "source": [
        "##### Aggregation class diagram"
      ],
      "metadata": {
        "id": "SNw1L7pNE2XY"
      }
    },
    {
      "cell_type": "code",
      "source": [],
      "metadata": {
        "id": "klKchPwqEDZp"
      },
      "execution_count": null,
      "outputs": []
    },
    {
      "cell_type": "markdown",
      "source": [
        "### Inheritance\n",
        "\n",
        "- What is inheritance\n",
        "- Example\n",
        "- What gets inherited?"
      ],
      "metadata": {
        "id": "Hc2E5Z6VF4VE"
      }
    },
    {
      "cell_type": "code",
      "source": [
        "# parent class\n",
        "class User:\n",
        "  def __init__(self):\n",
        "    self.name = 'swapn'\n",
        "\n",
        "  def login(self):\n",
        "    print('login')\n",
        "\n",
        "    # child class\n",
        "class Student(User):\n",
        "  def __init__(self):\n",
        "    self.rollno = '100'\n",
        "\n",
        "  def enroll(self):\n",
        "    print('enrolled in to course')\n",
        "\n",
        "u = User()\n",
        "s = Student()\n",
        "# print(s.name )  this will give error\n",
        "# Why print(s.name) Gives an Error?\n",
        "# When you create an object of Student, Python calls only the __init__ of Student.\n",
        "# Student.__init__() does not call User.__init__(), so name is never initialized.\n",
        "# Since name is missing, accessing s.name results in an AttributeError.\n",
        "# What Happens if We Remove Student.__init__()?\n",
        "# If Student does not define __init__(), Python will use User.__init__(), so s.name will work.\n",
        "# Since there's no rollno in User.__init__(), s.rollno will give an error.\n",
        "# if i romve the the constructor of student class of change its name from init to iitn then it will return name by travelling to each constructor\n",
        "print(s.rollno)\n",
        "s.enroll()\n",
        "s.login()"
      ],
      "metadata": {
        "colab": {
          "base_uri": "https://localhost:8080/"
        },
        "id": "HMFCD18hF6Gd",
        "outputId": "3f909ad2-8f78-408a-93ee-ecb441368ef7"
      },
      "execution_count": null,
      "outputs": [
        {
          "output_type": "stream",
          "name": "stdout",
          "text": [
            "100\n",
            "enrolled in to course\n",
            "login\n"
          ]
        }
      ]
    },
    {
      "cell_type": "code",
      "source": [
        "class Phone:\n",
        "  def __init__(self,price,brand,camera):\n",
        "    print('inside the phone constructor')\n",
        "    self.price = price\n",
        "    self.band = brand\n",
        "    self.camera = camera\n",
        "\n",
        "  def buy(self):\n",
        "    print('buying a phone')\n",
        "\n",
        "class SmartPhone(Phone):\n",
        "  pass\n",
        "\n",
        "s = SmartPhone(20000,'vivo','triple')\n",
        "s.buy()"
      ],
      "metadata": {
        "colab": {
          "base_uri": "https://localhost:8080/"
        },
        "id": "P1ANSgv8SZ4-",
        "outputId": "cfa20318-b86a-4653-99de-8d3259d220cd"
      },
      "execution_count": null,
      "outputs": [
        {
          "output_type": "stream",
          "name": "stdout",
          "text": [
            "inside the phone constructor\n",
            "buying a phone\n"
          ]
        }
      ]
    },
    {
      "cell_type": "code",
      "source": [
        "class Phone:\n",
        "  def __init__(self,price,brand,camera):\n",
        "    print('inside the phone constructor')\n",
        "    self.price = price\n",
        "    self.brand = brand\n",
        "    self.camera = camera\n",
        "\n",
        "  def buy(self):\n",
        "    print('buying a phone')\n",
        "\n",
        "class SmartPhone(Phone):\n",
        "  def __init__(self,os,ram):\n",
        "    self.os = os\n",
        "    self.ram = ram\n",
        "    print('inside samrtphone costructor')\n",
        "\n",
        "\n",
        "s = SmartPhone('android',16)\n",
        "s.brand"
      ],
      "metadata": {
        "id": "KYPZ8FzQcNor",
        "colab": {
          "base_uri": "https://localhost:8080/",
          "height": 193
        },
        "outputId": "68566ba7-992d-468a-861b-39ffa2a3e692"
      },
      "execution_count": null,
      "outputs": [
        {
          "output_type": "stream",
          "name": "stdout",
          "text": [
            "inside samrtphone costructor\n"
          ]
        },
        {
          "output_type": "error",
          "ename": "AttributeError",
          "evalue": "'SmartPhone' object has no attribute 'brand'",
          "traceback": [
            "\u001b[0;31m---------------------------------------------------------------------------\u001b[0m",
            "\u001b[0;31mAttributeError\u001b[0m                            Traceback (most recent call last)",
            "\u001b[0;32m<ipython-input-9-c598a768fb26>\u001b[0m in \u001b[0;36m<cell line: 0>\u001b[0;34m()\u001b[0m\n\u001b[1;32m     17\u001b[0m \u001b[0;34m\u001b[0m\u001b[0m\n\u001b[1;32m     18\u001b[0m \u001b[0ms\u001b[0m \u001b[0;34m=\u001b[0m \u001b[0mSmartPhone\u001b[0m\u001b[0;34m(\u001b[0m\u001b[0;34m'android'\u001b[0m\u001b[0;34m,\u001b[0m\u001b[0;36m16\u001b[0m\u001b[0;34m)\u001b[0m\u001b[0;34m\u001b[0m\u001b[0;34m\u001b[0m\u001b[0m\n\u001b[0;32m---> 19\u001b[0;31m \u001b[0ms\u001b[0m\u001b[0;34m.\u001b[0m\u001b[0mbrand\u001b[0m\u001b[0;34m\u001b[0m\u001b[0;34m\u001b[0m\u001b[0m\n\u001b[0m",
            "\u001b[0;31mAttributeError\u001b[0m: 'SmartPhone' object has no attribute 'brand'"
          ]
        }
      ]
    },
    {
      "cell_type": "code",
      "source": [
        "# child cant access the pvt members of the class\n",
        "\n",
        "class Phone:\n",
        "  def __init__(self,price,brand,camera):\n",
        "    self.__price = price\n",
        "    self.brand = brand\n",
        "    self.camera = camera\n",
        "  def show(self):\n",
        "    print(self.__price)\n",
        "\n",
        "class SmartPhone(Phone):\n",
        "\n",
        "  def check(self):\n",
        "    print(self.__price)\n",
        "\n",
        "s = SmartPhone(20000,'vivo',13)\n",
        "# s.check()  ## this will raise error\n",
        "print(s.brand)\n",
        "s.show()"
      ],
      "metadata": {
        "id": "y3ll1NtUcxZF",
        "colab": {
          "base_uri": "https://localhost:8080/"
        },
        "outputId": "7e3082e0-02fc-41b0-c6d9-0e17372dcd1d"
      },
      "execution_count": null,
      "outputs": [
        {
          "output_type": "stream",
          "name": "stdout",
          "text": [
            "vivo\n",
            "20000\n"
          ]
        }
      ]
    },
    {
      "cell_type": "markdown",
      "source": [],
      "metadata": {
        "id": "tUOJFttXou5Y"
      }
    },
    {
      "cell_type": "code",
      "source": [
        "# child cant access the pvt members of the class\n",
        "\n",
        "class Phone:\n",
        "  def __init__(self,price,brand,camera):\n",
        "    self.__price = price\n",
        "    self.brand = brand\n",
        "    self.camera = camera\n",
        "    # getter\n",
        "  def show(self):\n",
        "    print(self.__price)\n",
        "\n",
        "class SmartPhone(Phone):\n",
        "\n",
        "  def check(self):\n",
        "    print(self.__price)\n",
        "\n",
        "s = SmartPhone(20000,'vivo',13)\n",
        "# s.check()  ## this will raise error\n",
        "print(s.brand)\n",
        "s.show()"
      ],
      "metadata": {
        "colab": {
          "base_uri": "https://localhost:8080/",
          "height": 193
        },
        "id": "jNee5kVdrIqU",
        "outputId": "00c7128b-418f-41f4-e230-a529de58e37a"
      },
      "execution_count": null,
      "outputs": [
        {
          "output_type": "stream",
          "name": "stdout",
          "text": [
            "vivo\n"
          ]
        },
        {
          "output_type": "error",
          "ename": "AttributeError",
          "evalue": "'SmartPhone' object has no attribute 'show'",
          "traceback": [
            "\u001b[0;31m---------------------------------------------------------------------------\u001b[0m",
            "\u001b[0;31mAttributeError\u001b[0m                            Traceback (most recent call last)",
            "\u001b[0;32m<ipython-input-10-23115cf78dcd>\u001b[0m in \u001b[0;36m<cell line: 0>\u001b[0;34m()\u001b[0m\n\u001b[1;32m     17\u001b[0m \u001b[0;31m# s.check()  ## this will raise error\u001b[0m\u001b[0;34m\u001b[0m\u001b[0;34m\u001b[0m\u001b[0m\n\u001b[1;32m     18\u001b[0m \u001b[0mprint\u001b[0m\u001b[0;34m(\u001b[0m\u001b[0ms\u001b[0m\u001b[0;34m.\u001b[0m\u001b[0mbrand\u001b[0m\u001b[0;34m)\u001b[0m\u001b[0;34m\u001b[0m\u001b[0;34m\u001b[0m\u001b[0m\n\u001b[0;32m---> 19\u001b[0;31m \u001b[0ms\u001b[0m\u001b[0;34m.\u001b[0m\u001b[0mshow\u001b[0m\u001b[0;34m(\u001b[0m\u001b[0;34m)\u001b[0m\u001b[0;34m\u001b[0m\u001b[0;34m\u001b[0m\u001b[0m\n\u001b[0m",
            "\u001b[0;31mAttributeError\u001b[0m: 'SmartPhone' object has no attribute 'show'"
          ]
        }
      ]
    },
    {
      "cell_type": "code",
      "source": [
        "class Parent:\n",
        "\n",
        "  def __init__(self,num):\n",
        "    self.__num = num\n",
        "\n",
        "  def get_num(self):\n",
        "    return self.__num\n",
        "class Child(Parent):\n",
        "\n",
        "  def show(self):\n",
        "    print('this is child class')\n",
        "\n",
        "son = Child(100)\n",
        "print(son.get_num())\n",
        "son.show()\n"
      ],
      "metadata": {
        "colab": {
          "base_uri": "https://localhost:8080/"
        },
        "id": "UvRRdF6ErML9",
        "outputId": "46eb1d51-dba2-4d66-c781-3541ef5b8bfa"
      },
      "execution_count": null,
      "outputs": [
        {
          "output_type": "stream",
          "name": "stdout",
          "text": [
            "100\n",
            "this is child class\n"
          ]
        }
      ]
    },
    {
      "cell_type": "code",
      "source": [
        "class Parent:\n",
        "\n",
        "  def __init__(self,num):\n",
        "    self.__num = num\n",
        "\n",
        "  def get_num(self):\n",
        "    return self.__num\n",
        "class Child(Parent):\n",
        "  def __init__(self,val,num):\n",
        "    self.__val = val\n",
        "\n",
        "  def get_val(self):\n",
        "    return self.__val\n",
        "\n",
        "son = Child(100,10)\n",
        "print(son.get_val())\n",
        "print(son.get_num())  # this will throw error bcoz Parent const never called , sp no value assinged to __num\n"
      ],
      "metadata": {
        "colab": {
          "base_uri": "https://localhost:8080/",
          "height": 315
        },
        "id": "tnwXZxyctnQE",
        "outputId": "07ce1bbd-f2a3-4210-b451-af32551a8e31"
      },
      "execution_count": null,
      "outputs": [
        {
          "output_type": "stream",
          "name": "stdout",
          "text": [
            "100\n"
          ]
        },
        {
          "output_type": "error",
          "ename": "AttributeError",
          "evalue": "'Child' object has no attribute '_Parent__num'",
          "traceback": [
            "\u001b[0;31m---------------------------------------------------------------------------\u001b[0m",
            "\u001b[0;31mAttributeError\u001b[0m                            Traceback (most recent call last)",
            "\u001b[0;32m<ipython-input-17-1a6bcfc43fe4>\u001b[0m in \u001b[0;36m<cell line: 0>\u001b[0;34m()\u001b[0m\n\u001b[1;32m     15\u001b[0m \u001b[0mson\u001b[0m \u001b[0;34m=\u001b[0m \u001b[0mChild\u001b[0m\u001b[0;34m(\u001b[0m\u001b[0;36m100\u001b[0m\u001b[0;34m,\u001b[0m\u001b[0;36m10\u001b[0m\u001b[0;34m)\u001b[0m\u001b[0;34m\u001b[0m\u001b[0;34m\u001b[0m\u001b[0m\n\u001b[1;32m     16\u001b[0m \u001b[0mprint\u001b[0m\u001b[0;34m(\u001b[0m\u001b[0mson\u001b[0m\u001b[0;34m.\u001b[0m\u001b[0mget_val\u001b[0m\u001b[0;34m(\u001b[0m\u001b[0;34m)\u001b[0m\u001b[0;34m)\u001b[0m\u001b[0;34m\u001b[0m\u001b[0;34m\u001b[0m\u001b[0m\n\u001b[0;32m---> 17\u001b[0;31m \u001b[0mprint\u001b[0m\u001b[0;34m(\u001b[0m\u001b[0mson\u001b[0m\u001b[0;34m.\u001b[0m\u001b[0mget_num\u001b[0m\u001b[0;34m(\u001b[0m\u001b[0;34m)\u001b[0m\u001b[0;34m)\u001b[0m  \u001b[0;31m# this will throw error bcoz Parent const never called , sp no value assinged to __num\u001b[0m\u001b[0;34m\u001b[0m\u001b[0;34m\u001b[0m\u001b[0m\n\u001b[0m",
            "\u001b[0;32m<ipython-input-17-1a6bcfc43fe4>\u001b[0m in \u001b[0;36mget_num\u001b[0;34m(self)\u001b[0m\n\u001b[1;32m      5\u001b[0m \u001b[0;34m\u001b[0m\u001b[0m\n\u001b[1;32m      6\u001b[0m   \u001b[0;32mdef\u001b[0m \u001b[0mget_num\u001b[0m\u001b[0;34m(\u001b[0m\u001b[0mself\u001b[0m\u001b[0;34m)\u001b[0m\u001b[0;34m:\u001b[0m\u001b[0;34m\u001b[0m\u001b[0;34m\u001b[0m\u001b[0m\n\u001b[0;32m----> 7\u001b[0;31m     \u001b[0;32mreturn\u001b[0m \u001b[0mself\u001b[0m\u001b[0;34m.\u001b[0m\u001b[0m__num\u001b[0m\u001b[0;34m\u001b[0m\u001b[0;34m\u001b[0m\u001b[0m\n\u001b[0m\u001b[1;32m      8\u001b[0m \u001b[0;32mclass\u001b[0m \u001b[0mChild\u001b[0m\u001b[0;34m(\u001b[0m\u001b[0mParent\u001b[0m\u001b[0;34m)\u001b[0m\u001b[0;34m:\u001b[0m\u001b[0;34m\u001b[0m\u001b[0;34m\u001b[0m\u001b[0m\n\u001b[1;32m      9\u001b[0m   \u001b[0;32mdef\u001b[0m \u001b[0m__init__\u001b[0m\u001b[0;34m(\u001b[0m\u001b[0mself\u001b[0m\u001b[0;34m,\u001b[0m\u001b[0mval\u001b[0m\u001b[0;34m,\u001b[0m\u001b[0mnum\u001b[0m\u001b[0;34m)\u001b[0m\u001b[0;34m:\u001b[0m\u001b[0;34m\u001b[0m\u001b[0;34m\u001b[0m\u001b[0m\n",
            "\u001b[0;31mAttributeError\u001b[0m: 'Child' object has no attribute '_Parent__num'"
          ]
        }
      ]
    },
    {
      "cell_type": "code",
      "source": [
        "class A:\n",
        "  def __init__(self):\n",
        "    self.var1 = 100\n",
        "\n",
        "  def display1(self,var1):\n",
        "    print(\"class A: \",self.var1)\n",
        "\n",
        "class B(A):\n",
        "\n",
        "   def display2(self,var1):\n",
        "    print(\"class B: \",self.var1)\n",
        "\n",
        "obj = B()\n",
        "obj.display1(200)\n",
        "obj.display2(200)"
      ],
      "metadata": {
        "colab": {
          "base_uri": "https://localhost:8080/"
        },
        "id": "ATY-X_-Hvdmz",
        "outputId": "8e1f2bf1-d12c-4792-c7e8-5705141d6085"
      },
      "execution_count": null,
      "outputs": [
        {
          "output_type": "stream",
          "name": "stdout",
          "text": [
            "class A:  100\n",
            "class B:  100\n"
          ]
        }
      ]
    },
    {
      "cell_type": "code",
      "source": [
        "# method overriding\n",
        "# child cant access the pvt members of the class\n",
        "\n",
        "class Phone:\n",
        "  def __init__(self,price,brand,camera):\n",
        "    self.__price = price\n",
        "    self.brand = brand\n",
        "    self.camera = camera\n",
        "\n",
        "  def buy(self):\n",
        "    print(\"Buying a Phone\")\n",
        "\n",
        "class SmartPhone(Phone):\n",
        "\n",
        "  def buy(self):\n",
        "    print(\"Buying a smartphone\")\n",
        "\n",
        "s = SmartPhone(20000,'vivo',13)\n",
        "s.buy()\n",
        "# alwyas child class method will be excuted , if both have same method"
      ],
      "metadata": {
        "colab": {
          "base_uri": "https://localhost:8080/"
        },
        "id": "Gq9N0wtPyIX5",
        "outputId": "e0c7084e-32ff-499f-84e4-8756cd9d7056"
      },
      "execution_count": null,
      "outputs": [
        {
          "output_type": "stream",
          "name": "stdout",
          "text": [
            "Buying a smartphone\n"
          ]
        }
      ]
    },
    {
      "cell_type": "markdown",
      "source": [
        "# Super Keyword"
      ],
      "metadata": {
        "id": "6sPCzfuZ6Kt1"
      }
    },
    {
      "cell_type": "code",
      "source": [
        "# method overriding\n",
        "\n",
        "class Phone:\n",
        "  def __init__(self,price,brand,camera):\n",
        "    self.__price = price\n",
        "    self.brand = brand\n",
        "    self.camera = camera\n",
        "\n",
        "  def buy(self):\n",
        "    print(\"Buying a Phone\")\n",
        "\n",
        "class SmartPhone(Phone):\n",
        "\n",
        "  def buy(self):\n",
        "    print(\"Buying a smartphone\")\n",
        "\n",
        "s = SmartPhone(20000,'vivo',13)\n",
        "s.buy()\n",
        "# alwyas child class method will be excuted , if both have same method"
      ],
      "metadata": {
        "colab": {
          "base_uri": "https://localhost:8080/"
        },
        "id": "wRrCv-RN5KaB",
        "outputId": "87802d2d-562d-47d8-a916-a5eb046c64f4"
      },
      "execution_count": null,
      "outputs": [
        {
          "output_type": "stream",
          "name": "stdout",
          "text": [
            "Buying a smartphone\n"
          ]
        }
      ]
    },
    {
      "cell_type": "code",
      "source": [
        "# method overriding\n",
        "\n",
        "class Phone:\n",
        "  def __init__(self,price,brand,camera):\n",
        "    self.__price = price\n",
        "    self.brand = brand\n",
        "    self.camera = camera\n",
        "\n",
        "  def buy(self):\n",
        "    print(\"Buying a Phone\")\n",
        "\n",
        "class SmartPhone(Phone):\n",
        "\n",
        "  def buy(self):\n",
        "    print(\"Buying a smartphone\")\n",
        "    # syntax to call Parent ka Buy method\n",
        "    super().buy()\n",
        "\n",
        "\n",
        "s = SmartPhone(20000,'vivo',13)\n",
        "s.buy()\n"
      ],
      "metadata": {
        "colab": {
          "base_uri": "https://localhost:8080/"
        },
        "id": "FzRKPdA86qiG",
        "outputId": "aeee254e-06f1-4d82-f85a-26a0e6deddc4"
      },
      "execution_count": null,
      "outputs": [
        {
          "output_type": "stream",
          "name": "stdout",
          "text": [
            "Buying a smartphone\n",
            "Buying a Phone\n"
          ]
        }
      ]
    },
    {
      "cell_type": "code",
      "source": [
        "# super -> constructor\n",
        "\n",
        "class Phone:\n",
        "  def __init__(self,price,brand,camera):\n",
        "    print(\"inside phone constructor\")\n",
        "    self.__price = price\n",
        "    self.brand = brand\n",
        "    self.camera = camera\n",
        "\n",
        "\n",
        "class SmartPhone(Phone):\n",
        "  def __init__(self,price,brand,camera ,os,ram):\n",
        "    print(\"inside smartphone constructor \")\n",
        "    super().__init__(price,brand,camera)\n",
        "    self.os = os\n",
        "    self.ram = ram\n",
        "    print(\"inside smartphone constructor \")\n",
        "s = SmartPhone(20000,'apple',13,'android',16)\n",
        "print(s.os)\n",
        "print(s.brand)\n",
        "\n"
      ],
      "metadata": {
        "colab": {
          "base_uri": "https://localhost:8080/"
        },
        "id": "VL94Wpt-7on4",
        "outputId": "1ad44773-78c0-4ef3-8af6-4ddbcf8b8c10"
      },
      "execution_count": null,
      "outputs": [
        {
          "output_type": "stream",
          "name": "stdout",
          "text": [
            "inside smartphone constructor \n",
            "inside phone constructor\n",
            "inside smartphone constructor \n",
            "android\n",
            "apple\n"
          ]
        }
      ]
    },
    {
      "cell_type": "code",
      "source": [
        "#super fron outside the class\n",
        "# super always word inside the the child class not outside the class\n",
        "\n",
        "class Phone:\n",
        "  def __init__(self,price,brand,camera):\n",
        "    self.__price = price\n",
        "    self.brand = brand\n",
        "    self.camera = camera\n",
        "\n",
        "  def buy(self):\n",
        "    print(\"Buying a Phone\")\n",
        "\n",
        "class SmartPhone(Phone):\n",
        "\n",
        "  def buy(self):\n",
        "    print(\"Buying a smartphone\")\n",
        "    # syntax to call Parent ka Buy method\n",
        "    # super().buy()\n",
        "\n",
        "\n",
        "s = SmartPhone(20000,'vivo',13)\n",
        "# s.super().buy()  super always word inside the the child class not outside the class\n"
      ],
      "metadata": {
        "id": "M5C1Ce4I_Cqs",
        "colab": {
          "base_uri": "https://localhost:8080/",
          "height": 176
        },
        "outputId": "750b102e-9581-49cb-a265-4aad77ab357f"
      },
      "execution_count": 29,
      "outputs": [
        {
          "output_type": "error",
          "ename": "AttributeError",
          "evalue": "'SmartPhone' object has no attribute 'super'",
          "traceback": [
            "\u001b[0;31m---------------------------------------------------------------------------\u001b[0m",
            "\u001b[0;31mAttributeError\u001b[0m                            Traceback (most recent call last)",
            "\u001b[0;32m<ipython-input-29-0562929d5fdc>\u001b[0m in \u001b[0;36m<cell line: 0>\u001b[0;34m()\u001b[0m\n\u001b[1;32m     21\u001b[0m \u001b[0;34m\u001b[0m\u001b[0m\n\u001b[1;32m     22\u001b[0m \u001b[0ms\u001b[0m \u001b[0;34m=\u001b[0m \u001b[0mSmartPhone\u001b[0m\u001b[0;34m(\u001b[0m\u001b[0;36m20000\u001b[0m\u001b[0;34m,\u001b[0m\u001b[0;34m'vivo'\u001b[0m\u001b[0;34m,\u001b[0m\u001b[0;36m13\u001b[0m\u001b[0;34m)\u001b[0m\u001b[0;34m\u001b[0m\u001b[0;34m\u001b[0m\u001b[0m\n\u001b[0;32m---> 23\u001b[0;31m \u001b[0ms\u001b[0m\u001b[0;34m.\u001b[0m\u001b[0msuper\u001b[0m\u001b[0;34m(\u001b[0m\u001b[0;34m)\u001b[0m\u001b[0;34m.\u001b[0m\u001b[0mbuy\u001b[0m\u001b[0;34m(\u001b[0m\u001b[0;34m)\u001b[0m\u001b[0;34m\u001b[0m\u001b[0;34m\u001b[0m\u001b[0m\n\u001b[0m",
            "\u001b[0;31mAttributeError\u001b[0m: 'SmartPhone' object has no attribute 'super'"
          ]
        }
      ]
    },
    {
      "cell_type": "code",
      "source": [
        "# method overriding\n",
        "\n",
        "class Phone:\n",
        "  def __init__(self,price,brand,camera):\n",
        "    self.__price = price\n",
        "    self.brand = brand\n",
        "    self.camera = camera\n",
        "\n",
        "  def buy(self):\n",
        "    print(\"Buying a Phone\")\n",
        "\n",
        "class SmartPhone(Phone):\n",
        "\n",
        "  def buy(self):\n",
        "    print(\"Buying a smartphone\")\n",
        "    # syntax to call Parent ka Buy method\n",
        "    print(super().brand) # this will raise error super can not access var\n",
        "\n",
        "\n",
        "s = SmartPhone(20000,'vivo',13)\n",
        "s.buy()\n"
      ],
      "metadata": {
        "colab": {
          "base_uri": "https://localhost:8080/",
          "height": 315
        },
        "id": "8sQF8tysUBaQ",
        "outputId": "80516ec2-8a93-414d-bb3b-6e40671a4d1d"
      },
      "execution_count": 30,
      "outputs": [
        {
          "output_type": "stream",
          "name": "stdout",
          "text": [
            "Buying a smartphone\n"
          ]
        },
        {
          "output_type": "error",
          "ename": "AttributeError",
          "evalue": "'super' object has no attribute 'brand'",
          "traceback": [
            "\u001b[0;31m---------------------------------------------------------------------------\u001b[0m",
            "\u001b[0;31mAttributeError\u001b[0m                            Traceback (most recent call last)",
            "\u001b[0;32m<ipython-input-30-f58f1d5f9f0b>\u001b[0m in \u001b[0;36m<cell line: 0>\u001b[0;34m()\u001b[0m\n\u001b[1;32m     19\u001b[0m \u001b[0;34m\u001b[0m\u001b[0m\n\u001b[1;32m     20\u001b[0m \u001b[0ms\u001b[0m \u001b[0;34m=\u001b[0m \u001b[0mSmartPhone\u001b[0m\u001b[0;34m(\u001b[0m\u001b[0;36m20000\u001b[0m\u001b[0;34m,\u001b[0m\u001b[0;34m'vivo'\u001b[0m\u001b[0;34m,\u001b[0m\u001b[0;36m13\u001b[0m\u001b[0;34m)\u001b[0m\u001b[0;34m\u001b[0m\u001b[0;34m\u001b[0m\u001b[0m\n\u001b[0;32m---> 21\u001b[0;31m \u001b[0ms\u001b[0m\u001b[0;34m.\u001b[0m\u001b[0mbuy\u001b[0m\u001b[0;34m(\u001b[0m\u001b[0;34m)\u001b[0m\u001b[0;34m\u001b[0m\u001b[0;34m\u001b[0m\u001b[0m\n\u001b[0m",
            "\u001b[0;32m<ipython-input-30-f58f1d5f9f0b>\u001b[0m in \u001b[0;36mbuy\u001b[0;34m(self)\u001b[0m\n\u001b[1;32m     15\u001b[0m     \u001b[0mprint\u001b[0m\u001b[0;34m(\u001b[0m\u001b[0;34m\"Buying a smartphone\"\u001b[0m\u001b[0;34m)\u001b[0m\u001b[0;34m\u001b[0m\u001b[0;34m\u001b[0m\u001b[0m\n\u001b[1;32m     16\u001b[0m     \u001b[0;31m# syntax to call Parent ka Buy method\u001b[0m\u001b[0;34m\u001b[0m\u001b[0;34m\u001b[0m\u001b[0m\n\u001b[0;32m---> 17\u001b[0;31m     \u001b[0mprint\u001b[0m\u001b[0;34m(\u001b[0m\u001b[0msuper\u001b[0m\u001b[0;34m(\u001b[0m\u001b[0;34m)\u001b[0m\u001b[0;34m.\u001b[0m\u001b[0mbrand\u001b[0m\u001b[0;34m)\u001b[0m\u001b[0;34m\u001b[0m\u001b[0;34m\u001b[0m\u001b[0m\n\u001b[0m\u001b[1;32m     18\u001b[0m \u001b[0;34m\u001b[0m\u001b[0m\n\u001b[1;32m     19\u001b[0m \u001b[0;34m\u001b[0m\u001b[0m\n",
            "\u001b[0;31mAttributeError\u001b[0m: 'super' object has no attribute 'brand'"
          ]
        }
      ]
    },
    {
      "cell_type": "markdown",
      "source": [
        "##### Inheritance in summary\n",
        "\n",
        "- A class can inherit from another class.\n",
        "\n",
        "- Inheritance improves code reuse\n",
        "\n",
        "- Constructor, attributes, methods get inherited to the child class\n",
        "\n",
        "- The parent has no access to the child class\n",
        "\n",
        "- Private properties of parent are not accessible directly in child class\n",
        "\n",
        "- Child class can override the attributes or methods. This is called method overriding\n",
        "\n",
        "- super() is an inbuilt function which is used to invoke the parent class methods and constructor"
      ],
      "metadata": {
        "id": "DKX4AO_PVh1c"
      }
    },
    {
      "cell_type": "code",
      "source": [
        "class Parent:\n",
        "\n",
        "    def __init__(self,num):\n",
        "      self.__num=num\n",
        "\n",
        "    def get_num(self):\n",
        "      return self.__num\n",
        "\n",
        "class Child(Parent):\n",
        "\n",
        "    def __init__(self,num,val):\n",
        "      super().__init__(num)\n",
        "      self.__val=val\n",
        "\n",
        "    def get_val(self):\n",
        "      return self.__val\n",
        "\n",
        "son=Child(100,200)\n",
        "print(son.get_num())\n",
        "print(son.get_val())"
      ],
      "metadata": {
        "colab": {
          "base_uri": "https://localhost:8080/"
        },
        "id": "COG5NAdjUi_r",
        "outputId": "4e8c56e6-26e0-4c57-b91a-abbc5e173bee"
      },
      "execution_count": 31,
      "outputs": [
        {
          "output_type": "stream",
          "name": "stdout",
          "text": [
            "100\n",
            "200\n"
          ]
        }
      ]
    },
    {
      "cell_type": "code",
      "source": [
        "class Parent:\n",
        "    def __init__(self):\n",
        "        self.num=100\n",
        "\n",
        "class Child(Parent):\n",
        "\n",
        "    def __init__(self):\n",
        "        super().__init__()\n",
        "        self.var=200\n",
        "\n",
        "    def show(self):\n",
        "        print(self.num)\n",
        "        print(self.var)\n",
        "\n",
        "son=Child()\n",
        "son.show()"
      ],
      "metadata": {
        "colab": {
          "base_uri": "https://localhost:8080/"
        },
        "id": "9u_zHwOwWM5-",
        "outputId": "7ddf0e19-06a9-4ea9-8342-f11dd6b65d8b"
      },
      "execution_count": 32,
      "outputs": [
        {
          "output_type": "stream",
          "name": "stdout",
          "text": [
            "100\n",
            "200\n"
          ]
        }
      ]
    },
    {
      "cell_type": "code",
      "source": [
        "class Parent:\n",
        "    def __init__(self):\n",
        "        self.__num=100\n",
        "\n",
        "    def show(self):\n",
        "        print(\"Parent:\",self.__num)\n",
        "\n",
        "class Child(Parent):\n",
        "    def __init__(self):\n",
        "        super().__init__()\n",
        "        self.__var=10\n",
        "\n",
        "    def show(self):\n",
        "        print(\"Child:\",self.__var)\n",
        "\n",
        "obj=Child()\n",
        "obj.show()"
      ],
      "metadata": {
        "colab": {
          "base_uri": "https://localhost:8080/"
        },
        "id": "cpga1TUeWagQ",
        "outputId": "a15c8eb4-1c6b-4375-86d6-d84fa2308512"
      },
      "execution_count": 33,
      "outputs": [
        {
          "output_type": "stream",
          "name": "stdout",
          "text": [
            "Child: 10\n"
          ]
        }
      ]
    },
    {
      "cell_type": "markdown",
      "source": [
        "### Types of Inheritance\n",
        "\n",
        "- Single Inheritance\n",
        "- Multilevel Inheritance\n",
        "- Hierarchical Inheritance\n",
        "- Multiple Inheritance(Diamond Problem)\n",
        "- Hybrid Inheritance"
      ],
      "metadata": {
        "id": "kXvsCUTOXet_"
      }
    },
    {
      "cell_type": "code",
      "source": [
        "# single inheritance\n",
        "class Phone:\n",
        "    def __init__(self, price, brand, camera):\n",
        "        print (\"Inside phone constructor\")\n",
        "        self.__price = price\n",
        "        self.brand = brand\n",
        "        self.camera = camera\n",
        "\n",
        "    def buy(self):\n",
        "        print (\"Buying a phone\")\n",
        "\n",
        "class SmartPhone(Phone):\n",
        "    pass\n",
        "\n",
        "SmartPhone(1000,\"Apple\",\"13px\").buy()"
      ],
      "metadata": {
        "colab": {
          "base_uri": "https://localhost:8080/"
        },
        "id": "h-_cPwKSXeGm",
        "outputId": "5433e161-6445-4573-ca92-bae653b6d438"
      },
      "execution_count": 35,
      "outputs": [
        {
          "output_type": "stream",
          "name": "stdout",
          "text": [
            "Inside phone constructor\n",
            "Buying a phone\n"
          ]
        }
      ]
    },
    {
      "cell_type": "code",
      "source": [
        "# multilevel\n",
        "class Product:\n",
        "    def review(self):\n",
        "        print (\"Product customer review\")\n",
        "\n",
        "class Phone(Product):\n",
        "    def __init__(self, price, brand, camera):\n",
        "        print (\"Inside phone constructor\")\n",
        "        self.__price = price\n",
        "        self.brand = brand\n",
        "        self.camera = camera\n",
        "\n",
        "    def buy(self):\n",
        "        print (\"Buying a phone\")\n",
        "\n",
        "class SmartPhone(Phone):\n",
        "    pass\n",
        "\n",
        "s=SmartPhone(20000, \"Apple\", 12)\n",
        "\n",
        "s.buy()\n",
        "s.review()"
      ],
      "metadata": {
        "colab": {
          "base_uri": "https://localhost:8080/"
        },
        "id": "Q1we4s1ZWooE",
        "outputId": "133735a4-95ea-40c1-9441-ea894686c485"
      },
      "execution_count": 36,
      "outputs": [
        {
          "output_type": "stream",
          "name": "stdout",
          "text": [
            "Inside phone constructor\n",
            "Buying a phone\n",
            "Product customer review\n"
          ]
        }
      ]
    },
    {
      "cell_type": "code",
      "source": [
        "# Hierarchical\n",
        "class Phone:\n",
        "    def __init__(self, price, brand, camera):\n",
        "        print (\"Inside phone constructor\")\n",
        "        self.__price = price\n",
        "        self.brand = brand\n",
        "        self.camera = camera\n",
        "\n",
        "    def buy(self):\n",
        "        print (\"Buying a phone\")\n",
        "\n",
        "class SmartPhone(Phone):\n",
        "    pass\n",
        "\n",
        "class FeaturePhone(Phone):\n",
        "    pass\n",
        "\n",
        "SmartPhone(1000,\"Apple\",\"13px\").buy()\n",
        "FeaturePhone(10,\"Lava\",\"1px\").buy()"
      ],
      "metadata": {
        "colab": {
          "base_uri": "https://localhost:8080/"
        },
        "id": "6mPBvZ24XGqx",
        "outputId": "30f654da-44d2-4d54-c177-aaa10212add5"
      },
      "execution_count": 37,
      "outputs": [
        {
          "output_type": "stream",
          "name": "stdout",
          "text": [
            "Inside phone constructor\n",
            "Buying a phone\n",
            "Inside phone constructor\n",
            "Buying a phone\n"
          ]
        }
      ]
    },
    {
      "cell_type": "code",
      "source": [
        "# Multiple\n",
        "class Phone:\n",
        "    def __init__(self, price, brand, camera):\n",
        "        print (\"Inside phone constructor\")\n",
        "        self.__price = price\n",
        "        self.brand = brand\n",
        "        self.camera = camera\n",
        "\n",
        "    def buy(self):\n",
        "        print (\"Buying a phone\")\n",
        "\n",
        "class Product:\n",
        "    def review(self):\n",
        "        print (\"Customer review\")\n",
        "\n",
        "class SmartPhone(Phone, Product):\n",
        "    pass\n",
        "\n",
        "s=SmartPhone(20000, \"Apple\", 12)\n",
        "\n",
        "s.buy()\n",
        "s.review()\n"
      ],
      "metadata": {
        "colab": {
          "base_uri": "https://localhost:8080/"
        },
        "id": "D4hdG81TdYTk",
        "outputId": "c20ccff4-1113-4bac-b382-8a0ca0c915e6"
      },
      "execution_count": 38,
      "outputs": [
        {
          "output_type": "stream",
          "name": "stdout",
          "text": [
            "Inside phone constructor\n",
            "Buying a phone\n",
            "Customer review\n"
          ]
        }
      ]
    },
    {
      "cell_type": "code",
      "source": [
        "# the diamond problem\n",
        "# https://stackoverflow.com/questions/56361048/what-is-the-diamond-problem-in-python-and-why-its-not-appear-in-python2\n",
        "class Phone:\n",
        "    def __init__(self, price, brand, camera):\n",
        "        print (\"Inside phone constructor\")\n",
        "        self.__price = price\n",
        "        self.brand = brand\n",
        "        self.camera = camera\n",
        "\n",
        "    def buy(self):\n",
        "        print (\"Buying a phone\")\n",
        "\n",
        "class Product:\n",
        "    def buy(self):\n",
        "        print (\"Product buy method\")\n",
        "\n",
        "# Method resolution order\n",
        "class SmartPhone(Phone,Product): # buy of phone will be excecute bcoz Phone is written first here\n",
        "    pass\n",
        "\n",
        "s=SmartPhone(20000, \"Apple\", 12)\n",
        "\n",
        "s.buy()"
      ],
      "metadata": {
        "colab": {
          "base_uri": "https://localhost:8080/"
        },
        "id": "grMA5Rhcdbqo",
        "outputId": "90e8be10-30ba-4468-f69e-fb5eef22f274"
      },
      "execution_count": 39,
      "outputs": [
        {
          "output_type": "stream",
          "name": "stdout",
          "text": [
            "Inside phone constructor\n",
            "Buying a phone\n"
          ]
        }
      ]
    },
    {
      "cell_type": "code",
      "source": [
        "class A:\n",
        "\n",
        "    def m1(self):\n",
        "        return 20\n",
        "\n",
        "class B(A):\n",
        "\n",
        "    def m1(self):\n",
        "        return 30\n",
        "\n",
        "    def m2(self):\n",
        "        return 40\n",
        "\n",
        "class C(B):\n",
        "\n",
        "    def m2(self):\n",
        "        return 20\n",
        "obj1=A()\n",
        "obj2=B()\n",
        "obj3=C()\n",
        "print(obj1.m1() + obj3.m1()+ obj3.m2())"
      ],
      "metadata": {
        "colab": {
          "base_uri": "https://localhost:8080/"
        },
        "id": "9RiZ7CGBeMrf",
        "outputId": "c8e455a2-bc99-4b6b-d370-a26d1057d375"
      },
      "execution_count": 40,
      "outputs": [
        {
          "output_type": "stream",
          "name": "stdout",
          "text": [
            "70\n"
          ]
        }
      ]
    },
    {
      "cell_type": "code",
      "source": [
        "class A:\n",
        "\n",
        "    def m1(self):\n",
        "        return 20\n",
        "\n",
        "class B(A):\n",
        "\n",
        "    def m1(self):\n",
        "        val=super().m1()+30\n",
        "        return val\n",
        "\n",
        "class C(B):\n",
        "\n",
        "    def m1(self):\n",
        "        val=self.m1()+20 # keep calling the itself , infinite\n",
        "        return val\n",
        "obj=C()\n",
        "print(obj.m1())"
      ],
      "metadata": {
        "colab": {
          "base_uri": "https://localhost:8080/"
        },
        "id": "fBPwQzrneTYi",
        "outputId": "fc1ab2bc-5bd3-453e-e19e-0e44843d9ba4"
      },
      "execution_count": null,
      "outputs": [
        {
          "output_type": "stream",
          "name": "stderr",
          "text": [
            "ERROR:root:Internal Python error in the inspect module.\n",
            "Below is the traceback from this internal error.\n",
            "\n"
          ]
        }
      ]
    },
    {
      "cell_type": "code",
      "source": [],
      "metadata": {
        "id": "xJKUrroMgUml"
      },
      "execution_count": null,
      "outputs": []
    }
  ]
}