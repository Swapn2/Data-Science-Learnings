{
  "nbformat": 4,
  "nbformat_minor": 0,
  "metadata": {
    "colab": {
      "provenance": [],
      "authorship_tag": "ABX9TyPr59lOHBW6qpb3DDz5NWIs",
      "include_colab_link": true
    },
    "kernelspec": {
      "name": "python3",
      "display_name": "Python 3"
    },
    "language_info": {
      "name": "python"
    }
  },
  "cells": [
    {
      "cell_type": "markdown",
      "metadata": {
        "id": "view-in-github",
        "colab_type": "text"
      },
      "source": [
        "<a href=\"https://colab.research.google.com/github/Swapn2/Data-Science-Learnings/blob/main/Exception_handling.ipynb\" target=\"_parent\"><img src=\"https://colab.research.google.com/assets/colab-badge.svg\" alt=\"Open In Colab\"/></a>"
      ]
    },
    {
      "cell_type": "markdown",
      "source": [
        "There are 2 stages where error may happen in a program\n",
        "\n",
        "- During compilation -> Syntax Error\n",
        "- During execution -> Exceptions"
      ],
      "metadata": {
        "id": "BYKB4I13vyIX"
      }
    },
    {
      "cell_type": "markdown",
      "source": [
        "### Syntax Error\n",
        "\n",
        "- Something in the program is not written according to the program grammar.\n",
        "- Error is raised by the interpreter/compiler\n",
        "- You can solve it by rectifying the program\n"
      ],
      "metadata": {
        "id": "6zvVZhHjv1J4"
      }
    },
    {
      "cell_type": "markdown",
      "source": [
        "### Other examples of syntax error\n",
        "\n",
        "- Leaving symbols like colon,brackets\n",
        "- Misspelling a keyword\n",
        "- Incorrect indentation\n",
        "- empty if/else/loops/class/functions"
      ],
      "metadata": {
        "id": "V5TafU9cwfsm"
      }
    },
    {
      "cell_type": "markdown",
      "source": [
        "### Exceptions\n",
        "\n",
        "If things go wrong during the execution of the program(runtime). It generally happens when something unforeseen has happened.\n",
        "\n",
        "- Exceptions are raised by python runtime\n",
        "- You have to takle is on the fly\n",
        "\n",
        "#### **Examples**\n",
        "\n",
        "- Memory overflow\n",
        "- Divide by 0 -> logical error\n",
        "- Database error"
      ],
      "metadata": {
        "id": "FnCpgXNLyQqj"
      }
    },
    {
      "cell_type": "code",
      "source": [
        "# Why is it important to handle exceptions\n",
        "# how to handle exceptions\n",
        "# -> Try except block"
      ],
      "metadata": {
        "id": "fSXxqq55wb2a"
      },
      "execution_count": null,
      "outputs": []
    },
    {
      "cell_type": "code",
      "execution_count": null,
      "metadata": {
        "id": "zbTu-BLuq-OX"
      },
      "outputs": [],
      "source": [
        "with open('sample.txt','w') as f:\n",
        "  f.write(\"hello world\")"
      ]
    },
    {
      "cell_type": "code",
      "source": [
        "with open('sample.txt','r')as f:\n",
        "  print(f.read())"
      ],
      "metadata": {
        "colab": {
          "base_uri": "https://localhost:8080/"
        },
        "id": "bQFCVVER4L_w",
        "outputId": "d4dfaed9-3ad0-454a-f266-5534470bead5"
      },
      "execution_count": null,
      "outputs": [
        {
          "output_type": "stream",
          "name": "stdout",
          "text": [
            "hello world\n"
          ]
        }
      ]
    },
    {
      "cell_type": "code",
      "source": [
        "try:\n",
        "  with open('sample1.txt','r') as f:\n",
        "    print(f.read())\n",
        "except:\n",
        "  print(\"file not found\")"
      ],
      "metadata": {
        "id": "1Cml5efK4a6X",
        "colab": {
          "base_uri": "https://localhost:8080/"
        },
        "outputId": "4c7bddfd-6475-4d45-85e0-46a6984f8cf8"
      },
      "execution_count": 5,
      "outputs": [
        {
          "output_type": "stream",
          "name": "stdout",
          "text": [
            "file not found\n"
          ]
        }
      ]
    },
    {
      "cell_type": "code",
      "source": [
        "# catching specific exception\n",
        "try:\n",
        "  with open('sample.txt','r') as f:\n",
        "    print(f.read())\n",
        "    print(m)\n",
        "except:\n",
        "  print(\"some error occured \")"
      ],
      "metadata": {
        "colab": {
          "base_uri": "https://localhost:8080/"
        },
        "id": "fzjg8uJO5QPn",
        "outputId": "662110c2-353b-4f7d-8e9f-324dc31af0c6"
      },
      "execution_count": 8,
      "outputs": [
        {
          "output_type": "stream",
          "name": "stdout",
          "text": [
            "hello world\n",
            "some error occured \n"
          ]
        }
      ]
    },
    {
      "cell_type": "code",
      "source": [
        "# catching specific exception\n",
        "try:\n",
        "  with open('sample.txt','r') as f:\n",
        "    print(f.read())\n",
        "    print(m)\n",
        "except Exception as e:\n",
        "  print(e)\n",
        "  print(e.with_traceback)"
      ],
      "metadata": {
        "colab": {
          "base_uri": "https://localhost:8080/"
        },
        "id": "hlz6p5BG6qen",
        "outputId": "f7589ff5-5f6f-4d2c-c2bf-fecd50d8998f"
      },
      "execution_count": 10,
      "outputs": [
        {
          "output_type": "stream",
          "name": "stdout",
          "text": [
            "hello world\n",
            "name 'm' is not defined\n",
            "<built-in method with_traceback of NameError object at 0x7da11fa51cc0>\n"
          ]
        }
      ]
    },
    {
      "cell_type": "code",
      "source": [
        "# catching specific exception\n",
        "try:\n",
        "  m = 5\n",
        "  with open('sample.txt','r') as f:\n",
        "    print(f.read())\n",
        "    print(m)\n",
        "    print(5/0)\n",
        "except FileNotFoundError:\n",
        "  print(\"file not found\")\n",
        "except NameError:\n",
        "  print(\"variable not declared\")\n",
        "except ZeroDivisionError:\n",
        "  print(\"cant divide by 0\")\n",
        "except Exception as e:  # generic error will come here\n",
        "  print(e)"
      ],
      "metadata": {
        "colab": {
          "base_uri": "https://localhost:8080/"
        },
        "id": "l992VrVC7Gc2",
        "outputId": "12160af9-f31c-420e-f60c-e72b43cf9b55"
      },
      "execution_count": 15,
      "outputs": [
        {
          "output_type": "stream",
          "name": "stdout",
          "text": [
            "hello world\n",
            "5\n",
            "cant divide by 0\n"
          ]
        }
      ]
    },
    {
      "cell_type": "code",
      "source": [],
      "metadata": {
        "id": "WYS51-gu7rJt"
      },
      "execution_count": null,
      "outputs": []
    }
  ]
}