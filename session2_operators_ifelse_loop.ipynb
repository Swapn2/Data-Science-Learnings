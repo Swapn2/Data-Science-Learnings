{
  "nbformat": 4,
  "nbformat_minor": 0,
  "metadata": {
    "colab": {
      "provenance": [],
      "authorship_tag": "ABX9TyOE+KJkZiBCarlmAw4ZUkN+",
      "include_colab_link": true
    },
    "kernelspec": {
      "name": "python3",
      "display_name": "Python 3"
    },
    "language_info": {
      "name": "python"
    }
  },
  "cells": [
    {
      "cell_type": "markdown",
      "metadata": {
        "id": "view-in-github",
        "colab_type": "text"
      },
      "source": [
        "<a href=\"https://colab.research.google.com/github/Swapn2/Data-Science-Learnings/blob/main/session2_operators_ifelse_loop.ipynb\" target=\"_parent\"><img src=\"https://colab.research.google.com/assets/colab-badge.svg\" alt=\"Open In Colab\"/></a>"
      ]
    },
    {
      "cell_type": "markdown",
      "source": [
        "Operators in python\n",
        "\n",
        "\n",
        "1. Arithmetic Operators\n",
        "2. Relation Operators\n",
        "3. Logical Operators\n",
        "4. Bitwise Operators\n",
        "5. Assingment Operators\n",
        "6. Membership Operators\n",
        "\n"
      ],
      "metadata": {
        "id": "DWLg5gAosqwX"
      }
    },
    {
      "cell_type": "code",
      "execution_count": null,
      "metadata": {
        "colab": {
          "base_uri": "https://localhost:8080/"
        },
        "id": "8o_zvIKTqpij",
        "outputId": "64b25bd4-fd1a-4bd2-a0d3-1503ecd93b21"
      },
      "outputs": [
        {
          "output_type": "stream",
          "name": "stdout",
          "text": [
            "2\n",
            "25\n"
          ]
        }
      ],
      "source": [
        "# Arithmetic Operators\n",
        "print(5//2)  # integer division\n",
        "print(5**2) # power of operator"
      ]
    },
    {
      "cell_type": "code",
      "source": [
        "# Relational Operator\n",
        "print(4>5)\n",
        "print(4<5)\n",
        "print(4>=4)\n",
        "print(4<=4)\n",
        "print(4==4)\n",
        "print(4!=4)"
      ],
      "metadata": {
        "colab": {
          "base_uri": "https://localhost:8080/"
        },
        "id": "OB7p1lHxw0KS",
        "outputId": "607b105f-9e20-4203-d7bc-97e99fc847a3"
      },
      "execution_count": null,
      "outputs": [
        {
          "output_type": "stream",
          "name": "stdout",
          "text": [
            "False\n",
            "True\n",
            "True\n",
            "True\n",
            "True\n",
            "False\n"
          ]
        }
      ]
    },
    {
      "cell_type": "code",
      "source": [
        "# bitwise Operators\n",
        "# bitwise AND\n",
        "print(2 & 3)\n",
        "# bitwise OR\n",
        "print(2 | 3)\n",
        "# bitwise XOR->\n",
        "#   10   (binary for 2)\n",
        "#⊕ 11   (binary for 3)\n",
        "#------\n",
        "#   01   (binary result)\n",
        "\n",
        "print(2 ^ 3 )\n",
        "# bitwise Not\n",
        "print(~2)\n",
        "print(4 >>2 )\n"
      ],
      "metadata": {
        "colab": {
          "base_uri": "https://localhost:8080/"
        },
        "id": "yYdba3wtxp3c",
        "outputId": "c6e99c06-cde4-4052-9df9-910c99e4b6f9"
      },
      "execution_count": null,
      "outputs": [
        {
          "output_type": "stream",
          "name": "stdout",
          "text": [
            "2\n",
            "3\n",
            "1\n",
            "-3\n",
            "1\n"
          ]
        }
      ]
    },
    {
      "cell_type": "code",
      "source": [
        "a = 2\n",
        "a += 1 # a = a + 2\n",
        "print(a)\n",
        "\n",
        "# a =+ 1 , dose not have any sense it beasically assing the +1 to a"
      ],
      "metadata": {
        "colab": {
          "base_uri": "https://localhost:8080/"
        },
        "id": "-w2wXnQVya4a",
        "outputId": "4b165fa0-2fe7-45f2-bc17-6f16565b5eae"
      },
      "execution_count": null,
      "outputs": [
        {
          "output_type": "stream",
          "name": "stdout",
          "text": [
            "3\n"
          ]
        }
      ]
    },
    {
      "cell_type": "code",
      "source": [
        "# membership operator\n",
        "# in / not in\n",
        "\n",
        "print('D' in ' Delhi')\n",
        "print('D' in ' delhi')\n",
        "print(1 in [1,2,3,4,5])"
      ],
      "metadata": {
        "colab": {
          "base_uri": "https://localhost:8080/"
        },
        "id": "g_xzQX0y5RLS",
        "outputId": "2156f0a4-4c7f-4f02-e63d-b7e42c697754"
      },
      "execution_count": null,
      "outputs": [
        {
          "output_type": "stream",
          "name": "stdout",
          "text": [
            "True\n",
            "False\n",
            "True\n"
          ]
        }
      ]
    },
    {
      "cell_type": "code",
      "source": [
        "# print sum of digits of a number\n",
        "number = int(input('enter the number'))\n",
        "sum = 0\n",
        "while number > 0 :\n",
        "  digit = number % 10\n",
        "  number = number // 10\n",
        "  sum = sum + digit\n",
        "print (sum)\n"
      ],
      "metadata": {
        "colab": {
          "base_uri": "https://localhost:8080/"
        },
        "id": "uipTNsHV61FW",
        "outputId": "57d0546e-2ad0-46de-b799-1227831a960b"
      },
      "execution_count": null,
      "outputs": [
        {
          "output_type": "stream",
          "name": "stdout",
          "text": [
            "enter the number5656\n",
            "22\n"
          ]
        }
      ]
    },
    {
      "cell_type": "markdown",
      "source": [
        "If-Else Python"
      ],
      "metadata": {
        "id": "SHrxDacACm0j"
      }
    },
    {
      "cell_type": "code",
      "source": [
        "# swapngupta@gmail.com\n",
        "# passsword -> @1234\n",
        "email = input('enter email')\n",
        "password = (input('password'))\n",
        "if email == 'swapngupta@gmail.com' and password == '@1234' :\n",
        "  print('sucessfully log in ')\n",
        "elif email == 'swapngupta@gmail.com' and password != '@1234' :\n",
        "  print('password is incorrect')\n",
        "  password = input('enter password again')\n",
        "  if password == '@1234' :\n",
        "    print('sucessfully log in ')\n",
        "  else :\n",
        "    print('try again')\n",
        "else :\n",
        "  print('try again')"
      ],
      "metadata": {
        "colab": {
          "base_uri": "https://localhost:8080/"
        },
        "id": "s3A7m_SB9PCB",
        "outputId": "1409669b-e505-456e-ff2a-e2f503b33083"
      },
      "execution_count": null,
      "outputs": [
        {
          "output_type": "stream",
          "name": "stdout",
          "text": [
            "enter emailswapngupta@gmail.com\n",
            "password23232\n",
            "password is incorrect\n",
            "enter password again@1234\n",
            "sucessfully log in \n"
          ]
        }
      ]
    },
    {
      "cell_type": "code",
      "source": [
        "# min of 3 number\n",
        "a = int(input('enter first number'))\n",
        "b = int(input('enter second number'))\n",
        "c = int(input('enter third number'))\n",
        "if a<b and a<c :\n",
        "  print('smallest is :',a)\n",
        "if(b<a and b<c) :\n",
        "  print('smallest is :',b)\n",
        "if(c<a and c<b) :\n",
        "  print('smallest is :',c)\n"
      ],
      "metadata": {
        "id": "o5BqGbCIEDCP",
        "colab": {
          "base_uri": "https://localhost:8080/"
        },
        "outputId": "b5d4db7d-a381-4f69-d592-d6ed8b665d9a"
      },
      "execution_count": 33,
      "outputs": [
        {
          "output_type": "stream",
          "name": "stdout",
          "text": [
            "enter first number45\n",
            "enter second number87\n",
            "enter third number14\n",
            "smallest is : 14\n"
          ]
        }
      ]
    },
    {
      "cell_type": "markdown",
      "source": [
        "Module :\n",
        "1. Maths\n",
        "2. Keywords\n",
        "3. Random\n",
        "4. Datetime"
      ],
      "metadata": {
        "id": "NWQ4SVUeqYKt"
      }
    },
    {
      "cell_type": "code",
      "source": [
        "# maths\n",
        "import math\n",
        "math.factorial(5)"
      ],
      "metadata": {
        "colab": {
          "base_uri": "https://localhost:8080/"
        },
        "id": "ej43iGHmcPJ4",
        "outputId": "d45aad42-e88c-48c7-b0db-e3e19f21bc71"
      },
      "execution_count": 35,
      "outputs": [
        {
          "output_type": "execute_result",
          "data": {
            "text/plain": [
              "120"
            ]
          },
          "metadata": {},
          "execution_count": 35
        }
      ]
    },
    {
      "cell_type": "code",
      "source": [
        "#keyword\n",
        "import keyword\n",
        "print(keyword.kwlist)"
      ],
      "metadata": {
        "colab": {
          "base_uri": "https://localhost:8080/"
        },
        "id": "w5ZAijkoqlI-",
        "outputId": "267ce2e0-07cf-4359-f75c-86437531ad3d"
      },
      "execution_count": 37,
      "outputs": [
        {
          "output_type": "stream",
          "name": "stdout",
          "text": [
            "['False', 'None', 'True', 'and', 'as', 'assert', 'async', 'await', 'break', 'class', 'continue', 'def', 'del', 'elif', 'else', 'except', 'finally', 'for', 'from', 'global', 'if', 'import', 'in', 'is', 'lambda', 'nonlocal', 'not', 'or', 'pass', 'raise', 'return', 'try', 'while', 'with', 'yield']\n"
          ]
        }
      ]
    },
    {
      "cell_type": "code",
      "source": [
        "#random\n",
        "import random\n",
        "print(random.randint(1,100))"
      ],
      "metadata": {
        "colab": {
          "base_uri": "https://localhost:8080/"
        },
        "id": "0-DgeLKBrGfJ",
        "outputId": "058b0d43-ee71-4483-968f-8431adfa8a74"
      },
      "execution_count": 44,
      "outputs": [
        {
          "output_type": "stream",
          "name": "stdout",
          "text": [
            "42\n"
          ]
        }
      ]
    },
    {
      "cell_type": "code",
      "source": [
        "#datetime\n",
        "import datetime\n",
        "print(datetime.datetime.now())"
      ],
      "metadata": {
        "colab": {
          "base_uri": "https://localhost:8080/"
        },
        "id": "rzILhzJxrPx7",
        "outputId": "1411e493-7c79-4f83-fbf2-0a77330c2c8c"
      },
      "execution_count": 45,
      "outputs": [
        {
          "output_type": "stream",
          "name": "stdout",
          "text": [
            "2025-02-25 15:16:23.422715\n"
          ]
        }
      ]
    },
    {
      "cell_type": "code",
      "source": [],
      "metadata": {
        "id": "RkhYVYlRrjZc"
      },
      "execution_count": null,
      "outputs": []
    }
  ]
}