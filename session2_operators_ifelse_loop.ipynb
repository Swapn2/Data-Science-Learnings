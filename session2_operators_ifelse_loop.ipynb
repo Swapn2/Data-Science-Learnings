{
  "nbformat": 4,
  "nbformat_minor": 0,
  "metadata": {
    "colab": {
      "provenance": [],
      "authorship_tag": "ABX9TyOjJ3O+rInIZ+WPLBsFabYK",
      "include_colab_link": true
    },
    "kernelspec": {
      "name": "python3",
      "display_name": "Python 3"
    },
    "language_info": {
      "name": "python"
    }
  },
  "cells": [
    {
      "cell_type": "markdown",
      "metadata": {
        "id": "view-in-github",
        "colab_type": "text"
      },
      "source": [
        "<a href=\"https://colab.research.google.com/github/Swapn2/Data-Science-Learnings/blob/main/session2_operators_ifelse_loop.ipynb\" target=\"_parent\"><img src=\"https://colab.research.google.com/assets/colab-badge.svg\" alt=\"Open In Colab\"/></a>"
      ]
    },
    {
      "cell_type": "markdown",
      "source": [
        "Operators in python\n",
        "\n",
        "\n",
        "1. Arithmetic Operators\n",
        "2. Relation Operators\n",
        "3. Logical Operators\n",
        "4. Bitwise Operators\n",
        "5. Assingment Operators\n",
        "6. Membership Operators\n",
        "\n"
      ],
      "metadata": {
        "id": "DWLg5gAosqwX"
      }
    },
    {
      "cell_type": "code",
      "execution_count": 2,
      "metadata": {
        "id": "8o_zvIKTqpij",
        "colab": {
          "base_uri": "https://localhost:8080/"
        },
        "outputId": "4bdc1e87-fa7e-43da-d15a-618aa1df66c3"
      },
      "outputs": [
        {
          "output_type": "stream",
          "name": "stdout",
          "text": [
            "2\n",
            "25\n"
          ]
        }
      ],
      "source": [
        "# Arithmetic Operators\n",
        "print(5//2)  # integer division\n",
        "print(5**2) # power of operator"
      ]
    },
    {
      "cell_type": "code",
      "source": [
        "# Relational Operator\n",
        "print(4>5)\n",
        "print(4<5)\n",
        "print(4>=4)\n",
        "print(4<=4)\n",
        "print(4==4)\n",
        "print(4!=4)"
      ],
      "metadata": {
        "id": "OB7p1lHxw0KS",
        "colab": {
          "base_uri": "https://localhost:8080/"
        },
        "outputId": "251c9aa0-a585-4fe5-de45-a19bb8db68ad"
      },
      "execution_count": 3,
      "outputs": [
        {
          "output_type": "stream",
          "name": "stdout",
          "text": [
            "False\n",
            "True\n",
            "True\n",
            "True\n",
            "True\n",
            "False\n"
          ]
        }
      ]
    },
    {
      "cell_type": "code",
      "source": [
        "# bitwise Operators\n",
        "# bitwise AND\n",
        "print(2 & 3)\n",
        "# bitwise OR\n",
        "print(2 | 3)\n",
        "# bitwise XOR->\n",
        "#   10   (binary for 2)\n",
        "#⊕ 11   (binary for 3)\n",
        "#------\n",
        "#   01   (binary result)\n",
        "\n",
        "print(2 ^ 3 )\n",
        "# bitwise Not\n",
        "print(~2)\n",
        "print(4 >>2 )\n"
      ],
      "metadata": {
        "id": "yYdba3wtxp3c",
        "colab": {
          "base_uri": "https://localhost:8080/"
        },
        "outputId": "fa010a30-2e7f-4881-9467-dc8d931bd738"
      },
      "execution_count": 4,
      "outputs": [
        {
          "output_type": "stream",
          "name": "stdout",
          "text": [
            "2\n",
            "3\n",
            "1\n",
            "-3\n",
            "1\n"
          ]
        }
      ]
    },
    {
      "cell_type": "code",
      "source": [
        "a = 2\n",
        "a += 1 # a = a + 2\n",
        "print(a)\n",
        "\n",
        "# a =+ 1 , dose not have any sense it beasically assing the +1 to a"
      ],
      "metadata": {
        "id": "-w2wXnQVya4a",
        "colab": {
          "base_uri": "https://localhost:8080/"
        },
        "outputId": "dde8c896-b3be-47b7-fcaf-ecf4415b686d"
      },
      "execution_count": 5,
      "outputs": [
        {
          "output_type": "stream",
          "name": "stdout",
          "text": [
            "3\n"
          ]
        }
      ]
    },
    {
      "cell_type": "code",
      "source": [
        "# membership operator\n",
        "# in / not in\n",
        "\n",
        "print('D' in ' Delhi')\n",
        "print('D' in ' delhi')\n",
        "print(1 in [1,2,3,4,5])"
      ],
      "metadata": {
        "id": "g_xzQX0y5RLS",
        "colab": {
          "base_uri": "https://localhost:8080/"
        },
        "outputId": "4464cb60-1ede-4ae2-9d7c-088c9a997860"
      },
      "execution_count": 6,
      "outputs": [
        {
          "output_type": "stream",
          "name": "stdout",
          "text": [
            "True\n",
            "False\n",
            "True\n"
          ]
        }
      ]
    },
    {
      "cell_type": "code",
      "source": [
        "# print sum of digits of a number\n",
        "number = int(input('enter the number'))\n",
        "sum = 0\n",
        "while number > 0 :\n",
        "  digit = number % 10\n",
        "  number = number // 10\n",
        "  sum = sum + digit\n",
        "print (sum)\n"
      ],
      "metadata": {
        "id": "uipTNsHV61FW",
        "colab": {
          "base_uri": "https://localhost:8080/"
        },
        "outputId": "50384447-74ff-4b00-bf8d-3349de5bb5fd"
      },
      "execution_count": 8,
      "outputs": [
        {
          "output_type": "stream",
          "name": "stdout",
          "text": [
            "enter the number2554\n",
            "16\n"
          ]
        }
      ]
    },
    {
      "cell_type": "markdown",
      "source": [
        "If-Else Python"
      ],
      "metadata": {
        "id": "SHrxDacACm0j"
      }
    },
    {
      "cell_type": "code",
      "source": [
        "# swapngupta@gmail.com\n",
        "# passsword -> @1234\n",
        "email = input('enter email')\n",
        "password = (input('password'))\n",
        "if email == 'swapngupta@gmail.com' and password == '@1234' :\n",
        "  print('sucessfully log in ')\n",
        "elif email == 'swapngupta@gmail.com' and password != '@1234' :\n",
        "  print('password is incorrect')\n",
        "  password = input('enter password again')\n",
        "  if password == '@1234' :\n",
        "    print('sucessfully log in ')\n",
        "  else :\n",
        "    print('try again')\n",
        "else :\n",
        "  print('try again')"
      ],
      "metadata": {
        "id": "s3A7m_SB9PCB",
        "colab": {
          "base_uri": "https://localhost:8080/"
        },
        "outputId": "1fe46d22-98e4-4a03-dc02-3c5f59e51e6f"
      },
      "execution_count": 9,
      "outputs": [
        {
          "output_type": "stream",
          "name": "stdout",
          "text": [
            "enter emailswahgfc'\n",
            "passwordutf\n",
            "try again\n"
          ]
        }
      ]
    },
    {
      "cell_type": "code",
      "source": [
        "# min of 3 number\n",
        "a = int(input('enter first number'))\n",
        "b = int(input('enter second number'))\n",
        "c = int(input('enter third number'))\n",
        "if a<b and a<c :\n",
        "  print('smallest is :',a)\n",
        "if(b<a and b<c) :\n",
        "  print('smallest is :',b)\n",
        "if(c<a and c<b) :\n",
        "  print('smallest is :',c)\n"
      ],
      "metadata": {
        "id": "o5BqGbCIEDCP",
        "colab": {
          "base_uri": "https://localhost:8080/"
        },
        "outputId": "44a184d9-f628-48fa-e612-e8bd70a34e47"
      },
      "execution_count": 10,
      "outputs": [
        {
          "output_type": "stream",
          "name": "stdout",
          "text": [
            "enter first number55\n",
            "enter second number6\n",
            "enter third number646\n",
            "smallest is : 6\n"
          ]
        }
      ]
    },
    {
      "cell_type": "markdown",
      "source": [
        "Module :\n",
        "1. Maths\n",
        "2. Keywords\n",
        "3. Random\n",
        "4. Datetime"
      ],
      "metadata": {
        "id": "NWQ4SVUeqYKt"
      }
    },
    {
      "cell_type": "code",
      "source": [
        "# maths\n",
        "import math\n",
        "math.factorial(5)"
      ],
      "metadata": {
        "id": "ej43iGHmcPJ4",
        "colab": {
          "base_uri": "https://localhost:8080/"
        },
        "outputId": "3b5326d4-a59e-46e2-ed17-7ce287bd3e95"
      },
      "execution_count": 11,
      "outputs": [
        {
          "output_type": "execute_result",
          "data": {
            "text/plain": [
              "120"
            ]
          },
          "metadata": {},
          "execution_count": 11
        }
      ]
    },
    {
      "cell_type": "code",
      "source": [
        "#keyword\n",
        "import keyword\n",
        "print(keyword.kwlist)"
      ],
      "metadata": {
        "id": "w5ZAijkoqlI-",
        "colab": {
          "base_uri": "https://localhost:8080/"
        },
        "outputId": "f4d0a415-07eb-49e9-877c-2bfb4395f9c0"
      },
      "execution_count": 12,
      "outputs": [
        {
          "output_type": "stream",
          "name": "stdout",
          "text": [
            "['False', 'None', 'True', 'and', 'as', 'assert', 'async', 'await', 'break', 'class', 'continue', 'def', 'del', 'elif', 'else', 'except', 'finally', 'for', 'from', 'global', 'if', 'import', 'in', 'is', 'lambda', 'nonlocal', 'not', 'or', 'pass', 'raise', 'return', 'try', 'while', 'with', 'yield']\n"
          ]
        }
      ]
    },
    {
      "cell_type": "code",
      "source": [
        "#random\n",
        "import random\n",
        "print(random.randint(1,100))"
      ],
      "metadata": {
        "id": "0-DgeLKBrGfJ",
        "colab": {
          "base_uri": "https://localhost:8080/"
        },
        "outputId": "c1b81f3e-dcaf-4e08-bc6b-62c9397394ba"
      },
      "execution_count": 13,
      "outputs": [
        {
          "output_type": "stream",
          "name": "stdout",
          "text": [
            "100\n"
          ]
        }
      ]
    },
    {
      "cell_type": "code",
      "source": [
        "#datetime\n",
        "import datetime\n",
        "print(datetime.datetime.now())"
      ],
      "metadata": {
        "id": "rzILhzJxrPx7",
        "colab": {
          "base_uri": "https://localhost:8080/"
        },
        "outputId": "fc5115a5-b40c-4b43-fb31-37119a44fc1f"
      },
      "execution_count": 14,
      "outputs": [
        {
          "output_type": "stream",
          "name": "stdout",
          "text": [
            "2025-02-25 19:24:24.191289\n"
          ]
        }
      ]
    },
    {
      "cell_type": "code",
      "source": [
        "number = int(input('enter the number'))\n",
        "i = 1\n",
        "while i <= 10:\n",
        "  print(number,'*',i,'=',number*i)\n",
        "  i += 1\n",
        "else:\n",
        "  print('limit crossed')"
      ],
      "metadata": {
        "id": "EYYQ2q3etkev",
        "colab": {
          "base_uri": "https://localhost:8080/"
        },
        "outputId": "6b4ce6d9-3ba9-4739-b4f9-cbf157511c05"
      },
      "execution_count": 15,
      "outputs": [
        {
          "output_type": "stream",
          "name": "stdout",
          "text": [
            "enter the number45\n",
            "45 * 1 = 45\n",
            "45 * 2 = 90\n",
            "45 * 3 = 135\n",
            "45 * 4 = 180\n",
            "45 * 5 = 225\n",
            "45 * 6 = 270\n",
            "45 * 7 = 315\n",
            "45 * 8 = 360\n",
            "45 * 9 = 405\n",
            "45 * 10 = 450\n",
            "limit crossed\n"
          ]
        }
      ]
    },
    {
      "cell_type": "code",
      "source": [
        "# guessing game\n",
        "import random\n",
        "jackpot = random.randint(1,100)\n",
        "\n",
        "guess = int(input('enter your guess'))\n",
        "counter = 1\n",
        "while jackpot != guess:\n",
        "  if guess < jackpot:\n",
        "    print('guess higher')\n",
        "    guess = int(input('enter next guess'))\n",
        "    counter += 1\n",
        "  else:\n",
        "    print('guess lower')\n",
        "    guess = int(input('enter next guess'))\n",
        "    counter += 1\n",
        "print('you won')\n",
        "print('you took',counter,'attempts')"
      ],
      "metadata": {
        "colab": {
          "base_uri": "https://localhost:8080/"
        },
        "id": "1v_BIbVSwg5Z",
        "outputId": "89ba56cf-3ab8-4cda-d67b-2b78b12f0225"
      },
      "execution_count": 1,
      "outputs": [
        {
          "output_type": "stream",
          "name": "stdout",
          "text": [
            "enter your guess58\n",
            "guess lower\n",
            "enter next guess12\n",
            "guess higher\n",
            "enter next guess40\n",
            "guess lower\n",
            "enter next guess30\n",
            "guess lower\n",
            "enter next guess20\n",
            "guess lower\n",
            "enter next guess10\n",
            "guess higher\n",
            "enter next guess15\n",
            "guess lower\n",
            "enter next guess13\n",
            "you won\n",
            "you took 8 attempts\n"
          ]
        }
      ]
    },
    {
      "cell_type": "code",
      "source": [],
      "metadata": {
        "id": "JHMcVOEAz2tx"
      },
      "execution_count": null,
      "outputs": []
    }
  ]
}