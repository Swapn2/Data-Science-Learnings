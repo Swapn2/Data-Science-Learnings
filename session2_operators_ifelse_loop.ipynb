{
  "nbformat": 4,
  "nbformat_minor": 0,
  "metadata": {
    "colab": {
      "provenance": [],
      "authorship_tag": "ABX9TyO+/YWQWl9C7jOPHdfhDv8k",
      "include_colab_link": true
    },
    "kernelspec": {
      "name": "python3",
      "display_name": "Python 3"
    },
    "language_info": {
      "name": "python"
    }
  },
  "cells": [
    {
      "cell_type": "markdown",
      "metadata": {
        "id": "view-in-github",
        "colab_type": "text"
      },
      "source": [
        "<a href=\"https://colab.research.google.com/github/Swapn2/Data-Science-Learnings/blob/main/session2_operators_ifelse_loop.ipynb\" target=\"_parent\"><img src=\"https://colab.research.google.com/assets/colab-badge.svg\" alt=\"Open In Colab\"/></a>"
      ]
    },
    {
      "cell_type": "markdown",
      "source": [
        "Operators in python\n",
        "\n",
        "\n",
        "1. Arithmetic Operators\n",
        "2. Relation Operators\n",
        "3. Logical Operators\n",
        "4. Bitwise Operators\n",
        "5. Assingment Operators\n",
        "6. Membership Operators\n",
        "\n"
      ],
      "metadata": {
        "id": "DWLg5gAosqwX"
      }
    },
    {
      "cell_type": "code",
      "execution_count": 7,
      "metadata": {
        "colab": {
          "base_uri": "https://localhost:8080/"
        },
        "id": "8o_zvIKTqpij",
        "outputId": "64b25bd4-fd1a-4bd2-a0d3-1503ecd93b21"
      },
      "outputs": [
        {
          "output_type": "stream",
          "name": "stdout",
          "text": [
            "2\n",
            "25\n"
          ]
        }
      ],
      "source": [
        "# Arithmetic Operators\n",
        "print(5//2)  # integer division\n",
        "print(5**2) # power of operator"
      ]
    },
    {
      "cell_type": "code",
      "source": [
        "# Relational Operator\n",
        "print(4>5)\n",
        "print(4<5)\n",
        "print(4>=4)\n",
        "print(4<=4)\n",
        "print(4==4)\n",
        "print(4!=4)"
      ],
      "metadata": {
        "colab": {
          "base_uri": "https://localhost:8080/"
        },
        "id": "OB7p1lHxw0KS",
        "outputId": "607b105f-9e20-4203-d7bc-97e99fc847a3"
      },
      "execution_count": 8,
      "outputs": [
        {
          "output_type": "stream",
          "name": "stdout",
          "text": [
            "False\n",
            "True\n",
            "True\n",
            "True\n",
            "True\n",
            "False\n"
          ]
        }
      ]
    },
    {
      "cell_type": "code",
      "source": [
        "# bitwise Operators\n",
        "# bitwise AND\n",
        "print(2 & 3)\n",
        "# bitwise OR\n",
        "print(2 | 3)\n",
        "# bitwise XOR->\n",
        "#   10   (binary for 2)\n",
        "#⊕ 11   (binary for 3)\n",
        "#------\n",
        "#   01   (binary result)\n",
        "\n",
        "print(2 ^ 3 )\n",
        "# bitwise Not\n",
        "print(~2)\n",
        "print(4 >>2 )\n"
      ],
      "metadata": {
        "colab": {
          "base_uri": "https://localhost:8080/"
        },
        "id": "yYdba3wtxp3c",
        "outputId": "c6e99c06-cde4-4052-9df9-910c99e4b6f9"
      },
      "execution_count": 15,
      "outputs": [
        {
          "output_type": "stream",
          "name": "stdout",
          "text": [
            "2\n",
            "3\n",
            "1\n",
            "-3\n",
            "1\n"
          ]
        }
      ]
    },
    {
      "cell_type": "code",
      "source": [
        "a = 2\n",
        "a += 1 # a = a + 2\n",
        "print(a)\n",
        "\n",
        "# a =+ 1 , dose not have any sense it beasically assing the +1 to a"
      ],
      "metadata": {
        "colab": {
          "base_uri": "https://localhost:8080/"
        },
        "id": "-w2wXnQVya4a",
        "outputId": "4b165fa0-2fe7-45f2-bc17-6f16565b5eae"
      },
      "execution_count": 20,
      "outputs": [
        {
          "output_type": "stream",
          "name": "stdout",
          "text": [
            "3\n"
          ]
        }
      ]
    },
    {
      "cell_type": "code",
      "source": [
        "# membership operator\n",
        "# in / not in\n",
        "\n",
        "print('D' in ' Delhi')\n",
        "print('D' in ' delhi')\n",
        "print(1 in [1,2,3,4,5])"
      ],
      "metadata": {
        "colab": {
          "base_uri": "https://localhost:8080/"
        },
        "id": "g_xzQX0y5RLS",
        "outputId": "2156f0a4-4c7f-4f02-e63d-b7e42c697754"
      },
      "execution_count": 24,
      "outputs": [
        {
          "output_type": "stream",
          "name": "stdout",
          "text": [
            "True\n",
            "False\n",
            "True\n"
          ]
        }
      ]
    },
    {
      "cell_type": "code",
      "source": [],
      "metadata": {
        "id": "uipTNsHV61FW"
      },
      "execution_count": null,
      "outputs": []
    }
  ]
}