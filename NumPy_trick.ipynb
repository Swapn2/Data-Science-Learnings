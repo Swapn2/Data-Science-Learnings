{
  "nbformat": 4,
  "nbformat_minor": 0,
  "metadata": {
    "colab": {
      "provenance": [],
      "authorship_tag": "ABX9TyOeC6qGgDwFtgnGXBM/Hefq",
      "include_colab_link": true
    },
    "kernelspec": {
      "name": "python3",
      "display_name": "Python 3"
    },
    "language_info": {
      "name": "python"
    }
  },
  "cells": [
    {
      "cell_type": "markdown",
      "metadata": {
        "id": "view-in-github",
        "colab_type": "text"
      },
      "source": [
        "<a href=\"https://colab.research.google.com/github/Swapn2/Data-Science-Learnings/blob/main/NumPy_trick.ipynb\" target=\"_parent\"><img src=\"https://colab.research.google.com/assets/colab-badge.svg\" alt=\"Open In Colab\"/></a>"
      ]
    },
    {
      "cell_type": "markdown",
      "source": [
        "### np.sort\n",
        "\n",
        "Return a sorted copy of an array.\n",
        "\n",
        "https://numpy.org/doc/stable/reference/generated/numpy.sort.html"
      ],
      "metadata": {
        "id": "5ILxLXYPgQLY"
      }
    },
    {
      "cell_type": "code",
      "execution_count": 1,
      "metadata": {
        "colab": {
          "base_uri": "https://localhost:8080/"
        },
        "id": "FMrDPsXafg9R",
        "outputId": "a25e54f3-061f-48d0-9c8f-14c3a23d50fb"
      },
      "outputs": [
        {
          "output_type": "execute_result",
          "data": {
            "text/plain": [
              "array([36, 80, 61, 80, 26, 48, 40, 77, 91, 23, 34, 57, 78,  6, 59])"
            ]
          },
          "metadata": {},
          "execution_count": 1
        }
      ],
      "source": [
        "import numpy as np\n",
        "\n",
        "a = np.random.randint(1,100,15)\n",
        "a"
      ]
    },
    {
      "cell_type": "code",
      "source": [
        "b = np.random.randint(1,100,24).reshape(6,4)\n",
        "b"
      ],
      "metadata": {
        "colab": {
          "base_uri": "https://localhost:8080/"
        },
        "id": "becB-uPNgqJ8",
        "outputId": "c1521259-dbcb-447c-f5d8-418b4e502d82"
      },
      "execution_count": 2,
      "outputs": [
        {
          "output_type": "execute_result",
          "data": {
            "text/plain": [
              "array([[10, 71, 99, 54],\n",
              "       [69,  1, 59, 48],\n",
              "       [19, 34, 22, 23],\n",
              "       [13, 17, 20, 89],\n",
              "       [64, 81, 17, 29],\n",
              "       [35, 85, 88, 75]])"
            ]
          },
          "metadata": {},
          "execution_count": 2
        }
      ]
    },
    {
      "cell_type": "code",
      "source": [
        "np.sort(a)"
      ],
      "metadata": {
        "colab": {
          "base_uri": "https://localhost:8080/"
        },
        "id": "enVnwnfXg48j",
        "outputId": "b0bac03e-1af1-4189-c2fe-f5ee20c21fd5"
      },
      "execution_count": 3,
      "outputs": [
        {
          "output_type": "execute_result",
          "data": {
            "text/plain": [
              "array([ 6, 23, 26, 34, 36, 40, 48, 57, 59, 61, 77, 78, 80, 80, 91])"
            ]
          },
          "metadata": {},
          "execution_count": 3
        }
      ]
    },
    {
      "cell_type": "code",
      "source": [
        "np.sort(a)[::-1] # decending preder"
      ],
      "metadata": {
        "colab": {
          "base_uri": "https://localhost:8080/"
        },
        "id": "ULubDy4shh93",
        "outputId": "3973e98e-4232-43f0-b7bc-b926626a7b92"
      },
      "execution_count": 6,
      "outputs": [
        {
          "output_type": "execute_result",
          "data": {
            "text/plain": [
              "array([91, 80, 80, 78, 77, 61, 59, 57, 48, 40, 36, 34, 26, 23,  6])"
            ]
          },
          "metadata": {},
          "execution_count": 6
        }
      ]
    },
    {
      "cell_type": "code",
      "source": [
        "np.sort(b,axis=0)"
      ],
      "metadata": {
        "colab": {
          "base_uri": "https://localhost:8080/"
        },
        "id": "2KQ6Oj2xg889",
        "outputId": "4e029bb2-46a4-4c9b-f04d-943bdde7785d"
      },
      "execution_count": 5,
      "outputs": [
        {
          "output_type": "execute_result",
          "data": {
            "text/plain": [
              "array([[10,  1, 17, 23],\n",
              "       [13, 17, 20, 29],\n",
              "       [19, 34, 22, 48],\n",
              "       [35, 71, 59, 54],\n",
              "       [64, 81, 88, 75],\n",
              "       [69, 85, 99, 89]])"
            ]
          },
          "metadata": {},
          "execution_count": 5
        }
      ]
    },
    {
      "cell_type": "code",
      "source": [],
      "metadata": {
        "id": "k_rTXq9yhATR"
      },
      "execution_count": null,
      "outputs": []
    }
  ]
}