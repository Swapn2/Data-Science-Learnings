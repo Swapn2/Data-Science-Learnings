{
  "nbformat": 4,
  "nbformat_minor": 0,
  "metadata": {
    "colab": {
      "provenance": [],
      "authorship_tag": "ABX9TyOpfmRaNdt/K3+Sy4sd5Fag",
      "include_colab_link": true
    },
    "kernelspec": {
      "name": "python3",
      "display_name": "Python 3"
    },
    "language_info": {
      "name": "python"
    }
  },
  "cells": [
    {
      "cell_type": "markdown",
      "metadata": {
        "id": "view-in-github",
        "colab_type": "text"
      },
      "source": [
        "<a href=\"https://colab.research.google.com/github/Swapn2/Data-Science-Learnings/blob/main/OOP_2.ipynb\" target=\"_parent\"><img src=\"https://colab.research.google.com/assets/colab-badge.svg\" alt=\"Open In Colab\"/></a>"
      ]
    },
    {
      "cell_type": "markdown",
      "source": [
        "# write OOP classes to handle the following scenarios :\n",
        "- A user can create and view 2D coordinates\n",
        "- A user can find out the distances between 2 coordinates\n",
        "- A user can find the distance of a cordiante from origin\n",
        "- A user can check if a ponit lies on the given line\n",
        "- A user can find the distance between a giveen 2D point and given line"
      ],
      "metadata": {
        "id": "0sdU2ylecghF"
      }
    },
    {
      "cell_type": "code",
      "execution_count": 8,
      "metadata": {
        "id": "tPMJHUd8cAlH"
      },
      "outputs": [],
      "source": [
        "class Point:\n",
        "\n",
        "  def __init__(self,x,y):\n",
        "    self.x_cod = x\n",
        "    self.y_cod = y\n",
        "  def __str__(self):\n",
        "    return '<{},{}>'.format(self.x_cod,self.y_cod)\n",
        "  def euclidean_distance(self,other):\n",
        "    distance = ((self.x_cod - other.x_cod)**2 + (self.y_cod - other.y_cod)**2)**.5\n",
        "    return distance\n",
        "  def O_distance(self):\n",
        "    # retrun (self.x_cod**2 + self.y_cod**2)**.5\n",
        "    return self.euclidean_distance(Point(0,0))\n",
        "\n",
        "class Line:\n",
        "  def __init__(self,A,B,C):\n",
        "    self.A = A\n",
        "    self.B = B\n",
        "    self.C = C\n",
        "  def __str__(self):\n",
        "    return '{}x+{}y+{} = 0'.format(self.A,self.B,self.C)\n",
        "\n",
        "  def POL(line,point):\n",
        "    if line.A*point.x_cod + line.B*point.y_cod + line.C == 0:\n",
        "      return \"lies on the line \"\n",
        "    else:\n",
        "      \"not in line \""
      ]
    },
    {
      "cell_type": "code",
      "source": [
        "p1 = Point(0,0)\n",
        "print(p1)"
      ],
      "metadata": {
        "colab": {
          "base_uri": "https://localhost:8080/"
        },
        "id": "OTZdzV-FgWDT",
        "outputId": "9b18baf0-c574-49f2-96d7-52d3dcce3627"
      },
      "execution_count": 3,
      "outputs": [
        {
          "output_type": "stream",
          "name": "stdout",
          "text": [
            "<0,0>\n"
          ]
        }
      ]
    },
    {
      "cell_type": "code",
      "source": [
        "p2 = Point(10,0)\n",
        "print(p2)\n",
        "p1.euclidean_distance(p2)"
      ],
      "metadata": {
        "colab": {
          "base_uri": "https://localhost:8080/"
        },
        "id": "TBGo9nG5gX8g",
        "outputId": "fda29d3b-1ffd-4835-c01c-7240f435cbe7"
      },
      "execution_count": 4,
      "outputs": [
        {
          "output_type": "stream",
          "name": "stdout",
          "text": [
            "<10,0>\n"
          ]
        },
        {
          "output_type": "execute_result",
          "data": {
            "text/plain": [
              "10.0"
            ]
          },
          "metadata": {},
          "execution_count": 4
        }
      ]
    },
    {
      "cell_type": "code",
      "source": [
        "p2.O_distance()"
      ],
      "metadata": {
        "colab": {
          "base_uri": "https://localhost:8080/"
        },
        "id": "JFmZYti5g5s9",
        "outputId": "e1db813e-be80-423a-f576-6c800af31236"
      },
      "execution_count": 5,
      "outputs": [
        {
          "output_type": "execute_result",
          "data": {
            "text/plain": [
              "10.0"
            ]
          },
          "metadata": {},
          "execution_count": 5
        }
      ]
    },
    {
      "cell_type": "code",
      "source": [
        "L1 = Line(1,1,-2)\n",
        "p1 = Point(1,1)\n",
        "print(p1)\n",
        "print(L1)\n",
        "\n",
        "L1.POL(p1)"
      ],
      "metadata": {
        "colab": {
          "base_uri": "https://localhost:8080/",
          "height": 70
        },
        "id": "ako3MuuUjC4Z",
        "outputId": "877135d3-0265-4501-dec5-aefd80e09c89"
      },
      "execution_count": 10,
      "outputs": [
        {
          "output_type": "stream",
          "name": "stdout",
          "text": [
            "<1,1>\n",
            "1x+1y+-2 = 0\n"
          ]
        },
        {
          "output_type": "execute_result",
          "data": {
            "text/plain": [
              "'lies on the line '"
            ],
            "application/vnd.google.colaboratory.intrinsic+json": {
              "type": "string"
            }
          },
          "metadata": {},
          "execution_count": 10
        }
      ]
    },
    {
      "cell_type": "code",
      "source": [],
      "metadata": {
        "id": "Ejfui4li3l5e"
      },
      "execution_count": null,
      "outputs": []
    }
  ]
}