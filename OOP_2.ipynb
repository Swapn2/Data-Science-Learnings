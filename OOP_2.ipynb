{
  "nbformat": 4,
  "nbformat_minor": 0,
  "metadata": {
    "colab": {
      "provenance": [],
      "authorship_tag": "ABX9TyOsG9Krlxz8ImZWFS3FqjOd",
      "include_colab_link": true
    },
    "kernelspec": {
      "name": "python3",
      "display_name": "Python 3"
    },
    "language_info": {
      "name": "python"
    }
  },
  "cells": [
    {
      "cell_type": "markdown",
      "metadata": {
        "id": "view-in-github",
        "colab_type": "text"
      },
      "source": [
        "<a href=\"https://colab.research.google.com/github/Swapn2/Data-Science-Learnings/blob/main/OOP_2.ipynb\" target=\"_parent\"><img src=\"https://colab.research.google.com/assets/colab-badge.svg\" alt=\"Open In Colab\"/></a>"
      ]
    },
    {
      "cell_type": "markdown",
      "source": [
        "# write OOP classes to handle the following scenarios :\n",
        "- A user can create and view 2D coordinates\n",
        "- A user can find out the distances between 2 coordinates\n",
        "- A user can find the distance of a cordiante from origin\n",
        "- A user can check if a ponit lies on the given line\n",
        "- A user can find the distance between a giveen 2D point and given line"
      ],
      "metadata": {
        "id": "0sdU2ylecghF"
      }
    },
    {
      "cell_type": "code",
      "execution_count": 11,
      "metadata": {
        "id": "tPMJHUd8cAlH"
      },
      "outputs": [],
      "source": [
        "class Point:\n",
        "\n",
        "  def __init__(self,x,y):\n",
        "    self.x_cod = x\n",
        "    self.y_cod = y\n",
        "  def __str__(self):\n",
        "    return '<{},{}>'.format(self.x_cod,self.y_cod)\n",
        "  def euclidean_distance(self,other):\n",
        "    distance = ((self.x_cod - other.x_cod)**2 + (self.y_cod - other.y_cod)**2)**.5\n",
        "    return distance\n",
        "  def O_distance(self):\n",
        "    # retrun (self.x_cod**2 + self.y_cod**2)**.5\n",
        "    return self.euclidean_distance(Point(0,0))\n",
        "\n",
        "class Line:\n",
        "  def __init__(self,A,B,C):\n",
        "    self.A = A\n",
        "    self.B = B\n",
        "    self.C = C\n",
        "  def __str__(self):\n",
        "    return '{}x+{}y+{} = 0'.format(self.A,self.B,self.C)\n",
        "\n",
        "  def POL(line,point):\n",
        "    if line.A*point.x_cod + line.B*point.y_cod + line.C == 0:\n",
        "      return \"lies on the line \"\n",
        "    else:\n",
        "      \"not in line \"\n",
        "  def shortest_distance(line,point):\n",
        "    return abs(line.A*point.x_cod + line.B*point.y_cod + line.C)/((line.A**2 + line.B**2)**.5)\n"
      ]
    },
    {
      "cell_type": "code",
      "source": [
        "p1 = Point(0,0)\n",
        "print(p1)"
      ],
      "metadata": {
        "colab": {
          "base_uri": "https://localhost:8080/"
        },
        "id": "OTZdzV-FgWDT",
        "outputId": "ca12a958-9f6e-4d21-bc9d-b5587f516a0f"
      },
      "execution_count": 12,
      "outputs": [
        {
          "output_type": "stream",
          "name": "stdout",
          "text": [
            "<0,0>\n"
          ]
        }
      ]
    },
    {
      "cell_type": "code",
      "source": [
        "p2 = Point(10,0)\n",
        "print(p2)\n",
        "p1.euclidean_distance(p2)"
      ],
      "metadata": {
        "colab": {
          "base_uri": "https://localhost:8080/"
        },
        "id": "TBGo9nG5gX8g",
        "outputId": "92c82d14-bbbd-4391-d2c2-3473b62c620d"
      },
      "execution_count": 13,
      "outputs": [
        {
          "output_type": "stream",
          "name": "stdout",
          "text": [
            "<10,0>\n"
          ]
        },
        {
          "output_type": "execute_result",
          "data": {
            "text/plain": [
              "10.0"
            ]
          },
          "metadata": {},
          "execution_count": 13
        }
      ]
    },
    {
      "cell_type": "code",
      "source": [
        "p2.O_distance()"
      ],
      "metadata": {
        "colab": {
          "base_uri": "https://localhost:8080/"
        },
        "id": "JFmZYti5g5s9",
        "outputId": "1e473f1f-ac61-466b-b1b6-1c2327ebd74e"
      },
      "execution_count": 14,
      "outputs": [
        {
          "output_type": "execute_result",
          "data": {
            "text/plain": [
              "10.0"
            ]
          },
          "metadata": {},
          "execution_count": 14
        }
      ]
    },
    {
      "cell_type": "code",
      "source": [
        "L1 = Line(1,1,-2)\n",
        "p1 = Point(1,1)\n",
        "print(p1)\n",
        "print(L1)\n",
        "\n",
        "L1.POL(p1)"
      ],
      "metadata": {
        "colab": {
          "base_uri": "https://localhost:8080/",
          "height": 70
        },
        "id": "ako3MuuUjC4Z",
        "outputId": "d60fa84e-ecbf-45a3-b752-2ef6f62e0612"
      },
      "execution_count": 15,
      "outputs": [
        {
          "output_type": "stream",
          "name": "stdout",
          "text": [
            "<1,1>\n",
            "1x+1y+-2 = 0\n"
          ]
        },
        {
          "output_type": "execute_result",
          "data": {
            "text/plain": [
              "'lies on the line '"
            ],
            "application/vnd.google.colaboratory.intrinsic+json": {
              "type": "string"
            }
          },
          "metadata": {},
          "execution_count": 15
        }
      ]
    },
    {
      "cell_type": "code",
      "source": [
        "L1.shortest_distance(p1)"
      ],
      "metadata": {
        "colab": {
          "base_uri": "https://localhost:8080/"
        },
        "id": "Ejfui4li3l5e",
        "outputId": "212012c3-9220-4153-8d53-30394e3c7da5"
      },
      "execution_count": 16,
      "outputs": [
        {
          "output_type": "execute_result",
          "data": {
            "text/plain": [
              "0.0"
            ]
          },
          "metadata": {},
          "execution_count": 16
        }
      ]
    },
    {
      "cell_type": "markdown",
      "source": [
        "## How object access attributes"
      ],
      "metadata": {
        "id": "qe8jki_N-J00"
      }
    },
    {
      "cell_type": "code",
      "source": [
        "class Person:\n",
        "  def __init__(self,name_input,country_input):\n",
        "    self.name = name_input\n",
        "    self.country = country_input\n",
        "\n",
        "  def greet(self):\n",
        "    if self.country == 'india':\n",
        "      print('Namaste',self.name)\n",
        "    else:\n",
        "      print(\"Hello\",self.name)"
      ],
      "metadata": {
        "id": "n7GNkkd58KDl"
      },
      "execution_count": 17,
      "outputs": []
    },
    {
      "cell_type": "code",
      "source": [
        "# how to access the attribute\n",
        "p = Person('nitish','india')"
      ],
      "metadata": {
        "id": "Tz8_eV8D_4VI"
      },
      "execution_count": 18,
      "outputs": []
    },
    {
      "cell_type": "code",
      "source": [
        "p.country"
      ],
      "metadata": {
        "colab": {
          "base_uri": "https://localhost:8080/",
          "height": 35
        },
        "id": "IObW9mQMAHd8",
        "outputId": "1acd1a30-b726-444f-9a1b-9fe553f9b7a5"
      },
      "execution_count": 19,
      "outputs": [
        {
          "output_type": "execute_result",
          "data": {
            "text/plain": [
              "'india'"
            ],
            "application/vnd.google.colaboratory.intrinsic+json": {
              "type": "string"
            }
          },
          "metadata": {},
          "execution_count": 19
        }
      ]
    },
    {
      "cell_type": "code",
      "source": [
        "p.greet()"
      ],
      "metadata": {
        "colab": {
          "base_uri": "https://localhost:8080/"
        },
        "id": "TN6w8IhlAgj5",
        "outputId": "26bc2503-1dc4-4925-eb3c-75cd90e51391"
      },
      "execution_count": 21,
      "outputs": [
        {
          "output_type": "stream",
          "name": "stdout",
          "text": [
            "Namaste nitish\n"
          ]
        }
      ]
    },
    {
      "cell_type": "code",
      "source": [
        "p.gender"
      ],
      "metadata": {
        "colab": {
          "base_uri": "https://localhost:8080/",
          "height": 141
        },
        "id": "PNzTJ0q_Am47",
        "outputId": "e2d4473a-db29-4b87-ae61-dc153e87e167"
      },
      "execution_count": 22,
      "outputs": [
        {
          "output_type": "error",
          "ename": "AttributeError",
          "evalue": "'Person' object has no attribute 'gender'",
          "traceback": [
            "\u001b[0;31m---------------------------------------------------------------------------\u001b[0m",
            "\u001b[0;31mAttributeError\u001b[0m                            Traceback (most recent call last)",
            "\u001b[0;32m<ipython-input-22-a6f74d1c7954>\u001b[0m in \u001b[0;36m<cell line: 0>\u001b[0;34m()\u001b[0m\n\u001b[0;32m----> 1\u001b[0;31m \u001b[0mp\u001b[0m\u001b[0;34m.\u001b[0m\u001b[0mgender\u001b[0m\u001b[0;34m\u001b[0m\u001b[0;34m\u001b[0m\u001b[0m\n\u001b[0m",
            "\u001b[0;31mAttributeError\u001b[0m: 'Person' object has no attribute 'gender'"
          ]
        }
      ]
    },
    {
      "cell_type": "markdown",
      "source": [
        "# Attribute creation from outside ofthe class"
      ],
      "metadata": {
        "id": "GrvrEqooDBGj"
      }
    },
    {
      "cell_type": "code",
      "source": [
        "p.gender = 'male'"
      ],
      "metadata": {
        "id": "CMSGSttCAtcN"
      },
      "execution_count": 23,
      "outputs": []
    },
    {
      "cell_type": "code",
      "source": [
        "p.gender"
      ],
      "metadata": {
        "colab": {
          "base_uri": "https://localhost:8080/",
          "height": 35
        },
        "id": "3ykLM4--DJ8Q",
        "outputId": "68c53d8a-985c-4730-af50-e3b5dec9f66b"
      },
      "execution_count": 24,
      "outputs": [
        {
          "output_type": "execute_result",
          "data": {
            "text/plain": [
              "'male'"
            ],
            "application/vnd.google.colaboratory.intrinsic+json": {
              "type": "string"
            }
          },
          "metadata": {},
          "execution_count": 24
        }
      ]
    },
    {
      "cell_type": "markdown",
      "source": [
        "# Refrence Variable\n",
        "- Refrence variable hold the object\n",
        "- we can create object without reference variable as well\n",
        "- An onbject can have multiple refrence variables\n",
        "- Assingning a new refrence variable to an existing object does not create a new object"
      ],
      "metadata": {
        "id": "PcaDLj2VDa75"
      }
    },
    {
      "cell_type": "code",
      "source": [
        "# object without a refrence\n",
        "class Person:\n",
        "\n",
        "  def __init__(self):\n",
        "    self.name = 'swapn'\n",
        "    self.gender = 'swapn'\n",
        "\n",
        "Person()"
      ],
      "metadata": {
        "colab": {
          "base_uri": "https://localhost:8080/"
        },
        "id": "K-9K1BC2DW-p",
        "outputId": "b2640e11-5313-4d77-aaed-32e6b788a720"
      },
      "execution_count": 25,
      "outputs": [
        {
          "output_type": "execute_result",
          "data": {
            "text/plain": [
              "<__main__.Person at 0x799a36f374d0>"
            ]
          },
          "metadata": {},
          "execution_count": 25
        }
      ]
    },
    {
      "cell_type": "code",
      "source": [
        "# object without a refrence\n",
        "class Person:\n",
        "\n",
        "  def __init__(self):\n",
        "    self.name = 'swapn'\n",
        "    self.gender = 'swapn'\n",
        "\n",
        "p = Person()"
      ],
      "metadata": {
        "id": "GVZgfNMeFD6T"
      },
      "execution_count": 26,
      "outputs": []
    },
    {
      "cell_type": "code",
      "source": [
        "# mutli ref\n",
        "q = p\n",
        "print(id(p))\n",
        "print(id(q))"
      ],
      "metadata": {
        "colab": {
          "base_uri": "https://localhost:8080/"
        },
        "id": "w0uDDlYCFGys",
        "outputId": "0a3c819d-6b14-457b-cc41-3db2a3d10d71"
      },
      "execution_count": 29,
      "outputs": [
        {
          "output_type": "stream",
          "name": "stdout",
          "text": [
            "133703250747920\n",
            "133703250747920\n"
          ]
        }
      ]
    },
    {
      "cell_type": "code",
      "source": [
        "print(p.name)\n",
        "print(q.name)"
      ],
      "metadata": {
        "colab": {
          "base_uri": "https://localhost:8080/"
        },
        "id": "3Zkv60FTFvIC",
        "outputId": "7cf7f2b7-7dac-4845-f80b-86f245841012"
      },
      "execution_count": 30,
      "outputs": [
        {
          "output_type": "stream",
          "name": "stdout",
          "text": [
            "swapn\n",
            "swapn\n"
          ]
        }
      ]
    },
    {
      "cell_type": "code",
      "source": [
        "q.name = 'ankit'"
      ],
      "metadata": {
        "id": "yepLGbSJGHZp"
      },
      "execution_count": 31,
      "outputs": []
    },
    {
      "cell_type": "code",
      "source": [
        "print(p.name)\n",
        "print(q.name)"
      ],
      "metadata": {
        "colab": {
          "base_uri": "https://localhost:8080/"
        },
        "id": "VDF3aQiCGKgj",
        "outputId": "89e3f1ae-1681-42cd-bd4d-665b37f8a977"
      },
      "execution_count": 32,
      "outputs": [
        {
          "output_type": "stream",
          "name": "stdout",
          "text": [
            "ankit\n",
            "ankit\n"
          ]
        }
      ]
    },
    {
      "cell_type": "markdown",
      "source": [
        "# pass by refrence"
      ],
      "metadata": {
        "id": "4ed8J7gsG660"
      }
    },
    {
      "cell_type": "code",
      "source": [
        "class Person:\n",
        "  def __init__(self,name,gender):\n",
        "    self.name = name\n",
        "    self.gender = gender\n",
        "\n",
        "def greet(person):\n",
        "  print('he my name is ',person.name,'and i am a ',person.gender)\n",
        "\n",
        "p = Person('nitish','male')\n",
        "greet(p)"
      ],
      "metadata": {
        "colab": {
          "base_uri": "https://localhost:8080/"
        },
        "id": "5yEwVHhfGMzy",
        "outputId": "6fb1a29b-b753-4d26-c13a-67b277d9769a"
      },
      "execution_count": 38,
      "outputs": [
        {
          "output_type": "stream",
          "name": "stdout",
          "text": [
            "he my name is  nitish and i am a  male\n"
          ]
        }
      ]
    },
    {
      "cell_type": "code",
      "source": [
        "class Person:\n",
        "  def __init__(self,name,gender):\n",
        "    self.name = name\n",
        "    self.gender = gender\n",
        "\n",
        "def greet(person):\n",
        "  print('he my name is ',person.name,'and i am a ',person.gender)\n",
        "  p1 = Person('ankit','male')\n",
        "  return p1\n",
        "p = Person('nitish','male')\n",
        "x = greet(p)\n",
        "print(x.name)\n",
        "print(x.gender)"
      ],
      "metadata": {
        "colab": {
          "base_uri": "https://localhost:8080/"
        },
        "id": "kFzeK1FfUnvz",
        "outputId": "8f9cd9c0-d131-45bc-ba60-9f7e8f0b744d"
      },
      "execution_count": 39,
      "outputs": [
        {
          "output_type": "stream",
          "name": "stdout",
          "text": [
            "he my name is  nitish and i am a  male\n",
            "ankit\n",
            "male\n"
          ]
        }
      ]
    },
    {
      "cell_type": "code",
      "source": [
        "class Person:\n",
        "  def __init__(self,name,gender):\n",
        "    self.name = name\n",
        "    self.gender = gender\n",
        "\n",
        "def greet(person):\n",
        "  print(id(person))\n",
        "  person.name = 'ankit'\n",
        "  print(person.name)\n",
        "\n",
        "p = Person('nitish','male')\n",
        "print(id(p))\n",
        "greet(p)\n",
        "print(p.name)"
      ],
      "metadata": {
        "colab": {
          "base_uri": "https://localhost:8080/"
        },
        "id": "G7oQUflpTgyR",
        "outputId": "37737785-736f-4d05-e947-34d5b6363e44"
      },
      "execution_count": 43,
      "outputs": [
        {
          "output_type": "stream",
          "name": "stdout",
          "text": [
            "133703250029072\n",
            "133703250029072\n",
            "ankit\n",
            "ankit\n"
          ]
        }
      ]
    },
    {
      "cell_type": "code",
      "source": [
        "class Person:\n",
        "  def __init__(self,name,gender):\n",
        "    self.name = name\n",
        "    self.gender = gender\n",
        "\n",
        "def greet(person):\n",
        "  print(id(person))\n",
        "  person.name = 'ankit'\n",
        "  return person\n",
        "\n",
        "p = Person('nitish','male')\n",
        "print(id(p))\n",
        "greet(p)\n",
        "print(id(p))\n",
        "\n",
        "# all object of user defined classes are default mutable"
      ],
      "metadata": {
        "colab": {
          "base_uri": "https://localhost:8080/"
        },
        "id": "583S6iSJWOi9",
        "outputId": "e68f292b-a07c-4f66-aea7-9c5613c21e6d"
      },
      "execution_count": 44,
      "outputs": [
        {
          "output_type": "stream",
          "name": "stdout",
          "text": [
            "133703249947280\n",
            "133703249947280\n",
            "133703249947280\n"
          ]
        }
      ]
    },
    {
      "cell_type": "code",
      "source": [],
      "metadata": {
        "id": "LrdEdyJ6YacQ"
      },
      "execution_count": null,
      "outputs": []
    }
  ]
}