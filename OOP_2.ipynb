{
  "nbformat": 4,
  "nbformat_minor": 0,
  "metadata": {
    "colab": {
      "provenance": [],
      "authorship_tag": "ABX9TyPhEQwY5cpZGJywvR/hY/GG",
      "include_colab_link": true
    },
    "kernelspec": {
      "name": "python3",
      "display_name": "Python 3"
    },
    "language_info": {
      "name": "python"
    }
  },
  "cells": [
    {
      "cell_type": "markdown",
      "metadata": {
        "id": "view-in-github",
        "colab_type": "text"
      },
      "source": [
        "<a href=\"https://colab.research.google.com/github/Swapn2/Data-Science-Learnings/blob/main/OOP_2.ipynb\" target=\"_parent\"><img src=\"https://colab.research.google.com/assets/colab-badge.svg\" alt=\"Open In Colab\"/></a>"
      ]
    },
    {
      "cell_type": "markdown",
      "source": [
        "# write OOP classes to handle the following scenarios :\n",
        "- A user can create and view 2D coordinates\n",
        "- A user can find out the distances between 2 coordinates\n",
        "- A user can find the distance of a cordiante from origin\n",
        "- A user can check if a ponit lies on the given line\n",
        "- A user can find the distance between a giveen 2D point and given line"
      ],
      "metadata": {
        "id": "0sdU2ylecghF"
      }
    },
    {
      "cell_type": "code",
      "execution_count": null,
      "metadata": {
        "id": "tPMJHUd8cAlH"
      },
      "outputs": [],
      "source": [
        "class Point:\n",
        "\n",
        "  def __init__(self,x,y):\n",
        "    self.x_cod = x\n",
        "    self.y_cod = y\n",
        "  def __str__(self):\n",
        "    return '<{},{}>'.format(self.x_cod,self.y_cod)\n",
        "  def euclidean_distance(self,other):\n",
        "    distance = ((self.x_cod - other.x_cod)**2 + (self.y_cod - other.y_cod)**2)**.5\n",
        "    return distance\n",
        "  def O_distance(self):\n",
        "    # retrun (self.x_cod**2 + self.y_cod**2)**.5\n",
        "    return self.euclidean_distance(Point(0,0))\n",
        "\n",
        "class Line:\n",
        "  def __init__(self,A,B,C):\n",
        "    self.A = A\n",
        "    self.B = B\n",
        "    self.C = C\n",
        "  def __str__(self):\n",
        "    return '{}x+{}y+{} = 0'.format(self.A,self.B,self.C)\n",
        "\n",
        "  def POL(line,point):\n",
        "    if line.A*point.x_cod + line.B*point.y_cod + line.C == 0:\n",
        "      return \"lies on the line \"\n",
        "    else:\n",
        "      \"not in line \"\n",
        "  def shortest_distance(line,point):\n",
        "    return abs(line.A*point.x_cod + line.B*point.y_cod + line.C)/((line.A**2 + line.B**2)**.5)\n"
      ]
    },
    {
      "cell_type": "code",
      "source": [
        "p1 = Point(0,0)\n",
        "print(p1)"
      ],
      "metadata": {
        "colab": {
          "base_uri": "https://localhost:8080/"
        },
        "id": "OTZdzV-FgWDT",
        "outputId": "ca12a958-9f6e-4d21-bc9d-b5587f516a0f"
      },
      "execution_count": null,
      "outputs": [
        {
          "output_type": "stream",
          "name": "stdout",
          "text": [
            "<0,0>\n"
          ]
        }
      ]
    },
    {
      "cell_type": "code",
      "source": [
        "p2 = Point(10,0)\n",
        "print(p2)\n",
        "p1.euclidean_distance(p2)"
      ],
      "metadata": {
        "colab": {
          "base_uri": "https://localhost:8080/"
        },
        "id": "TBGo9nG5gX8g",
        "outputId": "92c82d14-bbbd-4391-d2c2-3473b62c620d"
      },
      "execution_count": null,
      "outputs": [
        {
          "output_type": "stream",
          "name": "stdout",
          "text": [
            "<10,0>\n"
          ]
        },
        {
          "output_type": "execute_result",
          "data": {
            "text/plain": [
              "10.0"
            ]
          },
          "metadata": {},
          "execution_count": 13
        }
      ]
    },
    {
      "cell_type": "code",
      "source": [
        "p2.O_distance()"
      ],
      "metadata": {
        "colab": {
          "base_uri": "https://localhost:8080/"
        },
        "id": "JFmZYti5g5s9",
        "outputId": "1e473f1f-ac61-466b-b1b6-1c2327ebd74e"
      },
      "execution_count": null,
      "outputs": [
        {
          "output_type": "execute_result",
          "data": {
            "text/plain": [
              "10.0"
            ]
          },
          "metadata": {},
          "execution_count": 14
        }
      ]
    },
    {
      "cell_type": "code",
      "source": [
        "L1 = Line(1,1,-2)\n",
        "p1 = Point(1,1)\n",
        "print(p1)\n",
        "print(L1)\n",
        "\n",
        "L1.POL(p1)"
      ],
      "metadata": {
        "colab": {
          "base_uri": "https://localhost:8080/",
          "height": 70
        },
        "id": "ako3MuuUjC4Z",
        "outputId": "d60fa84e-ecbf-45a3-b752-2ef6f62e0612"
      },
      "execution_count": null,
      "outputs": [
        {
          "output_type": "stream",
          "name": "stdout",
          "text": [
            "<1,1>\n",
            "1x+1y+-2 = 0\n"
          ]
        },
        {
          "output_type": "execute_result",
          "data": {
            "text/plain": [
              "'lies on the line '"
            ],
            "application/vnd.google.colaboratory.intrinsic+json": {
              "type": "string"
            }
          },
          "metadata": {},
          "execution_count": 15
        }
      ]
    },
    {
      "cell_type": "code",
      "source": [
        "L1.shortest_distance(p1)"
      ],
      "metadata": {
        "colab": {
          "base_uri": "https://localhost:8080/"
        },
        "id": "Ejfui4li3l5e",
        "outputId": "212012c3-9220-4153-8d53-30394e3c7da5"
      },
      "execution_count": null,
      "outputs": [
        {
          "output_type": "execute_result",
          "data": {
            "text/plain": [
              "0.0"
            ]
          },
          "metadata": {},
          "execution_count": 16
        }
      ]
    },
    {
      "cell_type": "markdown",
      "source": [
        "## How object access attributes"
      ],
      "metadata": {
        "id": "qe8jki_N-J00"
      }
    },
    {
      "cell_type": "code",
      "source": [
        "class Person:\n",
        "  def __init__(self,name_input,country_input):\n",
        "    self.name = name_input\n",
        "    self.country = country_input\n",
        "\n",
        "  def greet(self):\n",
        "    if self.country == 'india':\n",
        "      print('Namaste',self.name)\n",
        "    else:\n",
        "      print(\"Hello\",self.name)"
      ],
      "metadata": {
        "id": "n7GNkkd58KDl"
      },
      "execution_count": null,
      "outputs": []
    },
    {
      "cell_type": "code",
      "source": [
        "# how to access the attribute\n",
        "p = Person('nitish','india')"
      ],
      "metadata": {
        "id": "Tz8_eV8D_4VI"
      },
      "execution_count": null,
      "outputs": []
    },
    {
      "cell_type": "code",
      "source": [
        "p.country"
      ],
      "metadata": {
        "colab": {
          "base_uri": "https://localhost:8080/",
          "height": 35
        },
        "id": "IObW9mQMAHd8",
        "outputId": "1acd1a30-b726-444f-9a1b-9fe553f9b7a5"
      },
      "execution_count": null,
      "outputs": [
        {
          "output_type": "execute_result",
          "data": {
            "text/plain": [
              "'india'"
            ],
            "application/vnd.google.colaboratory.intrinsic+json": {
              "type": "string"
            }
          },
          "metadata": {},
          "execution_count": 19
        }
      ]
    },
    {
      "cell_type": "code",
      "source": [
        "p.greet()"
      ],
      "metadata": {
        "colab": {
          "base_uri": "https://localhost:8080/"
        },
        "id": "TN6w8IhlAgj5",
        "outputId": "26bc2503-1dc4-4925-eb3c-75cd90e51391"
      },
      "execution_count": null,
      "outputs": [
        {
          "output_type": "stream",
          "name": "stdout",
          "text": [
            "Namaste nitish\n"
          ]
        }
      ]
    },
    {
      "cell_type": "code",
      "source": [
        "p.gender"
      ],
      "metadata": {
        "colab": {
          "base_uri": "https://localhost:8080/",
          "height": 141
        },
        "id": "PNzTJ0q_Am47",
        "outputId": "e2d4473a-db29-4b87-ae61-dc153e87e167"
      },
      "execution_count": null,
      "outputs": [
        {
          "output_type": "error",
          "ename": "AttributeError",
          "evalue": "'Person' object has no attribute 'gender'",
          "traceback": [
            "\u001b[0;31m---------------------------------------------------------------------------\u001b[0m",
            "\u001b[0;31mAttributeError\u001b[0m                            Traceback (most recent call last)",
            "\u001b[0;32m<ipython-input-22-a6f74d1c7954>\u001b[0m in \u001b[0;36m<cell line: 0>\u001b[0;34m()\u001b[0m\n\u001b[0;32m----> 1\u001b[0;31m \u001b[0mp\u001b[0m\u001b[0;34m.\u001b[0m\u001b[0mgender\u001b[0m\u001b[0;34m\u001b[0m\u001b[0;34m\u001b[0m\u001b[0m\n\u001b[0m",
            "\u001b[0;31mAttributeError\u001b[0m: 'Person' object has no attribute 'gender'"
          ]
        }
      ]
    },
    {
      "cell_type": "markdown",
      "source": [
        "# Attribute creation from outside ofthe class"
      ],
      "metadata": {
        "id": "GrvrEqooDBGj"
      }
    },
    {
      "cell_type": "code",
      "source": [
        "p.gender = 'male'"
      ],
      "metadata": {
        "id": "CMSGSttCAtcN"
      },
      "execution_count": null,
      "outputs": []
    },
    {
      "cell_type": "code",
      "source": [
        "p.gender"
      ],
      "metadata": {
        "colab": {
          "base_uri": "https://localhost:8080/",
          "height": 35
        },
        "id": "3ykLM4--DJ8Q",
        "outputId": "68c53d8a-985c-4730-af50-e3b5dec9f66b"
      },
      "execution_count": null,
      "outputs": [
        {
          "output_type": "execute_result",
          "data": {
            "text/plain": [
              "'male'"
            ],
            "application/vnd.google.colaboratory.intrinsic+json": {
              "type": "string"
            }
          },
          "metadata": {},
          "execution_count": 24
        }
      ]
    },
    {
      "cell_type": "markdown",
      "source": [
        "# Refrence Variable\n",
        "- Refrence variable hold the object\n",
        "- we can create object without reference variable as well\n",
        "- An onbject can have multiple refrence variables\n",
        "- Assingning a new refrence variable to an existing object does not create a new object"
      ],
      "metadata": {
        "id": "PcaDLj2VDa75"
      }
    },
    {
      "cell_type": "code",
      "source": [
        "# object without a refrence\n",
        "class Person:\n",
        "\n",
        "  def __init__(self):\n",
        "    self.name = 'swapn'\n",
        "    self.gender = 'swapn'\n",
        "\n",
        "Person()"
      ],
      "metadata": {
        "colab": {
          "base_uri": "https://localhost:8080/"
        },
        "id": "K-9K1BC2DW-p",
        "outputId": "b2640e11-5313-4d77-aaed-32e6b788a720"
      },
      "execution_count": null,
      "outputs": [
        {
          "output_type": "execute_result",
          "data": {
            "text/plain": [
              "<__main__.Person at 0x799a36f374d0>"
            ]
          },
          "metadata": {},
          "execution_count": 25
        }
      ]
    },
    {
      "cell_type": "code",
      "source": [
        "# object without a refrence\n",
        "class Person:\n",
        "\n",
        "  def __init__(self):\n",
        "    self.name = 'swapn'\n",
        "    self.gender = 'swapn'\n",
        "\n",
        "p = Person()"
      ],
      "metadata": {
        "id": "GVZgfNMeFD6T"
      },
      "execution_count": null,
      "outputs": []
    },
    {
      "cell_type": "code",
      "source": [
        "# mutli ref\n",
        "q = p\n",
        "print(id(p))\n",
        "print(id(q))"
      ],
      "metadata": {
        "colab": {
          "base_uri": "https://localhost:8080/"
        },
        "id": "w0uDDlYCFGys",
        "outputId": "0a3c819d-6b14-457b-cc41-3db2a3d10d71"
      },
      "execution_count": null,
      "outputs": [
        {
          "output_type": "stream",
          "name": "stdout",
          "text": [
            "133703250747920\n",
            "133703250747920\n"
          ]
        }
      ]
    },
    {
      "cell_type": "code",
      "source": [
        "print(p.name)\n",
        "print(q.name)"
      ],
      "metadata": {
        "colab": {
          "base_uri": "https://localhost:8080/"
        },
        "id": "3Zkv60FTFvIC",
        "outputId": "7cf7f2b7-7dac-4845-f80b-86f245841012"
      },
      "execution_count": null,
      "outputs": [
        {
          "output_type": "stream",
          "name": "stdout",
          "text": [
            "swapn\n",
            "swapn\n"
          ]
        }
      ]
    },
    {
      "cell_type": "code",
      "source": [
        "q.name = 'ankit'"
      ],
      "metadata": {
        "id": "yepLGbSJGHZp"
      },
      "execution_count": null,
      "outputs": []
    },
    {
      "cell_type": "code",
      "source": [
        "print(p.name)\n",
        "print(q.name)"
      ],
      "metadata": {
        "colab": {
          "base_uri": "https://localhost:8080/"
        },
        "id": "VDF3aQiCGKgj",
        "outputId": "89e3f1ae-1681-42cd-bd4d-665b37f8a977"
      },
      "execution_count": null,
      "outputs": [
        {
          "output_type": "stream",
          "name": "stdout",
          "text": [
            "ankit\n",
            "ankit\n"
          ]
        }
      ]
    },
    {
      "cell_type": "markdown",
      "source": [
        "# pass by refrence"
      ],
      "metadata": {
        "id": "4ed8J7gsG660"
      }
    },
    {
      "cell_type": "code",
      "source": [
        "class Person:\n",
        "  def __init__(self,name,gender):\n",
        "    self.name = name\n",
        "    self.gender = gender\n",
        "\n",
        "def greet(person):\n",
        "  print('he my name is ',person.name,'and i am a ',person.gender)\n",
        "\n",
        "p = Person('nitish','male')\n",
        "greet(p)"
      ],
      "metadata": {
        "colab": {
          "base_uri": "https://localhost:8080/"
        },
        "id": "5yEwVHhfGMzy",
        "outputId": "6fb1a29b-b753-4d26-c13a-67b277d9769a"
      },
      "execution_count": null,
      "outputs": [
        {
          "output_type": "stream",
          "name": "stdout",
          "text": [
            "he my name is  nitish and i am a  male\n"
          ]
        }
      ]
    },
    {
      "cell_type": "code",
      "source": [
        "class Person:\n",
        "  def __init__(self,name,gender):\n",
        "    self.name = name\n",
        "    self.gender = gender\n",
        "\n",
        "def greet(person):\n",
        "  print('he my name is ',person.name,'and i am a ',person.gender)\n",
        "  p1 = Person('ankit','male')\n",
        "  return p1\n",
        "p = Person('nitish','male')\n",
        "x = greet(p)\n",
        "print(x.name)\n",
        "print(x.gender)"
      ],
      "metadata": {
        "colab": {
          "base_uri": "https://localhost:8080/"
        },
        "id": "kFzeK1FfUnvz",
        "outputId": "8f9cd9c0-d131-45bc-ba60-9f7e8f0b744d"
      },
      "execution_count": null,
      "outputs": [
        {
          "output_type": "stream",
          "name": "stdout",
          "text": [
            "he my name is  nitish and i am a  male\n",
            "ankit\n",
            "male\n"
          ]
        }
      ]
    },
    {
      "cell_type": "code",
      "source": [
        "class Person:\n",
        "  def __init__(self,name,gender):\n",
        "    self.name = name\n",
        "    self.gender = gender\n",
        "\n",
        "def greet(person):\n",
        "  print(id(person))\n",
        "  person.name = 'ankit'\n",
        "  print(person.name)\n",
        "\n",
        "p = Person('nitish','male')\n",
        "print(id(p))\n",
        "greet(p)\n",
        "print(p.name)"
      ],
      "metadata": {
        "colab": {
          "base_uri": "https://localhost:8080/"
        },
        "id": "G7oQUflpTgyR",
        "outputId": "37737785-736f-4d05-e947-34d5b6363e44"
      },
      "execution_count": null,
      "outputs": [
        {
          "output_type": "stream",
          "name": "stdout",
          "text": [
            "133703250029072\n",
            "133703250029072\n",
            "ankit\n",
            "ankit\n"
          ]
        }
      ]
    },
    {
      "cell_type": "code",
      "source": [
        "class Person:\n",
        "  def __init__(self,name,gender):\n",
        "    self.name = name\n",
        "    self.gender = gender\n",
        "\n",
        "def greet(person):\n",
        "  print(id(person))\n",
        "  person.name = 'ankit'\n",
        "  return person\n",
        "\n",
        "p = Person('nitish','male')\n",
        "print(id(p))\n",
        "greet(p)\n",
        "print(id(p))\n",
        "\n",
        "# all object of user defined classes are default mutable"
      ],
      "metadata": {
        "colab": {
          "base_uri": "https://localhost:8080/"
        },
        "id": "583S6iSJWOi9",
        "outputId": "e68f292b-a07c-4f66-aea7-9c5613c21e6d"
      },
      "execution_count": null,
      "outputs": [
        {
          "output_type": "stream",
          "name": "stdout",
          "text": [
            "133703249947280\n",
            "133703249947280\n",
            "133703249947280\n"
          ]
        }
      ]
    },
    {
      "cell_type": "code",
      "source": [
        "# instance var -> python tutor\n",
        "class Person:\n",
        "  def __init__(self,name,country):\n",
        "    self.name = name\n",
        "    self.country = country\n",
        "\n",
        "p1 = Person('swapm','india')\n",
        "p2 = Person('steve ','australia')"
      ],
      "metadata": {
        "id": "LrdEdyJ6YacQ"
      },
      "execution_count": 1,
      "outputs": []
    },
    {
      "cell_type": "code",
      "source": [
        " # MyAtm , HelloWorld\n",
        "\n",
        "class Atm:\n",
        "\n",
        "  # constructor -> a special function inside the class , we dont need to call this function to excecute the code inside it if ypu have object\n",
        "  def __init__(self):\n",
        "    print(id(self))\n",
        "    self.pin = ''\n",
        "    self.__balance = 0\n",
        "    #self.menu()\n",
        "\n",
        "  def menu(self):\n",
        "    user_input = input(\"\"\"\n",
        "    Hi, how can i help you ?\n",
        "    1. press 1 to create pin\n",
        "    2. press 2 to change pin\n",
        "    3. press 3 to check balance\n",
        "    4. press 4 to withdrawl\n",
        "    5. anything else to exit\n",
        "    \"\"\")\n",
        "    if user_input == '1':\n",
        "      self.create_pin()\n",
        "    elif(user_input == '2'):\n",
        "      self.change_pin()\n",
        "    elif(user_input == '3'):\n",
        "      self.check_balance()\n",
        "    elif(user_input == '4'):\n",
        "      self.withdrawl()\n",
        "    else:\n",
        "      exit()\n",
        "  def create_pin(self):\n",
        "    user_pin = input('enter the new pin ')\n",
        "    self.pin = user_pin\n",
        "\n",
        "    user_balance = int(input('enter the current balance '))\n",
        "    self.__balance = user_balance\n",
        "\n",
        "    print('thankyou! pin created successfully ')\n",
        "#    self.menu()\n",
        "\n",
        "  def change_pin(self):\n",
        "    old_pin = input('enter the old pin ')\n",
        "    if(old_pin == self.pin):\n",
        "      new_pin = input('enter the new pin')\n",
        "      self.pin = new_pin\n",
        "      print(' your pin changed successfully')\n",
        " #     self.menu()\n",
        "    else:\n",
        "      print('old pin is incorrect')\n",
        "  #    self.menu()\n",
        "  def check_balance(self):\n",
        "    user_pin = input('enter your pin')\n",
        "    if(user_pin == self.pin):\n",
        "      print('your balance is  : ',self.__balance)\n",
        "    else:\n",
        "      print('we cant show it to u')\n",
        "   # self.menu()\n",
        "  def withdrawl(self):\n",
        "    user_pin = input('enter your pin')\n",
        "    if(user_pin == self.pin):\n",
        "      amount = int(input('enter the amount'))\n",
        "      if(amount < self.__balance):\n",
        "        self.__balance = self.__balance - amount\n",
        "        print('withdrawl successfully')\n",
        "        print('avialable balance : ',self.__balance)\n",
        "      else:\n",
        "        print('amount is high')\n",
        "    else:\n",
        "      print('pin is incorrect')\n",
        "    #self.menu()\n",
        "\n"
      ],
      "metadata": {
        "id": "WM9AkFjVhHxo"
      },
      "execution_count": 1,
      "outputs": []
    },
    {
      "cell_type": "code",
      "source": [
        "obj = Atm()"
      ],
      "metadata": {
        "colab": {
          "base_uri": "https://localhost:8080/"
        },
        "id": "jws4Zwhihy0B",
        "outputId": "ee567567-7a13-480e-a120-304677241c33"
      },
      "execution_count": 2,
      "outputs": [
        {
          "output_type": "stream",
          "name": "stdout",
          "text": [
            "133841646610448\n"
          ]
        }
      ]
    },
    {
      "cell_type": "code",
      "source": [
        "obj.create_pin()\n",
        "obj.__balance = 'hehe'"
      ],
      "metadata": {
        "colab": {
          "base_uri": "https://localhost:8080/"
        },
        "id": "T-wKqdQ2h4Hs",
        "outputId": "cdfce7db-7780-48fe-fd98-c728db35e2b5"
      },
      "execution_count": 3,
      "outputs": [
        {
          "output_type": "stream",
          "name": "stdout",
          "text": [
            "enter the new pin 1234\n",
            "enter the current balance 100000\n",
            "thankyou! pin created successfully \n"
          ]
        }
      ]
    },
    {
      "cell_type": "code",
      "source": [
        "obj.withdrawl()"
      ],
      "metadata": {
        "colab": {
          "base_uri": "https://localhost:8080/"
        },
        "id": "fsEtHQJ-iMNt",
        "outputId": "54103165-912b-4a37-992f-632b27301eac"
      },
      "execution_count": 4,
      "outputs": [
        {
          "output_type": "stream",
          "name": "stdout",
          "text": [
            "enter your pin13234\n",
            "pin is incorrect\n"
          ]
        }
      ]
    },
    {
      "cell_type": "code",
      "source": [
        "obj.create_pin()\n",
        "obj._Atm__balance = 'hehe'"
      ],
      "metadata": {
        "colab": {
          "base_uri": "https://localhost:8080/"
        },
        "id": "Sm4H5xafir5n",
        "outputId": "5c614211-323c-455a-e4a6-f92558201439"
      },
      "execution_count": 5,
      "outputs": [
        {
          "output_type": "stream",
          "name": "stdout",
          "text": [
            "enter the new pin 1234\n",
            "enter the current balance 100000\n",
            "thankyou! pin created successfully \n"
          ]
        }
      ]
    },
    {
      "cell_type": "code",
      "source": [
        "obj.withdrawl()"
      ],
      "metadata": {
        "colab": {
          "base_uri": "https://localhost:8080/",
          "height": 297
        },
        "id": "OeXtY8gxl_Ao",
        "outputId": "11d3c1da-ab50-49cf-ad0d-fe24ccc5b24f"
      },
      "execution_count": 6,
      "outputs": [
        {
          "name": "stdout",
          "output_type": "stream",
          "text": [
            "enter your pin1234\n",
            "enter the amount2000\n"
          ]
        },
        {
          "output_type": "error",
          "ename": "TypeError",
          "evalue": "'<' not supported between instances of 'int' and 'str'",
          "traceback": [
            "\u001b[0;31m---------------------------------------------------------------------------\u001b[0m",
            "\u001b[0;31mTypeError\u001b[0m                                 Traceback (most recent call last)",
            "\u001b[0;32m<ipython-input-6-7f5542e6a227>\u001b[0m in \u001b[0;36m<cell line: 0>\u001b[0;34m()\u001b[0m\n\u001b[0;32m----> 1\u001b[0;31m \u001b[0mobj\u001b[0m\u001b[0;34m.\u001b[0m\u001b[0mwithdrawl\u001b[0m\u001b[0;34m(\u001b[0m\u001b[0;34m)\u001b[0m\u001b[0;34m\u001b[0m\u001b[0;34m\u001b[0m\u001b[0m\n\u001b[0m",
            "\u001b[0;32m<ipython-input-1-585c0b1f85c6>\u001b[0m in \u001b[0;36mwithdrawl\u001b[0;34m(self)\u001b[0m\n\u001b[1;32m     60\u001b[0m    \u001b[0;32mif\u001b[0m\u001b[0;34m(\u001b[0m\u001b[0muser_pin\u001b[0m \u001b[0;34m==\u001b[0m \u001b[0mself\u001b[0m\u001b[0;34m.\u001b[0m\u001b[0mpin\u001b[0m\u001b[0;34m)\u001b[0m\u001b[0;34m:\u001b[0m\u001b[0;34m\u001b[0m\u001b[0;34m\u001b[0m\u001b[0m\n\u001b[1;32m     61\u001b[0m      \u001b[0mamount\u001b[0m \u001b[0;34m=\u001b[0m \u001b[0mint\u001b[0m\u001b[0;34m(\u001b[0m\u001b[0minput\u001b[0m\u001b[0;34m(\u001b[0m\u001b[0;34m'enter the amount'\u001b[0m\u001b[0;34m)\u001b[0m\u001b[0;34m)\u001b[0m\u001b[0;34m\u001b[0m\u001b[0;34m\u001b[0m\u001b[0m\n\u001b[0;32m---> 62\u001b[0;31m      \u001b[0;32mif\u001b[0m\u001b[0;34m(\u001b[0m\u001b[0mamount\u001b[0m \u001b[0;34m<\u001b[0m \u001b[0mself\u001b[0m\u001b[0;34m.\u001b[0m\u001b[0m__balance\u001b[0m\u001b[0;34m)\u001b[0m\u001b[0;34m:\u001b[0m\u001b[0;34m\u001b[0m\u001b[0;34m\u001b[0m\u001b[0m\n\u001b[0m\u001b[1;32m     63\u001b[0m        \u001b[0mself\u001b[0m\u001b[0;34m.\u001b[0m\u001b[0m__balance\u001b[0m \u001b[0;34m=\u001b[0m \u001b[0mself\u001b[0m\u001b[0;34m.\u001b[0m\u001b[0m__balance\u001b[0m \u001b[0;34m-\u001b[0m \u001b[0mamount\u001b[0m\u001b[0;34m\u001b[0m\u001b[0;34m\u001b[0m\u001b[0m\n\u001b[1;32m     64\u001b[0m        \u001b[0mprint\u001b[0m\u001b[0;34m(\u001b[0m\u001b[0;34m'withdrawl successfully'\u001b[0m\u001b[0;34m)\u001b[0m\u001b[0;34m\u001b[0m\u001b[0;34m\u001b[0m\u001b[0m\n",
            "\u001b[0;31mTypeError\u001b[0m: '<' not supported between instances of 'int' and 'str'"
          ]
        }
      ]
    },
    {
      "cell_type": "code",
      "source": [
        " # MyAtm , HelloWorld\n",
        "\n",
        "class Atm:\n",
        "\n",
        "  # constructor -> a special function inside the class , we dont need to call this function to excecute the code inside it if ypu have object\n",
        "  def __init__(self):\n",
        "    print(id(self))\n",
        "    self.pin = ''\n",
        "    self.__balance = 0\n",
        "    #self.menu()\n",
        "\n",
        "  def get_balance(self):\n",
        "    return self.__balance\n",
        "  def set_balance(self,new_value):\n",
        "    if(type(new_value) == int):\n",
        "      self.__balance = new_value\n",
        "    else:\n",
        "      print('pitega tu ')\n",
        "\n",
        "  def menu(self):\n",
        "    user_input = input(\"\"\"\n",
        "    Hi, how can i help you ?\n",
        "    1. press 1 to create pin\n",
        "    2. press 2 to change pin\n",
        "    3. press 3 to check balance\n",
        "    4. press 4 to withdrawl\n",
        "    5. anything else to exit\n",
        "    \"\"\")\n",
        "    if user_input == '1':\n",
        "      self.create_pin()\n",
        "    elif(user_input == '2'):\n",
        "      self.change_pin()\n",
        "    elif(user_input == '3'):\n",
        "      self.check_balance()\n",
        "    elif(user_input == '4'):\n",
        "      self.withdrawl()\n",
        "    else:\n",
        "      exit()\n",
        "  def create_pin(self):\n",
        "    user_pin = input('enter the new pin ')\n",
        "    self.pin = user_pin\n",
        "\n",
        "    user_balance = int(input('enter the current balance '))\n",
        "    self.__balance = user_balance\n",
        "\n",
        "    print('thankyou! pin created successfully ')\n",
        "#    self.menu()\n",
        "\n",
        "  def change_pin(self):\n",
        "    old_pin = input('enter the old pin ')\n",
        "    if(old_pin == self.pin):\n",
        "      new_pin = input('enter the new pin')\n",
        "      self.pin = new_pin\n",
        "      print(' your pin changed successfully')\n",
        " #     self.menu()\n",
        "    else:\n",
        "      print('old pin is incorrect')\n",
        "  #    self.menu()\n",
        "  def check_balance(self):\n",
        "    user_pin = input('enter your pin')\n",
        "    if(user_pin == self.pin):\n",
        "      print('your balance is  : ',self.__balance)\n",
        "    else:\n",
        "      print('we cant show it to u')\n",
        "   # self.menu()\n",
        "  def withdrawl(self):\n",
        "    user_pin = input('enter your pin')\n",
        "    if(user_pin == self.pin):\n",
        "      amount = int(input('enter the amount'))\n",
        "      if(amount < self.__balance):\n",
        "        self.__balance = self.__balance - amount\n",
        "        print('withdrawl successfully')\n",
        "        print('avialable balance : ',self.__balance)\n",
        "      else:\n",
        "        print('amount is high')\n",
        "    else:\n",
        "      print('pin is incorrect')\n",
        "    #self.menu()\n",
        "\n"
      ],
      "metadata": {
        "id": "kw3U4-mNmD96"
      },
      "execution_count": 24,
      "outputs": []
    },
    {
      "cell_type": "code",
      "source": [
        "obj = Atm()"
      ],
      "metadata": {
        "colab": {
          "base_uri": "https://localhost:8080/"
        },
        "id": "xItX8SgmpEPP",
        "outputId": "292e2ea1-49b8-4dfb-fd2d-29e14bfb170f"
      },
      "execution_count": 25,
      "outputs": [
        {
          "output_type": "stream",
          "name": "stdout",
          "text": [
            "133841038779792\n"
          ]
        }
      ]
    },
    {
      "cell_type": "code",
      "source": [
        "obj.get_balance()"
      ],
      "metadata": {
        "colab": {
          "base_uri": "https://localhost:8080/"
        },
        "id": "T9_RqmXPpGmI",
        "outputId": "2a77905b-e3e6-4f2a-94e9-027d4031a190"
      },
      "execution_count": 26,
      "outputs": [
        {
          "output_type": "execute_result",
          "data": {
            "text/plain": [
              "0"
            ]
          },
          "metadata": {},
          "execution_count": 26
        }
      ]
    },
    {
      "cell_type": "code",
      "source": [
        "obj.set_balance(1000)"
      ],
      "metadata": {
        "id": "-cdY3Rd0pJGg"
      },
      "execution_count": 27,
      "outputs": []
    },
    {
      "cell_type": "code",
      "source": [
        "obj.get_balance()"
      ],
      "metadata": {
        "colab": {
          "base_uri": "https://localhost:8080/"
        },
        "id": "OMoC0JCfpPwk",
        "outputId": "9d0df51f-abbb-4f10-8c2b-c3379be7c0a4"
      },
      "execution_count": 28,
      "outputs": [
        {
          "output_type": "execute_result",
          "data": {
            "text/plain": [
              "1000"
            ]
          },
          "metadata": {},
          "execution_count": 28
        }
      ]
    },
    {
      "cell_type": "code",
      "source": [
        "obj.set_balance('hehe')"
      ],
      "metadata": {
        "colab": {
          "base_uri": "https://localhost:8080/"
        },
        "id": "6OiLnze5pSZH",
        "outputId": "4ee70245-5c6e-4be6-9b78-5743347708bb"
      },
      "execution_count": 29,
      "outputs": [
        {
          "output_type": "stream",
          "name": "stdout",
          "text": [
            "pitega tu \n"
          ]
        }
      ]
    },
    {
      "cell_type": "code",
      "source": [
        "obj.get_balance()"
      ],
      "metadata": {
        "colab": {
          "base_uri": "https://localhost:8080/"
        },
        "id": "aO_Omi2XpacD",
        "outputId": "4596b7f4-49d4-4933-83f0-940fc0b7820e"
      },
      "execution_count": 30,
      "outputs": [
        {
          "output_type": "execute_result",
          "data": {
            "text/plain": [
              "1000"
            ]
          },
          "metadata": {},
          "execution_count": 30
        }
      ]
    },
    {
      "cell_type": "markdown",
      "source": [
        "# Collection of object"
      ],
      "metadata": {
        "id": "25OAEVi6qkty"
      }
    },
    {
      "cell_type": "code",
      "source": [
        "class Person:\n",
        "  def __init__(self,name,gender):\n",
        "    self.name = name\n",
        "    self.gender = gender\n",
        "p1 = Person('swapn','male')\n",
        "p2 = Person('ankit','male')\n",
        "p3 = Person('ankita','female')\n",
        "L = [p1,p2,p3]\n",
        "\n",
        "print(L)\n",
        "\n",
        "for i in L:\n",
        "  print(i.name,i.gender)"
      ],
      "metadata": {
        "colab": {
          "base_uri": "https://localhost:8080/"
        },
        "id": "EsmhxUoZpc-i",
        "outputId": "363881bf-b41e-404d-ffcf-b2e657968658"
      },
      "execution_count": 33,
      "outputs": [
        {
          "output_type": "stream",
          "name": "stdout",
          "text": [
            "[<__main__.Person object at 0x79ba4ba65790>, <__main__.Person object at 0x79ba4b946bd0>, <__main__.Person object at 0x79ba4b945f10>]\n",
            "swapn male\n",
            "ankit male\n",
            "ankita female\n"
          ]
        }
      ]
    },
    {
      "cell_type": "code",
      "source": [
        "class Person:\n",
        "  def __init__(self,name,gender):\n",
        "    self.name = name\n",
        "    self.gender = gender\n",
        "p1 = Person('swapn','male')\n",
        "p2 = Person('ankit','male')\n",
        "p3 = Person('ankita','female')\n",
        "\n",
        "d = {'p1':p1,'p2':p2,'p3':p3}\n",
        "\n",
        "print(L)\n",
        "\n",
        "for i in d:\n",
        "  print(d[i].name,d[i].gender)"
      ],
      "metadata": {
        "colab": {
          "base_uri": "https://localhost:8080/"
        },
        "id": "UuJlOnEkrNQg",
        "outputId": "40e67b70-3af5-4ae0-d11e-42df221368a0"
      },
      "execution_count": 36,
      "outputs": [
        {
          "output_type": "stream",
          "name": "stdout",
          "text": [
            "[<__main__.Person object at 0x79ba4ba65790>, <__main__.Person object at 0x79ba4b946bd0>, <__main__.Person object at 0x79ba4b945f10>]\n",
            "swapn male\n",
            "ankit male\n",
            "ankita female\n"
          ]
        }
      ]
    },
    {
      "cell_type": "markdown",
      "source": [
        "# static Keyword v/s instance variable"
      ],
      "metadata": {
        "id": "HxSiJnsctnWz"
      }
    },
    {
      "cell_type": "code",
      "source": [
        "# need for static vars\n",
        "\n",
        " # MyAtm , HelloWorld\n",
        "\n",
        "class Atm:\n",
        "\n",
        "  counter = 1\n",
        "\n",
        "  # constructor -> a special function inside the class , we dont need to call this function to excecute the code inside it if ypu have object\n",
        "  def __init__(self):\n",
        "    print(id(self))\n",
        "    self.pin = ''\n",
        "    self.__balance = 0\n",
        "    self.cid = Atm.counter\n",
        "    Atm.counter += 1\n",
        "    #self.menu()\n",
        "\n",
        "  def get_balance(self):\n",
        "    return self.__balance\n",
        "  def set_balance(self,new_value):\n",
        "    if(type(new_value) == int):\n",
        "      self.__balance = new_value\n",
        "    else:\n",
        "      print('pitega tu ')\n",
        "\n",
        "  def menu(self):\n",
        "    user_input = input(\"\"\"\n",
        "    Hi, how can i help you ?\n",
        "    1. press 1 to create pin\n",
        "    2. press 2 to change pin\n",
        "    3. press 3 to check balance\n",
        "    4. press 4 to withdrawl\n",
        "    5. anything else to exit\n",
        "    \"\"\")\n",
        "    if user_input == '1':\n",
        "      self.create_pin()\n",
        "    elif(user_input == '2'):\n",
        "      self.change_pin()\n",
        "    elif(user_input == '3'):\n",
        "      self.check_balance()\n",
        "    elif(user_input == '4'):\n",
        "      self.withdrawl()\n",
        "    else:\n",
        "      exit()\n",
        "  def create_pin(self):\n",
        "    user_pin = input('enter the new pin ')\n",
        "    self.pin = user_pin\n",
        "\n",
        "    user_balance = int(input('enter the current balance '))\n",
        "    self.__balance = user_balance\n",
        "\n",
        "    print('thankyou! pin created successfully ')\n",
        "#    self.menu()\n",
        "\n",
        "  def change_pin(self):\n",
        "    old_pin = input('enter the old pin ')\n",
        "    if(old_pin == self.pin):\n",
        "      new_pin = input('enter the new pin')\n",
        "      self.pin = new_pin\n",
        "      print(' your pin changed successfully')\n",
        " #     self.menu()\n",
        "    else:\n",
        "      print('old pin is incorrect')\n",
        "  #    self.menu()\n",
        "  def check_balance(self):\n",
        "    user_pin = input('enter your pin')\n",
        "    if(user_pin == self.pin):\n",
        "      print('your balance is  : ',self.__balance)\n",
        "    else:\n",
        "      print('we cant show it to u')\n",
        "   # self.menu()\n",
        "  def withdrawl(self):\n",
        "    user_pin = input('enter your pin')\n",
        "    if(user_pin == self.pin):\n",
        "      amount = int(input('enter the amount'))\n",
        "      if(amount < self.__balance):\n",
        "        self.__balance = self.__balance - amount\n",
        "        print('withdrawl successfully')\n",
        "        print('avialable balance : ',self.__balance)\n",
        "      else:\n",
        "        print('amount is high')\n",
        "    else:\n",
        "      print('pin is incorrect')\n",
        "    #self.menu()\n",
        "\n"
      ],
      "metadata": {
        "id": "iFOXdMG_tS76"
      },
      "execution_count": 45,
      "outputs": []
    },
    {
      "cell_type": "code",
      "source": [
        "c1 = Atm()"
      ],
      "metadata": {
        "colab": {
          "base_uri": "https://localhost:8080/"
        },
        "id": "r7hNkjR9uWLO",
        "outputId": "261ca668-d168-4baf-e6a0-7e7aa764aa77"
      },
      "execution_count": 46,
      "outputs": [
        {
          "output_type": "stream",
          "name": "stdout",
          "text": [
            "133841039012304\n"
          ]
        }
      ]
    },
    {
      "cell_type": "code",
      "source": [
        "c2 = Atm()"
      ],
      "metadata": {
        "colab": {
          "base_uri": "https://localhost:8080/"
        },
        "id": "u-HvwTsgubdd",
        "outputId": "23ef9845-0796-4014-e7c6-8963ce522d1b"
      },
      "execution_count": 47,
      "outputs": [
        {
          "output_type": "stream",
          "name": "stdout",
          "text": [
            "133841038977808\n"
          ]
        }
      ]
    },
    {
      "cell_type": "code",
      "source": [
        "c3 = Atm()"
      ],
      "metadata": {
        "colab": {
          "base_uri": "https://localhost:8080/"
        },
        "id": "SUIq4lHPuc57",
        "outputId": "5ba14476-6a7c-4672-9aa1-e08d6215391f"
      },
      "execution_count": 48,
      "outputs": [
        {
          "output_type": "stream",
          "name": "stdout",
          "text": [
            "133841038605520\n"
          ]
        }
      ]
    },
    {
      "cell_type": "code",
      "source": [
        "c1.cid"
      ],
      "metadata": {
        "colab": {
          "base_uri": "https://localhost:8080/"
        },
        "id": "bCng-q-CueG_",
        "outputId": "aee5c731-caf0-4ceb-945a-aad6d374779d"
      },
      "execution_count": 49,
      "outputs": [
        {
          "output_type": "execute_result",
          "data": {
            "text/plain": [
              "1"
            ]
          },
          "metadata": {},
          "execution_count": 49
        }
      ]
    },
    {
      "cell_type": "code",
      "source": [
        "c2.cid"
      ],
      "metadata": {
        "colab": {
          "base_uri": "https://localhost:8080/"
        },
        "id": "mpzvbVy6ugn0",
        "outputId": "a36cdd7d-eb65-4b7e-9ac4-f9fff0e14b5c"
      },
      "execution_count": 50,
      "outputs": [
        {
          "output_type": "execute_result",
          "data": {
            "text/plain": [
              "2"
            ]
          },
          "metadata": {},
          "execution_count": 50
        }
      ]
    },
    {
      "cell_type": "code",
      "source": [
        "c3.cid"
      ],
      "metadata": {
        "colab": {
          "base_uri": "https://localhost:8080/"
        },
        "id": "IqrES9TQujXA",
        "outputId": "87c7be13-7e9c-4e55-d680-2d1a6110e371"
      },
      "execution_count": 51,
      "outputs": [
        {
          "output_type": "execute_result",
          "data": {
            "text/plain": [
              "3"
            ]
          },
          "metadata": {},
          "execution_count": 51
        }
      ]
    },
    {
      "cell_type": "code",
      "source": [
        "Atm.counter"
      ],
      "metadata": {
        "colab": {
          "base_uri": "https://localhost:8080/"
        },
        "id": "wBX4ZL66x24Z",
        "outputId": "d4302089-5d4d-4957-fe7b-97061993b21c"
      },
      "execution_count": 52,
      "outputs": [
        {
          "output_type": "execute_result",
          "data": {
            "text/plain": [
              "4"
            ]
          },
          "metadata": {},
          "execution_count": 52
        }
      ]
    },
    {
      "cell_type": "code",
      "source": [],
      "metadata": {
        "id": "3MAsuWkyx7AT"
      },
      "execution_count": null,
      "outputs": []
    }
  ]
}