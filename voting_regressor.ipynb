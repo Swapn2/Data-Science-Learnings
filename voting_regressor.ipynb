{
  "cells": [
    {
      "cell_type": "markdown",
      "metadata": {
        "id": "view-in-github",
        "colab_type": "text"
      },
      "source": [
        "<a href=\"https://colab.research.google.com/github/Swapn2/Data-Science-Learnings/blob/main/voting_regressor.ipynb\" target=\"_parent\"><img src=\"https://colab.research.google.com/assets/colab-badge.svg\" alt=\"Open In Colab\"/></a>"
      ]
    },
    {
      "cell_type": "code",
      "execution_count": 1,
      "id": "f5a13fb6-7468-444a-8c60-072ba0ab2f3b",
      "metadata": {
        "colab": {
          "base_uri": "https://localhost:8080/"
        },
        "id": "f5a13fb6-7468-444a-8c60-072ba0ab2f3b",
        "outputId": "6d83312b-85d0-475e-a8e7-32ad8be7f0a0"
      },
      "outputs": [
        {
          "output_type": "stream",
          "name": "stdout",
          "text": [
            "(20640, 8)\n",
            "(20640,)\n"
          ]
        }
      ],
      "source": [
        "import os\n",
        "import tempfile\n",
        "from sklearn.datasets import fetch_california_housing\n",
        "import numpy as np\n",
        "\n",
        "# Use a temporary directory for data storage\n",
        "with tempfile.TemporaryDirectory() as tmpdirname:\n",
        "    os.environ['SCIKIT_LEARN_DATA'] = tmpdirname\n",
        "    housing = fetch_california_housing()\n",
        "    print(housing.data.shape)\n",
        "    print(housing.target.shape)\n",
        "\n",
        "x=housing.data\n",
        "y=housing.target\n"
      ]
    },
    {
      "cell_type": "code",
      "execution_count": 2,
      "id": "0299af5a-c07c-47d3-9c63-002424f14ff4",
      "metadata": {
        "id": "0299af5a-c07c-47d3-9c63-002424f14ff4"
      },
      "outputs": [],
      "source": [
        "from sklearn.linear_model import LinearRegression\n",
        "from sklearn.tree import DecisionTreeRegressor\n",
        "from sklearn.svm import SVR\n",
        "from sklearn.model_selection import cross_val_score"
      ]
    },
    {
      "cell_type": "code",
      "execution_count": 3,
      "id": "2adc4f65-d289-43ef-9921-964dc182b053",
      "metadata": {
        "id": "2adc4f65-d289-43ef-9921-964dc182b053"
      },
      "outputs": [],
      "source": [
        "lr = LinearRegression()\n",
        "dt = DecisionTreeRegressor()\n",
        "svr = SVR()"
      ]
    },
    {
      "cell_type": "code",
      "execution_count": 4,
      "id": "bce850ac-1057-40f9-93d4-c1a128ce63e6",
      "metadata": {
        "id": "bce850ac-1057-40f9-93d4-c1a128ce63e6"
      },
      "outputs": [],
      "source": [
        "estimators = [('lr',lr),('dt',dt),('svr',svr)]"
      ]
    },
    {
      "cell_type": "code",
      "execution_count": null,
      "id": "6dd10bd7-491a-4d7b-8b1e-378cd297ca6e",
      "metadata": {
        "colab": {
          "base_uri": "https://localhost:8080/"
        },
        "id": "6dd10bd7-491a-4d7b-8b1e-378cd297ca6e",
        "outputId": "a5c76210-5b00-4408-b7c2-922cf8ae0542"
      },
      "outputs": [
        {
          "output_type": "stream",
          "name": "stdout",
          "text": [
            "lr 0.51\n",
            "dt 0.23\n"
          ]
        }
      ],
      "source": [
        "for estimator in estimators:\n",
        "    scores=cross_val_score(estimator[1],x,y,scoring='r2',cv=10)\n",
        "    print(estimator[0],np.round(np.mean(scores),2))"
      ]
    },
    {
      "cell_type": "code",
      "execution_count": null,
      "id": "5690173d-9717-4327-a941-23827fe314b0",
      "metadata": {
        "id": "5690173d-9717-4327-a941-23827fe314b0"
      },
      "outputs": [],
      "source": [
        "from sklearn.ensemble import VotingRegressor"
      ]
    },
    {
      "cell_type": "code",
      "execution_count": null,
      "id": "59e53bd6-7fbb-4de1-9278-54e22c28d205",
      "metadata": {
        "id": "59e53bd6-7fbb-4de1-9278-54e22c28d205"
      },
      "outputs": [],
      "source": [
        "vr=VotingRegressor(estimators)\n",
        "scores=cross_val_score(vr,x,y,scoring='r2',cv=10)\n",
        "print(\"voting regressor\",np.round(np.mean(scores),2))"
      ]
    },
    {
      "cell_type": "code",
      "execution_count": null,
      "id": "472d93cc-5ed3-4127-ad6d-596a57b4ef39",
      "metadata": {
        "id": "472d93cc-5ed3-4127-ad6d-596a57b4ef39"
      },
      "outputs": [],
      "source": [
        "for i in range(1,4):\n",
        "    for j in range(1,4):\n",
        "        for k in range(1,4):\n",
        "            vr=VotingRegressor(estimators,weights=[i,j,k])\n",
        "            scores=cross_val_score(vr,x,y,scoring='r2',cv=10)\n",
        "            print(\"for i={},j={},k={}\".format(i,j,k),np.round(np.mean(scores),2))"
      ]
    },
    {
      "cell_type": "code",
      "execution_count": null,
      "id": "5a908518-fa35-473f-9729-6032e0b41cf5",
      "metadata": {
        "id": "5a908518-fa35-473f-9729-6032e0b41cf5"
      },
      "outputs": [],
      "source": [
        "# using the same algorithm\n",
        "dt1=DecisionTreeRegressor(max_depth=1)\n",
        "dt2=DecisionTreeRegressor(max_depth=3)\n",
        "dt3=DecisionTreeRegressor(max_depth=5)\n",
        "dt4=DecisionTreeRegressor(max_depth=7)\n",
        "dt5=DecisionTreeRegressor(max_depth=None)"
      ]
    },
    {
      "cell_type": "code",
      "execution_count": null,
      "id": "d6ed8848-b486-4139-89aa-1e0992885c97",
      "metadata": {
        "id": "d6ed8848-b486-4139-89aa-1e0992885c97"
      },
      "outputs": [],
      "source": [
        "estimators=[('dt1',dt1),('dt2',dt2),('dt3',dt3),('dt4',dt4),('dt5',dt5)]"
      ]
    },
    {
      "cell_type": "code",
      "execution_count": null,
      "id": "71e4694b-7c5a-4753-b071-0485161f55e9",
      "metadata": {
        "id": "71e4694b-7c5a-4753-b071-0485161f55e9"
      },
      "outputs": [],
      "source": [
        "for estimator in estimators:\n",
        "    scores=cross_val_score(estimator[1],x,y,scoring='r2',cv=10)\n",
        "    print(estimator[0],np.round(np.mean(scores),2))"
      ]
    },
    {
      "cell_type": "code",
      "execution_count": null,
      "id": "fbb97db2-99fe-4a3e-96b3-f7e1403558c2",
      "metadata": {
        "id": "fbb97db2-99fe-4a3e-96b3-f7e1403558c2"
      },
      "outputs": [],
      "source": [
        "vr=VotingRegressor(estimators)\n",
        "scores=cross_val_score(vr,x,y,scoring='r2',cv=10)\n",
        "print(\"voting regressor\",np.round(np.mean(scores),2))"
      ]
    },
    {
      "cell_type": "code",
      "execution_count": null,
      "id": "4c0d1de1-3153-40ed-bd95-df0555ec0e92",
      "metadata": {
        "id": "4c0d1de1-3153-40ed-bd95-df0555ec0e92"
      },
      "outputs": [],
      "source": []
    }
  ],
  "metadata": {
    "kernelspec": {
      "display_name": "Python 3 (ipykernel)",
      "language": "python",
      "name": "python3"
    },
    "language_info": {
      "codemirror_mode": {
        "name": "ipython",
        "version": 3
      },
      "file_extension": ".py",
      "mimetype": "text/x-python",
      "name": "python",
      "nbconvert_exporter": "python",
      "pygments_lexer": "ipython3",
      "version": "3.9.19"
    },
    "colab": {
      "provenance": [],
      "include_colab_link": true
    }
  },
  "nbformat": 4,
  "nbformat_minor": 5
}