{
  "nbformat": 4,
  "nbformat_minor": 0,
  "metadata": {
    "colab": {
      "provenance": [],
      "cell_execution_strategy": "setup",
      "authorship_tag": "ABX9TyPV/CNkbK7CsI/wK67MvU+1",
      "include_colab_link": true
    },
    "kernelspec": {
      "name": "python3",
      "display_name": "Python 3"
    },
    "language_info": {
      "name": "python"
    }
  },
  "cells": [
    {
      "cell_type": "markdown",
      "metadata": {
        "id": "view-in-github",
        "colab_type": "text"
      },
      "source": [
        "<a href=\"https://colab.research.google.com/github/Swapn2/Data-Science-Learnings/blob/main/date_and_time_in_pandas.ipynb\" target=\"_parent\"><img src=\"https://colab.research.google.com/assets/colab-badge.svg\" alt=\"Open In Colab\"/></a>"
      ]
    },
    {
      "cell_type": "code",
      "execution_count": 1,
      "metadata": {
        "id": "6EFu5ZzEbT05"
      },
      "outputs": [],
      "source": [
        "import numpy as np\n",
        "import pandas as pd"
      ]
    },
    {
      "cell_type": "code",
      "source": [
        "# creating a time stamp\n",
        "pd.Timestamp('2023/01/05/')"
      ],
      "metadata": {
        "colab": {
          "base_uri": "https://localhost:8080/"
        },
        "id": "SxE5BWGbbmFR",
        "outputId": "30d66ae1-f113-4001-f587-6fff8eb1518a"
      },
      "execution_count": 2,
      "outputs": [
        {
          "output_type": "execute_result",
          "data": {
            "text/plain": [
              "Timestamp('2023-01-05 00:00:00')"
            ]
          },
          "metadata": {},
          "execution_count": 2
        }
      ]
    },
    {
      "cell_type": "code",
      "source": [
        "pd.Timestamp('2025,05,12')"
      ],
      "metadata": {
        "colab": {
          "base_uri": "https://localhost:8080/"
        },
        "id": "mtFSUXFqcIl2",
        "outputId": "c932bbe6-fc94-4d0e-89ea-f02956e9c059"
      },
      "execution_count": 8,
      "outputs": [
        {
          "output_type": "execute_result",
          "data": {
            "text/plain": [
              "Timestamp('2025-12-01 00:00:00')"
            ]
          },
          "metadata": {},
          "execution_count": 8
        }
      ]
    },
    {
      "cell_type": "code",
      "source": [
        "pd.Timestamp('2025')"
      ],
      "metadata": {
        "colab": {
          "base_uri": "https://localhost:8080/"
        },
        "id": "_UfV70F6ckh7",
        "outputId": "830d858f-34b9-4859-fb9a-67e872476ed8"
      },
      "execution_count": 5,
      "outputs": [
        {
          "output_type": "execute_result",
          "data": {
            "text/plain": [
              "Timestamp('2025-01-01 00:00:00')"
            ]
          },
          "metadata": {},
          "execution_count": 5
        }
      ]
    },
    {
      "cell_type": "code",
      "source": [
        "pd.Timestamp('13th may 2025')"
      ],
      "metadata": {
        "colab": {
          "base_uri": "https://localhost:8080/"
        },
        "id": "e6DVScqicxqn",
        "outputId": "59ec95c6-c651-4254-b536-0879f775f5b6"
      },
      "execution_count": 6,
      "outputs": [
        {
          "output_type": "execute_result",
          "data": {
            "text/plain": [
              "Timestamp('2025-05-13 00:00:00')"
            ]
          },
          "metadata": {},
          "execution_count": 6
        }
      ]
    },
    {
      "cell_type": "code",
      "source": [
        "pd.Timestamp('13th may 2025 9:21pm')"
      ],
      "metadata": {
        "colab": {
          "base_uri": "https://localhost:8080/"
        },
        "id": "yF0MmXhZc21j",
        "outputId": "f40c7df6-84b4-4f48-c1e5-b7bf7bf2d877"
      },
      "execution_count": 9,
      "outputs": [
        {
          "output_type": "execute_result",
          "data": {
            "text/plain": [
              "Timestamp('2025-05-13 21:21:00')"
            ]
          },
          "metadata": {},
          "execution_count": 9
        }
      ]
    },
    {
      "cell_type": "code",
      "source": [
        "import datetime as dt\n",
        "dt.datetime(2025,5,13,17,32)"
      ],
      "metadata": {
        "colab": {
          "base_uri": "https://localhost:8080/"
        },
        "id": "JHv3d1HJhCqr",
        "outputId": "481e022f-17a5-411a-f46e-405bc6c63d8a"
      },
      "execution_count": 15,
      "outputs": [
        {
          "output_type": "execute_result",
          "data": {
            "text/plain": [
              "datetime.datetime(2025, 5, 13, 17, 32)"
            ]
          },
          "metadata": {},
          "execution_count": 15
        }
      ]
    },
    {
      "cell_type": "code",
      "source": [
        "x = pd.Timestamp(dt.datetime(2025,5,13,17,32,56))"
      ],
      "metadata": {
        "id": "_2YIYoWhhUu6"
      },
      "execution_count": 20,
      "outputs": []
    },
    {
      "cell_type": "code",
      "source": [
        "x.year\n",
        "x.month\n",
        "x.day\n",
        "x.hour\n",
        "x.minute\n",
        "x.second"
      ],
      "metadata": {
        "colab": {
          "base_uri": "https://localhost:8080/"
        },
        "id": "8dMGZAewh2qB",
        "outputId": "ef3bcb6e-bfd6-4e3c-cb47-8bcfe0c7a77e"
      },
      "execution_count": 21,
      "outputs": [
        {
          "output_type": "execute_result",
          "data": {
            "text/plain": [
              "56"
            ]
          },
          "metadata": {},
          "execution_count": 21
        }
      ]
    },
    {
      "cell_type": "markdown",
      "source": [
        "- syntax wise datetime is very convenient\n",
        "- But the performance takes a hit while working with huge data. List vs Numpy Array\n",
        "- The weaknesses of Python's datetime format inspired the NumPy team to add a set of native time series data type to NumPy.\n",
        "- The datetime64 dtype encodes dates as 64-bit integers, and thus allows arrays of dates to be represented very compactly."
      ],
      "metadata": {
        "id": "M1nQ16UzjRfI"
      }
    },
    {
      "cell_type": "code",
      "source": [
        "date = np.array('2025-05-13', dtype = np.datetime64)\n",
        "date"
      ],
      "metadata": {
        "colab": {
          "base_uri": "https://localhost:8080/"
        },
        "id": "FQJkrmxKiWua",
        "outputId": "720d5d00-112e-43bf-c4d4-9156000d3086"
      },
      "execution_count": 22,
      "outputs": [
        {
          "output_type": "execute_result",
          "data": {
            "text/plain": [
              "array('2025-05-13', dtype='datetime64[D]')"
            ]
          },
          "metadata": {},
          "execution_count": 22
        }
      ]
    },
    {
      "cell_type": "code",
      "source": [
        "date + np.arange(12)"
      ],
      "metadata": {
        "colab": {
          "base_uri": "https://localhost:8080/"
        },
        "id": "vvMNUkj5kBxm",
        "outputId": "b5553a65-249e-45dd-ebe1-3abdfd768fcc"
      },
      "execution_count": 23,
      "outputs": [
        {
          "output_type": "execute_result",
          "data": {
            "text/plain": [
              "array(['2025-05-13', '2025-05-14', '2025-05-15', '2025-05-16',\n",
              "       '2025-05-17', '2025-05-18', '2025-05-19', '2025-05-20',\n",
              "       '2025-05-21', '2025-05-22', '2025-05-23', '2025-05-24'],\n",
              "      dtype='datetime64[D]')"
            ]
          },
          "metadata": {},
          "execution_count": 23
        }
      ]
    },
    {
      "cell_type": "markdown",
      "source": [
        "- Because of the uniform type in NumPy datetime64 arrays, this type of operation can be accomplished much more quickly than if we were working directly with Python's datetime objects, especially as arrays get large\n",
        "\n",
        "- Pandas Timestamp object combines the ease-of-use of python datetime with the efficient storage and vectorized interface of numpy.datetime64\n",
        "\n",
        "- From a group of these Timestamp objects, Pandas can construct a DatetimeIndex that can be used to index data in a Series or DataFrame"
      ],
      "metadata": {
        "id": "Is7BAU4tkIN_"
      }
    },
    {
      "cell_type": "code",
      "source": [
        "# datetime index\n",
        "dt_index = pd.DatetimeIndex(['2025/05/13','2025/05/14','2025/05/15','2025/05/16'])"
      ],
      "metadata": {
        "id": "qnLrDXTukElj"
      },
      "execution_count": 25,
      "outputs": []
    },
    {
      "cell_type": "code",
      "source": [
        "dt_index"
      ],
      "metadata": {
        "colab": {
          "base_uri": "https://localhost:8080/"
        },
        "id": "Zn6ks9zKki6O",
        "outputId": "f2468bb1-5c83-458b-d8a3-3904068a5acb"
      },
      "execution_count": 26,
      "outputs": [
        {
          "output_type": "execute_result",
          "data": {
            "text/plain": [
              "DatetimeIndex(['2025-05-13', '2025-05-14', '2025-05-15', '2025-05-16'], dtype='datetime64[ns]', freq=None)"
            ]
          },
          "metadata": {},
          "execution_count": 26
        }
      ]
    },
    {
      "cell_type": "code",
      "source": [
        "pd.Series([1,2,3,4], index = dt_index)"
      ],
      "metadata": {
        "colab": {
          "base_uri": "https://localhost:8080/",
          "height": 209
        },
        "id": "UHU_LzVElmlh",
        "outputId": "0caaa900-016b-40f1-de44-23ddb5f53ef0"
      },
      "execution_count": 27,
      "outputs": [
        {
          "output_type": "execute_result",
          "data": {
            "text/plain": [
              "2025-05-13    1\n",
              "2025-05-14    2\n",
              "2025-05-15    3\n",
              "2025-05-16    4\n",
              "dtype: int64"
            ],
            "text/html": [
              "<div>\n",
              "<style scoped>\n",
              "    .dataframe tbody tr th:only-of-type {\n",
              "        vertical-align: middle;\n",
              "    }\n",
              "\n",
              "    .dataframe tbody tr th {\n",
              "        vertical-align: top;\n",
              "    }\n",
              "\n",
              "    .dataframe thead th {\n",
              "        text-align: right;\n",
              "    }\n",
              "</style>\n",
              "<table border=\"1\" class=\"dataframe\">\n",
              "  <thead>\n",
              "    <tr style=\"text-align: right;\">\n",
              "      <th></th>\n",
              "      <th>0</th>\n",
              "    </tr>\n",
              "  </thead>\n",
              "  <tbody>\n",
              "    <tr>\n",
              "      <th>2025-05-13</th>\n",
              "      <td>1</td>\n",
              "    </tr>\n",
              "    <tr>\n",
              "      <th>2025-05-14</th>\n",
              "      <td>2</td>\n",
              "    </tr>\n",
              "    <tr>\n",
              "      <th>2025-05-15</th>\n",
              "      <td>3</td>\n",
              "    </tr>\n",
              "    <tr>\n",
              "      <th>2025-05-16</th>\n",
              "      <td>4</td>\n",
              "    </tr>\n",
              "  </tbody>\n",
              "</table>\n",
              "</div><br><label><b>dtype:</b> int64</label>"
            ]
          },
          "metadata": {},
          "execution_count": 27
        }
      ]
    },
    {
      "cell_type": "code",
      "source": [
        "# genrates daily date in the given range\n",
        "pd.date_range(start = '2025/05/13',end = '2025/05/31',freq=\"D\")"
      ],
      "metadata": {
        "colab": {
          "base_uri": "https://localhost:8080/"
        },
        "id": "Xq_uy7W6lsTh",
        "outputId": "f1715f8c-8081-48bd-dbef-f3f5f259e53f"
      },
      "execution_count": 28,
      "outputs": [
        {
          "output_type": "execute_result",
          "data": {
            "text/plain": [
              "DatetimeIndex(['2025-05-13', '2025-05-14', '2025-05-15', '2025-05-16',\n",
              "               '2025-05-17', '2025-05-18', '2025-05-19', '2025-05-20',\n",
              "               '2025-05-21', '2025-05-22', '2025-05-23', '2025-05-24',\n",
              "               '2025-05-25', '2025-05-26', '2025-05-27', '2025-05-28',\n",
              "               '2025-05-29', '2025-05-30', '2025-05-31'],\n",
              "              dtype='datetime64[ns]', freq='D')"
            ]
          },
          "metadata": {},
          "execution_count": 28
        }
      ]
    },
    {
      "cell_type": "code",
      "source": [
        "# genrates daily date in the given range\n",
        "pd.date_range(start = '2025/05/13',end = '2025/05/31',freq=\"3D\")"
      ],
      "metadata": {
        "colab": {
          "base_uri": "https://localhost:8080/"
        },
        "id": "kMbn8JXBmII9",
        "outputId": "6628f3bd-247e-4721-a75a-e51dd00ea2a5"
      },
      "execution_count": 29,
      "outputs": [
        {
          "output_type": "execute_result",
          "data": {
            "text/plain": [
              "DatetimeIndex(['2025-05-13', '2025-05-16', '2025-05-19', '2025-05-22',\n",
              "               '2025-05-25', '2025-05-28', '2025-05-31'],\n",
              "              dtype='datetime64[ns]', freq='3D')"
            ]
          },
          "metadata": {},
          "execution_count": 29
        }
      ]
    },
    {
      "cell_type": "code",
      "source": [
        "# B -> bussiness days\n",
        "# genrates daily date in the given range\n",
        "pd.date_range(start = '2025/05/13',end = '2025/05/31',freq=\"B\")"
      ],
      "metadata": {
        "colab": {
          "base_uri": "https://localhost:8080/"
        },
        "id": "k9s5_LBnmfXG",
        "outputId": "1dcb7a6f-5a32-4945-b550-d3eee4dfa8fb"
      },
      "execution_count": 30,
      "outputs": [
        {
          "output_type": "execute_result",
          "data": {
            "text/plain": [
              "DatetimeIndex(['2025-05-13', '2025-05-14', '2025-05-15', '2025-05-16',\n",
              "               '2025-05-19', '2025-05-20', '2025-05-21', '2025-05-22',\n",
              "               '2025-05-23', '2025-05-26', '2025-05-27', '2025-05-28',\n",
              "               '2025-05-29', '2025-05-30'],\n",
              "              dtype='datetime64[ns]', freq='B')"
            ]
          },
          "metadata": {},
          "execution_count": 30
        }
      ]
    },
    {
      "cell_type": "code",
      "source": [
        "# W-> one week perday\n",
        "# genrates daily date in the given range\n",
        "pd.date_range(start = '2025/05/13',end = '2025/05/31',freq=\"W\")"
      ],
      "metadata": {
        "colab": {
          "base_uri": "https://localhost:8080/"
        },
        "id": "p4eIQjm7mt6u",
        "outputId": "949c0bf8-9e8c-4381-fc45-b9c2a336ed5c"
      },
      "execution_count": 31,
      "outputs": [
        {
          "output_type": "execute_result",
          "data": {
            "text/plain": [
              "DatetimeIndex(['2025-05-18', '2025-05-25'], dtype='datetime64[ns]', freq='W-SUN')"
            ]
          },
          "metadata": {},
          "execution_count": 31
        }
      ]
    },
    {
      "cell_type": "code",
      "source": [
        "# genrates daily date in the given range\n",
        "pd.date_range(start = '2025/05/13',end = '2025/05/31',freq=\"W-thu\")"
      ],
      "metadata": {
        "colab": {
          "base_uri": "https://localhost:8080/"
        },
        "id": "vpUeWXZknBDC",
        "outputId": "c97f225a-9904-46f2-ae83-79c8843dac93"
      },
      "execution_count": 32,
      "outputs": [
        {
          "output_type": "execute_result",
          "data": {
            "text/plain": [
              "DatetimeIndex(['2025-05-15', '2025-05-22', '2025-05-29'], dtype='datetime64[ns]', freq='W-THU')"
            ]
          },
          "metadata": {},
          "execution_count": 32
        }
      ]
    },
    {
      "cell_type": "code",
      "source": [
        "# H -> hourly time stamp\n",
        "# genrates daily date in the given range\n",
        "pd.date_range(start = '2025/05/13',end = '2025/05/31',freq=\"H\")"
      ],
      "metadata": {
        "colab": {
          "base_uri": "https://localhost:8080/"
        },
        "id": "LK6yvVVYnFSw",
        "outputId": "acb67b60-00f8-455f-c1e8-cb7a86166746"
      },
      "execution_count": 33,
      "outputs": [
        {
          "output_type": "stream",
          "name": "stderr",
          "text": [
            "<ipython-input-33-946764d64160>:3: FutureWarning: 'H' is deprecated and will be removed in a future version, please use 'h' instead.\n",
            "  pd.date_range(start = '2025/05/13',end = '2025/05/31',freq=\"H\")\n"
          ]
        },
        {
          "output_type": "execute_result",
          "data": {
            "text/plain": [
              "DatetimeIndex(['2025-05-13 00:00:00', '2025-05-13 01:00:00',\n",
              "               '2025-05-13 02:00:00', '2025-05-13 03:00:00',\n",
              "               '2025-05-13 04:00:00', '2025-05-13 05:00:00',\n",
              "               '2025-05-13 06:00:00', '2025-05-13 07:00:00',\n",
              "               '2025-05-13 08:00:00', '2025-05-13 09:00:00',\n",
              "               ...\n",
              "               '2025-05-30 15:00:00', '2025-05-30 16:00:00',\n",
              "               '2025-05-30 17:00:00', '2025-05-30 18:00:00',\n",
              "               '2025-05-30 19:00:00', '2025-05-30 20:00:00',\n",
              "               '2025-05-30 21:00:00', '2025-05-30 22:00:00',\n",
              "               '2025-05-30 23:00:00', '2025-05-31 00:00:00'],\n",
              "              dtype='datetime64[ns]', length=433, freq='h')"
            ]
          },
          "metadata": {},
          "execution_count": 33
        }
      ]
    },
    {
      "cell_type": "code",
      "source": [
        "# genrates daily date in the given range\n",
        "pd.date_range(start = '2025/05/13',end = '2025/05/31',freq=\"6H\")"
      ],
      "metadata": {
        "colab": {
          "base_uri": "https://localhost:8080/"
        },
        "id": "EvQYvFAxnM7h",
        "outputId": "80c6af18-906b-4f85-cecc-a0a8fde42e9d"
      },
      "execution_count": 34,
      "outputs": [
        {
          "output_type": "stream",
          "name": "stderr",
          "text": [
            "<ipython-input-34-625ea55a75db>:2: FutureWarning: 'H' is deprecated and will be removed in a future version, please use 'h' instead.\n",
            "  pd.date_range(start = '2025/05/13',end = '2025/05/31',freq=\"6H\")\n"
          ]
        },
        {
          "output_type": "execute_result",
          "data": {
            "text/plain": [
              "DatetimeIndex(['2025-05-13 00:00:00', '2025-05-13 06:00:00',\n",
              "               '2025-05-13 12:00:00', '2025-05-13 18:00:00',\n",
              "               '2025-05-14 00:00:00', '2025-05-14 06:00:00',\n",
              "               '2025-05-14 12:00:00', '2025-05-14 18:00:00',\n",
              "               '2025-05-15 00:00:00', '2025-05-15 06:00:00',\n",
              "               '2025-05-15 12:00:00', '2025-05-15 18:00:00',\n",
              "               '2025-05-16 00:00:00', '2025-05-16 06:00:00',\n",
              "               '2025-05-16 12:00:00', '2025-05-16 18:00:00',\n",
              "               '2025-05-17 00:00:00', '2025-05-17 06:00:00',\n",
              "               '2025-05-17 12:00:00', '2025-05-17 18:00:00',\n",
              "               '2025-05-18 00:00:00', '2025-05-18 06:00:00',\n",
              "               '2025-05-18 12:00:00', '2025-05-18 18:00:00',\n",
              "               '2025-05-19 00:00:00', '2025-05-19 06:00:00',\n",
              "               '2025-05-19 12:00:00', '2025-05-19 18:00:00',\n",
              "               '2025-05-20 00:00:00', '2025-05-20 06:00:00',\n",
              "               '2025-05-20 12:00:00', '2025-05-20 18:00:00',\n",
              "               '2025-05-21 00:00:00', '2025-05-21 06:00:00',\n",
              "               '2025-05-21 12:00:00', '2025-05-21 18:00:00',\n",
              "               '2025-05-22 00:00:00', '2025-05-22 06:00:00',\n",
              "               '2025-05-22 12:00:00', '2025-05-22 18:00:00',\n",
              "               '2025-05-23 00:00:00', '2025-05-23 06:00:00',\n",
              "               '2025-05-23 12:00:00', '2025-05-23 18:00:00',\n",
              "               '2025-05-24 00:00:00', '2025-05-24 06:00:00',\n",
              "               '2025-05-24 12:00:00', '2025-05-24 18:00:00',\n",
              "               '2025-05-25 00:00:00', '2025-05-25 06:00:00',\n",
              "               '2025-05-25 12:00:00', '2025-05-25 18:00:00',\n",
              "               '2025-05-26 00:00:00', '2025-05-26 06:00:00',\n",
              "               '2025-05-26 12:00:00', '2025-05-26 18:00:00',\n",
              "               '2025-05-27 00:00:00', '2025-05-27 06:00:00',\n",
              "               '2025-05-27 12:00:00', '2025-05-27 18:00:00',\n",
              "               '2025-05-28 00:00:00', '2025-05-28 06:00:00',\n",
              "               '2025-05-28 12:00:00', '2025-05-28 18:00:00',\n",
              "               '2025-05-29 00:00:00', '2025-05-29 06:00:00',\n",
              "               '2025-05-29 12:00:00', '2025-05-29 18:00:00',\n",
              "               '2025-05-30 00:00:00', '2025-05-30 06:00:00',\n",
              "               '2025-05-30 12:00:00', '2025-05-30 18:00:00',\n",
              "               '2025-05-31 00:00:00'],\n",
              "              dtype='datetime64[ns]', freq='6h')"
            ]
          },
          "metadata": {},
          "execution_count": 34
        }
      ]
    },
    {
      "cell_type": "code",
      "source": [
        "# M -> month end\n",
        "# genrates daily date in the given range\n",
        "pd.date_range(start = '2025/05/13',end = '2025/06/30',freq=\"M\")"
      ],
      "metadata": {
        "colab": {
          "base_uri": "https://localhost:8080/"
        },
        "id": "MJAxqaPxnYr-",
        "outputId": "3b14046c-700d-44d1-e945-b8adf77e9268"
      },
      "execution_count": 36,
      "outputs": [
        {
          "output_type": "stream",
          "name": "stderr",
          "text": [
            "<ipython-input-36-4f94db6dab3f>:3: FutureWarning: 'M' is deprecated and will be removed in a future version, please use 'ME' instead.\n",
            "  pd.date_range(start = '2025/05/13',end = '2025/06/30',freq=\"M\")\n"
          ]
        },
        {
          "output_type": "execute_result",
          "data": {
            "text/plain": [
              "DatetimeIndex(['2025-05-31', '2025-06-30'], dtype='datetime64[ns]', freq='ME')"
            ]
          },
          "metadata": {},
          "execution_count": 36
        }
      ]
    },
    {
      "cell_type": "code",
      "source": [
        "# MS -> month start\n",
        "# genrates daily date in the given range\n",
        "pd.date_range(start = '2025/05/13',end = '2025/05/31',freq=\"MS\")"
      ],
      "metadata": {
        "colab": {
          "base_uri": "https://localhost:8080/"
        },
        "id": "tNObtvHgnhkg",
        "outputId": "32e4fb62-4fe1-419d-f3f0-fcd0af8b857d"
      },
      "execution_count": 37,
      "outputs": [
        {
          "output_type": "execute_result",
          "data": {
            "text/plain": [
              "DatetimeIndex([], dtype='datetime64[ns]', freq='MS')"
            ]
          },
          "metadata": {},
          "execution_count": 37
        }
      ]
    },
    {
      "cell_type": "code",
      "source": [
        "# a -> year end\n",
        "# genrates daily date in the given range\n",
        "pd.date_range(start = '2025/05/13',end = '2027/05/31',freq=\"A\")"
      ],
      "metadata": {
        "colab": {
          "base_uri": "https://localhost:8080/"
        },
        "id": "_6VWe2HfnwAX",
        "outputId": "1a0a79b1-16c0-4b6a-ecbd-0dd80e8892e6"
      },
      "execution_count": 38,
      "outputs": [
        {
          "output_type": "stream",
          "name": "stderr",
          "text": [
            "<ipython-input-38-df7a6269646e>:3: FutureWarning: 'A' is deprecated and will be removed in a future version, please use 'YE' instead.\n",
            "  pd.date_range(start = '2025/05/13',end = '2027/05/31',freq=\"A\")\n"
          ]
        },
        {
          "output_type": "execute_result",
          "data": {
            "text/plain": [
              "DatetimeIndex(['2025-12-31', '2026-12-31'], dtype='datetime64[ns]', freq='YE-DEC')"
            ]
          },
          "metadata": {},
          "execution_count": 38
        }
      ]
    },
    {
      "cell_type": "code",
      "source": [
        "# genrates daily date in the given range\n",
        "pd.date_range(start = '2025/05/13',periods = 25,freq=\"D\")"
      ],
      "metadata": {
        "colab": {
          "base_uri": "https://localhost:8080/"
        },
        "id": "JTSW8o2Dn52l",
        "outputId": "299b90b6-d3c5-402c-e22e-a61da28ca805"
      },
      "execution_count": 39,
      "outputs": [
        {
          "output_type": "execute_result",
          "data": {
            "text/plain": [
              "DatetimeIndex(['2025-05-13', '2025-05-14', '2025-05-15', '2025-05-16',\n",
              "               '2025-05-17', '2025-05-18', '2025-05-19', '2025-05-20',\n",
              "               '2025-05-21', '2025-05-22', '2025-05-23', '2025-05-24',\n",
              "               '2025-05-25', '2025-05-26', '2025-05-27', '2025-05-28',\n",
              "               '2025-05-29', '2025-05-30', '2025-05-31', '2025-06-01',\n",
              "               '2025-06-02', '2025-06-03', '2025-06-04', '2025-06-05',\n",
              "               '2025-06-06'],\n",
              "              dtype='datetime64[ns]', freq='D')"
            ]
          },
          "metadata": {},
          "execution_count": 39
        }
      ]
    },
    {
      "cell_type": "code",
      "source": [
        "# genrates daily date in the given range\n",
        "pd.date_range(start = '2025/05/13',periods = 25,freq=\"H\")"
      ],
      "metadata": {
        "colab": {
          "base_uri": "https://localhost:8080/"
        },
        "id": "21NEqRPUoJid",
        "outputId": "01d22844-ea6d-41e6-f45f-ce1e03370ade"
      },
      "execution_count": 40,
      "outputs": [
        {
          "output_type": "stream",
          "name": "stderr",
          "text": [
            "<ipython-input-40-3f6a94e3c5a3>:2: FutureWarning: 'H' is deprecated and will be removed in a future version, please use 'h' instead.\n",
            "  pd.date_range(start = '2025/05/13',periods = 25,freq=\"H\")\n"
          ]
        },
        {
          "output_type": "execute_result",
          "data": {
            "text/plain": [
              "DatetimeIndex(['2025-05-13 00:00:00', '2025-05-13 01:00:00',\n",
              "               '2025-05-13 02:00:00', '2025-05-13 03:00:00',\n",
              "               '2025-05-13 04:00:00', '2025-05-13 05:00:00',\n",
              "               '2025-05-13 06:00:00', '2025-05-13 07:00:00',\n",
              "               '2025-05-13 08:00:00', '2025-05-13 09:00:00',\n",
              "               '2025-05-13 10:00:00', '2025-05-13 11:00:00',\n",
              "               '2025-05-13 12:00:00', '2025-05-13 13:00:00',\n",
              "               '2025-05-13 14:00:00', '2025-05-13 15:00:00',\n",
              "               '2025-05-13 16:00:00', '2025-05-13 17:00:00',\n",
              "               '2025-05-13 18:00:00', '2025-05-13 19:00:00',\n",
              "               '2025-05-13 20:00:00', '2025-05-13 21:00:00',\n",
              "               '2025-05-13 22:00:00', '2025-05-13 23:00:00',\n",
              "               '2025-05-14 00:00:00'],\n",
              "              dtype='datetime64[ns]', freq='h')"
            ]
          },
          "metadata": {},
          "execution_count": 40
        }
      ]
    },
    {
      "cell_type": "code",
      "source": [
        "# genrates daily date in the given range\n",
        "pd.date_range(start = '2025/05/13',periods = 25,freq=\"A\")"
      ],
      "metadata": {
        "colab": {
          "base_uri": "https://localhost:8080/"
        },
        "id": "LEF1qrfGoLdg",
        "outputId": "7e66f090-7f41-4008-9c1c-0c035f6ae60d"
      },
      "execution_count": 41,
      "outputs": [
        {
          "output_type": "stream",
          "name": "stderr",
          "text": [
            "<ipython-input-41-ed6b3e1e0ba8>:2: FutureWarning: 'A' is deprecated and will be removed in a future version, please use 'YE' instead.\n",
            "  pd.date_range(start = '2025/05/13',periods = 25,freq=\"A\")\n"
          ]
        },
        {
          "output_type": "execute_result",
          "data": {
            "text/plain": [
              "DatetimeIndex(['2025-12-31', '2026-12-31', '2027-12-31', '2028-12-31',\n",
              "               '2029-12-31', '2030-12-31', '2031-12-31', '2032-12-31',\n",
              "               '2033-12-31', '2034-12-31', '2035-12-31', '2036-12-31',\n",
              "               '2037-12-31', '2038-12-31', '2039-12-31', '2040-12-31',\n",
              "               '2041-12-31', '2042-12-31', '2043-12-31', '2044-12-31',\n",
              "               '2045-12-31', '2046-12-31', '2047-12-31', '2048-12-31',\n",
              "               '2049-12-31'],\n",
              "              dtype='datetime64[ns]', freq='YE-DEC')"
            ]
          },
          "metadata": {},
          "execution_count": 41
        }
      ]
    },
    {
      "cell_type": "code",
      "source": [
        "# genrates daily date in the given range\n",
        "pd.date_range(start = '2025/05/13',periods = 25,freq=\"6H\")"
      ],
      "metadata": {
        "colab": {
          "base_uri": "https://localhost:8080/"
        },
        "id": "mZlAX47boNiw",
        "outputId": "4901530f-75e9-4056-c907-164fd8db5bc2"
      },
      "execution_count": 42,
      "outputs": [
        {
          "output_type": "stream",
          "name": "stderr",
          "text": [
            "<ipython-input-42-45f0d2fed98b>:2: FutureWarning: 'H' is deprecated and will be removed in a future version, please use 'h' instead.\n",
            "  pd.date_range(start = '2025/05/13',periods = 25,freq=\"6H\")\n"
          ]
        },
        {
          "output_type": "execute_result",
          "data": {
            "text/plain": [
              "DatetimeIndex(['2025-05-13 00:00:00', '2025-05-13 06:00:00',\n",
              "               '2025-05-13 12:00:00', '2025-05-13 18:00:00',\n",
              "               '2025-05-14 00:00:00', '2025-05-14 06:00:00',\n",
              "               '2025-05-14 12:00:00', '2025-05-14 18:00:00',\n",
              "               '2025-05-15 00:00:00', '2025-05-15 06:00:00',\n",
              "               '2025-05-15 12:00:00', '2025-05-15 18:00:00',\n",
              "               '2025-05-16 00:00:00', '2025-05-16 06:00:00',\n",
              "               '2025-05-16 12:00:00', '2025-05-16 18:00:00',\n",
              "               '2025-05-17 00:00:00', '2025-05-17 06:00:00',\n",
              "               '2025-05-17 12:00:00', '2025-05-17 18:00:00',\n",
              "               '2025-05-18 00:00:00', '2025-05-18 06:00:00',\n",
              "               '2025-05-18 12:00:00', '2025-05-18 18:00:00',\n",
              "               '2025-05-19 00:00:00'],\n",
              "              dtype='datetime64[ns]', freq='6h')"
            ]
          },
          "metadata": {},
          "execution_count": 42
        }
      ]
    },
    {
      "cell_type": "code",
      "source": [
        "# genrates daily date in the given range\n",
        "pd.date_range(start = '2025/05/13',periods = 25,freq=\"M\")"
      ],
      "metadata": {
        "colab": {
          "base_uri": "https://localhost:8080/"
        },
        "id": "bhjO6xdyoQXH",
        "outputId": "aab25cc6-1652-4530-9692-6fa55bd0ca9c"
      },
      "execution_count": 43,
      "outputs": [
        {
          "output_type": "stream",
          "name": "stderr",
          "text": [
            "<ipython-input-43-8f62191353f5>:2: FutureWarning: 'M' is deprecated and will be removed in a future version, please use 'ME' instead.\n",
            "  pd.date_range(start = '2025/05/13',periods = 25,freq=\"M\")\n"
          ]
        },
        {
          "output_type": "execute_result",
          "data": {
            "text/plain": [
              "DatetimeIndex(['2025-05-31', '2025-06-30', '2025-07-31', '2025-08-31',\n",
              "               '2025-09-30', '2025-10-31', '2025-11-30', '2025-12-31',\n",
              "               '2026-01-31', '2026-02-28', '2026-03-31', '2026-04-30',\n",
              "               '2026-05-31', '2026-06-30', '2026-07-31', '2026-08-31',\n",
              "               '2026-09-30', '2026-10-31', '2026-11-30', '2026-12-31',\n",
              "               '2027-01-31', '2027-02-28', '2027-03-31', '2027-04-30',\n",
              "               '2027-05-31'],\n",
              "              dtype='datetime64[ns]', freq='ME')"
            ]
          },
          "metadata": {},
          "execution_count": 43
        }
      ]
    },
    {
      "cell_type": "code",
      "source": [],
      "metadata": {
        "id": "6B6imFiOoSsW"
      },
      "execution_count": null,
      "outputs": []
    }
  ]
}