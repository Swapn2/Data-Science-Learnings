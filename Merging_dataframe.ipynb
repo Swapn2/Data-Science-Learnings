{
  "nbformat": 4,
  "nbformat_minor": 0,
  "metadata": {
    "colab": {
      "private_outputs": true,
      "provenance": [],
      "cell_execution_strategy": "setup",
      "authorship_tag": "ABX9TyNalOhgxVCWbP3l2fmS9LxO",
      "include_colab_link": true
    },
    "kernelspec": {
      "name": "python3",
      "display_name": "Python 3"
    },
    "language_info": {
      "name": "python"
    }
  },
  "cells": [
    {
      "cell_type": "markdown",
      "metadata": {
        "id": "view-in-github",
        "colab_type": "text"
      },
      "source": [
        "<a href=\"https://colab.research.google.com/github/Swapn2/Data-Science-Learnings/blob/main/Merging_dataframe.ipynb\" target=\"_parent\"><img src=\"https://colab.research.google.com/assets/colab-badge.svg\" alt=\"Open In Colab\"/></a>"
      ]
    },
    {
      "cell_type": "code",
      "execution_count": null,
      "metadata": {
        "id": "hYUmbNbU4Rp7"
      },
      "outputs": [],
      "source": [
        "import numpy as np\n",
        "import pandas as pd"
      ]
    },
    {
      "cell_type": "code",
      "source": [
        "courses = pd.read_csv('/content/courses.csv')\n",
        "students = pd.read_csv('/content/students.csv')\n",
        "nov = pd.read_csv('/content/reg-month1.csv')\n",
        "dec = pd.read_csv('/content/reg-month2.csv')\n",
        "matches = pd.read_csv('/content/matches.csv')\n",
        "delivery = pd.read_csv('/content/deliveries.csv')"
      ],
      "metadata": {
        "id": "9oj17wx_40QL"
      },
      "execution_count": null,
      "outputs": []
    },
    {
      "cell_type": "code",
      "source": [
        "courses.head(2)"
      ],
      "metadata": {
        "id": "AJ_jIBuD4-FP"
      },
      "execution_count": null,
      "outputs": []
    },
    {
      "cell_type": "code",
      "source": [
        "students.head(2)"
      ],
      "metadata": {
        "id": "fcUxxBsN6VF_"
      },
      "execution_count": null,
      "outputs": []
    },
    {
      "cell_type": "code",
      "source": [
        "nov.head(2)"
      ],
      "metadata": {
        "id": "MaIpOiFb6bVd"
      },
      "execution_count": null,
      "outputs": []
    },
    {
      "cell_type": "code",
      "source": [
        "dec.head(2)"
      ],
      "metadata": {
        "id": "VypMXLOc7Eqb"
      },
      "execution_count": null,
      "outputs": []
    },
    {
      "cell_type": "code",
      "source": [
        "matches.head(2)"
      ],
      "metadata": {
        "id": "RnA2Wn2S7G4z"
      },
      "execution_count": null,
      "outputs": []
    },
    {
      "cell_type": "code",
      "source": [
        "delivery.head(2)"
      ],
      "metadata": {
        "id": "ITMa7D6l7JUt"
      },
      "execution_count": null,
      "outputs": []
    },
    {
      "cell_type": "code",
      "source": [
        "# pd.concat\n",
        "reg = pd.concat([nov,dec],ignore_index=True)"
      ],
      "metadata": {
        "id": "0VRUbsB17NNI"
      },
      "execution_count": null,
      "outputs": []
    },
    {
      "cell_type": "code",
      "source": [
        "# multiindex dataframe\n",
        "multi = pd.concat([nov,dec],keys=['Nov','Dec'])"
      ],
      "metadata": {
        "id": "Kx3Hc5mB8PZH"
      },
      "execution_count": null,
      "outputs": []
    },
    {
      "cell_type": "code",
      "source": [
        "multi.loc['Nov']"
      ],
      "metadata": {
        "id": "fzUzo5yr94jq"
      },
      "execution_count": null,
      "outputs": []
    },
    {
      "cell_type": "code",
      "source": [
        "multi.loc[('Nov',3)]"
      ],
      "metadata": {
        "id": "oCkSfVxq-fST"
      },
      "execution_count": null,
      "outputs": []
    },
    {
      "cell_type": "code",
      "source": [
        "multi.loc[('Dec',4)]"
      ],
      "metadata": {
        "id": "RPvMyNMvCnmO"
      },
      "execution_count": null,
      "outputs": []
    },
    {
      "cell_type": "code",
      "source": [
        "# multiindex dataframe\n",
        "multi = pd.concat([nov,dec],keys=['Nov','Dec'],axis = 1)"
      ],
      "metadata": {
        "id": "-hYDVuYZCtRw"
      },
      "execution_count": null,
      "outputs": []
    },
    {
      "cell_type": "code",
      "source": [
        "multi"
      ],
      "metadata": {
        "id": "1DRPyRzxE90y"
      },
      "execution_count": null,
      "outputs": []
    },
    {
      "cell_type": "code",
      "source": [
        "# inner join\n",
        "inner_join = students.merge(reg,how='inner',on='student_id')\n",
        "inner_join"
      ],
      "metadata": {
        "id": "R-Dd647PE_Kz"
      },
      "execution_count": null,
      "outputs": []
    },
    {
      "cell_type": "code",
      "source": [
        "# left join\n",
        "courses.merge(inner_join,how = 'left',on='course_id')"
      ],
      "metadata": {
        "id": "Quuu15sdKWvb"
      },
      "execution_count": null,
      "outputs": []
    },
    {
      "cell_type": "code",
      "source": [
        "# right join\n",
        "courses.merge(reg,how = 'right',on='course_id')"
      ],
      "metadata": {
        "id": "Gklf_9uTL7hO"
      },
      "execution_count": null,
      "outputs": []
    },
    {
      "cell_type": "code",
      "source": [],
      "metadata": {
        "id": "Wj_5MJYbN7Pw"
      },
      "execution_count": null,
      "outputs": []
    },
    {
      "cell_type": "code",
      "source": [
        "# outer join\n",
        "students.merge(reg,how='outer',on='student_id')"
      ],
      "metadata": {
        "id": "JkbUCPcKOTS-"
      },
      "execution_count": null,
      "outputs": []
    },
    {
      "cell_type": "code",
      "source": [
        "# find the total revenue genrated\n",
        "courses.merge(reg,how = 'inner',on='course_id')['price'].sum()"
      ],
      "metadata": {
        "id": "RGmnP0dPPAXP"
      },
      "execution_count": null,
      "outputs": []
    },
    {
      "cell_type": "code",
      "source": [
        "# find month by month revenue\n",
        "temp = pd.concat([nov,dec],keys=['Nov','Dec']).reset_index()"
      ],
      "metadata": {
        "id": "rhxOkpSpsPqN"
      },
      "execution_count": null,
      "outputs": []
    },
    {
      "cell_type": "code",
      "source": [
        "temp.merge(courses,on='course_id').groupby('level_0')['price'].sum()"
      ],
      "metadata": {
        "id": "WfcJuLQQtEIP"
      },
      "execution_count": null,
      "outputs": []
    },
    {
      "cell_type": "code",
      "source": [],
      "metadata": {
        "id": "tPlPfFhHtMX_"
      },
      "execution_count": null,
      "outputs": []
    }
  ]
}