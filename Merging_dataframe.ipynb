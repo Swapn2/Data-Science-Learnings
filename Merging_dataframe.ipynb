{
  "nbformat": 4,
  "nbformat_minor": 0,
  "metadata": {
    "colab": {
      "private_outputs": true,
      "provenance": [],
      "authorship_tag": "ABX9TyPH7dU/2dcW5rqBAXCr1lam",
      "include_colab_link": true
    },
    "kernelspec": {
      "name": "python3",
      "display_name": "Python 3"
    },
    "language_info": {
      "name": "python"
    }
  },
  "cells": [
    {
      "cell_type": "markdown",
      "metadata": {
        "id": "view-in-github",
        "colab_type": "text"
      },
      "source": [
        "<a href=\"https://colab.research.google.com/github/Swapn2/Data-Science-Learnings/blob/main/Merging_dataframe.ipynb\" target=\"_parent\"><img src=\"https://colab.research.google.com/assets/colab-badge.svg\" alt=\"Open In Colab\"/></a>"
      ]
    },
    {
      "cell_type": "code",
      "execution_count": null,
      "metadata": {
        "id": "hYUmbNbU4Rp7"
      },
      "outputs": [],
      "source": [
        "import numpy as np\n",
        "import pandas as pd"
      ]
    },
    {
      "cell_type": "code",
      "source": [
        "courses = pd.read_csv('/content/courses.csv')\n",
        "students = pd.read_csv('/content/students.csv')\n",
        "nov = pd.read_csv('/content/reg-month1.csv')\n",
        "dec = pd.read_csv('/content/reg-month2.csv')\n",
        "matches = pd.read_csv('/content/matches.csv')\n",
        "delivery = pd.read_csv('/content/deliveries.csv')"
      ],
      "metadata": {
        "id": "9oj17wx_40QL"
      },
      "execution_count": null,
      "outputs": []
    },
    {
      "cell_type": "code",
      "source": [
        "courses.head(2)"
      ],
      "metadata": {
        "id": "AJ_jIBuD4-FP"
      },
      "execution_count": null,
      "outputs": []
    },
    {
      "cell_type": "code",
      "source": [
        "students.head(2)"
      ],
      "metadata": {
        "id": "fcUxxBsN6VF_"
      },
      "execution_count": null,
      "outputs": []
    },
    {
      "cell_type": "code",
      "source": [
        "nov.head(2)"
      ],
      "metadata": {
        "id": "MaIpOiFb6bVd"
      },
      "execution_count": null,
      "outputs": []
    },
    {
      "cell_type": "code",
      "source": [
        "dec.head(2)"
      ],
      "metadata": {
        "id": "VypMXLOc7Eqb"
      },
      "execution_count": null,
      "outputs": []
    },
    {
      "cell_type": "code",
      "source": [
        "matches.head(2)"
      ],
      "metadata": {
        "id": "RnA2Wn2S7G4z"
      },
      "execution_count": null,
      "outputs": []
    },
    {
      "cell_type": "code",
      "source": [
        "delivery.head(2)"
      ],
      "metadata": {
        "id": "ITMa7D6l7JUt"
      },
      "execution_count": null,
      "outputs": []
    },
    {
      "cell_type": "code",
      "source": [
        "# pd.concat\n",
        "reg = pd.concat([nov,dec],ignore_index=True)"
      ],
      "metadata": {
        "id": "0VRUbsB17NNI"
      },
      "execution_count": null,
      "outputs": []
    },
    {
      "cell_type": "code",
      "source": [
        "# multiindex dataframe\n",
        "multi = pd.concat([nov,dec],keys=['Nov','Dec'])"
      ],
      "metadata": {
        "id": "Kx3Hc5mB8PZH"
      },
      "execution_count": null,
      "outputs": []
    },
    {
      "cell_type": "code",
      "source": [
        "multi.loc['Nov']"
      ],
      "metadata": {
        "id": "fzUzo5yr94jq"
      },
      "execution_count": null,
      "outputs": []
    },
    {
      "cell_type": "code",
      "source": [],
      "metadata": {
        "id": "oCkSfVxq-fST"
      },
      "execution_count": null,
      "outputs": []
    }
  ]
}