{
  "nbformat": 4,
  "nbformat_minor": 0,
  "metadata": {
    "colab": {
      "private_outputs": true,
      "provenance": [],
      "authorship_tag": "ABX9TyNkbejSN1W4KPbzQGjudP/z",
      "include_colab_link": true
    },
    "kernelspec": {
      "name": "python3",
      "display_name": "Python 3"
    },
    "language_info": {
      "name": "python"
    }
  },
  "cells": [
    {
      "cell_type": "markdown",
      "metadata": {
        "id": "view-in-github",
        "colab_type": "text"
      },
      "source": [
        "<a href=\"https://colab.research.google.com/github/Swapn2/Data-Science-Learnings/blob/main/Merging_dataframe.ipynb\" target=\"_parent\"><img src=\"https://colab.research.google.com/assets/colab-badge.svg\" alt=\"Open In Colab\"/></a>"
      ]
    },
    {
      "cell_type": "code",
      "execution_count": null,
      "metadata": {
        "id": "hYUmbNbU4Rp7"
      },
      "outputs": [],
      "source": [
        "import numpy as np\n",
        "import pandas as pd"
      ]
    },
    {
      "cell_type": "code",
      "source": [
        "courses = pd.read_csv('/content/courses.csv')\n",
        "students = pd.read_csv('/content/students.csv')\n",
        "nov = pd.read_csv('/content/reg-month1.csv')\n",
        "dec = pd.read_csv('/content/reg-month2.csv')\n",
        "matches = pd.read_csv('/content/matches.csv')\n",
        "delivery = pd.read_csv('/content/deliveries.csv')"
      ],
      "metadata": {
        "id": "9oj17wx_40QL"
      },
      "execution_count": null,
      "outputs": []
    },
    {
      "cell_type": "code",
      "source": [],
      "metadata": {
        "id": "AJ_jIBuD4-FP"
      },
      "execution_count": null,
      "outputs": []
    }
  ]
}