{
  "nbformat": 4,
  "nbformat_minor": 0,
  "metadata": {
    "colab": {
      "provenance": [],
      "authorship_tag": "ABX9TyMZFRtWbNNSaywQkmgSMz8c",
      "include_colab_link": true
    },
    "kernelspec": {
      "name": "python3",
      "display_name": "Python 3"
    },
    "language_info": {
      "name": "python"
    }
  },
  "cells": [
    {
      "cell_type": "markdown",
      "metadata": {
        "id": "view-in-github",
        "colab_type": "text"
      },
      "source": [
        "<a href=\"https://colab.research.google.com/github/Swapn2/Data-Science-Learnings/blob/main/task2.ipynb\" target=\"_parent\"><img src=\"https://colab.research.google.com/assets/colab-badge.svg\" alt=\"Open In Colab\"/></a>"
      ]
    },
    {
      "cell_type": "markdown",
      "source": [
        "### `Problem 1`: Write a program that will give you in hand monthly salary after deduction on CTC - HRA(10%), DA(5%), PF(3%) and taxes deduction as below:\n",
        "\n",
        "> Salary(Lakhs) : Tax(%)\n",
        "\n",
        "*   Below 5 : 0%\n",
        "*   5-10 : 10%\n",
        "*   10-20 : 20%\n",
        "*   aboove 20 : 30%"
      ],
      "metadata": {
        "id": "X1BX8pffxzfH"
      }
    },
    {
      "cell_type": "code",
      "execution_count": null,
      "metadata": {
        "colab": {
          "base_uri": "https://localhost:8080/"
        },
        "id": "4nxV5qaxbCFi",
        "outputId": "3dc6f540-3b0b-4f60-b414-d47d611b199c"
      },
      "outputs": [
        {
          "output_type": "stream",
          "name": "stdout",
          "text": [
            "enter the in hand salary in lakh 12\n",
            "HRA_deduction 1.2000000000000002\n",
            "DA_deduction 0.6000000000000001\n",
            "PF_deduction 0.36\n",
            "Tax 2.4000000000000004\n",
            "final salary 7.440000000000001\n"
          ]
        }
      ],
      "source": [
        "salary = int(input('enter the in hand salary in lakh '))\n",
        "HRA_deduction = salary * .1\n",
        "DA_deduction = salary * .05\n",
        "PF_deduction = salary * .03\n",
        "print(\"HRA_deduction\",HRA_deduction)\n",
        "print(\"DA_deduction\",DA_deduction)\n",
        "print(\"PF_deduction\",PF_deduction)\n",
        "\n",
        "if salary < 5:\n",
        "  tax = 0\n",
        "  print(\"Tax\",tax)\n",
        "  print(\"final salary\",salary-HRA_deduction-DA_deduction-PF_deduction-tax)\n",
        "elif salary >= 5 and salary <= 10:\n",
        "  tax = salary * .1\n",
        "  print(\"Tax\",tax)\n",
        "  print(\"final salary\",salary-HRA_deduction-DA_deduction-PF_deduction-tax)\n",
        "elif salary >= 10 and salary <= 20:\n",
        "  tax = salary * .2\n",
        "  print(\"Tax\",tax)\n",
        "  print(\"final salary\",salary-HRA_deduction-DA_deduction-PF_deduction-tax)\n",
        "else:\n",
        "  tax = salary * .3\n",
        "  print(\"Tax\",tax)\n",
        "  print(\"final salary\",salary-HRA_deduction-DA_deduction-PF_deduction-tax)\n",
        "\n",
        "\n"
      ]
    },
    {
      "cell_type": "markdown",
      "source": [
        "### `Problem 2`: Write a program that take a user input of three angles and will find out whether it can form a triangle or not."
      ],
      "metadata": {
        "id": "9rze2cXk3d0g"
      }
    },
    {
      "cell_type": "code",
      "source": [
        "angle_1 = int(input('enter the first angle '))\n",
        "angle_2 = int(input('enter the second angle '))\n",
        "angle_3 = int(input('enter the third angle '))\n",
        "\n",
        "sum = angle_1 + angle_2 + angle_3\n",
        "\n",
        "if sum == 180:\n",
        "  print(\"it can form a triangle\")\n",
        "else:\n",
        "  print(\"it can not form a triangle\")"
      ],
      "metadata": {
        "colab": {
          "base_uri": "https://localhost:8080/"
        },
        "id": "EWc81Xi-0Ute",
        "outputId": "8659f5ec-fa91-4eba-b1a7-3c69394abd0b"
      },
      "execution_count": null,
      "outputs": [
        {
          "output_type": "stream",
          "name": "stdout",
          "text": [
            "enter the first angle 50\n",
            "enter the second angle 50\n",
            "enter the third angle 80\n",
            "it can form a triangle\n"
          ]
        }
      ]
    },
    {
      "cell_type": "markdown",
      "source": [
        "### `Problem 3`: Write a program that will take user input of cost price and selling price and determines whether its a loss or a profit."
      ],
      "metadata": {
        "id": "loE9yrh45YEB"
      }
    },
    {
      "cell_type": "code",
      "source": [
        "CP = int(input('enter the cost price'))\n",
        "SP = int(input('enter the selling price'))\n",
        "\n",
        "if SP > CP:\n",
        "  print(\"Profit\",SP-CP)\n",
        "elif SP < CP:\n",
        "  print(\"Loss\",CP-SP)"
      ],
      "metadata": {
        "colab": {
          "base_uri": "https://localhost:8080/"
        },
        "id": "V5s0CdGr39Ti",
        "outputId": "da6a62a5-3085-415c-c708-c237946e49d9"
      },
      "execution_count": null,
      "outputs": [
        {
          "output_type": "stream",
          "name": "stdout",
          "text": [
            "enter the cost price100\n",
            "enter the selling price120\n",
            "Profit 20\n"
          ]
        }
      ]
    },
    {
      "cell_type": "markdown",
      "source": [
        "### `Problem 4`: Write a menu-driven program -\n",
        "1. cm to ft\n",
        "2. km to miles\n",
        "3. USD to INR\n",
        "4. exit"
      ],
      "metadata": {
        "id": "kbquMhWt6gVG"
      }
    },
    {
      "cell_type": "code",
      "source": [
        "task = int(input(\"\"\"\n",
        "enter the task choice\n",
        "1. cm to ft\n",
        "2. km to miles\n",
        "3. USD to INR\n",
        "4.exit\n",
        "\"\"\"))\n",
        "if task == 1:\n",
        "  cm = int(input('enter the cm '))\n",
        "  ft = cm * .0328\n",
        "  print(\"ft\",ft)\n",
        "elif task == 2:\n",
        "  km = int(input('enter the km '))\n",
        "  miles = km * .62137\n",
        "  print(\"miles\",miles)\n",
        "elif task == 3:\n",
        "  usd = int(input('enter the usd '))\n",
        "  inr = usd * 75\n",
        "  print(\"inr\",inr)\n",
        "else:\n",
        "  print(\"exit\")\n",
        "\n"
      ],
      "metadata": {
        "colab": {
          "base_uri": "https://localhost:8080/"
        },
        "id": "8nS-aRAh4_lT",
        "outputId": "58d92d18-eb9a-43ba-bda7-765c777d6bb6"
      },
      "execution_count": null,
      "outputs": [
        {
          "output_type": "stream",
          "name": "stdout",
          "text": [
            "\n",
            "enter the task choice\n",
            "1. cm to ft\n",
            "2. km to miles\n",
            "3. USD to INR\n",
            "4.exit\n",
            "1\n",
            "enter the cm 122\n",
            "ft 4.001600000000001\n"
          ]
        }
      ]
    },
    {
      "cell_type": "markdown",
      "source": [
        "### `Problem 5` - Exercise 12: Display Fibonacci series up to 10 terms.\n",
        "\n",
        "*Note: The Fibonacci Sequence is a series of numbers. The next number is found by adding up the two numbers before it. The first two numbers are 0 and 1. For example, 0, 1, 1, 2, 3, 5, 8, 13, 21. The next number in this series above is 13+21 = 34*"
      ],
      "metadata": {
        "id": "qzy0ShmilgHn"
      }
    },
    {
      "cell_type": "code",
      "source": [
        "a = 0\n",
        "b = 1\n",
        "\n",
        "for i in range (1,10):\n",
        "  c = a+b\n",
        "  print(c)\n",
        "  a = b\n",
        "  b = c\n",
        "\n"
      ],
      "metadata": {
        "colab": {
          "base_uri": "https://localhost:8080/"
        },
        "id": "oBX5UYyFlIsq",
        "outputId": "e1ded766-b48c-464a-a74e-66e2aed18de8"
      },
      "execution_count": null,
      "outputs": [
        {
          "output_type": "stream",
          "name": "stdout",
          "text": [
            "1\n",
            "2\n",
            "3\n",
            "5\n",
            "8\n",
            "13\n",
            "21\n",
            "34\n",
            "55\n"
          ]
        }
      ]
    },
    {
      "cell_type": "markdown",
      "source": [
        "### `Problem 6` - Find the factorial of a given number.\n",
        "\n",
        "Write a program to use the loop to find the factorial of a given number.\n",
        "\n",
        "The factorial (symbol: `!`) means to multiply all whole numbers from the chosen number down to 1.\n",
        "\n",
        "For example: calculate the factorial of 5\n",
        "\n",
        "```bash\n",
        "5! = 5 × 4 × 3 × 2 × 1 = 120\n",
        "```\n",
        "\n",
        "Output:\n",
        "\n",
        "```bash\n",
        "120\n",
        "```"
      ],
      "metadata": {
        "id": "IJ85XH9ZyEKI"
      }
    },
    {
      "cell_type": "code",
      "source": [
        "n = int(input('Enter the number '))\n",
        "fact = 1\n",
        "for i in range (1,n):\n",
        "  fact = fact *(i+1)\n",
        "print(fact)"
      ],
      "metadata": {
        "colab": {
          "base_uri": "https://localhost:8080/"
        },
        "id": "vNhkjLSFyCSz",
        "outputId": "0341c972-63df-4466-bf32-cc5796175b71"
      },
      "execution_count": null,
      "outputs": [
        {
          "output_type": "stream",
          "name": "stdout",
          "text": [
            "Enter the number 5\n",
            "120\n"
          ]
        }
      ]
    },
    {
      "cell_type": "markdown",
      "source": [
        "### `Problem 7` - Reverse a given integer number.\n",
        "\n",
        "Example:\n",
        "\n",
        "`Input:`\n",
        "\n",
        "```bash\n",
        "76542\n",
        "```\n",
        "\n",
        "`Output:`\n",
        "\n",
        "```bash\n",
        "24567\n",
        "```"
      ],
      "metadata": {
        "id": "RAMXqHTw_P4n"
      }
    },
    {
      "cell_type": "code",
      "source": [
        "number = int(input('enter the number '))\n",
        "counter = 0\n",
        "sum = 0\n",
        "while number > 0:\n",
        "  digit = number % 10\n",
        "  number = number // 10\n",
        "  counter += 1\n",
        "  print(digit,end=\"\")"
      ],
      "metadata": {
        "id": "2A0wNPo314ur",
        "colab": {
          "base_uri": "https://localhost:8080/"
        },
        "outputId": "3d4540d4-9b89-4ce3-befb-a7d6238f3070"
      },
      "execution_count": null,
      "outputs": [
        {
          "output_type": "stream",
          "name": "stdout",
          "text": [
            "enter the number 24567\n",
            "76542"
          ]
        }
      ]
    },
    {
      "cell_type": "markdown",
      "source": [
        "### `Problem 8`: Take a user input as integer N. Find out the sum from 1 to N. If any number if divisible by 5, then skip that number. And if the sum is greater than 300, don't need to calculate the sum further more. Print the final result. And don't use for loop to solve this problem.\n",
        "\n",
        "**Example 1:**\n",
        "\n",
        "`Input:`\n",
        "\n",
        "```bash\n",
        "30\n",
        "```\n",
        "\n",
        "`Output:`\n",
        "\n",
        "```bash\n",
        "276\n",
        "```"
      ],
      "metadata": {
        "id": "S3gdAEv2BTd4"
      }
    },
    {
      "cell_type": "code",
      "source": [
        "def find_sum(n, current_sum=0):\n",
        "    if n == 0 or current_sum > 300:\n",
        "        return current_sum\n",
        "\n",
        "    if n % 5 == 0:\n",
        "        return find_sum(n - 1, current_sum)\n",
        "\n",
        "    return find_sum(n - 1, current_sum + n)\n",
        "\n",
        "N = int(input(\"Enter an integer N: \"))\n",
        "result = find_sum(N)\n",
        "print(\"Final Sum:\", result)\n"
      ],
      "metadata": {
        "colab": {
          "base_uri": "https://localhost:8080/"
        },
        "id": "bRoKlfjg_7pt",
        "outputId": "382b0f77-8199-4399-f9cf-d2e3ff67f8c2"
      },
      "execution_count": null,
      "outputs": [
        {
          "output_type": "stream",
          "name": "stdout",
          "text": [
            "Enter an integer N: 30\n",
            "Final Sum: 309\n"
          ]
        }
      ]
    },
    {
      "cell_type": "markdown",
      "source": [
        "### `Problem 9`: Write a program that keeps on accepting a number from the user until the user enters Zero. Display the sum and average of all the numbers."
      ],
      "metadata": {
        "id": "VqbDd3LjuX9t"
      }
    },
    {
      "cell_type": "code",
      "source": [
        "sum = count = 0\n",
        "i = 1\n",
        "\n",
        "while i != 0:\n",
        "  i = int(input('enter the number '))\n",
        "  sum = sum + i\n",
        "  count += 1\n",
        "print(sum/(count-1))\n"
      ],
      "metadata": {
        "id": "SanzNPj-mVom",
        "colab": {
          "base_uri": "https://localhost:8080/"
        },
        "outputId": "c92d4e82-3370-4458-c83d-8234690fd0a6"
      },
      "execution_count": null,
      "outputs": [
        {
          "output_type": "stream",
          "name": "stdout",
          "text": [
            "enter the number 10\n",
            "enter the number 20\n",
            "enter the number 30\n",
            "enter the number 40\n",
            "enter the number 0\n",
            "25.0\n"
          ]
        }
      ]
    },
    {
      "cell_type": "markdown",
      "source": [
        "###`Problem 9`: Write a program which will find all such numbers which are divisible by 7 but are not a multiple of 5, between 2000 and 3200 (both included). The numbers obtained should be printed in a comma-separated sequence on a single line."
      ],
      "metadata": {
        "id": "IHJxyn7s3lmM"
      }
    },
    {
      "cell_type": "code",
      "source": [
        "i = 2000\n",
        "while i <= 3200:\n",
        "  if i % 7 == 0 and i % 5 != 0:\n",
        "    print(i,end=\",\")\n",
        "  i += 1"
      ],
      "metadata": {
        "colab": {
          "base_uri": "https://localhost:8080/"
        },
        "id": "uq_kpHZw3FW-",
        "outputId": "da830de6-4529-4cd6-f470-bda2d7b624e4"
      },
      "execution_count": null,
      "outputs": [
        {
          "output_type": "stream",
          "name": "stdout",
          "text": [
            "2002,2009,2016,2023,2037,2044,2051,2058,2072,2079,2086,2093,2107,2114,2121,2128,2142,2149,2156,2163,2177,2184,2191,2198,2212,2219,2226,2233,2247,2254,2261,2268,2282,2289,2296,2303,2317,2324,2331,2338,2352,2359,2366,2373,2387,2394,2401,2408,2422,2429,2436,2443,2457,2464,2471,2478,2492,2499,2506,2513,2527,2534,2541,2548,2562,2569,2576,2583,2597,2604,2611,2618,2632,2639,2646,2653,2667,2674,2681,2688,2702,2709,2716,2723,2737,2744,2751,2758,2772,2779,2786,2793,2807,2814,2821,2828,2842,2849,2856,2863,2877,2884,2891,2898,2912,2919,2926,2933,2947,2954,2961,2968,2982,2989,2996,3003,3017,3024,3031,3038,3052,3059,3066,3073,3087,3094,3101,3108,3122,3129,3136,3143,3157,3164,3171,3178,3192,3199,"
          ]
        }
      ]
    },
    {
      "cell_type": "markdown",
      "source": [
        "###`Problem 10`: Write a program, which will find all such numbers between 1000 and 3000 (both included) such that each digit of the number is an even number. The numbers obtained should be printed in a space-separated sequence on a single line.\n",
        "\n"
      ],
      "metadata": {
        "id": "I2BNi4at4v9r"
      }
    },
    {
      "cell_type": "code",
      "source": [
        "for i in range(1000,3000):\n",
        "  n = i\n",
        "  while i > 0 :\n",
        "    digit = i % 10\n",
        "    if digit % 2 != 0:\n",
        "      break\n",
        "    else:\n",
        "      i = i // 10\n",
        "      if i == 0:\n",
        "  \t    print(n,end=\" \")\n"
      ],
      "metadata": {
        "colab": {
          "base_uri": "https://localhost:8080/"
        },
        "id": "MqkqmdTl4oEl",
        "outputId": "d9078f33-6e98-435f-d9c3-f540f89a219c"
      },
      "execution_count": 7,
      "outputs": [
        {
          "output_type": "stream",
          "name": "stdout",
          "text": [
            "2000 2002 2004 2006 2008 2020 2022 2024 2026 2028 2040 2042 2044 2046 2048 2060 2062 2064 2066 2068 2080 2082 2084 2086 2088 2200 2202 2204 2206 2208 2220 2222 2224 2226 2228 2240 2242 2244 2246 2248 2260 2262 2264 2266 2268 2280 2282 2284 2286 2288 2400 2402 2404 2406 2408 2420 2422 2424 2426 2428 2440 2442 2444 2446 2448 2460 2462 2464 2466 2468 2480 2482 2484 2486 2488 2600 2602 2604 2606 2608 2620 2622 2624 2626 2628 2640 2642 2644 2646 2648 2660 2662 2664 2666 2668 2680 2682 2684 2686 2688 2800 2802 2804 2806 2808 2820 2822 2824 2826 2828 2840 2842 2844 2846 2848 2860 2862 2864 2866 2868 2880 2882 2884 2886 2888 "
          ]
        }
      ]
    },
    {
      "cell_type": "markdown",
      "source": [
        "###`Problem 11`: A robot moves in a plane starting from the original point (0,0). The robot can move toward UP, DOWN, LEFT and RIGHT with a given steps.\n",
        "The trace of robot movement is shown as the following:\n",
        "```\n",
        "UP 5\n",
        "DOWN 3\n",
        "LEFT 3\n",
        "RIGHT 2\n",
        "!\n",
        "```\n",
        "> The numbers after the direction are steps.\n",
        "\n",
        "> `!` means robot stop there.\n",
        "\n",
        "**Please write a program to compute the distance from current position after a sequence of movement and original point.**\n",
        "\n",
        "*If the distance is a float, then just print the nearest integer.*\n",
        "\n",
        "Example:\n",
        "\n",
        "`Input`:\n",
        "```\n",
        "UP 5\n",
        "DOWN 3\n",
        "LEFT 3\n",
        "RIGHT 2\n",
        "!\n",
        "```\n",
        "`Output`:\n",
        "```\n",
        "2\n",
        "```"
      ],
      "metadata": {
        "id": "Wzk9g_4V0M92"
      }
    },
    {
      "cell_type": "code",
      "source": [
        "up = int(input('enter the up distance '))\n",
        "down = int(input('enter the down distance '))\n",
        "left = int(input('enter the left distance '))\n",
        "right = int(input('enter the right distance '))\n",
        "distance = ((up-down)**2 + (left-right)**2)**.5\n",
        "print(int(distance))"
      ],
      "metadata": {
        "id": "GnHzwmpmwGUR",
        "colab": {
          "base_uri": "https://localhost:8080/"
        },
        "outputId": "12c9e7c2-2793-41a3-8ad2-d9820d912e00"
      },
      "execution_count": 10,
      "outputs": [
        {
          "output_type": "stream",
          "name": "stdout",
          "text": [
            "enter the up distance 5\n",
            "enter the down distance 3\n",
            "enter the left distance 3\n",
            "enter the right distance 2\n",
            "2\n"
          ]
        }
      ]
    },
    {
      "cell_type": "code",
      "source": [
        "\n"
      ],
      "metadata": {
        "id": "73-zZmR60bvB"
      },
      "execution_count": null,
      "outputs": []
    }
  ]
}