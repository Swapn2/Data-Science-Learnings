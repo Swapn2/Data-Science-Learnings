{
  "nbformat": 4,
  "nbformat_minor": 0,
  "metadata": {
    "colab": {
      "provenance": [],
      "authorship_tag": "ABX9TyMwfkA5fRfBkXjygowcBtkd",
      "include_colab_link": true
    },
    "kernelspec": {
      "name": "python3",
      "display_name": "Python 3"
    },
    "language_info": {
      "name": "python"
    }
  },
  "cells": [
    {
      "cell_type": "markdown",
      "metadata": {
        "id": "view-in-github",
        "colab_type": "text"
      },
      "source": [
        "<a href=\"https://colab.research.google.com/github/Swapn2/Data-Science-Learnings/blob/main/session6_functions.ipynb\" target=\"_parent\"><img src=\"https://colab.research.google.com/assets/colab-badge.svg\" alt=\"Open In Colab\"/></a>"
      ]
    },
    {
      "cell_type": "markdown",
      "source": [
        "### Let's create a function(with docstring)"
      ],
      "metadata": {
        "id": "n_Bw98cbMNN_"
      }
    },
    {
      "cell_type": "code",
      "execution_count": 1,
      "metadata": {
        "id": "j020bOdF8Jsf"
      },
      "outputs": [],
      "source": [
        "def is_even(i):\n",
        "  \"\"\"\n",
        "  this function return if a givem number is odd or even\n",
        "  input - any valid integer\n",
        "  output - odd/even\n",
        "  created on - 9th march 2023\n",
        "  \"\"\"\n",
        "  if i % 2 == 0:\n",
        "    return 'even'\n",
        "  else:\n",
        "    return 'odd'"
      ]
    },
    {
      "cell_type": "code",
      "source": [
        "# function call\n",
        "for i in range(1,11):\n",
        "  x = is_even(i)\n",
        "  print(x)"
      ],
      "metadata": {
        "colab": {
          "base_uri": "https://localhost:8080/"
        },
        "id": "Oxkq7UHVQRrN",
        "outputId": "df3db652-cebd-4aa7-e76f-4eac6759493c"
      },
      "execution_count": 2,
      "outputs": [
        {
          "output_type": "stream",
          "name": "stdout",
          "text": [
            "odd\n",
            "even\n",
            "odd\n",
            "even\n",
            "odd\n",
            "even\n",
            "odd\n",
            "even\n",
            "odd\n",
            "even\n"
          ]
        }
      ]
    },
    {
      "cell_type": "code",
      "source": [],
      "metadata": {
        "id": "M11Tw4gzQdoG"
      },
      "execution_count": null,
      "outputs": []
    }
  ]
}