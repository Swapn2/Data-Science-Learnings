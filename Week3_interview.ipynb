{
  "nbformat": 4,
  "nbformat_minor": 0,
  "metadata": {
    "colab": {
      "provenance": [],
      "authorship_tag": "ABX9TyOFCxlhFeCQFsfO30RLE5ZL",
      "include_colab_link": true
    },
    "kernelspec": {
      "name": "python3",
      "display_name": "Python 3"
    },
    "language_info": {
      "name": "python"
    }
  },
  "cells": [
    {
      "cell_type": "markdown",
      "metadata": {
        "id": "view-in-github",
        "colab_type": "text"
      },
      "source": [
        "<a href=\"https://colab.research.google.com/github/Swapn2/Data-Science-Learnings/blob/main/Week3_interview.ipynb\" target=\"_parent\"><img src=\"https://colab.research.google.com/assets/colab-badge.svg\" alt=\"Open In Colab\"/></a>"
      ]
    },
    {
      "cell_type": "markdown",
      "source": [
        "- How indexing works in sets\n",
        "- Why dict key cant be mutable data types\n",
        "- Enumerate\n",
        "- destructor\n",
        "- dir/isinstance/issubclass\n",
        "- classmethod vs staticmethod\n",
        "- The diamond problem\n",
        "- What’s the meaning of single and double underscores in Python variable and method names\n",
        "- Magic Methods (repr vs str)\n",
        "- How can objects be stored in sets even though they are mutable"
      ],
      "metadata": {
        "id": "nEFf0ELXJ0Nv"
      }
    },
    {
      "cell_type": "code",
      "execution_count": null,
      "metadata": {
        "id": "HV7ca_z6FYmt",
        "colab": {
          "base_uri": "https://localhost:8080/"
        },
        "outputId": "1ae2a934-20d8-4f8f-e9b4-6f9520af6d3e"
      },
      "outputs": [
        {
          "output_type": "stream",
          "name": "stdout",
          "text": [
            "{34, 66, 21, 56, 12}\n"
          ]
        }
      ],
      "source": [
        "a = {12 ,34, 56,21,66}\n",
        "print(a)"
      ]
    },
    {
      "cell_type": "code",
      "source": [
        "# result has different order beacuse of 'hashing' , but no the question whats the banefit\n",
        "# :- beacuse of that we can do the searching in order(1) in set and dict : so SET and DICT has hashing concept"
      ],
      "metadata": {
        "id": "nf15YRwPyu6N"
      },
      "execution_count": null,
      "outputs": []
    },
    {
      "cell_type": "code",
      "source": [
        "# when ever we store th dict items , wesend the the key of dict to hash function , then ve got the position of the key value pair where should i store it"
      ],
      "metadata": {
        "id": "QpmF509j1TqO"
      },
      "execution_count": null,
      "outputs": []
    },
    {
      "cell_type": "code",
      "source": [
        "L = [15,21,31,45]\n",
        "list(enumerate(L))"
      ],
      "metadata": {
        "colab": {
          "base_uri": "https://localhost:8080/"
        },
        "id": "YwcBmyna7zSm",
        "outputId": "1a78aed3-a5bd-47ef-db8b-114f35a95dd8"
      },
      "execution_count": 1,
      "outputs": [
        {
          "output_type": "execute_result",
          "data": {
            "text/plain": [
              "[(0, 15), (1, 21), (2, 31), (3, 45)]"
            ]
          },
          "metadata": {},
          "execution_count": 1
        }
      ]
    },
    {
      "cell_type": "code",
      "source": [
        "L = [15,21,31,45]\n",
        "list(enumerate(L,start = 10))"
      ],
      "metadata": {
        "colab": {
          "base_uri": "https://localhost:8080/"
        },
        "id": "bsPFr52V8AqX",
        "outputId": "3d9f2454-dff8-4388-c035-276b5cf3dedb"
      },
      "execution_count": 3,
      "outputs": [
        {
          "output_type": "execute_result",
          "data": {
            "text/plain": [
              "[(10, 15), (11, 21), (12, 31), (13, 45)]"
            ]
          },
          "metadata": {},
          "execution_count": 3
        }
      ]
    },
    {
      "cell_type": "code",
      "source": [],
      "metadata": {
        "id": "FybW0jfU8DK5"
      },
      "execution_count": null,
      "outputs": []
    }
  ]
}