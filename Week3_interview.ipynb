{
  "nbformat": 4,
  "nbformat_minor": 0,
  "metadata": {
    "colab": {
      "provenance": [],
      "authorship_tag": "ABX9TyOFEF7/zX2k3Hl1enG8JuSg",
      "include_colab_link": true
    },
    "kernelspec": {
      "name": "python3",
      "display_name": "Python 3"
    },
    "language_info": {
      "name": "python"
    }
  },
  "cells": [
    {
      "cell_type": "markdown",
      "metadata": {
        "id": "view-in-github",
        "colab_type": "text"
      },
      "source": [
        "<a href=\"https://colab.research.google.com/github/Swapn2/Data-Science-Learnings/blob/main/Week3_interview.ipynb\" target=\"_parent\"><img src=\"https://colab.research.google.com/assets/colab-badge.svg\" alt=\"Open In Colab\"/></a>"
      ]
    },
    {
      "cell_type": "markdown",
      "source": [
        "- How indexing works in sets\n",
        "- Why dict key cant be mutable data types\n",
        "- Enumerate\n",
        "- destructor\n",
        "- dir/isinstance/issubclass\n",
        "- classmethod vs staticmethod\n",
        "- The diamond problem\n",
        "- What’s the meaning of single and double underscores in Python variable and method names\n",
        "- Magic Methods (repr vs str)\n",
        "- How can objects be stored in sets even though they are mutable"
      ],
      "metadata": {
        "id": "nEFf0ELXJ0Nv"
      }
    },
    {
      "cell_type": "code",
      "execution_count": null,
      "metadata": {
        "id": "HV7ca_z6FYmt",
        "colab": {
          "base_uri": "https://localhost:8080/"
        },
        "outputId": "1ae2a934-20d8-4f8f-e9b4-6f9520af6d3e"
      },
      "outputs": [
        {
          "output_type": "stream",
          "name": "stdout",
          "text": [
            "{34, 66, 21, 56, 12}\n"
          ]
        }
      ],
      "source": [
        "a = {12 ,34, 56,21,66}\n",
        "print(a)"
      ]
    },
    {
      "cell_type": "code",
      "source": [
        "# result has different order beacuse of 'hashing' , but no the question whats the banefit\n",
        "# :- beacuse of that we can do the searching in order(1) in set and dict : so SET and DICT has hashing concept"
      ],
      "metadata": {
        "id": "nf15YRwPyu6N"
      },
      "execution_count": null,
      "outputs": []
    },
    {
      "cell_type": "code",
      "source": [
        "# when ever we store th dict items , wesend the the key of dict to hash function , then ve got the position of the key value pair where should i store it"
      ],
      "metadata": {
        "id": "QpmF509j1TqO"
      },
      "execution_count": null,
      "outputs": []
    },
    {
      "cell_type": "code",
      "source": [
        "L = [15,21,31,45]\n",
        "list(enumerate(L))"
      ],
      "metadata": {
        "colab": {
          "base_uri": "https://localhost:8080/"
        },
        "id": "YwcBmyna7zSm",
        "outputId": "1a78aed3-a5bd-47ef-db8b-114f35a95dd8"
      },
      "execution_count": 1,
      "outputs": [
        {
          "output_type": "execute_result",
          "data": {
            "text/plain": [
              "[(0, 15), (1, 21), (2, 31), (3, 45)]"
            ]
          },
          "metadata": {},
          "execution_count": 1
        }
      ]
    },
    {
      "cell_type": "code",
      "source": [
        "L = [15,21,31,45]\n",
        "list(enumerate(L,start = 10))"
      ],
      "metadata": {
        "colab": {
          "base_uri": "https://localhost:8080/"
        },
        "id": "bsPFr52V8AqX",
        "outputId": "3d9f2454-dff8-4388-c035-276b5cf3dedb"
      },
      "execution_count": 3,
      "outputs": [
        {
          "output_type": "execute_result",
          "data": {
            "text/plain": [
              "[(10, 15), (11, 21), (12, 31), (13, 45)]"
            ]
          },
          "metadata": {},
          "execution_count": 3
        }
      ]
    },
    {
      "cell_type": "code",
      "source": [
        "L = [15,21,31,45,45]\n",
        "list(enumerate(L,start = 10))"
      ],
      "metadata": {
        "colab": {
          "base_uri": "https://localhost:8080/"
        },
        "id": "FybW0jfU8DK5",
        "outputId": "641e1e5e-665b-4d00-903f-2e2cbb4f00ff"
      },
      "execution_count": 4,
      "outputs": [
        {
          "output_type": "execute_result",
          "data": {
            "text/plain": [
              "[(10, 15), (11, 21), (12, 31), (13, 45), (14, 45)]"
            ]
          },
          "metadata": {},
          "execution_count": 4
        }
      ]
    },
    {
      "cell_type": "code",
      "source": [
        "L = [('swapn',45),('kaju',30),('ankita',12)]\n",
        "sorted(L, key=lambda x: x[1])\n"
      ],
      "metadata": {
        "colab": {
          "base_uri": "https://localhost:8080/"
        },
        "id": "G2eqWgAX9G_1",
        "outputId": "63bff513-e173-4bdd-f68f-91a21bfa3ab9"
      },
      "execution_count": 7,
      "outputs": [
        {
          "output_type": "execute_result",
          "data": {
            "text/plain": [
              "[('ankita', 12), ('kaju', 30), ('swapn', 45)]"
            ]
          },
          "metadata": {},
          "execution_count": 7
        }
      ]
    },
    {
      "cell_type": "code",
      "source": [
        "# destructor\n",
        "\n",
        "class Example:\n",
        "  def __init__(self):\n",
        "    print('constructor callled ')\n",
        "  # magic method\n",
        "  def __del__(self):\n",
        "    print(\"destructor called \")\n",
        "\n",
        "obj = Example()\n",
        "del obj  # generally we dont it in python bcoz python has garbage collector\n",
        "# if my program is going to be end , then some conifguratio based task we are started on constructor can be end here\n"
      ],
      "metadata": {
        "colab": {
          "base_uri": "https://localhost:8080/"
        },
        "id": "zr0CcEwP9zNR",
        "outputId": "7ed333b1-04cd-4161-cf5e-bd4066a44b07"
      },
      "execution_count": 10,
      "outputs": [
        {
          "output_type": "stream",
          "name": "stdout",
          "text": [
            "constructor callled \n",
            "destructor called \n"
          ]
        }
      ]
    },
    {
      "cell_type": "code",
      "source": [
        "# destructor\n",
        "\n",
        "class Example:\n",
        "  def __init__(self):\n",
        "    print('constructor callled ')\n",
        "\n",
        "  def __del__(self):\n",
        "    print(\"destructor called \")\n",
        "\n",
        "obj = Example()\n",
        "a = obj\n",
        "del obj\n",
        "# del a\n",
        "# destuctor will not be called untill all the objects are not deleted"
      ],
      "metadata": {
        "colab": {
          "base_uri": "https://localhost:8080/"
        },
        "id": "8m7DYrjgG9lT",
        "outputId": "c034a49c-aa78-4d20-a996-2b2458dd3d32"
      },
      "execution_count": 13,
      "outputs": [
        {
          "output_type": "stream",
          "name": "stdout",
          "text": [
            "constructor callled \n"
          ]
        }
      ]
    },
    {
      "cell_type": "code",
      "source": [
        "# dir\n",
        "class Test:\n",
        "  def __inti__(self):\n",
        "    self.foo = 11\n",
        "    self.bar = 23\n",
        "    self.__baz = 65  # _Test__baz this name change is name mamling\n",
        "\n",
        "  def greet(self):\n",
        "    print('hello')\n",
        "\n",
        "\n",
        "t = Test()\n",
        "print(dir(t)) # all attributes , all magic method , all methods"
      ],
      "metadata": {
        "colab": {
          "base_uri": "https://localhost:8080/"
        },
        "id": "TLhZ0Mp2ISqQ",
        "outputId": "079baedc-f340-43dd-c7e5-190d065726d7"
      },
      "execution_count": 16,
      "outputs": [
        {
          "output_type": "stream",
          "name": "stdout",
          "text": [
            "['__class__', '__delattr__', '__dict__', '__dir__', '__doc__', '__eq__', '__format__', '__ge__', '__getattribute__', '__getstate__', '__gt__', '__hash__', '__init__', '__init_subclass__', '__inti__', '__le__', '__lt__', '__module__', '__ne__', '__new__', '__reduce__', '__reduce_ex__', '__repr__', '__setattr__', '__sizeof__', '__str__', '__subclasshook__', '__weakref__', 'greet']\n"
          ]
        }
      ]
    },
    {
      "cell_type": "code",
      "source": [
        "# isinstance\n",
        "\n",
        "class Test:\n",
        "  def __init__(self):\n",
        "    print('hello')\n",
        "\n",
        "obj = Test()\n",
        "print(isinstance(obj,Test))\n",
        "\n"
      ],
      "metadata": {
        "colab": {
          "base_uri": "https://localhost:8080/"
        },
        "id": "nVMheiYhJmoe",
        "outputId": "69ee4fca-cdcb-46e5-c41d-cf83bc61ae6b"
      },
      "execution_count": 17,
      "outputs": [
        {
          "output_type": "stream",
          "name": "stdout",
          "text": [
            "hello\n",
            "True\n"
          ]
        }
      ]
    },
    {
      "cell_type": "code",
      "source": [
        "# issubclass\n",
        "\n",
        "class A:\n",
        "  def __int__(self):\n",
        "    print(\" A class\")\n",
        "\n",
        "class B(A):\n",
        "  pass\n",
        "\n",
        "issubclass(A,B)"
      ],
      "metadata": {
        "colab": {
          "base_uri": "https://localhost:8080/"
        },
        "id": "3DvGSiK9LOzJ",
        "outputId": "7c0d5bc4-903f-41c4-9a6b-1472c322dbae"
      },
      "execution_count": 18,
      "outputs": [
        {
          "output_type": "execute_result",
          "data": {
            "text/plain": [
              "False"
            ]
          },
          "metadata": {},
          "execution_count": 18
        }
      ]
    },
    {
      "cell_type": "markdown",
      "source": [],
      "metadata": {
        "id": "WqsI6mY8OFA1"
      }
    },
    {
      "cell_type": "code",
      "source": [
        "# The diamond problem\n",
        "class Class1:\n",
        "    def m(self):\n",
        "        print(\"In Class1\")\n",
        "\n",
        "class Class2(Class1):\n",
        "    def m(self):\n",
        "        print(\"In Class2\")\n",
        "\n",
        "class Class3(Class1):\n",
        "    def m(self):\n",
        "        print(\"In Class3\")\n",
        "\n",
        "class Class4(Class3, Class2):\n",
        "    pass\n",
        "\n",
        "obj = Class4()\n",
        "obj.m()\n",
        "# MRO Method resolution order"
      ],
      "metadata": {
        "colab": {
          "base_uri": "https://localhost:8080/"
        },
        "id": "ky_EMBdCMqsi",
        "outputId": "26309668-4f74-4f45-953f-9cd5d408d6ef"
      },
      "execution_count": 19,
      "outputs": [
        {
          "output_type": "stream",
          "name": "stdout",
          "text": [
            "In Class3\n"
          ]
        }
      ]
    },
    {
      "cell_type": "code",
      "source": [],
      "metadata": {
        "id": "DRbn-m1qPGK1"
      },
      "execution_count": null,
      "outputs": []
    }
  ]
}