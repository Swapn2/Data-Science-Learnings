{
  "nbformat": 4,
  "nbformat_minor": 0,
  "metadata": {
    "colab": {
      "provenance": [],
      "authorship_tag": "ABX9TyN00ZqAjO9A5o66PLuVXRTQ",
      "include_colab_link": true
    },
    "kernelspec": {
      "name": "python3",
      "display_name": "Python 3"
    },
    "language_info": {
      "name": "python"
    }
  },
  "cells": [
    {
      "cell_type": "markdown",
      "metadata": {
        "id": "view-in-github",
        "colab_type": "text"
      },
      "source": [
        "<a href=\"https://colab.research.google.com/github/Swapn2/Data-Science-Learnings/blob/main/Week3_interview.ipynb\" target=\"_parent\"><img src=\"https://colab.research.google.com/assets/colab-badge.svg\" alt=\"Open In Colab\"/></a>"
      ]
    },
    {
      "cell_type": "markdown",
      "source": [
        "- How indexing works in sets\n",
        "- Why dict key cant be mutable data types\n",
        "- Enumerate\n",
        "- destructor\n",
        "- dir/isinstance/issubclass\n",
        "- classmethod vs staticmethod\n",
        "- The diamond problem\n",
        "- What’s the meaning of single and double underscores in Python variable and method names\n",
        "- Magic Methods (repr vs str)\n",
        "- How can objects be stored in sets even though they are mutable"
      ],
      "metadata": {
        "id": "nEFf0ELXJ0Nv"
      }
    },
    {
      "cell_type": "code",
      "execution_count": 1,
      "metadata": {
        "id": "HV7ca_z6FYmt",
        "colab": {
          "base_uri": "https://localhost:8080/"
        },
        "outputId": "3b7ca62b-be54-497f-d232-729b7e96a324"
      },
      "outputs": [
        {
          "output_type": "stream",
          "name": "stdout",
          "text": [
            "{34, 66, 21, 56, 12}\n"
          ]
        }
      ],
      "source": [
        "a = {12 ,34, 56,21,66}\n",
        "print(a)"
      ]
    },
    {
      "cell_type": "code",
      "source": [
        "# result has different order beacuse of 'hashing' , but no the question whats the banefit\n",
        "# :- beacuse of that we can do the searching in order(1) in set and dict : so SET and DICT has hashing concept"
      ],
      "metadata": {
        "id": "nf15YRwPyu6N"
      },
      "execution_count": null,
      "outputs": []
    }
  ]
}