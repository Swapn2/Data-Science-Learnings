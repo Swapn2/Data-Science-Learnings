{
  "nbformat": 4,
  "nbformat_minor": 0,
  "metadata": {
    "colab": {
      "provenance": [],
      "authorship_tag": "ABX9TyNouMPDNq520tOu2qQPY0eR",
      "include_colab_link": true
    },
    "kernelspec": {
      "name": "python3",
      "display_name": "Python 3"
    },
    "language_info": {
      "name": "python"
    }
  },
  "cells": [
    {
      "cell_type": "markdown",
      "metadata": {
        "id": "view-in-github",
        "colab_type": "text"
      },
      "source": [
        "<a href=\"https://colab.research.google.com/github/Swapn2/Data-Science-Learnings/blob/main/advance_NumPy.ipynb\" target=\"_parent\"><img src=\"https://colab.research.google.com/assets/colab-badge.svg\" alt=\"Open In Colab\"/></a>"
      ]
    },
    {
      "cell_type": "markdown",
      "source": [
        "# Numpy Array vs Python List"
      ],
      "metadata": {
        "id": "N6z6RD6AmIfM"
      }
    },
    {
      "cell_type": "code",
      "execution_count": 3,
      "metadata": {
        "colab": {
          "base_uri": "https://localhost:8080/"
        },
        "id": "WUsVwtoRg9-l",
        "outputId": "0e44bf23-e9b1-4ff8-c357-d5c12bafa36f"
      },
      "outputs": [
        {
          "output_type": "stream",
          "name": "stdout",
          "text": [
            "3.3178083896636963\n"
          ]
        }
      ],
      "source": [
        "# python list\n",
        "a = [i for i in range(10000000)]\n",
        "b = [i for i in range(10000000,20000000)]\n",
        "import time\n",
        "c = []\n",
        "start = time.time()\n",
        "for i in range(len(a)):\n",
        "  c.append(a[i] +b[i])\n",
        "print(time.time()-start)"
      ]
    },
    {
      "cell_type": "code",
      "source": [
        "# Numpy array\n",
        "import numpy as np\n",
        "a = np.arange(10000000)\n",
        "b = np.arange(10000000,20000000)\n",
        "\n",
        "start = time.time()\n",
        "c = a+b\n",
        "print(time.time()-start)"
      ],
      "metadata": {
        "colab": {
          "base_uri": "https://localhost:8080/"
        },
        "id": "UVdiR8VfnLeN",
        "outputId": "9cb47a6a-b6f8-42e1-93fa-4833f7e94648"
      },
      "execution_count": 6,
      "outputs": [
        {
          "output_type": "stream",
          "name": "stdout",
          "text": [
            "0.03305697441101074\n"
          ]
        }
      ]
    },
    {
      "cell_type": "code",
      "source": [
        "# memory\n",
        "a = [i for i in range(10000000)]\n",
        "import sys\n",
        "\n",
        "sys.getsizeof(a)"
      ],
      "metadata": {
        "colab": {
          "base_uri": "https://localhost:8080/"
        },
        "id": "7cs5pfl8nwCh",
        "outputId": "2ccf0d14-0222-4ffc-f91a-93fe0d2ccd3d"
      },
      "execution_count": 7,
      "outputs": [
        {
          "output_type": "execute_result",
          "data": {
            "text/plain": [
              "89095160"
            ]
          },
          "metadata": {},
          "execution_count": 7
        }
      ]
    },
    {
      "cell_type": "code",
      "source": [
        "a = np.arange(10000000,dtype = np.int16)\n",
        "sys.getsizeof(a)"
      ],
      "metadata": {
        "colab": {
          "base_uri": "https://localhost:8080/"
        },
        "id": "TO93kKk4ok1M",
        "outputId": "82c1edde-f595-4ed6-a2d9-d1642c715781"
      },
      "execution_count": 10,
      "outputs": [
        {
          "output_type": "execute_result",
          "data": {
            "text/plain": [
              "20000112"
            ]
          },
          "metadata": {},
          "execution_count": 10
        }
      ]
    },
    {
      "cell_type": "markdown",
      "source": [
        "# Advance Indexing"
      ],
      "metadata": {
        "id": "uu7sPcoLrzwl"
      }
    },
    {
      "cell_type": "code",
      "source": [
        "# normal indexing and slicing\n",
        "\n",
        "a = np.arange(24).reshape(6,4)\n",
        "a"
      ],
      "metadata": {
        "colab": {
          "base_uri": "https://localhost:8080/"
        },
        "id": "6RHLkfWdpAPV",
        "outputId": "8c70f6c1-3300-4902-ae4e-48b5f9876633"
      },
      "execution_count": 17,
      "outputs": [
        {
          "output_type": "execute_result",
          "data": {
            "text/plain": [
              "array([[ 0,  1,  2,  3],\n",
              "       [ 4,  5,  6,  7],\n",
              "       [ 8,  9, 10, 11],\n",
              "       [12, 13, 14, 15],\n",
              "       [16, 17, 18, 19],\n",
              "       [20, 21, 22, 23]])"
            ]
          },
          "metadata": {},
          "execution_count": 17
        }
      ]
    },
    {
      "cell_type": "code",
      "source": [
        "a[1,2]"
      ],
      "metadata": {
        "colab": {
          "base_uri": "https://localhost:8080/"
        },
        "id": "hXNwNzZKsBG0",
        "outputId": "08bb1d67-d0e5-48af-cfdd-aa2e308f7fbe"
      },
      "execution_count": 18,
      "outputs": [
        {
          "output_type": "execute_result",
          "data": {
            "text/plain": [
              "np.int64(6)"
            ]
          },
          "metadata": {},
          "execution_count": 18
        }
      ]
    },
    {
      "cell_type": "code",
      "source": [
        "# fancy indexing\n",
        "import numpy as np\n",
        "\n",
        "# let say you need 1st , 3rd and 4th row\n",
        "\n",
        "a[[0,2,3]]"
      ],
      "metadata": {
        "colab": {
          "base_uri": "https://localhost:8080/"
        },
        "id": "p_GsYuGAsWpG",
        "outputId": "8849a69f-44ee-4bce-d731-f296f805d3b6"
      },
      "execution_count": 19,
      "outputs": [
        {
          "output_type": "execute_result",
          "data": {
            "text/plain": [
              "array([[ 0,  1,  2,  3],\n",
              "       [ 8,  9, 10, 11],\n",
              "       [12, 13, 14, 15]])"
            ]
          },
          "metadata": {},
          "execution_count": 19
        }
      ]
    },
    {
      "cell_type": "code",
      "source": [
        "a[[0,2,3,5]]"
      ],
      "metadata": {
        "colab": {
          "base_uri": "https://localhost:8080/"
        },
        "id": "ov5rYQ9ps41M",
        "outputId": "dea87fbf-24c3-4fdb-f7ef-f0e4ad88160c"
      },
      "execution_count": 20,
      "outputs": [
        {
          "output_type": "execute_result",
          "data": {
            "text/plain": [
              "array([[ 0,  1,  2,  3],\n",
              "       [ 8,  9, 10, 11],\n",
              "       [12, 13, 14, 15],\n",
              "       [20, 21, 22, 23]])"
            ]
          },
          "metadata": {},
          "execution_count": 20
        }
      ]
    },
    {
      "cell_type": "code",
      "source": [
        "a[:,[0,2,3]]  # extracting column"
      ],
      "metadata": {
        "colab": {
          "base_uri": "https://localhost:8080/"
        },
        "id": "RHuRRycgtJMk",
        "outputId": "0e51e229-5947-4f65-9501-742bf6268e1f"
      },
      "execution_count": 21,
      "outputs": [
        {
          "output_type": "execute_result",
          "data": {
            "text/plain": [
              "array([[ 0,  2,  3],\n",
              "       [ 4,  6,  7],\n",
              "       [ 8, 10, 11],\n",
              "       [12, 14, 15],\n",
              "       [16, 18, 19],\n",
              "       [20, 22, 23]])"
            ]
          },
          "metadata": {},
          "execution_count": 21
        }
      ]
    },
    {
      "cell_type": "code",
      "source": [
        "# Boolean indexing\n",
        "import numpy as np\n",
        "\n",
        "a = np.random.randint(1,100,24).reshape(6,4)\n",
        "a"
      ],
      "metadata": {
        "colab": {
          "base_uri": "https://localhost:8080/"
        },
        "id": "bcLVNUKYtWaq",
        "outputId": "333dac3c-03bc-4a68-cf84-bb31615f5447"
      },
      "execution_count": 23,
      "outputs": [
        {
          "output_type": "execute_result",
          "data": {
            "text/plain": [
              "array([[37, 58, 83, 43],\n",
              "       [14, 75, 86, 95],\n",
              "       [56, 48, 88, 12],\n",
              "       [71, 70, 83,  9],\n",
              "       [13, 67, 34,  1],\n",
              "       [99, 96, 57, 84]])"
            ]
          },
          "metadata": {},
          "execution_count": 23
        }
      ]
    },
    {
      "cell_type": "code",
      "source": [
        "# find all the number greater than 50\n",
        "# a > 50\n",
        "a[a>50]   # boolean mask"
      ],
      "metadata": {
        "colab": {
          "base_uri": "https://localhost:8080/"
        },
        "id": "Dt0IL6a3udty",
        "outputId": "9a7de2b6-76e6-4985-e964-d9ee0dd5efa6"
      },
      "execution_count": 26,
      "outputs": [
        {
          "output_type": "execute_result",
          "data": {
            "text/plain": [
              "array([58, 83, 75, 86, 95, 56, 88, 71, 70, 83, 67, 99, 96, 57, 84])"
            ]
          },
          "metadata": {},
          "execution_count": 26
        }
      ]
    },
    {
      "cell_type": "code",
      "source": [
        "# find out even number\n",
        "a[a%2 ==0 ]"
      ],
      "metadata": {
        "colab": {
          "base_uri": "https://localhost:8080/"
        },
        "id": "F2PTaVWlupt4",
        "outputId": "82a81829-6b27-4ffb-90d9-71afe15ae9e7"
      },
      "execution_count": 27,
      "outputs": [
        {
          "output_type": "execute_result",
          "data": {
            "text/plain": [
              "array([58, 14, 86, 56, 48, 88, 12, 70, 34, 96, 84])"
            ]
          },
          "metadata": {},
          "execution_count": 27
        }
      ]
    },
    {
      "cell_type": "code",
      "source": [
        "# find all the numbers greater than 50 and even\n",
        "a[(a%2 == 0)&(a>50)]"
      ],
      "metadata": {
        "colab": {
          "base_uri": "https://localhost:8080/"
        },
        "id": "gfYMYY0SvNVk",
        "outputId": "ab55c26e-ec08-4bb4-d744-be664ac25654"
      },
      "execution_count": 31,
      "outputs": [
        {
          "output_type": "execute_result",
          "data": {
            "text/plain": [
              "array([58, 86, 56, 88, 70, 96, 84])"
            ]
          },
          "metadata": {},
          "execution_count": 31
        }
      ]
    },
    {
      "cell_type": "code",
      "source": [
        "# find all the numbers not divisible by 7\n",
        "a [a% 7 != 0 ]"
      ],
      "metadata": {
        "colab": {
          "base_uri": "https://localhost:8080/"
        },
        "id": "cMfE8Qswvi2H",
        "outputId": "e0bdc86d-b13b-4330-cb12-59094a265e68"
      },
      "execution_count": 32,
      "outputs": [
        {
          "output_type": "execute_result",
          "data": {
            "text/plain": [
              "array([37, 58, 83, 43, 75, 86, 95, 48, 88, 12, 71, 83,  9, 13, 67, 34,  1,\n",
              "       99, 96, 57])"
            ]
          },
          "metadata": {},
          "execution_count": 32
        }
      ]
    },
    {
      "cell_type": "code",
      "source": [
        "# find all the numbers not divisible by 7\n",
        "a [~(a% 7 == 0) ]"
      ],
      "metadata": {
        "colab": {
          "base_uri": "https://localhost:8080/"
        },
        "id": "pAHvXybiwLJr",
        "outputId": "d8fd1940-dd73-4492-965a-42f93be7d1b4"
      },
      "execution_count": 33,
      "outputs": [
        {
          "output_type": "execute_result",
          "data": {
            "text/plain": [
              "array([37, 58, 83, 43, 75, 86, 95, 48, 88, 12, 71, 83,  9, 13, 67, 34,  1,\n",
              "       99, 96, 57])"
            ]
          },
          "metadata": {},
          "execution_count": 33
        }
      ]
    },
    {
      "cell_type": "markdown",
      "source": [
        "### Broadcasting\n",
        "\n",
        "The term broadcasting describes how NumPy treats arrays with different shapes during arithmetic operations.\n",
        "\n",
        "The smaller array is “broadcast” across the larger array so that they have compatible shapes."
      ],
      "metadata": {
        "id": "C_J94ZTFx2li"
      }
    },
    {
      "cell_type": "code",
      "source": [
        "# same shape\n",
        "a = np.arange(6).reshape(2,3)\n",
        "b = np.arange(6,12).reshape(2,3)\n",
        "\n",
        "print(a)\n",
        "print(b)\n",
        "print(a+b)"
      ],
      "metadata": {
        "colab": {
          "base_uri": "https://localhost:8080/"
        },
        "id": "UGhRCxo6x6_n",
        "outputId": "652c2ef8-23b7-4f6f-b3ce-f43a03d833c6"
      },
      "execution_count": 36,
      "outputs": [
        {
          "output_type": "stream",
          "name": "stdout",
          "text": [
            "[[0 1 2]\n",
            " [3 4 5]]\n",
            "[[ 6  7  8]\n",
            " [ 9 10 11]]\n",
            "[[ 6  8 10]\n",
            " [12 14 16]]\n"
          ]
        }
      ]
    },
    {
      "cell_type": "code",
      "source": [
        "# same shape\n",
        "a = np.arange(6).reshape(2,3)\n",
        "b = np.arange(3).reshape(1,3)\n",
        "\n",
        "print(a)\n",
        "print(b)\n",
        "print(a+b)"
      ],
      "metadata": {
        "colab": {
          "base_uri": "https://localhost:8080/"
        },
        "id": "BlxS27WfydRX",
        "outputId": "1e3c6681-e327-4a56-f231-cbef59f94e0c"
      },
      "execution_count": 37,
      "outputs": [
        {
          "output_type": "stream",
          "name": "stdout",
          "text": [
            "[[0 1 2]\n",
            " [3 4 5]]\n",
            "[[0 1 2]]\n",
            "[[0 2 4]\n",
            " [3 5 7]]\n"
          ]
        }
      ]
    },
    {
      "cell_type": "code",
      "source": [],
      "metadata": {
        "id": "Kk14M_Pfyc-m"
      },
      "execution_count": null,
      "outputs": []
    },
    {
      "cell_type": "markdown",
      "source": [
        "#### Broadcasting Rules\n",
        "\n",
        "**1. Make the two arrays have the same number of dimensions.**<br>\n",
        "- If the numbers of dimensions of the two arrays are different, add new dimensions with size 1 to the head of the array with the smaller dimension.<br>"
      ],
      "metadata": {
        "id": "IeDS0uNIxjZv"
      }
    },
    {
      "cell_type": "markdown",
      "source": [
        "**2. Make each dimension of the two arrays the same size.**<br>\n",
        "- If the sizes of each dimension of the two arrays do not match, dimensions with size 1 are stretched to the size of the other array.\n",
        "- If there is a dimension whose size is not 1 in either of the two arrays, it cannot be broadcasted, and an error is raised."
      ],
      "metadata": {
        "id": "Un8enD_Exl3l"
      }
    },
    {
      "cell_type": "markdown",
      "source": [
        "<img src = \"https://jakevdp.github.io/PythonDataScienceHandbook/figures/02.05-broadcasting.png\">"
      ],
      "metadata": {
        "id": "RfPOtxa8xn_5"
      }
    },
    {
      "cell_type": "code",
      "source": [
        "a = np.arange(12).reshape(4,3)\n",
        "b = np.arange(3)\n",
        "\n",
        "print(a)\n",
        "print(b)\n",
        "\n",
        "print (a+b)"
      ],
      "metadata": {
        "colab": {
          "base_uri": "https://localhost:8080/"
        },
        "id": "q7CxbZ2HwmOx",
        "outputId": "651e4cbe-338f-42a7-c906-f91288dd1266"
      },
      "execution_count": 39,
      "outputs": [
        {
          "output_type": "stream",
          "name": "stdout",
          "text": [
            "[[ 0  1  2]\n",
            " [ 3  4  5]\n",
            " [ 6  7  8]\n",
            " [ 9 10 11]]\n",
            "[0 1 2]\n",
            "[[ 0  2  4]\n",
            " [ 3  5  7]\n",
            " [ 6  8 10]\n",
            " [ 9 11 13]]\n"
          ]
        }
      ]
    },
    {
      "cell_type": "code",
      "source": [
        "a = np.arange(12).reshape(3,4)\n",
        "b = np.arange(3)\n",
        "\n",
        "print(a)\n",
        "print(b)\n",
        "\n",
        "print (a+b)"
      ],
      "metadata": {
        "colab": {
          "base_uri": "https://localhost:8080/",
          "height": 245
        },
        "id": "jSGzWPLB4xh3",
        "outputId": "8ff5fa3e-7800-40ef-f054-cab6a6ce4154"
      },
      "execution_count": 40,
      "outputs": [
        {
          "output_type": "stream",
          "name": "stdout",
          "text": [
            "[[ 0  1  2  3]\n",
            " [ 4  5  6  7]\n",
            " [ 8  9 10 11]]\n",
            "[0 1 2]\n"
          ]
        },
        {
          "output_type": "error",
          "ename": "ValueError",
          "evalue": "operands could not be broadcast together with shapes (3,4) (3,) ",
          "traceback": [
            "\u001b[0;31m---------------------------------------------------------------------------\u001b[0m",
            "\u001b[0;31mValueError\u001b[0m                                Traceback (most recent call last)",
            "\u001b[0;32m<ipython-input-40-a5f9a1235f3e>\u001b[0m in \u001b[0;36m<cell line: 0>\u001b[0;34m()\u001b[0m\n\u001b[1;32m      5\u001b[0m \u001b[0mprint\u001b[0m\u001b[0;34m(\u001b[0m\u001b[0mb\u001b[0m\u001b[0;34m)\u001b[0m\u001b[0;34m\u001b[0m\u001b[0;34m\u001b[0m\u001b[0m\n\u001b[1;32m      6\u001b[0m \u001b[0;34m\u001b[0m\u001b[0m\n\u001b[0;32m----> 7\u001b[0;31m \u001b[0mprint\u001b[0m \u001b[0;34m(\u001b[0m\u001b[0ma\u001b[0m\u001b[0;34m+\u001b[0m\u001b[0mb\u001b[0m\u001b[0;34m)\u001b[0m\u001b[0;34m\u001b[0m\u001b[0;34m\u001b[0m\u001b[0m\n\u001b[0m",
            "\u001b[0;31mValueError\u001b[0m: operands could not be broadcast together with shapes (3,4) (3,) "
          ]
        }
      ]
    },
    {
      "cell_type": "code",
      "source": [
        "a = np.arange(3).reshape(1,3)\n",
        "b = np.arange(3).reshape(3,1)\n",
        "\n",
        "print(a+b)"
      ],
      "metadata": {
        "colab": {
          "base_uri": "https://localhost:8080/"
        },
        "id": "t1hbdIMN5PSZ",
        "outputId": "678ab770-8202-49df-c9b6-c72021b997fb"
      },
      "execution_count": 41,
      "outputs": [
        {
          "output_type": "stream",
          "name": "stdout",
          "text": [
            "[[0 1 2]\n",
            " [1 2 3]\n",
            " [2 3 4]]\n"
          ]
        }
      ]
    },
    {
      "cell_type": "code",
      "source": [
        "a = np.arange(3).reshape(1,3)\n",
        "b = np.arange(4).reshape(4,1)\n",
        "\n",
        "print(a+b)"
      ],
      "metadata": {
        "colab": {
          "base_uri": "https://localhost:8080/"
        },
        "id": "JzwbwWUh6Qp3",
        "outputId": "6bed3450-d8ef-42a8-a5d9-50786b3f1ee0"
      },
      "execution_count": 42,
      "outputs": [
        {
          "output_type": "stream",
          "name": "stdout",
          "text": [
            "[[0 1 2]\n",
            " [1 2 3]\n",
            " [2 3 4]\n",
            " [3 4 5]]\n"
          ]
        }
      ]
    },
    {
      "cell_type": "code",
      "source": [
        "a = np.arange(12).reshape(3,4)\n",
        "b = np.arange(12).reshape(4,3)\n",
        "\n",
        "print(a+b)"
      ],
      "metadata": {
        "colab": {
          "base_uri": "https://localhost:8080/",
          "height": 176
        },
        "id": "ImJWVWfj6fcC",
        "outputId": "9ef85acf-0095-430a-e1d4-439e9821b190"
      },
      "execution_count": 43,
      "outputs": [
        {
          "output_type": "error",
          "ename": "ValueError",
          "evalue": "operands could not be broadcast together with shapes (3,4) (4,3) ",
          "traceback": [
            "\u001b[0;31m---------------------------------------------------------------------------\u001b[0m",
            "\u001b[0;31mValueError\u001b[0m                                Traceback (most recent call last)",
            "\u001b[0;32m<ipython-input-43-41ecf976c0e4>\u001b[0m in \u001b[0;36m<cell line: 0>\u001b[0;34m()\u001b[0m\n\u001b[1;32m      2\u001b[0m \u001b[0mb\u001b[0m \u001b[0;34m=\u001b[0m \u001b[0mnp\u001b[0m\u001b[0;34m.\u001b[0m\u001b[0marange\u001b[0m\u001b[0;34m(\u001b[0m\u001b[0;36m12\u001b[0m\u001b[0;34m)\u001b[0m\u001b[0;34m.\u001b[0m\u001b[0mreshape\u001b[0m\u001b[0;34m(\u001b[0m\u001b[0;36m4\u001b[0m\u001b[0;34m,\u001b[0m\u001b[0;36m3\u001b[0m\u001b[0;34m)\u001b[0m\u001b[0;34m\u001b[0m\u001b[0;34m\u001b[0m\u001b[0m\n\u001b[1;32m      3\u001b[0m \u001b[0;34m\u001b[0m\u001b[0m\n\u001b[0;32m----> 4\u001b[0;31m \u001b[0mprint\u001b[0m\u001b[0;34m(\u001b[0m\u001b[0ma\u001b[0m\u001b[0;34m+\u001b[0m\u001b[0mb\u001b[0m\u001b[0;34m)\u001b[0m\u001b[0;34m\u001b[0m\u001b[0;34m\u001b[0m\u001b[0m\n\u001b[0m",
            "\u001b[0;31mValueError\u001b[0m: operands could not be broadcast together with shapes (3,4) (4,3) "
          ]
        }
      ]
    },
    {
      "cell_type": "code",
      "source": [
        "a = np.arange(16).reshape(4,4)\n",
        "b = np.arange(4).reshape(2,2)\n",
        "\n",
        "print(a+b)"
      ],
      "metadata": {
        "colab": {
          "base_uri": "https://localhost:8080/",
          "height": 176
        },
        "id": "ek65QQ-p7P6S",
        "outputId": "4ce3fd6b-b679-4bf1-b1db-2cce2757242a"
      },
      "execution_count": 44,
      "outputs": [
        {
          "output_type": "error",
          "ename": "ValueError",
          "evalue": "operands could not be broadcast together with shapes (4,4) (2,2) ",
          "traceback": [
            "\u001b[0;31m---------------------------------------------------------------------------\u001b[0m",
            "\u001b[0;31mValueError\u001b[0m                                Traceback (most recent call last)",
            "\u001b[0;32m<ipython-input-44-021519194431>\u001b[0m in \u001b[0;36m<cell line: 0>\u001b[0;34m()\u001b[0m\n\u001b[1;32m      2\u001b[0m \u001b[0mb\u001b[0m \u001b[0;34m=\u001b[0m \u001b[0mnp\u001b[0m\u001b[0;34m.\u001b[0m\u001b[0marange\u001b[0m\u001b[0;34m(\u001b[0m\u001b[0;36m4\u001b[0m\u001b[0;34m)\u001b[0m\u001b[0;34m.\u001b[0m\u001b[0mreshape\u001b[0m\u001b[0;34m(\u001b[0m\u001b[0;36m2\u001b[0m\u001b[0;34m,\u001b[0m\u001b[0;36m2\u001b[0m\u001b[0;34m)\u001b[0m\u001b[0;34m\u001b[0m\u001b[0;34m\u001b[0m\u001b[0m\n\u001b[1;32m      3\u001b[0m \u001b[0;34m\u001b[0m\u001b[0m\n\u001b[0;32m----> 4\u001b[0;31m \u001b[0mprint\u001b[0m\u001b[0;34m(\u001b[0m\u001b[0ma\u001b[0m\u001b[0;34m+\u001b[0m\u001b[0mb\u001b[0m\u001b[0;34m)\u001b[0m\u001b[0;34m\u001b[0m\u001b[0;34m\u001b[0m\u001b[0m\n\u001b[0m",
            "\u001b[0;31mValueError\u001b[0m: operands could not be broadcast together with shapes (4,4) (2,2) "
          ]
        }
      ]
    },
    {
      "cell_type": "markdown",
      "source": [
        "# working with mathmetical formula\n"
      ],
      "metadata": {
        "id": "kkUF7O-Q9EyV"
      }
    },
    {
      "cell_type": "code",
      "source": [
        "# sigmoid in logistic regression\n",
        "def sigmoid(num):\n",
        "  return 1/(1+np.exp(-num))\n",
        "\n",
        "\n",
        "a = np.arange(10)\n",
        "a\n",
        "sigmoid(a)"
      ],
      "metadata": {
        "colab": {
          "base_uri": "https://localhost:8080/"
        },
        "id": "YkosKJSE71TK",
        "outputId": "f76de3ff-61b6-4896-dc9e-b4b2331da3c6"
      },
      "execution_count": 47,
      "outputs": [
        {
          "output_type": "execute_result",
          "data": {
            "text/plain": [
              "array([0.5       , 0.73105858, 0.88079708, 0.95257413, 0.98201379,\n",
              "       0.99330715, 0.99752738, 0.99908895, 0.99966465, 0.99987661])"
            ]
          },
          "metadata": {},
          "execution_count": 47
        }
      ]
    },
    {
      "cell_type": "code",
      "source": [
        "# mean squared error for linear regression\n",
        "actual = np.random.randint(1,50,25)\n",
        "predicted  = np.random.randint(1,50,25)\n",
        "\n",
        "actual\n"
      ],
      "metadata": {
        "colab": {
          "base_uri": "https://localhost:8080/"
        },
        "id": "TkwpUn4T-bHS",
        "outputId": "f2518d88-e5b2-4a9d-ad91-5fb8958fd6e7"
      },
      "execution_count": 49,
      "outputs": [
        {
          "output_type": "execute_result",
          "data": {
            "text/plain": [
              "array([34, 36, 40, 31, 37, 36, 14,  5,  9, 20, 13, 25, 33, 25, 31, 32, 30,\n",
              "        8, 42, 13, 17,  5, 41, 24, 21])"
            ]
          },
          "metadata": {},
          "execution_count": 49
        }
      ]
    },
    {
      "cell_type": "code",
      "source": [
        "predicted"
      ],
      "metadata": {
        "colab": {
          "base_uri": "https://localhost:8080/"
        },
        "id": "u5WWWSj1KKlg",
        "outputId": "f361c83d-e0f4-4a5c-8105-ac9895d7faa9"
      },
      "execution_count": 50,
      "outputs": [
        {
          "output_type": "execute_result",
          "data": {
            "text/plain": [
              "array([34, 36, 40, 31, 37, 36, 14,  5,  9, 20, 13, 25, 33, 25, 31, 32, 30,\n",
              "        8, 42, 13, 17,  5, 41, 24, 21])"
            ]
          },
          "metadata": {},
          "execution_count": 50
        }
      ]
    },
    {
      "cell_type": "code",
      "source": [
        "def mse(actual,predicted):\n",
        "  return np.mean((actual-predicted)**2)\n",
        "\n",
        "mse(actual,predicted)"
      ],
      "metadata": {
        "colab": {
          "base_uri": "https://localhost:8080/"
        },
        "id": "a6UUFoR_KPdH",
        "outputId": "dc0defcb-a63b-4eb8-c303-9e8c7cb438fd"
      },
      "execution_count": 51,
      "outputs": [
        {
          "output_type": "execute_result",
          "data": {
            "text/plain": [
              "np.float64(432.32)"
            ]
          },
          "metadata": {},
          "execution_count": 51
        }
      ]
    },
    {
      "cell_type": "markdown",
      "source": [
        "# working wiht missing values\n"
      ],
      "metadata": {
        "id": "-5dpad5KM2j3"
      }
    },
    {
      "cell_type": "code",
      "source": [
        "a = np.array([1,2,3,4,np.nan,6,7])\n",
        "a"
      ],
      "metadata": {
        "colab": {
          "base_uri": "https://localhost:8080/"
        },
        "id": "-boQGAN5K1lb",
        "outputId": "70fb6062-37fd-44d1-fcc0-299560a30ae3"
      },
      "execution_count": 52,
      "outputs": [
        {
          "output_type": "execute_result",
          "data": {
            "text/plain": [
              "array([ 1.,  2.,  3.,  4., nan,  6.,  7.])"
            ]
          },
          "metadata": {},
          "execution_count": 52
        }
      ]
    },
    {
      "cell_type": "code",
      "source": [
        "np.isnan(a)"
      ],
      "metadata": {
        "colab": {
          "base_uri": "https://localhost:8080/"
        },
        "id": "fUmV7Nx8NDWh",
        "outputId": "8e6f6913-15ca-4d09-ac30-4036e3a47b9f"
      },
      "execution_count": 55,
      "outputs": [
        {
          "output_type": "execute_result",
          "data": {
            "text/plain": [
              "array([False, False, False, False,  True, False, False])"
            ]
          },
          "metadata": {},
          "execution_count": 55
        }
      ]
    },
    {
      "cell_type": "code",
      "source": [
        "a[~np.isnan(a)]"
      ],
      "metadata": {
        "colab": {
          "base_uri": "https://localhost:8080/"
        },
        "id": "lE245CjFNgGd",
        "outputId": "1a739ecb-004c-43fe-86ac-465294792a53"
      },
      "execution_count": 56,
      "outputs": [
        {
          "output_type": "execute_result",
          "data": {
            "text/plain": [
              "array([1., 2., 3., 4., 6., 7.])"
            ]
          },
          "metadata": {},
          "execution_count": 56
        }
      ]
    },
    {
      "cell_type": "markdown",
      "source": [
        "# Plotting graph"
      ],
      "metadata": {
        "id": "pJ6kFIpuOHqA"
      }
    },
    {
      "cell_type": "code",
      "source": [
        "x = np.linspace(-10,10,100)\n",
        "y = x"
      ],
      "metadata": {
        "id": "WndrVlQmOHVT"
      },
      "execution_count": 58,
      "outputs": []
    },
    {
      "cell_type": "code",
      "source": [
        "y"
      ],
      "metadata": {
        "colab": {
          "base_uri": "https://localhost:8080/"
        },
        "id": "osVDuS8XNxjq",
        "outputId": "e0f57472-277d-4094-cd95-0f3352f9ed68"
      },
      "execution_count": 59,
      "outputs": [
        {
          "output_type": "execute_result",
          "data": {
            "text/plain": [
              "array([-10.        ,  -9.7979798 ,  -9.5959596 ,  -9.39393939,\n",
              "        -9.19191919,  -8.98989899,  -8.78787879,  -8.58585859,\n",
              "        -8.38383838,  -8.18181818,  -7.97979798,  -7.77777778,\n",
              "        -7.57575758,  -7.37373737,  -7.17171717,  -6.96969697,\n",
              "        -6.76767677,  -6.56565657,  -6.36363636,  -6.16161616,\n",
              "        -5.95959596,  -5.75757576,  -5.55555556,  -5.35353535,\n",
              "        -5.15151515,  -4.94949495,  -4.74747475,  -4.54545455,\n",
              "        -4.34343434,  -4.14141414,  -3.93939394,  -3.73737374,\n",
              "        -3.53535354,  -3.33333333,  -3.13131313,  -2.92929293,\n",
              "        -2.72727273,  -2.52525253,  -2.32323232,  -2.12121212,\n",
              "        -1.91919192,  -1.71717172,  -1.51515152,  -1.31313131,\n",
              "        -1.11111111,  -0.90909091,  -0.70707071,  -0.50505051,\n",
              "        -0.3030303 ,  -0.1010101 ,   0.1010101 ,   0.3030303 ,\n",
              "         0.50505051,   0.70707071,   0.90909091,   1.11111111,\n",
              "         1.31313131,   1.51515152,   1.71717172,   1.91919192,\n",
              "         2.12121212,   2.32323232,   2.52525253,   2.72727273,\n",
              "         2.92929293,   3.13131313,   3.33333333,   3.53535354,\n",
              "         3.73737374,   3.93939394,   4.14141414,   4.34343434,\n",
              "         4.54545455,   4.74747475,   4.94949495,   5.15151515,\n",
              "         5.35353535,   5.55555556,   5.75757576,   5.95959596,\n",
              "         6.16161616,   6.36363636,   6.56565657,   6.76767677,\n",
              "         6.96969697,   7.17171717,   7.37373737,   7.57575758,\n",
              "         7.77777778,   7.97979798,   8.18181818,   8.38383838,\n",
              "         8.58585859,   8.78787879,   8.98989899,   9.19191919,\n",
              "         9.39393939,   9.5959596 ,   9.7979798 ,  10.        ])"
            ]
          },
          "metadata": {},
          "execution_count": 59
        }
      ]
    },
    {
      "cell_type": "code",
      "source": [
        "import matplotlib.pyplot as plt\n",
        "plt.plot(x,y)"
      ],
      "metadata": {
        "colab": {
          "base_uri": "https://localhost:8080/",
          "height": 447
        },
        "id": "l3WMiJhgOkhq",
        "outputId": "25b63421-5e16-4f78-8c74-14dd9c30416d"
      },
      "execution_count": 60,
      "outputs": [
        {
          "output_type": "execute_result",
          "data": {
            "text/plain": [
              "[<matplotlib.lines.Line2D at 0x784f61585610>]"
            ]
          },
          "metadata": {},
          "execution_count": 60
        },
        {
          "output_type": "display_data",
          "data": {
            "text/plain": [
              "<Figure size 640x480 with 1 Axes>"
            ],
            "image/png": "[encoded data removed]"
          },
          "metadata": {}
        }
      ]
    },
    {
      "cell_type": "code",
      "source": [
        "# y = x^2\n",
        "x = np.linspace(-50,50,100)\n",
        "y = x**2"
      ],
      "metadata": {
        "id": "K6FwuPyvOwSb"
      },
      "execution_count": 61,
      "outputs": []
    },
    {
      "cell_type": "code",
      "source": [
        "plt.plot(x,y)"
      ],
      "metadata": {
        "colab": {
          "base_uri": "https://localhost:8080/",
          "height": 447
        },
        "id": "37vnt0k3PGTR",
        "outputId": "ada64a1b-b3df-4d49-ce07-0afd8bcfabe8"
      },
      "execution_count": 62,
      "outputs": [
        {
          "output_type": "execute_result",
          "data": {
            "text/plain": [
              "[<matplotlib.lines.Line2D at 0x784f4a05c290>]"
            ]
          },
          "metadata": {},
          "execution_count": 62
        },
        {
          "output_type": "display_data",
          "data": {
            "text/plain": [
              "<Figure size 640x480 with 1 Axes>"
            ],
            "image/png": "[encoded data removed]"
          },
          "metadata": {}
        }
      ]
    },
    {
      "cell_type": "code",
      "source": [
        "x = np.linspace(-10,10,100)\n",
        "y = np.sin(x)"
      ],
      "metadata": {
        "id": "mafz5faaPKvE"
      },
      "execution_count": 63,
      "outputs": []
    },
    {
      "cell_type": "code",
      "source": [
        "plt.plot(x,y)"
      ],
      "metadata": {
        "colab": {
          "base_uri": "https://localhost:8080/",
          "height": 447
        },
        "id": "ywVQUaWGPSr9",
        "outputId": "64fc9d02-0101-4cf9-92e2-1a9141366b67"
      },
      "execution_count": 64,
      "outputs": [
        {
          "output_type": "execute_result",
          "data": {
            "text/plain": [
              "[<matplotlib.lines.Line2D at 0x784f5b6f02d0>]"
            ]
          },
          "metadata": {},
          "execution_count": 64
        },
        {
          "output_type": "display_data",
          "data": {
            "text/plain": [
              "<Figure size 640x480 with 1 Axes>"
            ],
            "image/png": "[encoded data removed]"
          },
          "metadata": {}
        }
      ]
    },
    {
      "cell_type": "code",
      "source": [
        "x = np.linspace(-10,10,100)\n",
        "y = x*np.log(x)"
      ],
      "metadata": {
        "colab": {
          "base_uri": "https://localhost:8080/"
        },
        "id": "Kk71KmXTPViE",
        "outputId": "a92c3e54-55b6-462b-8b17-0de49c70137e"
      },
      "execution_count": 65,
      "outputs": [
        {
          "output_type": "stream",
          "name": "stderr",
          "text": [
            "<ipython-input-65-61c11fbffcf5>:2: RuntimeWarning: invalid value encountered in log\n",
            "  y = x*np.log(x)\n"
          ]
        }
      ]
    },
    {
      "cell_type": "code",
      "source": [
        "plt.plot(x,y)"
      ],
      "metadata": {
        "colab": {
          "base_uri": "https://localhost:8080/",
          "height": 447
        },
        "id": "Bmec_jswPh23",
        "outputId": "77300a2f-33ae-445b-ce4e-4060914828e9"
      },
      "execution_count": 66,
      "outputs": [
        {
          "output_type": "execute_result",
          "data": {
            "text/plain": [
              "[<matplotlib.lines.Line2D at 0x784f6725c390>]"
            ]
          },
          "metadata": {},
          "execution_count": 66
        },
        {
          "output_type": "display_data",
          "data": {
            "text/plain": [
              "<Figure size 640x480 with 1 Axes>"
            ],
            "image/png": "[encoded data removed]"
          },
          "metadata": {}
        }
      ]
    },
    {
      "cell_type": "code",
      "source": [],
      "metadata": {
        "id": "T1nS3oYQPjdw"
      },
      "execution_count": null,
      "outputs": []
    }
  ]
}