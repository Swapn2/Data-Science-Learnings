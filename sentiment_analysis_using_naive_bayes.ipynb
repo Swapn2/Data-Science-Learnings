{
  "metadata": {
    "kernelspec": {
      "language": "python",
      "display_name": "Python 3",
      "name": "python3"
    },
    "language_info": {
      "name": "python",
      "version": "3.7.6",
      "mimetype": "text/x-python",
      "codemirror_mode": {
        "name": "ipython",
        "version": 3
      },
      "pygments_lexer": "ipython3",
      "nbconvert_exporter": "python",
      "file_extension": ".py"
    },
    "colab": {
      "provenance": [],
      "include_colab_link": true
    }
  },
  "nbformat_minor": 0,
  "nbformat": 4,
  "cells": [
    {
      "cell_type": "markdown",
      "metadata": {
        "id": "view-in-github",
        "colab_type": "text"
      },
      "source": [
        "<a href=\"https://colab.research.google.com/github/Swapn2/Data-Science-Learnings/blob/main/sentiment_analysis_using_naive_bayes.ipynb\" target=\"_parent\"><img src=\"https://colab.research.google.com/assets/colab-badge.svg\" alt=\"Open In Colab\"/></a>"
      ]
    },
    {
      "cell_type": "code",
      "source": [
        "# This Python 3 environment comes with many helpful analytics libraries installed\n",
        "# It is defined by the kaggle/python docker image: https://github.com/kaggle/docker-python\n",
        "# For example, here's several helpful packages to load in\n",
        "\n",
        "import numpy as np # linear algebra\n",
        "import pandas as pd # data processing, CSV file I/O (e.g. pd.read_csv)\n",
        "\n",
        "# Input data files are available in the \"../input/\" directory.\n",
        "# For example, running this (by clicking run or pressing Shift+Enter) will list all files under the input directory\n",
        "\n",
        "import os\n",
        "for dirname, _, filenames in os.walk('/kaggle/input'):\n",
        "    for filename in filenames:\n",
        "        print(os.path.join(dirname, filename))\n",
        "\n",
        "# Any results you write to the current directory are saved as output."
      ],
      "metadata": {
        "_uuid": "8f2839f25d086af736a60e9eeb907d3b93b6e0e5",
        "_cell_guid": "b1076dfc-b9ad-4769-8c92-a6c4dae69d19",
        "execution": {
          "iopub.status.busy": "2023-06-22T13:39:58.681441Z",
          "iopub.execute_input": "2023-06-22T13:39:58.682088Z",
          "iopub.status.idle": "2023-06-22T13:39:58.693231Z",
          "shell.execute_reply.started": "2023-06-22T13:39:58.682032Z",
          "shell.execute_reply": "2023-06-22T13:39:58.691915Z"
        },
        "trusted": true,
        "id": "SSnDiqFRilzw",
        "outputId": "de7da1f5-7916-4bb3-969a-dd4cd8499b92"
      },
      "execution_count": null,
      "outputs": [
        {
          "name": "stdout",
          "text": "/kaggle/input/imdb-dataset-of-50k-movie-reviews/IMDB Dataset.csv\n",
          "output_type": "stream"
        }
      ]
    },
    {
      "cell_type": "code",
      "source": [
        "df=pd.read_csv('/kaggle/input/imdb-dataset-of-50k-movie-reviews/IMDB Dataset.csv')"
      ],
      "metadata": {
        "_uuid": "d629ff2d2480ee46fbb7e2d37f6b5fab8052498a",
        "_cell_guid": "79c7e3d0-c299-4dcb-8224-4455121ee9b0",
        "execution": {
          "iopub.status.busy": "2023-06-22T13:39:58.698292Z",
          "iopub.execute_input": "2023-06-22T13:39:58.699166Z",
          "iopub.status.idle": "2023-06-22T13:39:59.862814Z",
          "shell.execute_reply.started": "2023-06-22T13:39:58.699070Z",
          "shell.execute_reply": "2023-06-22T13:39:59.861636Z"
        },
        "trusted": true,
        "id": "Yx-JkqWtilzx"
      },
      "execution_count": null,
      "outputs": []
    },
    {
      "cell_type": "code",
      "source": [
        "df.head()"
      ],
      "metadata": {
        "execution": {
          "iopub.status.busy": "2023-06-22T13:40:04.732798Z",
          "iopub.execute_input": "2023-06-22T13:40:04.733235Z",
          "iopub.status.idle": "2023-06-22T13:40:04.753877Z",
          "shell.execute_reply.started": "2023-06-22T13:40:04.733160Z",
          "shell.execute_reply": "2023-06-22T13:40:04.751968Z"
        },
        "trusted": true,
        "id": "Odx10AnAilzy",
        "outputId": "3cdbb196-eb03-4989-c359-b573d8bbc359"
      },
      "execution_count": null,
      "outputs": [
        {
          "execution_count": 3,
          "output_type": "execute_result",
          "data": {
            "text/plain": "                                              review sentiment\n0  One of the other reviewers has mentioned that ...  positive\n1  A wonderful little production. <br /><br />The...  positive\n2  I thought this was a wonderful way to spend ti...  positive\n3  Basically there's a family where a little boy ...  negative\n4  Petter Mattei's \"Love in the Time of Money\" is...  positive",
            "text/html": "<div>\n<style scoped>\n    .dataframe tbody tr th:only-of-type {\n        vertical-align: middle;\n    }\n\n    .dataframe tbody tr th {\n        vertical-align: top;\n    }\n\n    .dataframe thead th {\n        text-align: right;\n    }\n</style>\n<table border=\"1\" class=\"dataframe\">\n  <thead>\n    <tr style=\"text-align: right;\">\n      <th></th>\n      <th>review</th>\n      <th>sentiment</th>\n    </tr>\n  </thead>\n  <tbody>\n    <tr>\n      <th>0</th>\n      <td>One of the other reviewers has mentioned that ...</td>\n      <td>positive</td>\n    </tr>\n    <tr>\n      <th>1</th>\n      <td>A wonderful little production. &lt;br /&gt;&lt;br /&gt;The...</td>\n      <td>positive</td>\n    </tr>\n    <tr>\n      <th>2</th>\n      <td>I thought this was a wonderful way to spend ti...</td>\n      <td>positive</td>\n    </tr>\n    <tr>\n      <th>3</th>\n      <td>Basically there's a family where a little boy ...</td>\n      <td>negative</td>\n    </tr>\n    <tr>\n      <th>4</th>\n      <td>Petter Mattei's \"Love in the Time of Money\" is...</td>\n      <td>positive</td>\n    </tr>\n  </tbody>\n</table>\n</div>"
          },
          "metadata": {}
        }
      ]
    },
    {
      "cell_type": "code",
      "source": [
        "# One review\n",
        "df['review'][0]"
      ],
      "metadata": {
        "execution": {
          "iopub.status.busy": "2023-06-22T13:40:05.258040Z",
          "iopub.execute_input": "2023-06-22T13:40:05.258485Z",
          "iopub.status.idle": "2023-06-22T13:40:05.274024Z",
          "shell.execute_reply.started": "2023-06-22T13:40:05.258420Z",
          "shell.execute_reply": "2023-06-22T13:40:05.272764Z"
        },
        "trusted": true,
        "id": "_13a1Mhhilzy",
        "outputId": "189a9b4e-3504-4a68-aeca-75b75423b217"
      },
      "execution_count": null,
      "outputs": [
        {
          "execution_count": 4,
          "output_type": "execute_result",
          "data": {
            "text/plain": "\"One of the other reviewers has mentioned that after watching just 1 Oz episode you'll be hooked. They are right, as this is exactly what happened with me.<br /><br />The first thing that struck me about Oz was its brutality and unflinching scenes of violence, which set in right from the word GO. Trust me, this is not a show for the faint hearted or timid. This show pulls no punches with regards to drugs, sex or violence. Its is hardcore, in the classic use of the word.<br /><br />It is called OZ as that is the nickname given to the Oswald Maximum Security State Penitentary. It focuses mainly on Emerald City, an experimental section of the prison where all the cells have glass fronts and face inwards, so privacy is not high on the agenda. Em City is home to many..Aryans, Muslims, gangstas, Latinos, Christians, Italians, Irish and more....so scuffles, death stares, dodgy dealings and shady agreements are never far away.<br /><br />I would say the main appeal of the show is due to the fact that it goes where other shows wouldn't dare. Forget pretty pictures painted for mainstream audiences, forget charm, forget romance...OZ doesn't mess around. The first episode I ever saw struck me as so nasty it was surreal, I couldn't say I was ready for it, but as I watched more, I developed a taste for Oz, and got accustomed to the high levels of graphic violence. Not just violence, but injustice (crooked guards who'll be sold out for a nickel, inmates who'll kill on order and get away with it, well mannered, middle class inmates being turned into prison bitches due to their lack of street skills or prison experience) Watching Oz, you may become comfortable with what is uncomfortable viewing....thats if you can get in touch with your darker side.\""
          },
          "metadata": {}
        }
      ]
    },
    {
      "cell_type": "markdown",
      "source": [
        "## Text Cleaning\n",
        "\n",
        "1. Sample 10000 rows\n",
        "2. Remove html tags\n",
        "3. Remove special characters\n",
        "4. Converting every thing to lower case\n",
        "5. Removing Stop words\n",
        "6. Stemming"
      ],
      "metadata": {
        "id": "vduNUC-nilzy"
      }
    },
    {
      "cell_type": "code",
      "source": [
        "df=df.sample(10000)"
      ],
      "metadata": {
        "execution": {
          "iopub.status.busy": "2023-06-22T13:40:07.715769Z",
          "iopub.execute_input": "2023-06-22T13:40:07.716162Z",
          "iopub.status.idle": "2023-06-22T13:40:07.729205Z",
          "shell.execute_reply.started": "2023-06-22T13:40:07.716107Z",
          "shell.execute_reply": "2023-06-22T13:40:07.727963Z"
        },
        "trusted": true,
        "id": "Ob6EiSmkilzz"
      },
      "execution_count": null,
      "outputs": []
    },
    {
      "cell_type": "code",
      "source": [
        "df.shape"
      ],
      "metadata": {
        "execution": {
          "iopub.status.busy": "2023-06-22T13:40:09.189414Z",
          "iopub.execute_input": "2023-06-22T13:40:09.189841Z",
          "iopub.status.idle": "2023-06-22T13:40:09.198825Z",
          "shell.execute_reply.started": "2023-06-22T13:40:09.189779Z",
          "shell.execute_reply": "2023-06-22T13:40:09.197270Z"
        },
        "trusted": true,
        "id": "vJB8qU6dilzz",
        "outputId": "8f1eba0d-c114-4ea6-ffdb-0bcf1b54b22e"
      },
      "execution_count": null,
      "outputs": [
        {
          "execution_count": 6,
          "output_type": "execute_result",
          "data": {
            "text/plain": "(10000, 2)"
          },
          "metadata": {}
        }
      ]
    },
    {
      "cell_type": "code",
      "source": [
        "df.info()"
      ],
      "metadata": {
        "execution": {
          "iopub.status.busy": "2023-06-22T13:40:10.106402Z",
          "iopub.execute_input": "2023-06-22T13:40:10.106810Z",
          "iopub.status.idle": "2023-06-22T13:40:10.119387Z",
          "shell.execute_reply.started": "2023-06-22T13:40:10.106763Z",
          "shell.execute_reply": "2023-06-22T13:40:10.117722Z"
        },
        "trusted": true,
        "id": "Sb4OV9qRilzz",
        "outputId": "b807cdb5-60eb-4656-f0e8-4cb38e819b0b"
      },
      "execution_count": null,
      "outputs": [
        {
          "name": "stdout",
          "text": "<class 'pandas.core.frame.DataFrame'>\nInt64Index: 10000 entries, 24181 to 29109\nData columns (total 2 columns):\n #   Column     Non-Null Count  Dtype \n---  ------     --------------  ----- \n 0   review     10000 non-null  object\n 1   sentiment  10000 non-null  object\ndtypes: object(2)\nmemory usage: 234.4+ KB\n",
          "output_type": "stream"
        }
      ]
    },
    {
      "cell_type": "code",
      "source": [
        "df['sentiment'].replace({'positive':1,'negative':0},inplace=True)"
      ],
      "metadata": {
        "execution": {
          "iopub.status.busy": "2023-06-22T13:40:11.974557Z",
          "iopub.execute_input": "2023-06-22T13:40:11.974993Z",
          "iopub.status.idle": "2023-06-22T13:40:11.985923Z",
          "shell.execute_reply.started": "2023-06-22T13:40:11.974928Z",
          "shell.execute_reply": "2023-06-22T13:40:11.984578Z"
        },
        "trusted": true,
        "id": "NiCpo0Ooilz0"
      },
      "execution_count": null,
      "outputs": []
    },
    {
      "cell_type": "code",
      "source": [
        "df.head()"
      ],
      "metadata": {
        "execution": {
          "iopub.status.busy": "2023-06-22T13:40:12.847859Z",
          "iopub.execute_input": "2023-06-22T13:40:12.848289Z",
          "iopub.status.idle": "2023-06-22T13:40:12.859937Z",
          "shell.execute_reply.started": "2023-06-22T13:40:12.848225Z",
          "shell.execute_reply": "2023-06-22T13:40:12.858990Z"
        },
        "trusted": true,
        "id": "WjZFy5Ezilz0",
        "outputId": "55fad4f2-8dcb-498e-baac-70eb57dc5f81"
      },
      "execution_count": null,
      "outputs": [
        {
          "execution_count": 9,
          "output_type": "execute_result",
          "data": {
            "text/plain": "                                                  review  sentiment\n24181  For awhile I was hooked on shows like Ghost Hu...          0\n33972  The Man (Gaston Modot) and the Young Girl (Lya...          0\n36735  Completely agree with other review.<br /><br /...          0\n7272   My Take: Makes use of its familiar plot with f...          1\n42497  This Norwegian film starts with a man jumping ...          1",
            "text/html": "<div>\n<style scoped>\n    .dataframe tbody tr th:only-of-type {\n        vertical-align: middle;\n    }\n\n    .dataframe tbody tr th {\n        vertical-align: top;\n    }\n\n    .dataframe thead th {\n        text-align: right;\n    }\n</style>\n<table border=\"1\" class=\"dataframe\">\n  <thead>\n    <tr style=\"text-align: right;\">\n      <th></th>\n      <th>review</th>\n      <th>sentiment</th>\n    </tr>\n  </thead>\n  <tbody>\n    <tr>\n      <th>24181</th>\n      <td>For awhile I was hooked on shows like Ghost Hu...</td>\n      <td>0</td>\n    </tr>\n    <tr>\n      <th>33972</th>\n      <td>The Man (Gaston Modot) and the Young Girl (Lya...</td>\n      <td>0</td>\n    </tr>\n    <tr>\n      <th>36735</th>\n      <td>Completely agree with other review.&lt;br /&gt;&lt;br /...</td>\n      <td>0</td>\n    </tr>\n    <tr>\n      <th>7272</th>\n      <td>My Take: Makes use of its familiar plot with f...</td>\n      <td>1</td>\n    </tr>\n    <tr>\n      <th>42497</th>\n      <td>This Norwegian film starts with a man jumping ...</td>\n      <td>1</td>\n    </tr>\n  </tbody>\n</table>\n</div>"
          },
          "metadata": {}
        }
      ]
    },
    {
      "cell_type": "code",
      "source": [
        "import re\n",
        "clean = re.compile('<.*?>')\n",
        "re.sub(clean, '', df.iloc[2].review)"
      ],
      "metadata": {
        "execution": {
          "iopub.status.busy": "2023-06-22T13:40:14.715473Z",
          "iopub.execute_input": "2023-06-22T13:40:14.715911Z",
          "iopub.status.idle": "2023-06-22T13:40:14.724004Z",
          "shell.execute_reply.started": "2023-06-22T13:40:14.715834Z",
          "shell.execute_reply": "2023-06-22T13:40:14.722838Z"
        },
        "trusted": true,
        "id": "tUmeAEIRilz0",
        "outputId": "eb3c95fe-31f7-4038-ce80-53d969868231"
      },
      "execution_count": null,
      "outputs": [
        {
          "execution_count": 10,
          "output_type": "execute_result",
          "data": {
            "text/plain": "\"Completely agree with other review.I watched this movie for about 5 minutes. I looked up the one review on another site and found that it wasn't even a real sequel. This was after I slowly backed away from the TV with remote in hand, jaw dropping lower and lower. The quality of the filming is beyond low budget. It doesn't even look like a freaking movie. If I were watching 'home video' footage from a documentary I would expect it.In summary: Avoid, avoid avoid. Boooo Lion's Gate!Completely ashamed of myself for watching 5 minutes and I hope that I've saved others from renting or owning it.\""
          },
          "metadata": {}
        }
      ]
    },
    {
      "cell_type": "code",
      "source": [
        "# Function to clean html tags\n",
        "def clean_html(text):\n",
        "    clean = re.compile('<.*?>')\n",
        "    return re.sub(clean, '', text)"
      ],
      "metadata": {
        "execution": {
          "iopub.status.busy": "2023-06-22T13:40:16.255085Z",
          "iopub.execute_input": "2023-06-22T13:40:16.255489Z",
          "iopub.status.idle": "2023-06-22T13:40:16.261461Z",
          "shell.execute_reply.started": "2023-06-22T13:40:16.255435Z",
          "shell.execute_reply": "2023-06-22T13:40:16.259808Z"
        },
        "trusted": true,
        "id": "KEfjElbtilz0"
      },
      "execution_count": null,
      "outputs": []
    },
    {
      "cell_type": "code",
      "source": [
        "df['review']=df['review'].apply(clean_html)"
      ],
      "metadata": {
        "execution": {
          "iopub.status.busy": "2023-06-22T13:40:17.878700Z",
          "iopub.execute_input": "2023-06-22T13:40:17.879092Z",
          "iopub.status.idle": "2023-06-22T13:40:17.950068Z",
          "shell.execute_reply.started": "2023-06-22T13:40:17.879040Z",
          "shell.execute_reply": "2023-06-22T13:40:17.949045Z"
        },
        "trusted": true,
        "id": "Jrbnys4Wilz1"
      },
      "execution_count": null,
      "outputs": []
    },
    {
      "cell_type": "code",
      "source": [
        "# converting everything to lower\n",
        "\n",
        "def convert_lower(text):\n",
        "    return text.lower()"
      ],
      "metadata": {
        "execution": {
          "iopub.status.busy": "2023-06-22T13:40:19.289545Z",
          "iopub.execute_input": "2023-06-22T13:40:19.289951Z",
          "iopub.status.idle": "2023-06-22T13:40:19.295037Z",
          "shell.execute_reply.started": "2023-06-22T13:40:19.289898Z",
          "shell.execute_reply": "2023-06-22T13:40:19.293563Z"
        },
        "trusted": true,
        "id": "Fme9Aerlilz1"
      },
      "execution_count": null,
      "outputs": []
    },
    {
      "cell_type": "code",
      "source": [
        "df['review']=df['review'].apply(convert_lower)"
      ],
      "metadata": {
        "execution": {
          "iopub.status.busy": "2023-06-22T13:40:20.780364Z",
          "iopub.execute_input": "2023-06-22T13:40:20.780821Z",
          "iopub.status.idle": "2023-06-22T13:40:20.828940Z",
          "shell.execute_reply.started": "2023-06-22T13:40:20.780747Z",
          "shell.execute_reply": "2023-06-22T13:40:20.827935Z"
        },
        "trusted": true,
        "id": "QBnkznQmilz1"
      },
      "execution_count": null,
      "outputs": []
    },
    {
      "cell_type": "code",
      "source": [
        "# function to remove special characters\n",
        "\n",
        "def remove_special(text):\n",
        "    x=''\n",
        "\n",
        "    for i in text:\n",
        "        if i.isalnum():\n",
        "            x=x+i\n",
        "        else:\n",
        "            x=x + ' '\n",
        "    return x"
      ],
      "metadata": {
        "execution": {
          "iopub.status.busy": "2023-06-22T13:40:21.463795Z",
          "iopub.execute_input": "2023-06-22T13:40:21.464203Z",
          "iopub.status.idle": "2023-06-22T13:40:21.470259Z",
          "shell.execute_reply.started": "2023-06-22T13:40:21.464150Z",
          "shell.execute_reply": "2023-06-22T13:40:21.468935Z"
        },
        "trusted": true,
        "id": "dFQKSxjmilz1"
      },
      "execution_count": null,
      "outputs": []
    },
    {
      "cell_type": "code",
      "source": [
        "remove_special(' th%e @ classic use of the word.it is called oz as that is the nickname given to the oswald maximum security state penitentary. it focuses mainly on emerald city, an experimental section of the prison where all the cells have glass fronts and face inwards, so privacy is not high on the agenda. em city is home to many..aryans, muslims, gangstas, latinos, christians, italians, irish and more....so scuffles, death stares, dodgy dealings and shady agreements are never far away.i would say the main appeal of the show is due to the fact that it goes where other shows wouldnt dare. forget pretty pictures painted for mainstream audiences, f')"
      ],
      "metadata": {
        "execution": {
          "iopub.status.busy": "2023-06-22T13:40:22.747205Z",
          "iopub.execute_input": "2023-06-22T13:40:22.747612Z",
          "iopub.status.idle": "2023-06-22T13:40:22.756871Z",
          "shell.execute_reply.started": "2023-06-22T13:40:22.747558Z",
          "shell.execute_reply": "2023-06-22T13:40:22.754868Z"
        },
        "trusted": true,
        "id": "3s9-a2KVilz1",
        "outputId": "7e93bbe5-b558-4f63-a58d-5ceb1c8c6ebe"
      },
      "execution_count": null,
      "outputs": [
        {
          "execution_count": 16,
          "output_type": "execute_result",
          "data": {
            "text/plain": "' th e   classic use of the word it is called oz as that is the nickname given to the oswald maximum security state penitentary  it focuses mainly on emerald city  an experimental section of the prison where all the cells have glass fronts and face inwards  so privacy is not high on the agenda  em city is home to many  aryans  muslims  gangstas  latinos  christians  italians  irish and more    so scuffles  death stares  dodgy dealings and shady agreements are never far away i would say the main appeal of the show is due to the fact that it goes where other shows wouldnt dare  forget pretty pictures painted for mainstream audiences  f'"
          },
          "metadata": {}
        }
      ]
    },
    {
      "cell_type": "code",
      "source": [
        "df['review']=df['review'].apply(remove_special)"
      ],
      "metadata": {
        "execution": {
          "iopub.status.busy": "2023-06-22T13:40:23.703126Z",
          "iopub.execute_input": "2023-06-22T13:40:23.703514Z",
          "iopub.status.idle": "2023-06-22T13:40:25.717421Z",
          "shell.execute_reply.started": "2023-06-22T13:40:23.703450Z",
          "shell.execute_reply": "2023-06-22T13:40:25.716505Z"
        },
        "trusted": true,
        "id": "KC_uXrUnilz1"
      },
      "execution_count": null,
      "outputs": []
    },
    {
      "cell_type": "code",
      "source": [
        "# Remove the stop words\n",
        "import nltk"
      ],
      "metadata": {
        "execution": {
          "iopub.status.busy": "2023-06-22T13:40:34.746543Z",
          "iopub.execute_input": "2023-06-22T13:40:34.746984Z",
          "iopub.status.idle": "2023-06-22T13:40:36.409020Z",
          "shell.execute_reply.started": "2023-06-22T13:40:34.746926Z",
          "shell.execute_reply": "2023-06-22T13:40:36.407223Z"
        },
        "trusted": true,
        "id": "ufoHaI7oilz1"
      },
      "execution_count": null,
      "outputs": []
    },
    {
      "cell_type": "code",
      "source": [
        "from nltk.corpus import stopwords"
      ],
      "metadata": {
        "execution": {
          "iopub.status.busy": "2023-06-22T13:40:37.664267Z",
          "iopub.execute_input": "2023-06-22T13:40:37.664668Z",
          "iopub.status.idle": "2023-06-22T13:40:37.674174Z",
          "shell.execute_reply.started": "2023-06-22T13:40:37.664616Z",
          "shell.execute_reply": "2023-06-22T13:40:37.672794Z"
        },
        "trusted": true,
        "id": "uwODBO7Gilz2"
      },
      "execution_count": null,
      "outputs": []
    },
    {
      "cell_type": "code",
      "source": [
        "stopwords.words('english')"
      ],
      "metadata": {
        "execution": {
          "iopub.status.busy": "2023-06-22T13:40:38.558832Z",
          "iopub.execute_input": "2023-06-22T13:40:38.559240Z",
          "iopub.status.idle": "2023-06-22T13:40:38.578497Z",
          "shell.execute_reply.started": "2023-06-22T13:40:38.559184Z",
          "shell.execute_reply": "2023-06-22T13:40:38.577502Z"
        },
        "trusted": true,
        "id": "-zC5dxf_ilz2",
        "outputId": "2e108cd6-2fb2-4d8a-8c13-c8a38faaecfe"
      },
      "execution_count": null,
      "outputs": [
        {
          "execution_count": 20,
          "output_type": "execute_result",
          "data": {
            "text/plain": "['i',\n 'me',\n 'my',\n 'myself',\n 'we',\n 'our',\n 'ours',\n 'ourselves',\n 'you',\n \"you're\",\n \"you've\",\n \"you'll\",\n \"you'd\",\n 'your',\n 'yours',\n 'yourself',\n 'yourselves',\n 'he',\n 'him',\n 'his',\n 'himself',\n 'she',\n \"she's\",\n 'her',\n 'hers',\n 'herself',\n 'it',\n \"it's\",\n 'its',\n 'itself',\n 'they',\n 'them',\n 'their',\n 'theirs',\n 'themselves',\n 'what',\n 'which',\n 'who',\n 'whom',\n 'this',\n 'that',\n \"that'll\",\n 'these',\n 'those',\n 'am',\n 'is',\n 'are',\n 'was',\n 'were',\n 'be',\n 'been',\n 'being',\n 'have',\n 'has',\n 'had',\n 'having',\n 'do',\n 'does',\n 'did',\n 'doing',\n 'a',\n 'an',\n 'the',\n 'and',\n 'but',\n 'if',\n 'or',\n 'because',\n 'as',\n 'until',\n 'while',\n 'of',\n 'at',\n 'by',\n 'for',\n 'with',\n 'about',\n 'against',\n 'between',\n 'into',\n 'through',\n 'during',\n 'before',\n 'after',\n 'above',\n 'below',\n 'to',\n 'from',\n 'up',\n 'down',\n 'in',\n 'out',\n 'on',\n 'off',\n 'over',\n 'under',\n 'again',\n 'further',\n 'then',\n 'once',\n 'here',\n 'there',\n 'when',\n 'where',\n 'why',\n 'how',\n 'all',\n 'any',\n 'both',\n 'each',\n 'few',\n 'more',\n 'most',\n 'other',\n 'some',\n 'such',\n 'no',\n 'nor',\n 'not',\n 'only',\n 'own',\n 'same',\n 'so',\n 'than',\n 'too',\n 'very',\n 's',\n 't',\n 'can',\n 'will',\n 'just',\n 'don',\n \"don't\",\n 'should',\n \"should've\",\n 'now',\n 'd',\n 'll',\n 'm',\n 'o',\n 're',\n 've',\n 'y',\n 'ain',\n 'aren',\n \"aren't\",\n 'couldn',\n \"couldn't\",\n 'didn',\n \"didn't\",\n 'doesn',\n \"doesn't\",\n 'hadn',\n \"hadn't\",\n 'hasn',\n \"hasn't\",\n 'haven',\n \"haven't\",\n 'isn',\n \"isn't\",\n 'ma',\n 'mightn',\n \"mightn't\",\n 'mustn',\n \"mustn't\",\n 'needn',\n \"needn't\",\n 'shan',\n \"shan't\",\n 'shouldn',\n \"shouldn't\",\n 'wasn',\n \"wasn't\",\n 'weren',\n \"weren't\",\n 'won',\n \"won't\",\n 'wouldn',\n \"wouldn't\"]"
          },
          "metadata": {}
        }
      ]
    },
    {
      "cell_type": "code",
      "source": [
        "df"
      ],
      "metadata": {
        "execution": {
          "iopub.status.busy": "2023-06-22T13:40:44.679797Z",
          "iopub.execute_input": "2023-06-22T13:40:44.680175Z",
          "iopub.status.idle": "2023-06-22T13:40:44.693879Z",
          "shell.execute_reply.started": "2023-06-22T13:40:44.680125Z",
          "shell.execute_reply": "2023-06-22T13:40:44.692840Z"
        },
        "trusted": true,
        "id": "_nRAEjLgilz2",
        "outputId": "06efe1c8-7db2-467b-a586-bb353858ee2d"
      },
      "execution_count": null,
      "outputs": [
        {
          "execution_count": 21,
          "output_type": "execute_result",
          "data": {
            "text/plain": "                                                  review  sentiment\n24181  for awhile i was hooked on shows like ghost hu...          0\n33972  the man  gaston modot  and the young girl  lya...          0\n36735  completely agree with other review i watched t...          0\n7272   my take  makes use of its familiar plot with f...          1\n42497  this norwegian film starts with a man jumping ...          1\n...                                                  ...        ...\n37487  ok i m not an american  but in my humble scott...          0\n7582   this movie made me feel as if i had missed som...          0\n17748  beware spoilers  this movie was okay  goldie h...          1\n24281  i remembered this awful movie i bought at came...          0\n29109  i must i was a little skeptical when i entered...          1\n\n[10000 rows x 2 columns]",
            "text/html": "<div>\n<style scoped>\n    .dataframe tbody tr th:only-of-type {\n        vertical-align: middle;\n    }\n\n    .dataframe tbody tr th {\n        vertical-align: top;\n    }\n\n    .dataframe thead th {\n        text-align: right;\n    }\n</style>\n<table border=\"1\" class=\"dataframe\">\n  <thead>\n    <tr style=\"text-align: right;\">\n      <th></th>\n      <th>review</th>\n      <th>sentiment</th>\n    </tr>\n  </thead>\n  <tbody>\n    <tr>\n      <th>24181</th>\n      <td>for awhile i was hooked on shows like ghost hu...</td>\n      <td>0</td>\n    </tr>\n    <tr>\n      <th>33972</th>\n      <td>the man  gaston modot  and the young girl  lya...</td>\n      <td>0</td>\n    </tr>\n    <tr>\n      <th>36735</th>\n      <td>completely agree with other review i watched t...</td>\n      <td>0</td>\n    </tr>\n    <tr>\n      <th>7272</th>\n      <td>my take  makes use of its familiar plot with f...</td>\n      <td>1</td>\n    </tr>\n    <tr>\n      <th>42497</th>\n      <td>this norwegian film starts with a man jumping ...</td>\n      <td>1</td>\n    </tr>\n    <tr>\n      <th>...</th>\n      <td>...</td>\n      <td>...</td>\n    </tr>\n    <tr>\n      <th>37487</th>\n      <td>ok i m not an american  but in my humble scott...</td>\n      <td>0</td>\n    </tr>\n    <tr>\n      <th>7582</th>\n      <td>this movie made me feel as if i had missed som...</td>\n      <td>0</td>\n    </tr>\n    <tr>\n      <th>17748</th>\n      <td>beware spoilers  this movie was okay  goldie h...</td>\n      <td>1</td>\n    </tr>\n    <tr>\n      <th>24281</th>\n      <td>i remembered this awful movie i bought at came...</td>\n      <td>0</td>\n    </tr>\n    <tr>\n      <th>29109</th>\n      <td>i must i was a little skeptical when i entered...</td>\n      <td>1</td>\n    </tr>\n  </tbody>\n</table>\n<p>10000 rows × 2 columns</p>\n</div>"
          },
          "metadata": {}
        }
      ]
    },
    {
      "cell_type": "code",
      "source": [
        "\n",
        "def remove_stopwords(text):\n",
        "    x=[]\n",
        "    for i in text.split():\n",
        "\n",
        "        if i not in stopwords.words('english'):\n",
        "            x.append(i)\n",
        "    y=x[:]\n",
        "    x.clear()\n",
        "    return y"
      ],
      "metadata": {
        "execution": {
          "iopub.status.busy": "2023-06-22T13:40:45.766554Z",
          "iopub.execute_input": "2023-06-22T13:40:45.766950Z",
          "iopub.status.idle": "2023-06-22T13:40:45.772547Z",
          "shell.execute_reply.started": "2023-06-22T13:40:45.766894Z",
          "shell.execute_reply": "2023-06-22T13:40:45.771650Z"
        },
        "trusted": true,
        "id": "MWHvIeK7ilz2"
      },
      "execution_count": null,
      "outputs": []
    },
    {
      "cell_type": "code",
      "source": [
        "df['review']=df['review'].apply(remove_stopwords)"
      ],
      "metadata": {
        "execution": {
          "iopub.status.busy": "2023-06-22T13:40:47.066264Z",
          "iopub.execute_input": "2023-06-22T13:40:47.066627Z",
          "iopub.status.idle": "2023-06-22T13:46:05.750277Z",
          "shell.execute_reply.started": "2023-06-22T13:40:47.066585Z",
          "shell.execute_reply": "2023-06-22T13:46:05.749125Z"
        },
        "trusted": true,
        "id": "VNDXDG1Jilz2"
      },
      "execution_count": null,
      "outputs": []
    },
    {
      "cell_type": "code",
      "source": [
        "df"
      ],
      "metadata": {
        "execution": {
          "iopub.status.busy": "2023-06-22T13:46:25.374364Z",
          "iopub.execute_input": "2023-06-22T13:46:25.374824Z",
          "iopub.status.idle": "2023-06-22T13:46:25.408180Z",
          "shell.execute_reply.started": "2023-06-22T13:46:25.374756Z",
          "shell.execute_reply": "2023-06-22T13:46:25.407050Z"
        },
        "trusted": true,
        "id": "K50t1wvAilz2",
        "outputId": "f4a77a3c-1d2e-46e4-8955-a723cd289d64"
      },
      "execution_count": null,
      "outputs": [
        {
          "execution_count": 24,
          "output_type": "execute_result",
          "data": {
            "text/plain": "                                                  review  sentiment\n24181  [awhile, hooked, shows, like, ghost, hunters, ...          0\n33972  [man, gaston, modot, young, girl, lya, lys, go...          0\n36735  [completely, agree, review, watched, movie, 5,...          0\n7272   [take, makes, use, familiar, plot, fine, perfo...          1\n42497  [norwegian, film, starts, man, jumping, subway...          1\n...                                                  ...        ...\n37487  [ok, american, humble, scottish, opinion, stev...          0\n7582   [movie, made, feel, missed, important, scenes,...          0\n17748  [beware, spoilers, movie, okay, goldie, hawn, ...          1\n24281  [remembered, awful, movie, bought, camelot, mu...          0\n29109  [must, little, skeptical, entered, cinema, wat...          1\n\n[10000 rows x 2 columns]",
            "text/html": "<div>\n<style scoped>\n    .dataframe tbody tr th:only-of-type {\n        vertical-align: middle;\n    }\n\n    .dataframe tbody tr th {\n        vertical-align: top;\n    }\n\n    .dataframe thead th {\n        text-align: right;\n    }\n</style>\n<table border=\"1\" class=\"dataframe\">\n  <thead>\n    <tr style=\"text-align: right;\">\n      <th></th>\n      <th>review</th>\n      <th>sentiment</th>\n    </tr>\n  </thead>\n  <tbody>\n    <tr>\n      <th>24181</th>\n      <td>[awhile, hooked, shows, like, ghost, hunters, ...</td>\n      <td>0</td>\n    </tr>\n    <tr>\n      <th>33972</th>\n      <td>[man, gaston, modot, young, girl, lya, lys, go...</td>\n      <td>0</td>\n    </tr>\n    <tr>\n      <th>36735</th>\n      <td>[completely, agree, review, watched, movie, 5,...</td>\n      <td>0</td>\n    </tr>\n    <tr>\n      <th>7272</th>\n      <td>[take, makes, use, familiar, plot, fine, perfo...</td>\n      <td>1</td>\n    </tr>\n    <tr>\n      <th>42497</th>\n      <td>[norwegian, film, starts, man, jumping, subway...</td>\n      <td>1</td>\n    </tr>\n    <tr>\n      <th>...</th>\n      <td>...</td>\n      <td>...</td>\n    </tr>\n    <tr>\n      <th>37487</th>\n      <td>[ok, american, humble, scottish, opinion, stev...</td>\n      <td>0</td>\n    </tr>\n    <tr>\n      <th>7582</th>\n      <td>[movie, made, feel, missed, important, scenes,...</td>\n      <td>0</td>\n    </tr>\n    <tr>\n      <th>17748</th>\n      <td>[beware, spoilers, movie, okay, goldie, hawn, ...</td>\n      <td>1</td>\n    </tr>\n    <tr>\n      <th>24281</th>\n      <td>[remembered, awful, movie, bought, camelot, mu...</td>\n      <td>0</td>\n    </tr>\n    <tr>\n      <th>29109</th>\n      <td>[must, little, skeptical, entered, cinema, wat...</td>\n      <td>1</td>\n    </tr>\n  </tbody>\n</table>\n<p>10000 rows × 2 columns</p>\n</div>"
          },
          "metadata": {}
        }
      ]
    },
    {
      "cell_type": "code",
      "source": [
        "# Perform stemming\n",
        "\n",
        "from nltk.stem.porter import PorterStemmer\n",
        "ps=PorterStemmer()"
      ],
      "metadata": {
        "execution": {
          "iopub.status.busy": "2023-06-22T13:46:30.568472Z",
          "iopub.execute_input": "2023-06-22T13:46:30.568891Z",
          "iopub.status.idle": "2023-06-22T13:46:30.574116Z",
          "shell.execute_reply.started": "2023-06-22T13:46:30.568827Z",
          "shell.execute_reply": "2023-06-22T13:46:30.572751Z"
        },
        "trusted": true,
        "id": "Vl8ZOzT4ilz2"
      },
      "execution_count": null,
      "outputs": []
    },
    {
      "cell_type": "code",
      "source": [
        "y=[]\n",
        "def stem_words(text):\n",
        "    for i in text:\n",
        "        y.append(ps.stem(i))\n",
        "    z=y[:]\n",
        "    y.clear()\n",
        "    return z\n",
        ""
      ],
      "metadata": {
        "execution": {
          "iopub.status.busy": "2023-06-22T13:46:33.970292Z",
          "iopub.execute_input": "2023-06-22T13:46:33.971017Z",
          "iopub.status.idle": "2023-06-22T13:46:33.976507Z",
          "shell.execute_reply.started": "2023-06-22T13:46:33.970957Z",
          "shell.execute_reply": "2023-06-22T13:46:33.975386Z"
        },
        "trusted": true,
        "id": "AJwcJ344ilz2"
      },
      "execution_count": null,
      "outputs": []
    },
    {
      "cell_type": "code",
      "source": [
        "stem_words(['I','loved','loving','it'])"
      ],
      "metadata": {
        "execution": {
          "iopub.status.busy": "2023-06-22T13:46:35.988482Z",
          "iopub.execute_input": "2023-06-22T13:46:35.988921Z",
          "iopub.status.idle": "2023-06-22T13:46:35.997383Z",
          "shell.execute_reply.started": "2023-06-22T13:46:35.988853Z",
          "shell.execute_reply": "2023-06-22T13:46:35.996128Z"
        },
        "trusted": true,
        "id": "f-zfRXbkilz2",
        "outputId": "8357c4c1-e547-4a25-fe86-f6d9a67a6df1"
      },
      "execution_count": null,
      "outputs": [
        {
          "execution_count": 27,
          "output_type": "execute_result",
          "data": {
            "text/plain": "['I', 'love', 'love', 'it']"
          },
          "metadata": {}
        }
      ]
    },
    {
      "cell_type": "code",
      "source": [
        "df['review']=df['review'].apply(stem_words)"
      ],
      "metadata": {
        "execution": {
          "iopub.status.busy": "2023-06-22T13:46:37.188787Z",
          "iopub.execute_input": "2023-06-22T13:46:37.189517Z",
          "iopub.status.idle": "2023-06-22T13:47:12.105368Z",
          "shell.execute_reply.started": "2023-06-22T13:46:37.189446Z",
          "shell.execute_reply": "2023-06-22T13:47:12.104247Z"
        },
        "trusted": true,
        "id": "BmUitaKGilz3"
      },
      "execution_count": null,
      "outputs": []
    },
    {
      "cell_type": "code",
      "source": [
        "df"
      ],
      "metadata": {
        "execution": {
          "iopub.status.busy": "2023-06-22T13:48:05.682469Z",
          "iopub.execute_input": "2023-06-22T13:48:05.682935Z",
          "iopub.status.idle": "2023-06-22T13:48:05.711737Z",
          "shell.execute_reply.started": "2023-06-22T13:48:05.682859Z",
          "shell.execute_reply": "2023-06-22T13:48:05.710434Z"
        },
        "trusted": true,
        "id": "PDcCBfyPilz3",
        "outputId": "fd71134e-5700-43fe-8b87-0bf95aa6814c"
      },
      "execution_count": null,
      "outputs": [
        {
          "execution_count": 29,
          "output_type": "execute_result",
          "data": {
            "text/plain": "                                                  review  sentiment\n24181  [awhil, hook, show, like, ghost, hunter, desti...          0\n33972  [man, gaston, modot, young, girl, lya, ly, go,...          0\n36735  [complet, agre, review, watch, movi, 5, minut,...          0\n7272   [take, make, use, familiar, plot, fine, perfor...          1\n42497  [norwegian, film, start, man, jump, subway, ap...          1\n...                                                  ...        ...\n37487  [ok, american, humbl, scottish, opinion, steve...          0\n7582   [movi, made, feel, miss, import, scene, begin,...          0\n17748  [bewar, spoiler, movi, okay, goldi, hawn, chri...          1\n24281  [rememb, aw, movi, bought, camelot, music, sto...          0\n29109  [must, littl, skeptic, enter, cinema, watch, o...          1\n\n[10000 rows x 2 columns]",
            "text/html": "<div>\n<style scoped>\n    .dataframe tbody tr th:only-of-type {\n        vertical-align: middle;\n    }\n\n    .dataframe tbody tr th {\n        vertical-align: top;\n    }\n\n    .dataframe thead th {\n        text-align: right;\n    }\n</style>\n<table border=\"1\" class=\"dataframe\">\n  <thead>\n    <tr style=\"text-align: right;\">\n      <th></th>\n      <th>review</th>\n      <th>sentiment</th>\n    </tr>\n  </thead>\n  <tbody>\n    <tr>\n      <th>24181</th>\n      <td>[awhil, hook, show, like, ghost, hunter, desti...</td>\n      <td>0</td>\n    </tr>\n    <tr>\n      <th>33972</th>\n      <td>[man, gaston, modot, young, girl, lya, ly, go,...</td>\n      <td>0</td>\n    </tr>\n    <tr>\n      <th>36735</th>\n      <td>[complet, agre, review, watch, movi, 5, minut,...</td>\n      <td>0</td>\n    </tr>\n    <tr>\n      <th>7272</th>\n      <td>[take, make, use, familiar, plot, fine, perfor...</td>\n      <td>1</td>\n    </tr>\n    <tr>\n      <th>42497</th>\n      <td>[norwegian, film, start, man, jump, subway, ap...</td>\n      <td>1</td>\n    </tr>\n    <tr>\n      <th>...</th>\n      <td>...</td>\n      <td>...</td>\n    </tr>\n    <tr>\n      <th>37487</th>\n      <td>[ok, american, humbl, scottish, opinion, steve...</td>\n      <td>0</td>\n    </tr>\n    <tr>\n      <th>7582</th>\n      <td>[movi, made, feel, miss, import, scene, begin,...</td>\n      <td>0</td>\n    </tr>\n    <tr>\n      <th>17748</th>\n      <td>[bewar, spoiler, movi, okay, goldi, hawn, chri...</td>\n      <td>1</td>\n    </tr>\n    <tr>\n      <th>24281</th>\n      <td>[rememb, aw, movi, bought, camelot, music, sto...</td>\n      <td>0</td>\n    </tr>\n    <tr>\n      <th>29109</th>\n      <td>[must, littl, skeptic, enter, cinema, watch, o...</td>\n      <td>1</td>\n    </tr>\n  </tbody>\n</table>\n<p>10000 rows × 2 columns</p>\n</div>"
          },
          "metadata": {}
        }
      ]
    },
    {
      "cell_type": "code",
      "source": [
        "# Join back\n",
        "\n",
        "def join_back(list_input):\n",
        "    return \" \".join(list_input)\n",
        ""
      ],
      "metadata": {
        "execution": {
          "iopub.status.busy": "2023-06-22T13:48:08.442540Z",
          "iopub.execute_input": "2023-06-22T13:48:08.442959Z",
          "iopub.status.idle": "2023-06-22T13:48:08.447705Z",
          "shell.execute_reply.started": "2023-06-22T13:48:08.442894Z",
          "shell.execute_reply": "2023-06-22T13:48:08.446558Z"
        },
        "trusted": true,
        "id": "CVqDv0MTilz3"
      },
      "execution_count": null,
      "outputs": []
    },
    {
      "cell_type": "code",
      "source": [
        "df['review']=df['review'].apply(join_back)"
      ],
      "metadata": {
        "execution": {
          "iopub.status.busy": "2023-06-22T13:48:09.631304Z",
          "iopub.execute_input": "2023-06-22T13:48:09.631867Z",
          "iopub.status.idle": "2023-06-22T13:48:09.720453Z",
          "shell.execute_reply.started": "2023-06-22T13:48:09.631643Z",
          "shell.execute_reply": "2023-06-22T13:48:09.719318Z"
        },
        "trusted": true,
        "id": "K5Z8oh2dilz3"
      },
      "execution_count": null,
      "outputs": []
    },
    {
      "cell_type": "code",
      "source": [
        "df['review']"
      ],
      "metadata": {
        "execution": {
          "iopub.status.busy": "2023-06-22T13:48:11.271074Z",
          "iopub.execute_input": "2023-06-22T13:48:11.271520Z",
          "iopub.status.idle": "2023-06-22T13:48:11.280087Z",
          "shell.execute_reply.started": "2023-06-22T13:48:11.271452Z",
          "shell.execute_reply": "2023-06-22T13:48:11.279042Z"
        },
        "trusted": true,
        "id": "Nb0ajwgoilz3",
        "outputId": "54c83c79-316e-40a7-b15d-5c224dbd930b"
      },
      "execution_count": null,
      "outputs": [
        {
          "execution_count": 32,
          "output_type": "execute_result",
          "data": {
            "text/plain": "24181    awhil hook show like ghost hunter destin truth...\n33972    man gaston modot young girl lya ly go film con...\n36735    complet agre review watch movi 5 minut look on...\n7272     take make use familiar plot fine perform genui...\n42497    norwegian film start man jump subway appar com...\n                               ...                        \n37487    ok american humbl scottish opinion steve marti...\n7582     movi made feel miss import scene begin continu...\n17748    bewar spoiler movi okay goldi hawn chri sarand...\n24281    rememb aw movi bought camelot music store summ...\n29109    must littl skeptic enter cinema watch oss117 f...\nName: review, Length: 10000, dtype: object"
          },
          "metadata": {}
        }
      ]
    },
    {
      "cell_type": "code",
      "source": [
        "X=df.iloc[:,0:1].values"
      ],
      "metadata": {
        "execution": {
          "iopub.status.busy": "2023-06-22T13:48:14.204497Z",
          "iopub.execute_input": "2023-06-22T13:48:14.205084Z",
          "iopub.status.idle": "2023-06-22T13:48:14.212203Z",
          "shell.execute_reply.started": "2023-06-22T13:48:14.205007Z",
          "shell.execute_reply": "2023-06-22T13:48:14.210669Z"
        },
        "trusted": true,
        "id": "q4hU0Rdgilz3"
      },
      "execution_count": null,
      "outputs": []
    },
    {
      "cell_type": "code",
      "source": [
        "X.shape"
      ],
      "metadata": {
        "execution": {
          "iopub.status.busy": "2023-06-22T13:48:16.685437Z",
          "iopub.execute_input": "2023-06-22T13:48:16.685830Z",
          "iopub.status.idle": "2023-06-22T13:48:16.692162Z",
          "shell.execute_reply.started": "2023-06-22T13:48:16.685774Z",
          "shell.execute_reply": "2023-06-22T13:48:16.691077Z"
        },
        "trusted": true,
        "id": "7PEw2Uexilz3",
        "outputId": "48a7741f-957d-4243-e5de-0ee81924d15b"
      },
      "execution_count": null,
      "outputs": [
        {
          "execution_count": 34,
          "output_type": "execute_result",
          "data": {
            "text/plain": "(10000, 1)"
          },
          "metadata": {}
        }
      ]
    },
    {
      "cell_type": "code",
      "source": [
        "from sklearn.feature_extraction.text import CountVectorizer\n",
        "cv=CountVectorizer(max_features=2500)"
      ],
      "metadata": {
        "execution": {
          "iopub.status.busy": "2023-06-22T13:48:22.732491Z",
          "iopub.execute_input": "2023-06-22T13:48:22.732927Z",
          "iopub.status.idle": "2023-06-22T13:48:22.737627Z",
          "shell.execute_reply.started": "2023-06-22T13:48:22.732863Z",
          "shell.execute_reply": "2023-06-22T13:48:22.736641Z"
        },
        "trusted": true,
        "id": "P0QWx3Y9ilz4"
      },
      "execution_count": null,
      "outputs": []
    },
    {
      "cell_type": "code",
      "source": [
        "X=cv.fit_transform(df['review']).toarray()"
      ],
      "metadata": {
        "execution": {
          "iopub.status.busy": "2023-06-22T13:48:24.823367Z",
          "iopub.execute_input": "2023-06-22T13:48:24.823805Z",
          "iopub.status.idle": "2023-06-22T13:48:26.209679Z",
          "shell.execute_reply.started": "2023-06-22T13:48:24.823736Z",
          "shell.execute_reply": "2023-06-22T13:48:26.208866Z"
        },
        "trusted": true,
        "id": "OkIA0t-8ilz4"
      },
      "execution_count": null,
      "outputs": []
    },
    {
      "cell_type": "code",
      "source": [
        "X.shape"
      ],
      "metadata": {
        "execution": {
          "iopub.status.busy": "2023-06-22T13:48:27.689912Z",
          "iopub.execute_input": "2023-06-22T13:48:27.690276Z",
          "iopub.status.idle": "2023-06-22T13:48:27.696918Z",
          "shell.execute_reply.started": "2023-06-22T13:48:27.690236Z",
          "shell.execute_reply": "2023-06-22T13:48:27.695728Z"
        },
        "trusted": true,
        "id": "BG7GOjrsilz4",
        "outputId": "c10ebde7-cec9-418a-d895-a63f7fb4107a"
      },
      "execution_count": null,
      "outputs": [
        {
          "execution_count": 37,
          "output_type": "execute_result",
          "data": {
            "text/plain": "(10000, 2500)"
          },
          "metadata": {}
        }
      ]
    },
    {
      "cell_type": "code",
      "source": [
        "X[0].mean()"
      ],
      "metadata": {
        "execution": {
          "iopub.status.busy": "2023-06-22T13:48:28.617872Z",
          "iopub.execute_input": "2023-06-22T13:48:28.618252Z",
          "iopub.status.idle": "2023-06-22T13:48:28.626868Z",
          "shell.execute_reply.started": "2023-06-22T13:48:28.618200Z",
          "shell.execute_reply": "2023-06-22T13:48:28.625873Z"
        },
        "trusted": true,
        "id": "R185Sm2Iilz4",
        "outputId": "ac8755a7-f39f-4de7-fe61-826b7425fe61"
      },
      "execution_count": null,
      "outputs": [
        {
          "execution_count": 38,
          "output_type": "execute_result",
          "data": {
            "text/plain": "0.1132"
          },
          "metadata": {}
        }
      ]
    },
    {
      "cell_type": "code",
      "source": [
        "y=df.iloc[:,-1].values"
      ],
      "metadata": {
        "execution": {
          "iopub.status.busy": "2023-06-22T13:48:40.769929Z",
          "iopub.execute_input": "2023-06-22T13:48:40.770319Z",
          "iopub.status.idle": "2023-06-22T13:48:40.776785Z",
          "shell.execute_reply.started": "2023-06-22T13:48:40.770268Z",
          "shell.execute_reply": "2023-06-22T13:48:40.775516Z"
        },
        "trusted": true,
        "id": "RIgynSlXilz4"
      },
      "execution_count": null,
      "outputs": []
    },
    {
      "cell_type": "code",
      "source": [
        "y.shape"
      ],
      "metadata": {
        "execution": {
          "iopub.status.busy": "2023-06-22T13:48:41.956805Z",
          "iopub.execute_input": "2023-06-22T13:48:41.957175Z",
          "iopub.status.idle": "2023-06-22T13:48:41.964628Z",
          "shell.execute_reply.started": "2023-06-22T13:48:41.957125Z",
          "shell.execute_reply": "2023-06-22T13:48:41.963080Z"
        },
        "trusted": true,
        "id": "TNgt4H8cilz5",
        "outputId": "62767664-4600-4767-8f01-1217aec940aa"
      },
      "execution_count": null,
      "outputs": [
        {
          "execution_count": 40,
          "output_type": "execute_result",
          "data": {
            "text/plain": "(10000,)"
          },
          "metadata": {}
        }
      ]
    },
    {
      "cell_type": "code",
      "source": [
        "# X,y\n",
        "# Training set\n",
        "# Test Set(Already know the result)"
      ],
      "metadata": {
        "execution": {
          "iopub.status.busy": "2023-06-22T13:48:44.776673Z",
          "iopub.execute_input": "2023-06-22T13:48:44.777092Z",
          "iopub.status.idle": "2023-06-22T13:48:44.781515Z",
          "shell.execute_reply.started": "2023-06-22T13:48:44.777037Z",
          "shell.execute_reply": "2023-06-22T13:48:44.780267Z"
        },
        "trusted": true,
        "id": "bWA_806Milz5"
      },
      "execution_count": null,
      "outputs": []
    },
    {
      "cell_type": "code",
      "source": [
        "from sklearn.model_selection import train_test_split\n",
        "\n",
        "X_train, X_test,y_train,y_test=train_test_split(X,y,test_size=0.2)"
      ],
      "metadata": {
        "execution": {
          "iopub.status.busy": "2023-06-22T13:48:47.420050Z",
          "iopub.execute_input": "2023-06-22T13:48:47.420446Z",
          "iopub.status.idle": "2023-06-22T13:48:47.535130Z",
          "shell.execute_reply.started": "2023-06-22T13:48:47.420393Z",
          "shell.execute_reply": "2023-06-22T13:48:47.534086Z"
        },
        "trusted": true,
        "id": "P9WuNB20ilz5"
      },
      "execution_count": null,
      "outputs": []
    },
    {
      "cell_type": "code",
      "source": [
        "X_train.shape"
      ],
      "metadata": {
        "execution": {
          "iopub.status.busy": "2023-06-22T13:48:48.891370Z",
          "iopub.execute_input": "2023-06-22T13:48:48.891988Z",
          "iopub.status.idle": "2023-06-22T13:48:48.899907Z",
          "shell.execute_reply.started": "2023-06-22T13:48:48.891901Z",
          "shell.execute_reply": "2023-06-22T13:48:48.898588Z"
        },
        "trusted": true,
        "id": "8q2Ww9YZilz5",
        "outputId": "ce7a007d-059e-4f8c-a9c6-fd963c31afe1"
      },
      "execution_count": null,
      "outputs": [
        {
          "execution_count": 43,
          "output_type": "execute_result",
          "data": {
            "text/plain": "(8000, 2500)"
          },
          "metadata": {}
        }
      ]
    },
    {
      "cell_type": "code",
      "source": [
        "X_test.shape"
      ],
      "metadata": {
        "execution": {
          "iopub.status.busy": "2023-06-22T13:48:50.028718Z",
          "iopub.execute_input": "2023-06-22T13:48:50.029123Z",
          "iopub.status.idle": "2023-06-22T13:48:50.035665Z",
          "shell.execute_reply.started": "2023-06-22T13:48:50.029070Z",
          "shell.execute_reply": "2023-06-22T13:48:50.034451Z"
        },
        "trusted": true,
        "id": "TvMeEvDBilz5",
        "outputId": "8702dd7c-cee2-4a43-9bec-22c8a5d1d08c"
      },
      "execution_count": null,
      "outputs": [
        {
          "execution_count": 44,
          "output_type": "execute_result",
          "data": {
            "text/plain": "(2000, 2500)"
          },
          "metadata": {}
        }
      ]
    },
    {
      "cell_type": "code",
      "source": [
        "y_train.shape"
      ],
      "metadata": {
        "execution": {
          "iopub.status.busy": "2023-06-22T13:48:50.953527Z",
          "iopub.execute_input": "2023-06-22T13:48:50.953960Z",
          "iopub.status.idle": "2023-06-22T13:48:50.960573Z",
          "shell.execute_reply.started": "2023-06-22T13:48:50.953897Z",
          "shell.execute_reply": "2023-06-22T13:48:50.959321Z"
        },
        "trusted": true,
        "id": "hAx281Tfilz5",
        "outputId": "7c918743-5adb-40d3-cf42-994875d7785e"
      },
      "execution_count": null,
      "outputs": [
        {
          "execution_count": 45,
          "output_type": "execute_result",
          "data": {
            "text/plain": "(8000,)"
          },
          "metadata": {}
        }
      ]
    },
    {
      "cell_type": "code",
      "source": [
        "y_test.shape"
      ],
      "metadata": {
        "execution": {
          "iopub.status.busy": "2023-06-22T13:48:51.939517Z",
          "iopub.execute_input": "2023-06-22T13:48:51.940014Z",
          "iopub.status.idle": "2023-06-22T13:48:51.946641Z",
          "shell.execute_reply.started": "2023-06-22T13:48:51.939950Z",
          "shell.execute_reply": "2023-06-22T13:48:51.945466Z"
        },
        "trusted": true,
        "id": "WVbIAFStilz5",
        "outputId": "15a34533-380f-497b-bddd-a63a76b0b8b1"
      },
      "execution_count": null,
      "outputs": [
        {
          "execution_count": 46,
          "output_type": "execute_result",
          "data": {
            "text/plain": "(2000,)"
          },
          "metadata": {}
        }
      ]
    },
    {
      "cell_type": "code",
      "source": [
        "from sklearn.naive_bayes import GaussianNB,MultinomialNB,BernoulliNB"
      ],
      "metadata": {
        "execution": {
          "iopub.status.busy": "2023-06-22T13:48:53.117627Z",
          "iopub.execute_input": "2023-06-22T13:48:53.118073Z",
          "iopub.status.idle": "2023-06-22T13:48:53.125112Z",
          "shell.execute_reply.started": "2023-06-22T13:48:53.118013Z",
          "shell.execute_reply": "2023-06-22T13:48:53.123939Z"
        },
        "trusted": true,
        "id": "X7BN-wbIilz5"
      },
      "execution_count": null,
      "outputs": []
    },
    {
      "cell_type": "code",
      "source": [
        "clf1=GaussianNB()\n",
        "clf2=MultinomialNB()\n",
        "clf3=BernoulliNB()"
      ],
      "metadata": {
        "execution": {
          "iopub.status.busy": "2023-06-22T13:48:54.584227Z",
          "iopub.execute_input": "2023-06-22T13:48:54.584606Z",
          "iopub.status.idle": "2023-06-22T13:48:54.589562Z",
          "shell.execute_reply.started": "2023-06-22T13:48:54.584565Z",
          "shell.execute_reply": "2023-06-22T13:48:54.588220Z"
        },
        "trusted": true,
        "id": "x321XboUilz5"
      },
      "execution_count": null,
      "outputs": []
    },
    {
      "cell_type": "code",
      "source": [
        "clf1.fit(X_train,y_train)\n",
        "clf2.fit(X_train,y_train)\n",
        "clf3.fit(X_train,y_train)"
      ],
      "metadata": {
        "execution": {
          "iopub.status.busy": "2023-06-22T13:48:56.753031Z",
          "iopub.execute_input": "2023-06-22T13:48:56.753419Z",
          "iopub.status.idle": "2023-06-22T13:48:57.571751Z",
          "shell.execute_reply.started": "2023-06-22T13:48:56.753376Z",
          "shell.execute_reply": "2023-06-22T13:48:57.570586Z"
        },
        "trusted": true,
        "id": "aOBMr4Xwilz5",
        "outputId": "f0bc476b-5b86-48a5-9279-4754339da9a3"
      },
      "execution_count": null,
      "outputs": [
        {
          "execution_count": 49,
          "output_type": "execute_result",
          "data": {
            "text/plain": "BernoulliNB(alpha=1.0, binarize=0.0, class_prior=None, fit_prior=True)"
          },
          "metadata": {}
        }
      ]
    },
    {
      "cell_type": "code",
      "source": [
        "y_pred1=clf1.predict(X_test)\n",
        "y_pred2=clf2.predict(X_test)\n",
        "y_pred3=clf3.predict(X_test)"
      ],
      "metadata": {
        "execution": {
          "iopub.status.busy": "2023-06-22T13:48:58.456309Z",
          "iopub.execute_input": "2023-06-22T13:48:58.456881Z",
          "iopub.status.idle": "2023-06-22T13:48:58.657879Z",
          "shell.execute_reply.started": "2023-06-22T13:48:58.456647Z",
          "shell.execute_reply": "2023-06-22T13:48:58.656860Z"
        },
        "trusted": true,
        "id": "HX77nFhsilz6"
      },
      "execution_count": null,
      "outputs": []
    },
    {
      "cell_type": "code",
      "source": [
        "y_test.shape"
      ],
      "metadata": {
        "execution": {
          "iopub.status.busy": "2023-06-22T13:49:00.156136Z",
          "iopub.execute_input": "2023-06-22T13:49:00.156529Z",
          "iopub.status.idle": "2023-06-22T13:49:00.164029Z",
          "shell.execute_reply.started": "2023-06-22T13:49:00.156486Z",
          "shell.execute_reply": "2023-06-22T13:49:00.162249Z"
        },
        "trusted": true,
        "id": "kvrzGqYyilz6",
        "outputId": "1b033cb3-e7d6-43fb-e438-2cd09aa3797a"
      },
      "execution_count": null,
      "outputs": [
        {
          "execution_count": 51,
          "output_type": "execute_result",
          "data": {
            "text/plain": "(2000,)"
          },
          "metadata": {}
        }
      ]
    },
    {
      "cell_type": "code",
      "source": [
        "y_pred1.shape"
      ],
      "metadata": {
        "execution": {
          "iopub.status.busy": "2023-06-22T13:49:01.068710Z",
          "iopub.execute_input": "2023-06-22T13:49:01.069122Z",
          "iopub.status.idle": "2023-06-22T13:49:01.076194Z",
          "shell.execute_reply.started": "2023-06-22T13:49:01.069064Z",
          "shell.execute_reply": "2023-06-22T13:49:01.074541Z"
        },
        "trusted": true,
        "id": "81U__UvAilz6",
        "outputId": "fd0f9e8b-8fd1-47f9-912b-db73ed4467bc"
      },
      "execution_count": null,
      "outputs": [
        {
          "execution_count": 52,
          "output_type": "execute_result",
          "data": {
            "text/plain": "(2000,)"
          },
          "metadata": {}
        }
      ]
    },
    {
      "cell_type": "code",
      "source": [
        "from sklearn.metrics import accuracy_score"
      ],
      "metadata": {
        "execution": {
          "iopub.status.busy": "2023-06-22T13:49:01.949456Z",
          "iopub.execute_input": "2023-06-22T13:49:01.949897Z",
          "iopub.status.idle": "2023-06-22T13:49:01.955095Z",
          "shell.execute_reply.started": "2023-06-22T13:49:01.949831Z",
          "shell.execute_reply": "2023-06-22T13:49:01.953742Z"
        },
        "trusted": true,
        "id": "_SHYoKUgilz6"
      },
      "execution_count": null,
      "outputs": []
    },
    {
      "cell_type": "code",
      "source": [
        "print(\"Gaussian\",accuracy_score(y_test,y_pred1))\n",
        "print(\"Multinomial\",accuracy_score(y_test,y_pred2))\n",
        "print(\"Bernaulli\",accuracy_score(y_test,y_pred3))"
      ],
      "metadata": {
        "execution": {
          "iopub.status.busy": "2023-06-22T13:49:03.010566Z",
          "iopub.execute_input": "2023-06-22T13:49:03.010975Z",
          "iopub.status.idle": "2023-06-22T13:49:03.021301Z",
          "shell.execute_reply.started": "2023-06-22T13:49:03.010922Z",
          "shell.execute_reply": "2023-06-22T13:49:03.020458Z"
        },
        "trusted": true,
        "id": "KoTMuxpailz6",
        "outputId": "9383e974-3ce8-48a1-e32c-3467c7d22d6e"
      },
      "execution_count": null,
      "outputs": [
        {
          "name": "stdout",
          "text": "Gaussian 0.7185\nMultinomial 0.8295\nBernaulli 0.835\n",
          "output_type": "stream"
        }
      ]
    },
    {
      "cell_type": "code",
      "source": [],
      "metadata": {
        "trusted": true,
        "id": "uUjpPW_Jilz6"
      },
      "execution_count": null,
      "outputs": []
    }
  ]
}