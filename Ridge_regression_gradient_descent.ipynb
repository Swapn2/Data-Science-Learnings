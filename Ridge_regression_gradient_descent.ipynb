{
  "nbformat": 4,
  "nbformat_minor": 0,
  "metadata": {
    "colab": {
      "provenance": [],
      "cell_execution_strategy": "setup",
      "authorship_tag": "ABX9TyMPwWxMv8bP1yjprCXINztr",
      "include_colab_link": true
    },
    "kernelspec": {
      "name": "python3",
      "display_name": "Python 3"
    },
    "language_info": {
      "name": "python"
    }
  },
  "cells": [
    {
      "cell_type": "markdown",
      "metadata": {
        "id": "view-in-github",
        "colab_type": "text"
      },
      "source": [
        "<a href=\"https://colab.research.google.com/github/Swapn2/Data-Science-Learnings/blob/main/Ridge_regression_gradient_descent.ipynb\" target=\"_parent\"><img src=\"https://colab.research.google.com/assets/colab-badge.svg\" alt=\"Open In Colab\"/></a>"
      ]
    },
    {
      "cell_type": "code",
      "execution_count": 17,
      "metadata": {
        "id": "vfACVcN4J0t2"
      },
      "outputs": [],
      "source": [
        "import numpy as np\n",
        "import pandas as pd\n",
        "import matplotlib.pyplot as plt\n",
        "from sklearn.datasets import load_diabetes\n",
        "from sklearn.metrics import r2_score"
      ]
    },
    {
      "cell_type": "code",
      "source": [
        "data = load_diabetes()\n",
        "x = data.data\n",
        "y = data.target"
      ],
      "metadata": {
        "id": "AJa6UNlCOlBb"
      },
      "execution_count": 18,
      "outputs": []
    },
    {
      "cell_type": "code",
      "source": [
        "from sklearn.model_selection import train_test_split\n",
        "x_train,x_test,y_train,y_test = train_test_split(x,y, test_size = .2, random_state = 42 )"
      ],
      "metadata": {
        "id": "ZvtwJcv1Ow5v"
      },
      "execution_count": 19,
      "outputs": []
    },
    {
      "cell_type": "code",
      "source": [
        "from sklearn.linear_model import SGDRegressor"
      ],
      "metadata": {
        "id": "DfOImIrZRXD0"
      },
      "execution_count": 20,
      "outputs": []
    },
    {
      "cell_type": "code",
      "source": [
        "reg = SGDRegressor(penalty = 'l2',max_iter= 500, eta0=.1 , learning_rate = 'constant', alpha = .01)"
      ],
      "metadata": {
        "id": "nANsUJCBSOHZ"
      },
      "execution_count": 21,
      "outputs": []
    },
    {
      "cell_type": "code",
      "source": [
        "reg.fit(x_train,y_train)\n",
        "y_pred = reg.predict(x_test)\n",
        "print(reg.coef_)\n",
        "print(reg.intercept_)"
      ],
      "metadata": {
        "colab": {
          "base_uri": "https://localhost:8080/"
        },
        "id": "y-4FoNW7TGPG",
        "outputId": "d1e427b1-9b53-4579-f967-c64c98298ed7"
      },
      "execution_count": 22,
      "outputs": [
        {
          "output_type": "stream",
          "name": "stdout",
          "text": [
            "[ 30.57762072 -18.96470799 146.30727149 104.37326864  22.50077689\n",
            "   9.54795143 -82.57172377  80.27923184 123.05553305  76.01825511]\n",
            "[145.44317714]\n"
          ]
        }
      ]
    },
    {
      "cell_type": "code",
      "source": [
        "class MyRidge:\n",
        "\n",
        "  def __init__(self,epochs,learning_rate,alpha):\n",
        "    self.learning_rate = learning_rate\n",
        "    self.epochs = epochs\n",
        "    self.alpha = alpha\n",
        "    self.coef = None\n",
        "    self.intercept = None\n",
        "\n",
        "  def fit(self,x_train,y_train):\n",
        "    self.coef = np.ones(x_train.shape[1])\n",
        "    self.intercept = 0\n",
        "    theta = np.insert(self.coef,0,self.intercept)\n",
        "\n",
        "    x_train = np.insert(x_train,0,1,axis = 1 )\n",
        "    for i in range(x_train.shape[0]):\n",
        "      theta_slope = np.dot(x_train.T, x_train).dot(theta) - np.dot(x_train.T,y_train) + self.alpha*theta\n",
        "      theta = theta - self.learning_rate*theta_slope\n",
        "\n",
        "    self.coef = theta[1:]\n",
        "    self.intercept = theta[0]\n",
        "\n",
        "  def predict(self,x_test):\n",
        "\n",
        "    return np.dot(x_test,self.coef)+ self.intercept\n",
        "\n",
        "\n"
      ],
      "metadata": {
        "id": "Cxj7nSNvTw_3"
      },
      "execution_count": 30,
      "outputs": []
    },
    {
      "cell_type": "code",
      "source": [
        "reg = MyRidge(alpha = .001 , epochs = 500, learning_rate = .005)\n",
        "reg.fit(x_train,y_train)"
      ],
      "metadata": {
        "id": "SYkO94ZpgLwo"
      },
      "execution_count": 31,
      "outputs": []
    },
    {
      "cell_type": "code",
      "source": [
        "y_pred = reg.predict(x_test)\n",
        "print(reg.intercept)\n",
        "print(reg.coef)"
      ],
      "metadata": {
        "colab": {
          "base_uri": "https://localhost:8080/"
        },
        "id": "ap0t2FyggjH1",
        "outputId": "e8b3cd7f-3682-4a84-f42d-f3edece9027a"
      },
      "execution_count": 33,
      "outputs": [
        {
          "output_type": "stream",
          "name": "stdout",
          "text": [
            "151.5299646144594\n",
            "[  49.10303652 -155.48295526  452.34526303  298.74751174  -42.23979297\n",
            "  -88.9463787  -205.6038497   146.99820556  340.2050254   137.29831487]\n"
          ]
        }
      ]
    },
    {
      "cell_type": "code",
      "source": [],
      "metadata": {
        "id": "-hi8yxd0hCNj"
      },
      "execution_count": null,
      "outputs": []
    }
  ]
}