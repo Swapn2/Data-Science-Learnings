{
  "nbformat": 4,
  "nbformat_minor": 0,
  "metadata": {
    "colab": {
      "provenance": [],
      "authorship_tag": "ABX9TyPw1rgBh+M2rgJBlod4RrnP",
      "include_colab_link": true
    },
    "kernelspec": {
      "name": "python3",
      "display_name": "Python 3"
    },
    "language_info": {
      "name": "python"
    }
  },
  "cells": [
    {
      "cell_type": "markdown",
      "metadata": {
        "id": "view-in-github",
        "colab_type": "text"
      },
      "source": [
        "<a href=\"https://colab.research.google.com/github/Swapn2/Data-Science-Learnings/blob/main/Recursion.ipynb\" target=\"_parent\"><img src=\"https://colab.research.google.com/assets/colab-badge.svg\" alt=\"Open In Colab\"/></a>"
      ]
    },
    {
      "cell_type": "code",
      "execution_count": 1,
      "metadata": {
        "colab": {
          "base_uri": "https://localhost:8080/"
        },
        "id": "BRd_oeDy53ru",
        "outputId": "b5b0ce30-15b2-4b09-cc13-c6bd89de1a15"
      },
      "outputs": [
        {
          "output_type": "stream",
          "name": "stdout",
          "text": [
            "30\n"
          ]
        }
      ],
      "source": [
        "def mul(a,b):\n",
        "  if b == 1:\n",
        "    return a\n",
        "  else:\n",
        "    return a + mul(a,b-1)\n",
        "\n",
        "print(mul(5,6))"
      ]
    },
    {
      "cell_type": "code",
      "source": [
        "def fact(num):\n",
        "  if num == 1:\n",
        "    return 1\n",
        "  else:\n",
        "    return num*fact(num-1)\n",
        "\n",
        "print(fact(5))\n"
      ],
      "metadata": {
        "colab": {
          "base_uri": "https://localhost:8080/"
        },
        "id": "r80qgopR8i1w",
        "outputId": "de5e70ea-7718-49f3-c369-e585111c3ab4"
      },
      "execution_count": 2,
      "outputs": [
        {
          "output_type": "stream",
          "name": "stdout",
          "text": [
            "120\n"
          ]
        }
      ]
    },
    {
      "cell_type": "code",
      "source": [
        "def palindrone(text):\n",
        "  if len(text) <= 1:\n",
        "    print(\"its a palindrome\")\n",
        "  else:\n",
        "    if text[0] == text[-1]:\n",
        "      return palindrone(text[1:-1])\n",
        "    else:\n",
        "      print(\"not a palindrome\")\n",
        "\n",
        "palindrone('madam')\n",
        "palindrone('anna')"
      ],
      "metadata": {
        "colab": {
          "base_uri": "https://localhost:8080/"
        },
        "id": "xBD9TbAI99ST",
        "outputId": "d031fa52-bdbe-475e-9847-8d01b3515552"
      },
      "execution_count": 5,
      "outputs": [
        {
          "output_type": "stream",
          "name": "stdout",
          "text": [
            "its a palindrome\n",
            "its a palindrome\n"
          ]
        }
      ]
    },
    {
      "cell_type": "code",
      "source": [],
      "metadata": {
        "id": "9_4DC8PXATy8"
      },
      "execution_count": null,
      "outputs": []
    }
  ]
}