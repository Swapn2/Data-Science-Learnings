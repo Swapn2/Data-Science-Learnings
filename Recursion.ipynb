{
  "nbformat": 4,
  "nbformat_minor": 0,
  "metadata": {
    "colab": {
      "provenance": [],
      "authorship_tag": "ABX9TyPaXOxSLvTeCrLlwAu8xYST",
      "include_colab_link": true
    },
    "kernelspec": {
      "name": "python3",
      "display_name": "Python 3"
    },
    "language_info": {
      "name": "python"
    }
  },
  "cells": [
    {
      "cell_type": "markdown",
      "metadata": {
        "id": "view-in-github",
        "colab_type": "text"
      },
      "source": [
        "<a href=\"https://colab.research.google.com/github/Swapn2/Data-Science-Learnings/blob/main/Recursion.ipynb\" target=\"_parent\"><img src=\"https://colab.research.google.com/assets/colab-badge.svg\" alt=\"Open In Colab\"/></a>"
      ]
    },
    {
      "cell_type": "code",
      "execution_count": 1,
      "metadata": {
        "colab": {
          "base_uri": "https://localhost:8080/"
        },
        "id": "BRd_oeDy53ru",
        "outputId": "b5b0ce30-15b2-4b09-cc13-c6bd89de1a15"
      },
      "outputs": [
        {
          "output_type": "stream",
          "name": "stdout",
          "text": [
            "30\n"
          ]
        }
      ],
      "source": [
        "def mul(a,b):\n",
        "  if b == 1:\n",
        "    return a\n",
        "  else:\n",
        "    return a + mul(a,b-1)\n",
        "\n",
        "print(mul(5,6))"
      ]
    },
    {
      "cell_type": "code",
      "source": [
        "def fact(num):\n",
        "  if num == 1:\n",
        "    return 1\n",
        "  else:\n",
        "    return num*fact(num-1)\n",
        "\n",
        "print(fact(5))\n"
      ],
      "metadata": {
        "colab": {
          "base_uri": "https://localhost:8080/"
        },
        "id": "r80qgopR8i1w",
        "outputId": "de5e70ea-7718-49f3-c369-e585111c3ab4"
      },
      "execution_count": 2,
      "outputs": [
        {
          "output_type": "stream",
          "name": "stdout",
          "text": [
            "120\n"
          ]
        }
      ]
    },
    {
      "cell_type": "code",
      "source": [
        "def palindrone(text):\n",
        "  if len(text) <= 1:\n",
        "    print(\"its a palindrome\")\n",
        "  else:\n",
        "    if text[0] == text[-1]:\n",
        "      return palindrone(text[1:-1])\n",
        "    else:\n",
        "      print(\"not a palindrome\")\n",
        "\n",
        "palindrone('madam')\n",
        "palindrone('anna')"
      ],
      "metadata": {
        "colab": {
          "base_uri": "https://localhost:8080/"
        },
        "id": "xBD9TbAI99ST",
        "outputId": "d031fa52-bdbe-475e-9847-8d01b3515552"
      },
      "execution_count": 5,
      "outputs": [
        {
          "output_type": "stream",
          "name": "stdout",
          "text": [
            "its a palindrome\n",
            "its a palindrome\n"
          ]
        }
      ]
    },
    {
      "cell_type": "code",
      "source": [
        "def fibo(n):\n",
        "  if n == 0 or n == 1:\n",
        "    return 1\n",
        "  else:\n",
        "    return fibo(n-2) + fibo(n-1)\n",
        "\n",
        "print(fibo(12))\n"
      ],
      "metadata": {
        "colab": {
          "base_uri": "https://localhost:8080/"
        },
        "id": "9_4DC8PXATy8",
        "outputId": "1000448c-dbc6-4bb6-adc7-eea9c4e7e246"
      },
      "execution_count": 10,
      "outputs": [
        {
          "output_type": "stream",
          "name": "stdout",
          "text": [
            "233\n"
          ]
        }
      ]
    },
    {
      "cell_type": "code",
      "source": [
        "# dynamic Programming\n",
        "def memo(m,d):\n",
        "  if m in d:\n",
        "    return d[m]\n",
        "  else:\n",
        "    d[m] = memo(m-1,d) + memo(m-2,d)\n",
        "    return d[m]\n",
        "d = {0:1,1:1}\n",
        "print(memo(48,d))\n",
        "# print(memo(500,d))"
      ],
      "metadata": {
        "colab": {
          "base_uri": "https://localhost:8080/"
        },
        "id": "C1SGiKmVDUmj",
        "outputId": "90b8c756-f146-4ab4-a1a2-ea3076eb7296"
      },
      "execution_count": 15,
      "outputs": [
        {
          "output_type": "stream",
          "name": "stdout",
          "text": [
            "7778742049\n"
          ]
        }
      ]
    },
    {
      "cell_type": "code",
      "source": [],
      "metadata": {
        "id": "p8xjCp5jz-L3"
      },
      "execution_count": null,
      "outputs": []
    }
  ]
}